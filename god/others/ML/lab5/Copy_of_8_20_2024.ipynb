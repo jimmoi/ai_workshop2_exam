{
  "nbformat": 4,
  "nbformat_minor": 0,
  "metadata": {
    "colab": {
      "provenance": []
    },
    "kernelspec": {
      "name": "python3",
      "display_name": "Python 3"
    },
    "language_info": {
      "name": "python"
    }
  },
  "cells": [
    {
      "cell_type": "markdown",
      "source": [
        "#Feature selection"
      ],
      "metadata": {
        "id": "sBYsFRwS3Z0U"
      }
    },
    {
      "cell_type": "code",
      "source": [
        "from sklearn.datasets import load_digits\n",
        "\n",
        "# Load the digits dataset\n",
        "X, y = load_digits(return_X_y=True)"
      ],
      "metadata": {
        "id": "qV3WlD4u3hMl"
      },
      "execution_count": 1,
      "outputs": []
    },
    {
      "cell_type": "code",
      "source": [
        "from sklearn.feature_selection import VarianceThreshold\n",
        "\n",
        "selector = VarianceThreshold()\n",
        "X_new = selector.fit_transform(X, y)\n",
        "\n",
        "# Print the indices of the selected features\n",
        "print(selector.get_support())\n",
        "print(selector.get_support(indices=True))"
      ],
      "metadata": {
        "id": "-l8U8p4Q1lUu",
        "colab": {
          "base_uri": "https://localhost:8080/"
        },
        "outputId": "e49c3ff8-547e-452c-99d5-29b1fb00c819"
      },
      "execution_count": 2,
      "outputs": [
        {
          "output_type": "stream",
          "name": "stdout",
          "text": [
            "[False  True  True  True  True  True  True  True  True  True  True  True\n",
            "  True  True  True  True  True  True  True  True  True  True  True  True\n",
            "  True  True  True  True  True  True  True  True False  True  True  True\n",
            "  True  True  True False  True  True  True  True  True  True  True  True\n",
            "  True  True  True  True  True  True  True  True  True  True  True  True\n",
            "  True  True  True  True]\n",
            "[ 1  2  3  4  5  6  7  8  9 10 11 12 13 14 15 16 17 18 19 20 21 22 23 24\n",
            " 25 26 27 28 29 30 31 33 34 35 36 37 38 40 41 42 43 44 45 46 47 48 49 50\n",
            " 51 52 53 54 55 56 57 58 59 60 61 62 63]\n"
          ]
        }
      ]
    },
    {
      "cell_type": "code",
      "execution_count": 3,
      "metadata": {
        "id": "vO9ThmZiy9tA",
        "colab": {
          "base_uri": "https://localhost:8080/"
        },
        "outputId": "16342508-3f3c-4c41-fcea-29701b661a27"
      },
      "outputs": [
        {
          "output_type": "stream",
          "name": "stdout",
          "text": [
            "[False False False False False False False False False False False False\n",
            " False False False False False False False False  True  True False False\n",
            " False False  True False False False  True False False  True  True False\n",
            " False False False False False False  True  True False False False False\n",
            " False False False False False False  True False False False False False\n",
            " False False  True False]\n",
            "[20 21 26 30 33 34 42 43 54 62]\n"
          ]
        }
      ],
      "source": [
        "from sklearn.feature_selection import SelectKBest, chi2\n",
        "\n",
        "selector = SelectKBest(chi2, k=10)\n",
        "X_new = selector.fit_transform(X, y)\n",
        "\n",
        "# Print the indices of the selected features\n",
        "print(selector.get_support())\n",
        "print(selector.get_support(indices=True))"
      ]
    },
    {
      "cell_type": "code",
      "source": [
        "from sklearn.feature_selection import RFE\n",
        "from sklearn.tree import DecisionTreeClassifier\n",
        "\n",
        "selector = RFE(DecisionTreeClassifier(), n_features_to_select=10)\n",
        "X_new = selector.fit_transform(X, y)\n",
        "\n",
        "# Print the indices of the selected features\n",
        "print(selector.get_support())\n",
        "print(selector.get_support(indices=True))"
      ],
      "metadata": {
        "id": "ZbWCBbvU5cBW",
        "colab": {
          "base_uri": "https://localhost:8080/"
        },
        "outputId": "7f32dfc1-5a02-484f-e3c0-f14f3a09f6d8"
      },
      "execution_count": 4,
      "outputs": [
        {
          "output_type": "stream",
          "name": "stdout",
          "text": [
            "[False False False False False  True False False False False False False\n",
            " False False False False False False False False  True  True False False\n",
            " False False False  True False  True False False False  True False False\n",
            "  True False False False False False  True  True False False False False\n",
            " False False False False False False False False False False False False\n",
            "  True False False False]\n",
            "[ 5 20 21 27 29 33 36 42 43 60]\n"
          ]
        }
      ]
    },
    {
      "cell_type": "code",
      "source": [
        "from sklearn.tree import DecisionTreeClassifier\n",
        "\n",
        "clf = DecisionTreeClassifier()\n",
        "clf.fit(X, y)\n",
        "print(clf.feature_importances_)\n",
        "print(clf.feature_importances_.argsort()[::-1][:10])"
      ],
      "metadata": {
        "id": "dzBI00Vf6CgG",
        "colab": {
          "base_uri": "https://localhost:8080/"
        },
        "outputId": "abb311f2-41d0-420b-81be-f68c563ed9ed"
      },
      "execution_count": 5,
      "outputs": [
        {
          "output_type": "stream",
          "name": "stdout",
          "text": [
            "[0.         0.         0.01054414 0.01604358 0.00029958 0.06715065\n",
            " 0.         0.         0.         0.00380605 0.01662014 0.00420758\n",
            " 0.01803892 0.01501789 0.00177254 0.         0.0012193  0.00445009\n",
            " 0.01367017 0.01966672 0.04314203 0.08725831 0.         0.\n",
            " 0.00122789 0.         0.0204186  0.05191891 0.05221603 0.04531884\n",
            " 0.00243406 0.         0.         0.05573629 0.03255261 0.011133\n",
            " 0.07259762 0.01779433 0.00731744 0.         0.         0.00802049\n",
            " 0.08182843 0.05244982 0.01688078 0.00678821 0.00450956 0.\n",
            " 0.         0.00061833 0.01132792 0.00528825 0.00267943 0.01382453\n",
            " 0.02227425 0.         0.         0.00109925 0.00838184 0.00275304\n",
            " 0.05939731 0.00429297 0.00116795 0.00284431]\n",
            "[21 42 36  5 60 33 43 28 27 29]\n"
          ]
        }
      ]
    },
    {
      "cell_type": "markdown",
      "source": [
        "#Ensemble learning"
      ],
      "metadata": {
        "id": "4NhxsN333XQU"
      }
    },
    {
      "cell_type": "code",
      "source": [
        "from sklearn.datasets import load_digits\n",
        "\n",
        "# Load the digits dataset\n",
        "X, y = load_digits(return_X_y=True)"
      ],
      "metadata": {
        "id": "duzfQe-i3fZE"
      },
      "execution_count": 8,
      "outputs": []
    },
    {
      "cell_type": "code",
      "source": [
        "from sklearn.model_selection import train_test_split\n",
        "\n",
        "X_train, X_test, y_train, y_test = train_test_split(X, y, test_size=0.3)"
      ],
      "metadata": {
        "id": "_H-U9qSw3WgF"
      },
      "execution_count": 9,
      "outputs": []
    },
    {
      "cell_type": "code",
      "source": [
        "from sklearn.ensemble import BaggingClassifier\n",
        "from sklearn.tree import DecisionTreeClassifier\n",
        "from sklearn.metrics import classification_report\n",
        "\n",
        "clf = DecisionTreeClassifier()\n",
        "clf.fit(X_train, y_train)\n",
        "\n",
        "print(classification_report(y_test, clf.predict(X_test)))\n",
        "\n",
        "clf = BaggingClassifier(base_estimator=DecisionTreeClassifier(), n_estimators=10)\n",
        "clf.fit(X_train,y_train)\n",
        "\n",
        "print(classification_report(y_test, clf.predict(X_test)))"
      ],
      "metadata": {
        "id": "ZcnSIFuc3p0_",
        "colab": {
          "base_uri": "https://localhost:8080/"
        },
        "outputId": "048c1ffc-1043-4ed9-858a-01d6e65f601a"
      },
      "execution_count": 10,
      "outputs": [
        {
          "output_type": "stream",
          "name": "stdout",
          "text": [
            "              precision    recall  f1-score   support\n",
            "\n",
            "           0       0.93      0.93      0.93        44\n",
            "           1       0.72      0.76      0.74        55\n",
            "           2       0.80      0.78      0.79        58\n",
            "           3       0.77      0.80      0.79        69\n",
            "           4       0.75      0.88      0.81        52\n",
            "           5       0.92      0.81      0.86        57\n",
            "           6       0.95      0.92      0.93        60\n",
            "           7       0.89      0.83      0.86        48\n",
            "           8       0.74      0.70      0.72        46\n",
            "           9       0.72      0.76      0.74        51\n",
            "\n",
            "    accuracy                           0.82       540\n",
            "   macro avg       0.82      0.82      0.82       540\n",
            "weighted avg       0.82      0.82      0.82       540\n",
            "\n",
            "              precision    recall  f1-score   support\n",
            "\n",
            "           0       0.96      1.00      0.98        44\n",
            "           1       0.89      0.93      0.91        55\n",
            "           2       0.95      0.91      0.93        58\n",
            "           3       0.92      0.87      0.90        69\n",
            "           4       0.92      0.94      0.93        52\n",
            "           5       0.93      0.89      0.91        57\n",
            "           6       0.98      0.97      0.97        60\n",
            "           7       0.90      0.98      0.94        48\n",
            "           8       0.83      0.85      0.84        46\n",
            "           9       0.90      0.88      0.89        51\n",
            "\n",
            "    accuracy                           0.92       540\n",
            "   macro avg       0.92      0.92      0.92       540\n",
            "weighted avg       0.92      0.92      0.92       540\n",
            "\n"
          ]
        },
        {
          "output_type": "stream",
          "name": "stderr",
          "text": [
            "/usr/local/lib/python3.10/dist-packages/sklearn/ensemble/_base.py:156: FutureWarning: `base_estimator` was renamed to `estimator` in version 1.2 and will be removed in 1.4.\n",
            "  warnings.warn(\n"
          ]
        }
      ]
    },
    {
      "cell_type": "markdown",
      "source": [
        "##Workshop - Bagging"
      ],
      "metadata": {
        "id": "LzkKkuwGvNsZ"
      }
    },
    {
      "cell_type": "code",
      "source": [
        "import numpy as np\n",
        "\n",
        "#Initialization\n",
        "n_estimators = 10\n",
        "index = []\n",
        "for i in range(n_estimators):\n",
        "    index.append(np.random.randint(0,X_train.shape[0],(X_train.shape[0],)))"
      ],
      "metadata": {
        "id": "fTW1mTRsrLiI"
      },
      "execution_count": 11,
      "outputs": []
    },
    {
      "cell_type": "code",
      "source": [
        "#Training\n",
        "model = [DecisionTreeClassifier() for _ in range(n_estimators)]\n",
        "for i in range(n_estimators):\n",
        "    model[i].fit(X_train[index[i]],y_train[index[i]])"
      ],
      "metadata": {
        "id": "bYQSD-GisM9X"
      },
      "execution_count": 12,
      "outputs": []
    },
    {
      "cell_type": "code",
      "source": [
        "#Prediction\n",
        "result = 1/n_estimators*model[0].predict_proba(X_test)\n",
        "for i in range(1,n_estimators):\n",
        "    result = result + 1/n_estimators*model[i].predict_proba(X_test)\n",
        "print(result.argmax(axis=1))"
      ],
      "metadata": {
        "id": "BU0HH_iOrOlZ",
        "colab": {
          "base_uri": "https://localhost:8080/"
        },
        "outputId": "85cada11-a8ce-474a-9c4b-31c8cbe5cdb2"
      },
      "execution_count": 13,
      "outputs": [
        {
          "output_type": "stream",
          "name": "stdout",
          "text": [
            "[8 4 6 0 9 8 7 1 4 9 4 2 4 8 3 3 8 8 1 2 3 3 4 9 8 5 1 6 9 0 5 4 7 8 6 9 2\n",
            " 4 1 7 2 0 2 0 1 3 4 3 5 3 0 9 2 2 5 1 1 2 2 2 7 4 6 9 2 2 8 2 0 1 0 3 9 9\n",
            " 7 2 5 9 5 1 3 6 4 6 7 2 1 8 7 7 6 6 5 3 4 6 0 3 7 6 8 1 1 0 0 5 2 6 1 6 3\n",
            " 3 1 7 1 4 6 4 8 6 5 1 0 6 3 3 6 9 7 5 3 6 7 5 8 6 7 3 4 0 1 9 0 2 4 5 4 0\n",
            " 4 7 6 5 0 3 5 8 6 8 8 0 9 5 4 6 9 4 2 3 3 6 1 1 2 5 8 3 3 6 8 5 2 1 3 4 3\n",
            " 1 7 1 9 2 6 4 4 6 6 5 7 5 1 8 6 2 0 8 6 5 3 3 8 9 2 7 3 7 2 1 8 4 0 0 3 7\n",
            " 1 4 9 9 3 4 7 3 6 8 6 4 1 6 5 6 1 7 4 0 4 0 8 6 9 6 2 4 4 4 9 1 7 0 0 7 5\n",
            " 9 2 1 5 3 8 9 0 3 3 2 5 0 5 3 5 9 8 2 5 1 1 1 9 2 4 9 1 0 0 8 9 7 7 4 6 0\n",
            " 2 1 6 2 7 9 0 3 4 2 2 8 9 9 8 2 3 2 9 2 6 4 2 6 6 2 1 2 3 1 0 2 5 5 6 6 1\n",
            " 7 9 4 9 4 7 7 7 3 6 1 1 4 8 4 8 8 0 2 1 0 9 5 9 1 8 3 0 9 7 5 1 3 3 6 6 2\n",
            " 6 8 7 4 6 6 7 4 5 0 9 4 5 0 7 2 8 2 9 4 5 9 2 4 9 5 7 4 3 3 0 4 0 5 7 0 6\n",
            " 6 6 0 8 1 3 1 8 8 5 9 1 1 5 5 5 3 7 4 3 8 1 3 9 1 2 1 9 0 1 3 7 4 5 3 1 2\n",
            " 6 6 8 5 9 7 3 2 3 7 8 9 0 3 6 2 6 3 2 5 8 3 2 8 8 9 9 8 0 7 1 3 4 2 2 6 1\n",
            " 6 6 1 9 2 5 2 9 3 2 0 9 7 8 6 2 7 7 8 5 5 9 4 5 3 3 1 4 5 5 2 4 1 1 7 3 5\n",
            " 0 3 1 1 8 3 3 7 2 7 7 3 7 4 1 3 3 9 3 7 5 5]\n"
          ]
        }
      ]
    },
    {
      "cell_type": "markdown",
      "source": [
        "##Workshop - Boosting (Binary classification)"
      ],
      "metadata": {
        "id": "qRwNgddd4luG"
      }
    },
    {
      "cell_type": "code",
      "source": [
        "import numpy as np\n",
        "from sklearn.tree import DecisionTreeClassifier\n",
        "from sklearn.metrics import accuracy_score\n",
        "\n",
        "class AdaBoost:\n",
        "    def __init__(self, n_classifiers):\n",
        "        self.n_classifiers = n_classifiers\n",
        "        self.classifiers = []\n",
        "        self.alphas = []\n",
        "\n",
        "    def fit(self, X, y):\n",
        "        n_samples, n_features = X.shape\n",
        "        weights = np.ones(n_samples) / n_samples\n",
        "\n",
        "        for _ in range(self.n_classifiers):\n",
        "            clf = DecisionTreeClassifier(max_depth=1)\n",
        "            clf.fit(X, y, sample_weight=weights)\n",
        "\n",
        "            predictions = clf.predict(X)\n",
        "\n",
        "            misclassified = predictions != y\n",
        "            error = np.sum(weights*misclassified) / np.sum(weights)\n",
        "\n",
        "            alpha = 0.5*np.log((1-error)/error)\n",
        "\n",
        "            weights *= np.exp(-alpha * y * predictions)\n",
        "            weights /= np.sum(weights)\n",
        "\n",
        "            self.classifiers.append(clf)\n",
        "            self.alphas.append(alpha)\n",
        "\n",
        "    def predict(self, X):\n",
        "        clf_preds = np.array([alpha * clf.predict(X) for clf, alpha in zip(self.classifiers, self.alphas)])\n",
        "        return np.sign(np.sum(clf_preds, axis=0))\n",
        "\n",
        "# Load the dataset\n",
        "from sklearn.datasets import load_digits\n",
        "digits = load_digits()\n",
        "X = digits.data\n",
        "y = digits.target\n",
        "y = np.where(y < 5, -1, 1)  # Convert to a binary classification problem\n",
        "\n",
        "adaboost = AdaBoost(n_classifiers=50)\n",
        "adaboost.fit(X, y)\n",
        "\n",
        "y_pred = adaboost.predict(X)\n",
        "\n",
        "accuracy = accuracy_score(y, y_pred)\n",
        "print(f\"Accuracy: {accuracy:.4f}\")"
      ],
      "metadata": {
        "id": "7rtCxoKh9iGm",
        "colab": {
          "base_uri": "https://localhost:8080/"
        },
        "outputId": "ae1d609c-1064-42ee-9692-55d053aa3864"
      },
      "execution_count": 14,
      "outputs": [
        {
          "output_type": "stream",
          "name": "stdout",
          "text": [
            "Accuracy: 0.9021\n"
          ]
        }
      ]
    }
  ]
}