{
 "cells": [
  {
   "cell_type": "code",
   "execution_count": 1,
   "metadata": {},
   "outputs": [],
   "source": [
    "#Labeling encoding\n",
    "from sklearn.preprocessing import LabelEncoder"
   ]
  },
  {
   "cell_type": "code",
   "execution_count": 2,
   "metadata": {},
   "outputs": [
    {
     "name": "stdout",
     "output_type": "stream",
     "text": [
      "[2 0 1 3 0 2]\n",
      "['god' 'angel' 'demon' 'satan' 'angel' 'god']\n"
     ]
    }
   ],
   "source": [
    "label_test = ['god', 'angel', \"demon\", \"satan\", \"angel\", \"god\"]\n",
    "\n",
    "le_ = LabelEncoder()\n",
    "le_.fit(label_test)\n",
    "\n",
    "output = le_.transform(label_test)\n",
    "print(output)\n",
    "\n",
    "inverse = le_.inverse_transform(output)\n",
    "print(inverse)"
   ]
  },
  {
   "cell_type": "code",
   "execution_count": 3,
   "metadata": {},
   "outputs": [
    {
     "name": "stdout",
     "output_type": "stream",
     "text": [
      "[2 0 1 3 0 2]\n",
      "['god' 'angel' 'demon' 'satan' 'angel' 'god']\n"
     ]
    }
   ],
   "source": [
    "label_test = ['god', 'angel', \"demon\", \"satan\", \"angel\", \"god\"]\n",
    "\n",
    "le_ = LabelEncoder()\n",
    "output = le_.fit_transform(label_test)\n",
    "print(output)\n",
    "inverse = le_.inverse_transform(output)\n",
    "print(inverse)"
   ]
  },
  {
   "cell_type": "code",
   "execution_count": 4,
   "metadata": {},
   "outputs": [
    {
     "data": {
      "text/plain": [
       "array([2, 0, 1, 3, 0, 2])"
      ]
     },
     "execution_count": 4,
     "metadata": {},
     "output_type": "execute_result"
    }
   ],
   "source": [
    "# simulate\n",
    "import numpy as np\n",
    "class labelEncoder:\n",
    "  def __init__(self):\n",
    "    self.label_to_int = {}\n",
    "    self.int_to_label = {}\n",
    "    \n",
    "  def fit(self, labels) -> None:\n",
    "    unique_labels = np.unique(np.array(labels))\n",
    "    self.label_to_int = {key:item for key,item in enumerate(unique_labels)}  \n",
    "    self.int_to_label = {item:key for key,item in self.label_to_int.items()} \n",
    "  \n",
    "  def transform(self, labels):\n",
    "    return np.array([self.int_to_label[label] for label in labels])\n",
    "    \n",
    "  def inverse(self, labels):\n",
    "    return np.array([self.label_to_int[label] for label in labels])\n",
    "  \n",
    "test = labelEncoder()\n",
    "test.fit(label_test)\n",
    "\n",
    "\n",
    "test.transform(label_test)"
   ]
  },
  {
   "cell_type": "code",
   "execution_count": 5,
   "metadata": {},
   "outputs": [
    {
     "name": "stdout",
     "output_type": "stream",
     "text": [
      "[[-1.34164079 -1.34164079 -1.34164079]\n",
      " [-0.4472136  -0.4472136  -0.4472136 ]\n",
      " [ 0.4472136   0.4472136   0.4472136 ]\n",
      " [ 1.34164079  1.34164079  1.34164079]]\n",
      "[[1. 2. 3.]\n",
      " [2. 3. 4.]\n",
      " [3. 4. 5.]\n",
      " [4. 5. 6.]]\n"
     ]
    }
   ],
   "source": [
    "from sklearn.preprocessing import StandardScaler\n",
    "\n",
    "data = np.array([[1,2,3],[2,3,4],[3,4,5],[4,5,6]])\n",
    "scaler = StandardScaler()\n",
    "normalized = scaler.fit_transform(data)\n",
    "print(normalized)\n",
    "\n",
    "denormalized = scaler.inverse_transform(normalized)\n",
    "print(denormalized)"
   ]
  },
  {
   "cell_type": "code",
   "execution_count": 6,
   "metadata": {},
   "outputs": [
    {
     "name": "stdout",
     "output_type": "stream",
     "text": [
      "3.5\n",
      "1.3844373104863459\n",
      "[[-1.8057878  -1.08347268 -0.36115756]\n",
      " [-1.08347268 -0.36115756  0.36115756]\n",
      " [-0.36115756  0.36115756  1.08347268]\n",
      " [ 0.36115756  1.08347268  1.8057878 ]]\n",
      "[[1. 2. 3.]\n",
      " [2. 3. 4.]\n",
      " [3. 4. 5.]\n",
      " [4. 5. 6.]]\n",
      "[[ 0.36115756 -0.36115756 -1.08347268]\n",
      " [-0.36115756 -1.08347268 -1.8057878 ]]\n"
     ]
    }
   ],
   "source": [
    "class standardScaler:\n",
    "  def __init__(self):\n",
    "    self.mean = None\n",
    "    self.sd = None\n",
    "  \n",
    "  def fit(self, data):\n",
    "    self.mean = np.mean(data)\n",
    "    self.sd = np.std(data)\n",
    "    \n",
    "  def transform(self, data):\n",
    "    return (data-self.mean)/self.sd\n",
    "  \n",
    "  def inverse(self, data):\n",
    "    return (data*self.sd)+self.mean\n",
    "    \n",
    "scaler = standardScaler()\n",
    "scaler.fit(data)\n",
    "print(scaler.mean)\n",
    "print(scaler.sd)\n",
    "    \n",
    "normalized = scaler.transform(data)\n",
    "print(normalized) \n",
    "\n",
    "denormalized = scaler.inverse(normalized)\n",
    "print(denormalized) \n",
    "\n",
    "\n",
    "# #################################\n",
    "train = data\n",
    "test = [[4,3,2], [3,2,1]]\n",
    "output = scaler.transform(test)\n",
    "print(output)\n"
   ]
  },
  {
   "cell_type": "code",
   "execution_count": 7,
   "metadata": {},
   "outputs": [
    {
     "name": "stdout",
     "output_type": "stream",
     "text": [
      "[[1 2 3]\n",
      " [2 3 4]\n",
      " [3 4 5]\n",
      " [4 5 6]]\n",
      "[[0.         0.         0.        ]\n",
      " [0.33333333 0.33333333 0.33333333]\n",
      " [0.66666667 0.66666667 0.66666667]\n",
      " [1.         1.         1.        ]]\n",
      "[[1. 2. 3.]\n",
      " [2. 3. 4.]\n",
      " [3. 4. 5.]\n",
      " [4. 5. 6.]]\n"
     ]
    }
   ],
   "source": [
    "from sklearn.preprocessing import MinMaxScaler\n",
    "print(data)\n",
    "\n",
    "L,U = 0,1\n",
    "Mx = MinMaxScaler(feature_range=(L,U))\n",
    "Mx.fit(data)\n",
    "\n",
    "scaled = Mx.transform(data)\n",
    "print(scaled)\n",
    "\n",
    "descaled = Mx.inverse_transform(scaled)\n",
    "print(descaled)\n"
   ]
  },
  {
   "cell_type": "code",
   "execution_count": 9,
   "metadata": {},
   "outputs": [
    {
     "name": "stdout",
     "output_type": "stream",
     "text": [
      "[[1 2 3]\n",
      " [2 3 4]\n",
      " [3 4 5]\n",
      " [4 5 6]]\n",
      "[[0.         0.         0.        ]\n",
      " [0.33333333 0.33333333 0.33333333]\n",
      " [0.66666667 0.66666667 0.66666667]\n",
      " [1.         1.         1.        ]]\n",
      "[[1. 2. 3.]\n",
      " [2. 3. 4.]\n",
      " [3. 4. 5.]\n",
      " [4. 5. 6.]]\n"
     ]
    }
   ],
   "source": [
    "class Mxscaler:\n",
    "  def __init__(self, L=0,U=1):\n",
    "    self.L = L\n",
    "    self.U = U\n",
    "    self.min_v = None\n",
    "    self.max_v = None\n",
    "    \n",
    "  def fit(self, data):\n",
    "    self.min_v = np.min(data, axis=0)\n",
    "    self.max_v = np.max(data, axis=0)\n",
    "    \n",
    "  def transform(self, data):\n",
    "    temp = (data-self.min_v)/(self.max_v-self.min_v)\n",
    "    return self.L+(temp*(self.U-self.L))\n",
    "  \n",
    "  def inverse(self, data):\n",
    "    # A= (data-self.L)/(self.U-self.L)\n",
    "    # B= A*(self.max_v-self.min_v)\n",
    "    # return B+self.min_v\n",
    "  \n",
    "    A = (data - self.L) / (self.U - self.L)\n",
    "    B = A * (self.max_v - self.min_v)\n",
    "    return B + self.min_v\n",
    "  \n",
    "print(data)\n",
    "  \n",
    "Mx = Mxscaler()\n",
    "Mx.fit(data)\n",
    "\n",
    "scaled = Mx.transform(data)\n",
    "print(scaled)\n",
    "\n",
    "descaled = Mx.inverse(scaled)\n",
    "print(descaled)"
   ]
  }
 ],
 "metadata": {
  "kernelspec": {
   "display_name": "base",
   "language": "python",
   "name": "python3"
  },
  "language_info": {
   "codemirror_mode": {
    "name": "ipython",
    "version": 3
   },
   "file_extension": ".py",
   "mimetype": "text/x-python",
   "name": "python",
   "nbconvert_exporter": "python",
   "pygments_lexer": "ipython3",
   "version": "3.11.7"
  }
 },
 "nbformat": 4,
 "nbformat_minor": 2
}
