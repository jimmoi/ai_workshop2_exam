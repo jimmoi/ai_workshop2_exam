{
  "cells": [
    {
      "cell_type": "markdown",
      "metadata": {
        "id": "pZczxk03Af-o"
      },
      "source": [
        "# Workshop 12 Datasets & DataLoaders\n",
        "สำหรับข้อมูลที่กำหนดให้ ให้นักศึกษา\n",
        "1. สร้าง Dataset\n",
        "2. สร้าง DataLoader โดยกำหนด batch size เป็น 32\n",
        "3. ทดลองเรียกข้อมูลจากข้อ 1 มาแสดงให้เห็นว่าสามารถทำได้\n",
        "4. ทดลองเรียกข้อมูลจากข้อ 2 มาแสดงให้เห็นว่าสามารถทำได้\n",
        "5. สร้าง transform ของข้อมูลแต่ละชุดแล้วทำตามข้อ 3 และ 4 เพื่อแสดงให้เห็นว่าสามารถทำได้\n"
      ]
    },
    {
      "cell_type": "code",
      "execution_count": null,
      "metadata": {
        "id": "W3DnTi6U0iC2"
      },
      "outputs": [],
      "source": [
        "from torch.utils.data import Dataset,DataLoader\n",
        "from torchvision import transforms\n",
        "import pandas as pd\n",
        "from sklearn.preprocessing import LabelEncoder\n",
        "from sklearn.model_selection import train_test_split\n",
        "import os\n",
        "from PIL import Image\n",
        "import numpy as np"
      ]
    },
    {
      "cell_type": "markdown",
      "metadata": {
        "id": "BukrXwFL2Ci3"
      },
      "source": [
        "## A. Tabular data\n",
        "ใช้ข้อมูลที่เตรียมไว้ให้"
      ]
    },
    {
      "cell_type": "code",
      "execution_count": null,
      "metadata": {
        "id": "rOmM4tts06FB"
      },
      "outputs": [],
      "source": [
        "data_url = 'https://archive.ics.uci.edu/ml/machine-learning-databases/iris/iris.data'\n",
        "header_list = [\"sepal_length\",\"sepal_width\", \"petal_length\", \"petal_width\",\"species\"]\n",
        "df = pd.read_csv(data_url,header=None,names=header_list,encoding='utf-8')\n",
        "X=df.iloc[:,:-1].values\n",
        "y=df.iloc[:,-1].values\n",
        "le = LabelEncoder()\n",
        "y = le.fit_transform(y)"
      ]
    },
    {
      "cell_type": "markdown",
      "metadata": {
        "id": "rYHoF0Jq2N9a"
      },
      "source": [
        "## A.1"
      ]
    },
    {
      "cell_type": "code",
      "execution_count": null,
      "metadata": {
        "id": "kJSCwTK2nYK4"
      },
      "outputs": [],
      "source": [
        "class CustomTaburaDataset(Dataset):\n",
        "    def __init__(self, X, y, transform=None):\n",
        "        self.X = X\n",
        "        self.y = y\n",
        "        self.transform = transform\n",
        "\n",
        "    def __len__(self):\n",
        "        return len(self.y)\n",
        "\n",
        "    def __getitem__(self, idx):\n",
        "        data = self.X[[idx], :]\n",
        "        label = self.y[idx]\n",
        "        if self.transform:\n",
        "            data = self.transform(data)\n",
        "        return data, label\n"
      ]
    },
    {
      "cell_type": "code",
      "execution_count": null,
      "metadata": {
        "id": "Xk-z76IY21BA"
      },
      "outputs": [],
      "source": [
        "X_train, X_test, y_train, y_test = train_test_split(X, y, test_size=0.2, random_state=42)"
      ]
    },
    {
      "cell_type": "code",
      "execution_count": null,
      "metadata": {
        "id": "QYadf__lokcV"
      },
      "outputs": [],
      "source": [
        "train_tabular_data = CustomTaburaDataset(X_train, y_train)\n",
        "test_tabular_data = CustomTaburaDataset(X_test, y_test)"
      ]
    },
    {
      "cell_type": "markdown",
      "metadata": {
        "id": "2Ae3WpOj2QbQ"
      },
      "source": [
        "## A.2"
      ]
    },
    {
      "cell_type": "code",
      "execution_count": null,
      "metadata": {
        "id": "hQec91qTow2c"
      },
      "outputs": [],
      "source": [
        "train_tabular_dataloader = DataLoader(train_tabular_data, batch_size = 32, shuffle = True)\n",
        "test_tabular_dataloader = DataLoader(test_tabular_data, batch_size =32, shuffle = False)"
      ]
    },
    {
      "cell_type": "markdown",
      "metadata": {
        "id": "Y6JMeott2VCy"
      },
      "source": [
        "## A.3"
      ]
    },
    {
      "cell_type": "code",
      "execution_count": null,
      "metadata": {
        "colab": {
          "base_uri": "https://localhost:8080/"
        },
        "id": "VbSOR3PjpgWN",
        "outputId": "26af1ef8-10b6-4470-9a29-c86630946ee9"
      },
      "outputs": [
        {
          "data": {
            "text/plain": [
              "(array([[4.6, 3.6, 1. , 0.2]]), 0)"
            ]
          },
          "execution_count": 120,
          "metadata": {},
          "output_type": "execute_result"
        }
      ],
      "source": [
        "train_tabular_data.__getitem__(0)"
      ]
    },
    {
      "cell_type": "markdown",
      "metadata": {
        "id": "fxUrE5pd2bJ9"
      },
      "source": [
        "## A.4"
      ]
    },
    {
      "cell_type": "code",
      "execution_count": null,
      "metadata": {
        "colab": {
          "base_uri": "https://localhost:8080/"
        },
        "id": "6saSt3YX1iDL",
        "outputId": "1e4e22ad-a5e7-4b36-9dfb-f927aed94267"
      },
      "outputs": [
        {
          "data": {
            "text/plain": [
              "(tensor([[[5.4000, 3.7000, 1.5000, 0.2000]],\n",
              " \n",
              "         [[7.1000, 3.0000, 5.9000, 2.1000]],\n",
              " \n",
              "         [[6.3000, 2.8000, 5.1000, 1.5000]],\n",
              " \n",
              "         [[5.5000, 2.3000, 4.0000, 1.3000]],\n",
              " \n",
              "         [[4.6000, 3.2000, 1.4000, 0.2000]],\n",
              " \n",
              "         [[7.4000, 2.8000, 6.1000, 1.9000]],\n",
              " \n",
              "         [[6.4000, 2.7000, 5.3000, 1.9000]],\n",
              " \n",
              "         [[5.0000, 3.6000, 1.4000, 0.2000]],\n",
              " \n",
              "         [[5.9000, 3.0000, 4.2000, 1.5000]],\n",
              " \n",
              "         [[5.8000, 4.0000, 1.2000, 0.2000]],\n",
              " \n",
              "         [[5.1000, 2.5000, 3.0000, 1.1000]],\n",
              " \n",
              "         [[6.3000, 2.3000, 4.4000, 1.3000]],\n",
              " \n",
              "         [[5.7000, 2.9000, 4.2000, 1.3000]],\n",
              " \n",
              "         [[6.5000, 2.8000, 4.6000, 1.5000]],\n",
              " \n",
              "         [[5.2000, 4.1000, 1.5000, 0.1000]],\n",
              " \n",
              "         [[5.0000, 3.2000, 1.2000, 0.2000]],\n",
              " \n",
              "         [[5.0000, 2.3000, 3.3000, 1.0000]],\n",
              " \n",
              "         [[5.8000, 2.7000, 5.1000, 1.9000]],\n",
              " \n",
              "         [[6.0000, 2.2000, 5.0000, 1.5000]],\n",
              " \n",
              "         [[5.2000, 2.7000, 3.9000, 1.4000]],\n",
              " \n",
              "         [[4.9000, 2.4000, 3.3000, 1.0000]],\n",
              " \n",
              "         [[5.0000, 3.3000, 1.4000, 0.2000]],\n",
              " \n",
              "         [[7.2000, 3.6000, 6.1000, 2.5000]],\n",
              " \n",
              "         [[6.4000, 3.1000, 5.5000, 1.8000]],\n",
              " \n",
              "         [[7.2000, 3.0000, 5.8000, 1.6000]],\n",
              " \n",
              "         [[5.6000, 3.0000, 4.1000, 1.3000]],\n",
              " \n",
              "         [[6.1000, 3.0000, 4.6000, 1.4000]],\n",
              " \n",
              "         [[6.0000, 3.4000, 4.5000, 1.6000]],\n",
              " \n",
              "         [[4.6000, 3.1000, 1.5000, 0.2000]],\n",
              " \n",
              "         [[4.6000, 3.6000, 1.0000, 0.2000]],\n",
              " \n",
              "         [[5.0000, 3.4000, 1.5000, 0.2000]],\n",
              " \n",
              "         [[5.4000, 3.4000, 1.7000, 0.2000]]], dtype=torch.float64),\n",
              " tensor([0, 2, 2, 1, 0, 2, 2, 0, 1, 0, 1, 1, 1, 1, 0, 0, 1, 2, 2, 1, 1, 0, 2, 2,\n",
              "         2, 1, 1, 1, 0, 0, 0, 0]))"
            ]
          },
          "execution_count": 121,
          "metadata": {},
          "output_type": "execute_result"
        }
      ],
      "source": [
        "train_features, train_labels = next(iter(train_tabular_dataloader))\n",
        "train_features, train_labels"
      ]
    },
    {
      "cell_type": "markdown",
      "metadata": {
        "id": "ELi4dznW2eZS"
      },
      "source": [
        "## A.5"
      ]
    },
    {
      "cell_type": "code",
      "execution_count": null,
      "metadata": {
        "id": "m_EcT29M11yM"
      },
      "outputs": [],
      "source": [
        "mean_train_tabural = X_train.mean(axis=0)\n",
        "std_train_tabural = X_train.std(axis=0)\n",
        "transform=transforms.Lambda(lambda x: x-mean_train_tabural/std_train_tabural)\n",
        "train_tabular_data = CustomTaburaDataset(X_train, y_train, transform=transform)\n",
        "test_tabular_data = CustomTaburaDataset(X_test, y_test, transform=transform)\n",
        "\n",
        "train_tabular_dataloader = DataLoader(train_tabular_data, batch_size = 32, shuffle = True)\n",
        "test_tabular_dataloader = DataLoader(test_tabular_data, batch_size =32, shuffle = False)\n"
      ]
    },
    {
      "cell_type": "code",
      "execution_count": null,
      "metadata": {
        "colab": {
          "base_uri": "https://localhost:8080/"
        },
        "id": "SfsKe-Kp2kWP",
        "outputId": "e16576ec-1272-4ce4-9766-95ea923484f1"
      },
      "outputs": [
        {
          "data": {
            "text/plain": [
              "(array([[-2.08119459, -4.57799014,  1.16259861, -0.57604513]]), 1)"
            ]
          },
          "execution_count": 124,
          "metadata": {},
          "output_type": "execute_result"
        }
      ],
      "source": [
        "train_tabular_data.__getitem__(49)"
      ]
    },
    {
      "cell_type": "markdown",
      "metadata": {
        "id": "6o4HaE113agc"
      },
      "source": [
        "## B. Image data from folders with labels inferred from folder names\n",
        "โหลดข้อมูลแล้วสร้าง dataset โดยใช้ ImageFolder เป็นหลัก\n",
        "data:  https://drive.google.com/file/d/1yCH8zIGo9KjdscRfrvpR1R7mel4uq1GH/view?usp=drive_link\n",
        "\n",
        "Pytorch doc: [ImageFolder](https://pytorch.org/vision/main/generated/torchvision.datasets.ImageFolder.html)"
      ]
    },
    {
      "cell_type": "markdown",
      "metadata": {
        "id": "YKaVwnDX7J-N"
      },
      "source": [
        "## B.1"
      ]
    },
    {
      "cell_type": "code",
      "execution_count": null,
      "metadata": {
        "id": "Hf0og8Pr-Hdl"
      },
      "outputs": [],
      "source": [
        "from torchvision.datasets import ImageFolder"
      ]
    },
    {
      "cell_type": "code",
      "execution_count": null,
      "metadata": {
        "id": "7cVFfrNeCrtN"
      },
      "outputs": [],
      "source": [
        "transform = transforms.Compose([\n",
        "    transforms.Resize((224, 224)),\n",
        "    transforms.ToTensor(),\n",
        "])"
      ]
    },
    {
      "cell_type": "code",
      "execution_count": null,
      "metadata": {
        "id": "F6OmXeKj_Ar6"
      },
      "outputs": [],
      "source": [
        "train_img_dataset = ImageFolder('/content/image_dataset/Small_Data_CoV2_train', transform = transform)\n",
        "test_img_dataset = ImageFolder('/content/image_dataset/Small_Data_CoV2_test', transform = transform)\n",
        "val_img_dataset = ImageFolder('/content/image_dataset/Small_Data_CoV2_val', transform = transform)"
      ]
    },
    {
      "cell_type": "markdown",
      "metadata": {
        "id": "zjlCKfrY7MX2"
      },
      "source": [
        "## B.2"
      ]
    },
    {
      "cell_type": "code",
      "execution_count": null,
      "metadata": {
        "id": "F5EwMwHZz9pg"
      },
      "outputs": [],
      "source": [
        "train_img_dataloader = DataLoader(train_img_dataset, batch_size = 32, shuffle = True)\n",
        "test_img_dataloader = DataLoader(test_img_dataset, batch_size = 32, shuffle = False)\n",
        "val_img_dataloader = DataLoader(val_img_dataset, batch_size = 32, shuffle = True)"
      ]
    },
    {
      "cell_type": "markdown",
      "metadata": {
        "id": "wMCLO56g7Orc"
      },
      "source": [
        "## B.3"
      ]
    },
    {
      "cell_type": "code",
      "execution_count": null,
      "metadata": {
        "colab": {
          "base_uri": "https://localhost:8080/"
        },
        "id": "S-WAo-Dw07B3",
        "outputId": "723bf592-d03d-48aa-948b-2e640623c575"
      },
      "outputs": [
        {
          "data": {
            "text/plain": [
              "(tensor([[[0.7490, 0.7765, 0.7882,  ..., 0.7804, 0.7569, 0.7569],\n",
              "          [0.7451, 0.7647, 0.7569,  ..., 0.7804, 0.7843, 0.7451],\n",
              "          [0.7647, 0.7843, 0.7608,  ..., 0.7725, 0.7686, 0.7490],\n",
              "          ...,\n",
              "          [1.0000, 1.0000, 1.0000,  ..., 1.0000, 1.0000, 1.0000],\n",
              "          [1.0000, 1.0000, 1.0000,  ..., 1.0000, 1.0000, 1.0000],\n",
              "          [1.0000, 1.0000, 1.0000,  ..., 1.0000, 1.0000, 1.0000]],\n",
              " \n",
              "         [[0.7490, 0.7765, 0.7882,  ..., 0.7804, 0.7569, 0.7569],\n",
              "          [0.7451, 0.7647, 0.7569,  ..., 0.7804, 0.7843, 0.7451],\n",
              "          [0.7647, 0.7843, 0.7608,  ..., 0.7725, 0.7686, 0.7490],\n",
              "          ...,\n",
              "          [1.0000, 1.0000, 1.0000,  ..., 1.0000, 1.0000, 1.0000],\n",
              "          [1.0000, 1.0000, 1.0000,  ..., 1.0000, 1.0000, 1.0000],\n",
              "          [1.0000, 1.0000, 1.0000,  ..., 1.0000, 1.0000, 1.0000]],\n",
              " \n",
              "         [[0.7490, 0.7765, 0.7882,  ..., 0.7804, 0.7569, 0.7569],\n",
              "          [0.7451, 0.7647, 0.7569,  ..., 0.7804, 0.7843, 0.7451],\n",
              "          [0.7647, 0.7843, 0.7608,  ..., 0.7725, 0.7686, 0.7490],\n",
              "          ...,\n",
              "          [1.0000, 1.0000, 1.0000,  ..., 1.0000, 1.0000, 1.0000],\n",
              "          [1.0000, 1.0000, 1.0000,  ..., 1.0000, 1.0000, 1.0000],\n",
              "          [1.0000, 1.0000, 1.0000,  ..., 1.0000, 1.0000, 1.0000]]]),\n",
              " 0)"
            ]
          },
          "execution_count": 189,
          "metadata": {},
          "output_type": "execute_result"
        }
      ],
      "source": [
        "train_img_dataset.__getitem__(0)"
      ]
    },
    {
      "cell_type": "markdown",
      "metadata": {
        "id": "vHpWyyCe7RE6"
      },
      "source": [
        "## B.4"
      ]
    },
    {
      "cell_type": "code",
      "execution_count": null,
      "metadata": {
        "colab": {
          "base_uri": "https://localhost:8080/"
        },
        "id": "E-GmFWZ96xcA",
        "outputId": "58d36abc-1f74-4dd4-fba6-d116a13a40b8"
      },
      "outputs": [
        {
          "data": {
            "text/plain": [
              "(tensor([[[[0.7490, 0.7490, 0.7608,  ..., 0.7529, 0.7529, 0.7647],\n",
              "           [0.7647, 0.7451, 0.7725,  ..., 0.7647, 0.7725, 0.7725],\n",
              "           [0.7647, 0.7451, 0.7569,  ..., 0.7490, 0.7608, 0.7686],\n",
              "           ...,\n",
              "           [0.7412, 0.7569, 0.7098,  ..., 0.2745, 0.2941, 0.3098],\n",
              "           [0.7686, 0.7529, 0.7686,  ..., 0.2824, 0.3333, 0.3216],\n",
              "           [0.7490, 0.7804, 0.7882,  ..., 0.3137, 0.2980, 0.2941]],\n",
              " \n",
              "          [[0.7490, 0.7490, 0.7608,  ..., 0.7529, 0.7529, 0.7647],\n",
              "           [0.7647, 0.7451, 0.7725,  ..., 0.7647, 0.7725, 0.7725],\n",
              "           [0.7647, 0.7451, 0.7569,  ..., 0.7490, 0.7608, 0.7686],\n",
              "           ...,\n",
              "           [0.7412, 0.7569, 0.7098,  ..., 0.2745, 0.2941, 0.3098],\n",
              "           [0.7686, 0.7529, 0.7686,  ..., 0.2824, 0.3333, 0.3216],\n",
              "           [0.7490, 0.7804, 0.7882,  ..., 0.3137, 0.2980, 0.2941]],\n",
              " \n",
              "          [[0.7490, 0.7490, 0.7608,  ..., 0.7529, 0.7529, 0.7647],\n",
              "           [0.7647, 0.7451, 0.7725,  ..., 0.7647, 0.7725, 0.7725],\n",
              "           [0.7647, 0.7451, 0.7569,  ..., 0.7490, 0.7608, 0.7686],\n",
              "           ...,\n",
              "           [0.7412, 0.7569, 0.7098,  ..., 0.2745, 0.2941, 0.3098],\n",
              "           [0.7686, 0.7529, 0.7686,  ..., 0.2824, 0.3333, 0.3216],\n",
              "           [0.7490, 0.7804, 0.7882,  ..., 0.3137, 0.2980, 0.2941]]],\n",
              " \n",
              " \n",
              "         [[[0.2667, 0.2667, 0.2667,  ..., 0.2667, 0.2667, 0.2667],\n",
              "           [0.2667, 0.2667, 0.2667,  ..., 0.2667, 0.2667, 0.2667],\n",
              "           [0.2667, 0.2667, 0.2667,  ..., 0.2667, 0.2667, 0.2667],\n",
              "           ...,\n",
              "           [0.2745, 0.2745, 0.2667,  ..., 0.2745, 0.2706, 0.2667],\n",
              "           [0.2706, 0.2745, 0.2667,  ..., 0.2706, 0.2667, 0.2667],\n",
              "           [0.2667, 0.2667, 0.2706,  ..., 0.2667, 0.2667, 0.2667]],\n",
              " \n",
              "          [[0.2667, 0.2667, 0.2667,  ..., 0.2667, 0.2667, 0.2667],\n",
              "           [0.2667, 0.2667, 0.2667,  ..., 0.2667, 0.2667, 0.2667],\n",
              "           [0.2667, 0.2667, 0.2667,  ..., 0.2667, 0.2667, 0.2667],\n",
              "           ...,\n",
              "           [0.2745, 0.2745, 0.2667,  ..., 0.2745, 0.2706, 0.2667],\n",
              "           [0.2706, 0.2745, 0.2667,  ..., 0.2706, 0.2667, 0.2667],\n",
              "           [0.2667, 0.2667, 0.2706,  ..., 0.2667, 0.2667, 0.2667]],\n",
              " \n",
              "          [[0.2667, 0.2667, 0.2667,  ..., 0.2667, 0.2667, 0.2667],\n",
              "           [0.2667, 0.2667, 0.2667,  ..., 0.2667, 0.2667, 0.2667],\n",
              "           [0.2667, 0.2667, 0.2667,  ..., 0.2667, 0.2667, 0.2667],\n",
              "           ...,\n",
              "           [0.2745, 0.2745, 0.2667,  ..., 0.2745, 0.2706, 0.2667],\n",
              "           [0.2706, 0.2745, 0.2667,  ..., 0.2706, 0.2667, 0.2667],\n",
              "           [0.2667, 0.2667, 0.2706,  ..., 0.2667, 0.2667, 0.2667]]],\n",
              " \n",
              " \n",
              "         [[[0.4000, 0.7765, 0.8275,  ..., 0.2706, 0.2745, 0.2667],\n",
              "           [0.6549, 0.8510, 0.7882,  ..., 0.2706, 0.2706, 0.2667],\n",
              "           [0.8392, 0.8196, 0.7647,  ..., 0.2980, 0.2706, 0.2706],\n",
              "           ...,\n",
              "           [0.8706, 0.8745, 0.8745,  ..., 0.8745, 0.8863, 0.8706],\n",
              "           [0.9020, 0.8980, 0.8902,  ..., 0.8667, 0.8706, 0.8588],\n",
              "           [0.8471, 0.8510, 0.8667,  ..., 0.8667, 0.8549, 0.8549]],\n",
              " \n",
              "          [[0.4000, 0.7765, 0.8275,  ..., 0.2706, 0.2745, 0.2667],\n",
              "           [0.6549, 0.8510, 0.7882,  ..., 0.2706, 0.2706, 0.2667],\n",
              "           [0.8392, 0.8196, 0.7647,  ..., 0.2980, 0.2706, 0.2706],\n",
              "           ...,\n",
              "           [0.8706, 0.8745, 0.8745,  ..., 0.8745, 0.8863, 0.8706],\n",
              "           [0.9020, 0.8980, 0.8902,  ..., 0.8667, 0.8706, 0.8588],\n",
              "           [0.8471, 0.8510, 0.8667,  ..., 0.8667, 0.8549, 0.8549]],\n",
              " \n",
              "          [[0.4000, 0.7765, 0.8275,  ..., 0.2706, 0.2745, 0.2667],\n",
              "           [0.6549, 0.8510, 0.7882,  ..., 0.2706, 0.2706, 0.2667],\n",
              "           [0.8392, 0.8196, 0.7647,  ..., 0.2980, 0.2706, 0.2706],\n",
              "           ...,\n",
              "           [0.8706, 0.8745, 0.8745,  ..., 0.8745, 0.8863, 0.8706],\n",
              "           [0.9020, 0.8980, 0.8902,  ..., 0.8667, 0.8706, 0.8588],\n",
              "           [0.8471, 0.8510, 0.8667,  ..., 0.8667, 0.8549, 0.8549]]],\n",
              " \n",
              " \n",
              "         ...,\n",
              " \n",
              " \n",
              "         [[[0.2549, 0.2588, 0.2471,  ..., 0.2392, 0.2549, 0.2588],\n",
              "           [0.2588, 0.2588, 0.2471,  ..., 0.2392, 0.2549, 0.2588],\n",
              "           [0.2667, 0.2510, 0.2510,  ..., 0.2471, 0.2549, 0.2549],\n",
              "           ...,\n",
              "           [0.9137, 0.9333, 0.9098,  ..., 0.9216, 0.9294, 0.9216],\n",
              "           [0.9059, 0.9294, 0.9020,  ..., 0.9529, 0.9647, 0.9686],\n",
              "           [0.9098, 0.9373, 0.9059,  ..., 0.8824, 0.8941, 0.9059]],\n",
              " \n",
              "          [[0.2549, 0.2588, 0.2471,  ..., 0.2392, 0.2549, 0.2588],\n",
              "           [0.2588, 0.2588, 0.2471,  ..., 0.2392, 0.2549, 0.2588],\n",
              "           [0.2667, 0.2510, 0.2510,  ..., 0.2471, 0.2549, 0.2549],\n",
              "           ...,\n",
              "           [0.9137, 0.9333, 0.9098,  ..., 0.9216, 0.9294, 0.9216],\n",
              "           [0.9059, 0.9294, 0.9020,  ..., 0.9529, 0.9647, 0.9686],\n",
              "           [0.9098, 0.9373, 0.9059,  ..., 0.8824, 0.8941, 0.9059]],\n",
              " \n",
              "          [[0.2549, 0.2588, 0.2471,  ..., 0.2392, 0.2549, 0.2588],\n",
              "           [0.2588, 0.2588, 0.2471,  ..., 0.2392, 0.2549, 0.2588],\n",
              "           [0.2667, 0.2510, 0.2510,  ..., 0.2471, 0.2549, 0.2549],\n",
              "           ...,\n",
              "           [0.9137, 0.9333, 0.9098,  ..., 0.9216, 0.9294, 0.9216],\n",
              "           [0.9059, 0.9294, 0.9020,  ..., 0.9529, 0.9647, 0.9686],\n",
              "           [0.9098, 0.9373, 0.9059,  ..., 0.8824, 0.8941, 0.9059]]],\n",
              " \n",
              " \n",
              "         [[[0.2667, 0.2667, 0.2667,  ..., 0.2667, 0.2667, 0.2667],\n",
              "           [0.2667, 0.2667, 0.2667,  ..., 0.2667, 0.2667, 0.2667],\n",
              "           [0.2667, 0.2667, 0.2667,  ..., 0.2667, 0.2667, 0.2667],\n",
              "           ...,\n",
              "           [0.2667, 0.2667, 0.2667,  ..., 0.2784, 0.2745, 0.2706],\n",
              "           [0.2667, 0.2706, 0.2706,  ..., 0.2706, 0.2667, 0.2667],\n",
              "           [0.2706, 0.2706, 0.2706,  ..., 0.2667, 0.2667, 0.2667]],\n",
              " \n",
              "          [[0.2667, 0.2667, 0.2667,  ..., 0.2667, 0.2667, 0.2667],\n",
              "           [0.2667, 0.2667, 0.2667,  ..., 0.2667, 0.2667, 0.2667],\n",
              "           [0.2667, 0.2667, 0.2667,  ..., 0.2667, 0.2667, 0.2667],\n",
              "           ...,\n",
              "           [0.2667, 0.2667, 0.2667,  ..., 0.2784, 0.2745, 0.2706],\n",
              "           [0.2667, 0.2706, 0.2706,  ..., 0.2706, 0.2667, 0.2667],\n",
              "           [0.2706, 0.2706, 0.2706,  ..., 0.2667, 0.2667, 0.2667]],\n",
              " \n",
              "          [[0.2667, 0.2667, 0.2667,  ..., 0.2667, 0.2667, 0.2667],\n",
              "           [0.2667, 0.2667, 0.2667,  ..., 0.2667, 0.2667, 0.2667],\n",
              "           [0.2667, 0.2667, 0.2667,  ..., 0.2667, 0.2667, 0.2667],\n",
              "           ...,\n",
              "           [0.2667, 0.2667, 0.2667,  ..., 0.2784, 0.2745, 0.2706],\n",
              "           [0.2667, 0.2706, 0.2706,  ..., 0.2706, 0.2667, 0.2667],\n",
              "           [0.2706, 0.2706, 0.2706,  ..., 0.2667, 0.2667, 0.2667]]],\n",
              " \n",
              " \n",
              "         [[[0.2510, 0.2510, 0.2510,  ..., 0.2510, 0.2549, 0.2588],\n",
              "           [0.2510, 0.2510, 0.2510,  ..., 0.2549, 0.2549, 0.2588],\n",
              "           [0.2510, 0.2510, 0.2510,  ..., 0.2627, 0.2588, 0.2549],\n",
              "           ...,\n",
              "           [0.2784, 0.2824, 0.2863,  ..., 0.2667, 0.2627, 0.2667],\n",
              "           [0.2784, 0.2824, 0.2863,  ..., 0.2667, 0.2667, 0.2706],\n",
              "           [0.2784, 0.2824, 0.2863,  ..., 0.2706, 0.2667, 0.2706]],\n",
              " \n",
              "          [[0.2510, 0.2510, 0.2510,  ..., 0.2510, 0.2549, 0.2588],\n",
              "           [0.2510, 0.2510, 0.2510,  ..., 0.2549, 0.2549, 0.2588],\n",
              "           [0.2510, 0.2510, 0.2510,  ..., 0.2627, 0.2588, 0.2549],\n",
              "           ...,\n",
              "           [0.2784, 0.2824, 0.2863,  ..., 0.2667, 0.2627, 0.2667],\n",
              "           [0.2784, 0.2824, 0.2863,  ..., 0.2667, 0.2667, 0.2706],\n",
              "           [0.2784, 0.2824, 0.2863,  ..., 0.2706, 0.2667, 0.2706]],\n",
              " \n",
              "          [[0.2510, 0.2510, 0.2510,  ..., 0.2510, 0.2549, 0.2588],\n",
              "           [0.2510, 0.2510, 0.2510,  ..., 0.2549, 0.2549, 0.2588],\n",
              "           [0.2510, 0.2510, 0.2510,  ..., 0.2627, 0.2588, 0.2549],\n",
              "           ...,\n",
              "           [0.2784, 0.2824, 0.2863,  ..., 0.2667, 0.2627, 0.2667],\n",
              "           [0.2784, 0.2824, 0.2863,  ..., 0.2667, 0.2667, 0.2706],\n",
              "           [0.2784, 0.2824, 0.2863,  ..., 0.2706, 0.2667, 0.2706]]]]),\n",
              " tensor([0, 0, 0, 0, 1, 0, 1, 0, 2, 2, 1, 1, 2, 0, 1, 0, 1, 1, 2, 0, 2, 0, 0, 2,\n",
              "         2, 0, 2, 0, 2, 1, 0, 2]))"
            ]
          },
          "execution_count": 190,
          "metadata": {},
          "output_type": "execute_result"
        }
      ],
      "source": [
        "train_features, train_labels = next(iter(train_img_dataloader))\n",
        "train_features, train_labels"
      ]
    },
    {
      "cell_type": "markdown",
      "metadata": {
        "id": "6E3U6Gp4DAIz"
      },
      "source": [
        "## B.5"
      ]
    },
    {
      "cell_type": "code",
      "execution_count": null,
      "metadata": {
        "id": "xv9DQCoWC_pS"
      },
      "outputs": [],
      "source": [
        "train_transform = transforms.Compose([\n",
        "    transforms.Resize((224, 224)),\n",
        "    transforms.RandomHorizontalFlip(p=0.5),\n",
        "    transforms.RandomRotation(degrees=5),\n",
        "    transforms.ToTensor(),\n",
        "    transforms.Normalize(mean=[0.485, 0.456, 0.406], std=[0.229, 0.224, 0.225])\n",
        "])\n",
        "\n",
        "test_transform = transforms.Compose([\n",
        "    transforms.Resize((224, 224)),\n",
        "    transforms.ToTensor(),\n",
        "    transforms.Normalize(mean=[0.485, 0.456, 0.406], std=[0.229, 0.224, 0.225])\n",
        "])"
      ]
    },
    {
      "cell_type": "code",
      "execution_count": null,
      "metadata": {
        "id": "TCb6oV7QDcMB"
      },
      "outputs": [],
      "source": [
        "train_img_dataset = ImageFolder('/content/image_dataset/Small_Data_CoV2_train', transform = train_transform)\n",
        "test_img_dataset = ImageFolder('/content/image_dataset/Small_Data_CoV2_test', transform = test_transform)\n",
        "val_img_dataset = ImageFolder('/content/image_dataset/Small_Data_CoV2_val', transform = test_transform)"
      ]
    },
    {
      "cell_type": "code",
      "execution_count": null,
      "metadata": {
        "colab": {
          "base_uri": "https://localhost:8080/"
        },
        "id": "EKz8a0gfDmDi",
        "outputId": "7b5c3639-e869-467a-9aa3-5965a4b7de1b"
      },
      "outputs": [
        {
          "data": {
            "text/plain": [
              "(tensor([[[-2.1179, -2.1179, -2.1179,  ..., -2.1179, -2.1179, -2.1179],\n",
              "          [-2.1179, -2.1179, -2.1179,  ..., -2.1179, -2.1179, -2.1179],\n",
              "          [-2.1179, -2.1179, -2.1179,  ..., -2.1179, -2.1179, -2.1179],\n",
              "          ...,\n",
              "          [-2.1179, -2.1179, -2.1179,  ..., -2.1179, -2.1179, -2.1179],\n",
              "          [-2.1179, -2.1179, -2.1179,  ..., -2.1179, -2.1179, -2.1179],\n",
              "          [-2.1179, -2.1179, -2.1179,  ..., -2.1179, -2.1179, -2.1179]],\n",
              " \n",
              "         [[-2.0357, -2.0357, -2.0357,  ..., -2.0357, -2.0357, -2.0357],\n",
              "          [-2.0357, -2.0357, -2.0357,  ..., -2.0357, -2.0357, -2.0357],\n",
              "          [-2.0357, -2.0357, -2.0357,  ..., -2.0357, -2.0357, -2.0357],\n",
              "          ...,\n",
              "          [-2.0357, -2.0357, -2.0357,  ..., -2.0357, -2.0357, -2.0357],\n",
              "          [-2.0357, -2.0357, -2.0357,  ..., -2.0357, -2.0357, -2.0357],\n",
              "          [-2.0357, -2.0357, -2.0357,  ..., -2.0357, -2.0357, -2.0357]],\n",
              " \n",
              "         [[-1.8044, -1.8044, -1.8044,  ..., -1.8044, -1.8044, -1.8044],\n",
              "          [-1.8044, -1.8044, -1.8044,  ..., -1.8044, -1.8044, -1.8044],\n",
              "          [-1.8044, -1.8044, -1.8044,  ..., -1.8044, -1.8044, -1.8044],\n",
              "          ...,\n",
              "          [-1.8044, -1.8044, -1.8044,  ..., -1.8044, -1.8044, -1.8044],\n",
              "          [-1.8044, -1.8044, -1.8044,  ..., -1.8044, -1.8044, -1.8044],\n",
              "          [-1.8044, -1.8044, -1.8044,  ..., -1.8044, -1.8044, -1.8044]]]),\n",
              " 0)"
            ]
          },
          "execution_count": 198,
          "metadata": {},
          "output_type": "execute_result"
        }
      ],
      "source": [
        "train_img_dataset.__getitem__(0)"
      ]
    },
    {
      "cell_type": "code",
      "execution_count": null,
      "metadata": {
        "id": "lLe9id8tDnrg"
      },
      "outputs": [],
      "source": [
        "train_img_dataloader = DataLoader(train_img_dataset, batch_size = 32, shuffle = True)\n",
        "test_img_dataloader = DataLoader(test_img_dataset, batch_size = 32, shuffle = False)\n",
        "val_img_dataloader = DataLoader(val_img_dataset, batch_size = 32, shuffle = True)"
      ]
    },
    {
      "cell_type": "markdown",
      "metadata": {
        "id": "HZv0-J_13kaQ"
      },
      "source": [
        "## C. Image data from file names and label list\n",
        "โหลดข้อมูลแล้วอ่านชื่อทุกไฟล์ภาพใน folder ย่อยมาเก็บไว้ แล้วสร้าง dataset ขึ้นมาใช้เอง\n",
        "\n",
        "data: https://drive.google.com/file/d/1yCH8zIGo9KjdscRfrvpR1R7mel4uq1GH/view?usp=drive_link\n",
        "\n",
        "Pytorch tutorial: [data tutorial](https://pytorch.org/tutorials/beginner/basics/data_tutorial.html)"
      ]
    },
    {
      "cell_type": "markdown",
      "metadata": {
        "id": "vld8_rx_Kpv2"
      },
      "source": [
        "## C.1"
      ]
    },
    {
      "cell_type": "code",
      "execution_count": null,
      "metadata": {
        "id": "nCuIBmbh_DML"
      },
      "outputs": [],
      "source": [
        "class CustomImageDataset(Dataset):\n",
        "  def __init__(self, im_filename, y, transform=None):\n",
        "    self.im_filename = im_filename\n",
        "    self.y = y\n",
        "    self.transform = transform\n",
        "\n",
        "  def __len__(self):\n",
        "    return len(self.y)\n",
        "\n",
        "  def __getitem__(self, idx):\n",
        "    img_path = self.im_filename.iloc[idx]\n",
        "    image = Image.open(img_path).convert('RGB')\n",
        "    label = self.y.iloc[idx]\n",
        "\n",
        "    if self.transform:\n",
        "       image = self.transform(image)\n",
        "\n",
        "    image_np = np.array(image)\n",
        "\n",
        "    return image_np, label"
      ]
    },
    {
      "cell_type": "code",
      "execution_count": null,
      "metadata": {
        "id": "HSso5ANCI7rn"
      },
      "outputs": [],
      "source": [
        "def read_image_dir(path):\n",
        "    filename = []\n",
        "    label = []\n",
        "    #read all file from subfolders\n",
        "    for dirname, _, filenames in os.walk(path):\n",
        "        for file in filenames:\n",
        "            f = os.path.join(dirname, file)\n",
        "            if '.png' in f:\n",
        "                filename.append(f)\n",
        "                label.append(dirname.split('/')[3])\n",
        "    df = pd.DataFrame({'filename':filename, 'label':label})\n",
        "    return df"
      ]
    },
    {
      "cell_type": "code",
      "execution_count": null,
      "metadata": {
        "id": "l0ik-aOxJQKa"
      },
      "outputs": [],
      "source": [
        "train_img_df = read_image_dir('/content/image_dataset/Small_Data_CoV2_test')\n",
        "test_img_df = read_image_dir('/content/image_dataset/Small_Data_CoV2_train')\n",
        "val_img_df = read_image_dir('/content/image_dataset/Small_Data_CoV2_val')"
      ]
    },
    {
      "cell_type": "code",
      "execution_count": null,
      "metadata": {
        "id": "6-OMr-bHJnQv"
      },
      "outputs": [],
      "source": [
        "le = LabelEncoder()\n",
        "for df in [train_img_df, test_img_df, val_img_df]:\n",
        "    df['label'] = le.fit_transform(df['label'])"
      ]
    },
    {
      "cell_type": "code",
      "execution_count": null,
      "metadata": {
        "id": "1rWqqZh9KYs_"
      },
      "outputs": [],
      "source": [
        "transform = transforms.Compose([\n",
        "    transforms.Resize((224, 224)),\n",
        "    transforms.ToTensor(),\n",
        "])"
      ]
    },
    {
      "cell_type": "code",
      "execution_count": null,
      "metadata": {
        "id": "AZHAGSylKA-a"
      },
      "outputs": [],
      "source": [
        "train_img_dataset = CustomImageDataset(train_img_df['filename'], train_img_df['label'], transform = transform)\n",
        "test_img_dataset = CustomImageDataset(test_img_df['filename'], test_img_df['label'], transform = transform)\n",
        "val_img_dataset = CustomImageDataset(val_img_df['filename'], val_img_df['label'], transform = transform)"
      ]
    },
    {
      "cell_type": "markdown",
      "metadata": {
        "id": "uFCiexD1Kwnv"
      },
      "source": [
        "## C.2"
      ]
    },
    {
      "cell_type": "code",
      "execution_count": null,
      "metadata": {
        "id": "dh8O7tuMKhbA"
      },
      "outputs": [],
      "source": [
        "train_img_dataloader = DataLoader(train_img_dataset, batch_size = 32, shuffle = True)\n",
        "test_img_dataloader = DataLoader(test_img_dataset, batch_size = 32, shuffle = False)\n",
        "val_img_dataloader = DataLoader(val_img_dataset, batch_size = 32, shuffle = True)"
      ]
    },
    {
      "cell_type": "markdown",
      "metadata": {
        "id": "iY-zKaWiK3tA"
      },
      "source": [
        "## C.3"
      ]
    },
    {
      "cell_type": "code",
      "execution_count": null,
      "metadata": {
        "colab": {
          "base_uri": "https://localhost:8080/"
        },
        "id": "KOnDDTxmKjAE",
        "outputId": "6fc90082-ba2a-4272-b1f6-56a99b899355"
      },
      "outputs": [
        {
          "data": {
            "text/plain": [
              "(array([[[0.81960785, 0.8235294 , 0.80784315, ..., 0.79607844,\n",
              "          0.8       , 0.8039216 ],\n",
              "         [0.8235294 , 0.8039216 , 0.8       , ..., 0.8039216 ,\n",
              "          0.79607844, 0.80784315],\n",
              "         [0.8117647 , 0.8       , 0.8       , ..., 0.8117647 ,\n",
              "          0.80784315, 0.80784315],\n",
              "         ...,\n",
              "         [0.8392157 , 0.8392157 , 0.8235294 , ..., 0.79607844,\n",
              "          0.78431374, 0.7882353 ],\n",
              "         [0.7882353 , 0.8       , 0.7921569 , ..., 0.8       ,\n",
              "          0.80784315, 0.8156863 ],\n",
              "         [0.77254903, 0.7764706 , 0.7764706 , ..., 0.79607844,\n",
              "          0.8117647 , 0.8235294 ]],\n",
              " \n",
              "        [[0.81960785, 0.8235294 , 0.80784315, ..., 0.79607844,\n",
              "          0.8       , 0.8039216 ],\n",
              "         [0.8235294 , 0.8039216 , 0.8       , ..., 0.8039216 ,\n",
              "          0.79607844, 0.80784315],\n",
              "         [0.8117647 , 0.8       , 0.8       , ..., 0.8117647 ,\n",
              "          0.80784315, 0.80784315],\n",
              "         ...,\n",
              "         [0.8392157 , 0.8392157 , 0.8235294 , ..., 0.79607844,\n",
              "          0.78431374, 0.7882353 ],\n",
              "         [0.7882353 , 0.8       , 0.7921569 , ..., 0.8       ,\n",
              "          0.80784315, 0.8156863 ],\n",
              "         [0.77254903, 0.7764706 , 0.7764706 , ..., 0.79607844,\n",
              "          0.8117647 , 0.8235294 ]],\n",
              " \n",
              "        [[0.81960785, 0.8235294 , 0.80784315, ..., 0.79607844,\n",
              "          0.8       , 0.8039216 ],\n",
              "         [0.8235294 , 0.8039216 , 0.8       , ..., 0.8039216 ,\n",
              "          0.79607844, 0.80784315],\n",
              "         [0.8117647 , 0.8       , 0.8       , ..., 0.8117647 ,\n",
              "          0.80784315, 0.80784315],\n",
              "         ...,\n",
              "         [0.8392157 , 0.8392157 , 0.8235294 , ..., 0.79607844,\n",
              "          0.78431374, 0.7882353 ],\n",
              "         [0.7882353 , 0.8       , 0.7921569 , ..., 0.8       ,\n",
              "          0.80784315, 0.8156863 ],\n",
              "         [0.77254903, 0.7764706 , 0.7764706 , ..., 0.79607844,\n",
              "          0.8117647 , 0.8235294 ]]], dtype=float32),\n",
              " 0)"
            ]
          },
          "execution_count": 221,
          "metadata": {},
          "output_type": "execute_result"
        }
      ],
      "source": [
        "train_img_dataset.__getitem__(0)"
      ]
    },
    {
      "cell_type": "code",
      "execution_count": null,
      "metadata": {
        "colab": {
          "base_uri": "https://localhost:8080/"
        },
        "id": "Snlj37qiLAIS",
        "outputId": "2f1eb452-ccad-4afa-e17c-6164955fe1b3"
      },
      "outputs": [
        {
          "data": {
            "text/plain": [
              "[tensor([[[[0.8039, 0.8118, 0.8275,  ..., 0.9137, 0.7529, 0.3882],\n",
              "           [0.7961, 0.7961, 0.8196,  ..., 0.8745, 0.8902, 0.5961],\n",
              "           [0.8039, 0.8196, 0.8275,  ..., 0.8275, 0.9059, 0.8078],\n",
              "           ...,\n",
              "           [0.8392, 0.8275, 0.8275,  ..., 0.8431, 0.8196, 0.8078],\n",
              "           [0.8078, 0.8118, 0.8157,  ..., 0.7765, 0.7686, 0.7882],\n",
              "           [0.7608, 0.7647, 0.7725,  ..., 0.8549, 0.8392, 0.8549]],\n",
              " \n",
              "          [[0.8039, 0.8118, 0.8275,  ..., 0.9137, 0.7529, 0.3882],\n",
              "           [0.7961, 0.7961, 0.8196,  ..., 0.8745, 0.8902, 0.5961],\n",
              "           [0.8039, 0.8196, 0.8275,  ..., 0.8275, 0.9059, 0.8078],\n",
              "           ...,\n",
              "           [0.8392, 0.8275, 0.8275,  ..., 0.8431, 0.8196, 0.8078],\n",
              "           [0.8078, 0.8118, 0.8157,  ..., 0.7765, 0.7686, 0.7882],\n",
              "           [0.7608, 0.7647, 0.7725,  ..., 0.8549, 0.8392, 0.8549]],\n",
              " \n",
              "          [[0.8039, 0.8118, 0.8275,  ..., 0.9137, 0.7529, 0.3882],\n",
              "           [0.7961, 0.7961, 0.8196,  ..., 0.8745, 0.8902, 0.5961],\n",
              "           [0.8039, 0.8196, 0.8275,  ..., 0.8275, 0.9059, 0.8078],\n",
              "           ...,\n",
              "           [0.8392, 0.8275, 0.8275,  ..., 0.8431, 0.8196, 0.8078],\n",
              "           [0.8078, 0.8118, 0.8157,  ..., 0.7765, 0.7686, 0.7882],\n",
              "           [0.7608, 0.7647, 0.7725,  ..., 0.8549, 0.8392, 0.8549]]],\n",
              " \n",
              " \n",
              "         [[[0.2588, 0.2314, 0.2549,  ..., 0.2510, 0.2471, 0.2549],\n",
              "           [0.2471, 0.2588, 0.4235,  ..., 0.2510, 0.2471, 0.2549],\n",
              "           [0.2941, 0.4353, 0.6941,  ..., 0.2588, 0.2549, 0.2588],\n",
              "           ...,\n",
              "           [0.8157, 0.8118, 0.8157,  ..., 0.8275, 0.8196, 0.8196],\n",
              "           [0.8039, 0.8078, 0.7961,  ..., 0.8078, 0.8078, 0.8353],\n",
              "           [0.8353, 0.8157, 0.8039,  ..., 0.8275, 0.8157, 0.8118]],\n",
              " \n",
              "          [[0.2588, 0.2314, 0.2549,  ..., 0.2510, 0.2471, 0.2549],\n",
              "           [0.2471, 0.2588, 0.4235,  ..., 0.2510, 0.2471, 0.2549],\n",
              "           [0.2941, 0.4353, 0.6941,  ..., 0.2588, 0.2549, 0.2588],\n",
              "           ...,\n",
              "           [0.8157, 0.8118, 0.8157,  ..., 0.8275, 0.8196, 0.8196],\n",
              "           [0.8039, 0.8078, 0.7961,  ..., 0.8078, 0.8078, 0.8353],\n",
              "           [0.8353, 0.8157, 0.8039,  ..., 0.8275, 0.8157, 0.8118]],\n",
              " \n",
              "          [[0.2588, 0.2314, 0.2549,  ..., 0.2510, 0.2471, 0.2549],\n",
              "           [0.2471, 0.2588, 0.4235,  ..., 0.2510, 0.2471, 0.2549],\n",
              "           [0.2941, 0.4353, 0.6941,  ..., 0.2588, 0.2549, 0.2588],\n",
              "           ...,\n",
              "           [0.8157, 0.8118, 0.8157,  ..., 0.8275, 0.8196, 0.8196],\n",
              "           [0.8039, 0.8078, 0.7961,  ..., 0.8078, 0.8078, 0.8353],\n",
              "           [0.8353, 0.8157, 0.8039,  ..., 0.8275, 0.8157, 0.8118]]],\n",
              " \n",
              " \n",
              "         [[[0.2588, 0.2588, 0.2549,  ..., 0.2588, 0.2588, 0.2549],\n",
              "           [0.2588, 0.2588, 0.2549,  ..., 0.2627, 0.2627, 0.2549],\n",
              "           [0.2588, 0.2588, 0.2549,  ..., 0.2627, 0.2627, 0.2549],\n",
              "           ...,\n",
              "           [0.2510, 0.2549, 0.3412,  ..., 0.2824, 0.2863, 0.2824],\n",
              "           [0.3490, 0.2588, 0.2431,  ..., 0.2863, 0.2784, 0.2745],\n",
              "           [0.6471, 0.4157, 0.2667,  ..., 0.2902, 0.2824, 0.2784]],\n",
              " \n",
              "          [[0.2588, 0.2588, 0.2549,  ..., 0.2588, 0.2588, 0.2549],\n",
              "           [0.2588, 0.2588, 0.2549,  ..., 0.2627, 0.2627, 0.2549],\n",
              "           [0.2588, 0.2588, 0.2549,  ..., 0.2627, 0.2627, 0.2549],\n",
              "           ...,\n",
              "           [0.2510, 0.2549, 0.3412,  ..., 0.2824, 0.2863, 0.2824],\n",
              "           [0.3490, 0.2588, 0.2431,  ..., 0.2863, 0.2784, 0.2745],\n",
              "           [0.6471, 0.4157, 0.2667,  ..., 0.2902, 0.2824, 0.2784]],\n",
              " \n",
              "          [[0.2588, 0.2588, 0.2549,  ..., 0.2588, 0.2588, 0.2549],\n",
              "           [0.2588, 0.2588, 0.2549,  ..., 0.2627, 0.2627, 0.2549],\n",
              "           [0.2588, 0.2588, 0.2549,  ..., 0.2627, 0.2627, 0.2549],\n",
              "           ...,\n",
              "           [0.2510, 0.2549, 0.3412,  ..., 0.2824, 0.2863, 0.2824],\n",
              "           [0.3490, 0.2588, 0.2431,  ..., 0.2863, 0.2784, 0.2745],\n",
              "           [0.6471, 0.4157, 0.2667,  ..., 0.2902, 0.2824, 0.2784]]],\n",
              " \n",
              " \n",
              "         ...,\n",
              " \n",
              " \n",
              "         [[[0.2471, 0.2510, 0.2588,  ..., 0.2784, 0.2745, 0.2706],\n",
              "           [0.2471, 0.2471, 0.2588,  ..., 0.2824, 0.2824, 0.2784],\n",
              "           [0.2510, 0.2627, 0.2588,  ..., 0.2824, 0.2824, 0.2784],\n",
              "           ...,\n",
              "           [0.7922, 0.7961, 0.7961,  ..., 0.8510, 0.8706, 0.8824],\n",
              "           [0.7922, 0.7961, 0.7961,  ..., 0.8745, 0.8941, 0.8784],\n",
              "           [0.7961, 0.7961, 0.7961,  ..., 0.8980, 0.8941, 0.8275]],\n",
              " \n",
              "          [[0.2471, 0.2510, 0.2588,  ..., 0.2784, 0.2745, 0.2706],\n",
              "           [0.2471, 0.2471, 0.2588,  ..., 0.2824, 0.2824, 0.2784],\n",
              "           [0.2510, 0.2627, 0.2588,  ..., 0.2824, 0.2824, 0.2784],\n",
              "           ...,\n",
              "           [0.7922, 0.7961, 0.7961,  ..., 0.8510, 0.8706, 0.8824],\n",
              "           [0.7922, 0.7961, 0.7961,  ..., 0.8745, 0.8941, 0.8784],\n",
              "           [0.7961, 0.7961, 0.7961,  ..., 0.8980, 0.8941, 0.8275]],\n",
              " \n",
              "          [[0.2471, 0.2510, 0.2588,  ..., 0.2784, 0.2745, 0.2706],\n",
              "           [0.2471, 0.2471, 0.2588,  ..., 0.2824, 0.2824, 0.2784],\n",
              "           [0.2510, 0.2627, 0.2588,  ..., 0.2824, 0.2824, 0.2784],\n",
              "           ...,\n",
              "           [0.7922, 0.7961, 0.7961,  ..., 0.8510, 0.8706, 0.8824],\n",
              "           [0.7922, 0.7961, 0.7961,  ..., 0.8745, 0.8941, 0.8784],\n",
              "           [0.7961, 0.7961, 0.7961,  ..., 0.8980, 0.8941, 0.8275]]],\n",
              " \n",
              " \n",
              "         [[[0.2510, 0.2471, 0.2431,  ..., 0.2549, 0.2471, 0.2431],\n",
              "           [0.2627, 0.2627, 0.2392,  ..., 0.2431, 0.2353, 0.2392],\n",
              "           [0.2510, 0.2667, 0.2510,  ..., 0.2471, 0.2431, 0.2510],\n",
              "           ...,\n",
              "           [0.2627, 0.2706, 0.2784,  ..., 0.3059, 0.2902, 0.2824],\n",
              "           [0.2706, 0.2784, 0.2784,  ..., 0.2706, 0.2824, 0.2784],\n",
              "           [0.2902, 0.2784, 0.2784,  ..., 0.2627, 0.2745, 0.2745]],\n",
              " \n",
              "          [[0.2510, 0.2471, 0.2431,  ..., 0.2549, 0.2471, 0.2431],\n",
              "           [0.2627, 0.2627, 0.2392,  ..., 0.2431, 0.2353, 0.2392],\n",
              "           [0.2510, 0.2667, 0.2510,  ..., 0.2471, 0.2431, 0.2510],\n",
              "           ...,\n",
              "           [0.2627, 0.2706, 0.2784,  ..., 0.3059, 0.2902, 0.2824],\n",
              "           [0.2706, 0.2784, 0.2784,  ..., 0.2706, 0.2824, 0.2784],\n",
              "           [0.2902, 0.2784, 0.2784,  ..., 0.2627, 0.2745, 0.2745]],\n",
              " \n",
              "          [[0.2510, 0.2471, 0.2431,  ..., 0.2549, 0.2471, 0.2431],\n",
              "           [0.2627, 0.2627, 0.2392,  ..., 0.2431, 0.2353, 0.2392],\n",
              "           [0.2510, 0.2667, 0.2510,  ..., 0.2471, 0.2431, 0.2510],\n",
              "           ...,\n",
              "           [0.2627, 0.2706, 0.2784,  ..., 0.3059, 0.2902, 0.2824],\n",
              "           [0.2706, 0.2784, 0.2784,  ..., 0.2706, 0.2824, 0.2784],\n",
              "           [0.2902, 0.2784, 0.2784,  ..., 0.2627, 0.2745, 0.2745]]],\n",
              " \n",
              " \n",
              "         [[[0.7882, 0.7882, 0.8078,  ..., 0.8157, 0.5804, 0.3333],\n",
              "           [0.7765, 0.7961, 0.8078,  ..., 0.8588, 0.6706, 0.3843],\n",
              "           [0.7608, 0.7843, 0.7922,  ..., 0.8706, 0.7333, 0.4588],\n",
              "           ...,\n",
              "           [0.7961, 0.7804, 0.7804,  ..., 0.7922, 0.8235, 0.8471],\n",
              "           [0.8431, 0.8431, 0.8471,  ..., 0.8627, 0.8510, 0.8392],\n",
              "           [0.7765, 0.7961, 0.7961,  ..., 0.8588, 0.8706, 0.8745]],\n",
              " \n",
              "          [[0.7882, 0.7882, 0.8078,  ..., 0.8157, 0.5804, 0.3333],\n",
              "           [0.7765, 0.7961, 0.8078,  ..., 0.8588, 0.6706, 0.3843],\n",
              "           [0.7608, 0.7843, 0.7922,  ..., 0.8706, 0.7333, 0.4588],\n",
              "           ...,\n",
              "           [0.7961, 0.7804, 0.7804,  ..., 0.7922, 0.8235, 0.8471],\n",
              "           [0.8431, 0.8431, 0.8471,  ..., 0.8627, 0.8510, 0.8392],\n",
              "           [0.7765, 0.7961, 0.7961,  ..., 0.8588, 0.8706, 0.8745]],\n",
              " \n",
              "          [[0.7882, 0.7882, 0.8078,  ..., 0.8157, 0.5804, 0.3333],\n",
              "           [0.7765, 0.7961, 0.8078,  ..., 0.8588, 0.6706, 0.3843],\n",
              "           [0.7608, 0.7843, 0.7922,  ..., 0.8706, 0.7333, 0.4588],\n",
              "           ...,\n",
              "           [0.7961, 0.7804, 0.7804,  ..., 0.7922, 0.8235, 0.8471],\n",
              "           [0.8431, 0.8431, 0.8471,  ..., 0.8627, 0.8510, 0.8392],\n",
              "           [0.7765, 0.7961, 0.7961,  ..., 0.8588, 0.8706, 0.8745]]]]),\n",
              " tensor([0, 0, 0, 0, 0, 0, 0, 0, 0, 0, 0, 0, 0, 0, 0, 0, 0, 0, 0, 0, 0, 0, 0, 0,\n",
              "         0, 0, 0, 0, 0, 0, 0, 0])]"
            ]
          },
          "execution_count": 222,
          "metadata": {},
          "output_type": "execute_result"
        }
      ],
      "source": [
        "next(iter(train_img_dataloader))"
      ]
    },
    {
      "cell_type": "markdown",
      "metadata": {
        "id": "bOejWo4ALXZe"
      },
      "source": [
        "## C.5\n"
      ]
    },
    {
      "cell_type": "code",
      "execution_count": null,
      "metadata": {
        "id": "foYQ_Zi9LIpb"
      },
      "outputs": [],
      "source": [
        "train_transform = transforms.Compose([\n",
        "    transforms.Resize((224, 224)),\n",
        "    transforms.RandomHorizontalFlip(p=0.5),\n",
        "    transforms.RandomRotation(degrees=5),\n",
        "    transforms.ToTensor(),\n",
        "    transforms.Normalize(mean=[0.485, 0.456, 0.406], std=[0.229, 0.224, 0.225])\n",
        "])\n",
        "\n",
        "test_transform = transforms.Compose([\n",
        "    transforms.Resize((224, 224)),\n",
        "    transforms.ToTensor(),\n",
        "    transforms.Normalize(mean=[0.485, 0.456, 0.406], std=[0.229, 0.224, 0.225])\n",
        "])"
      ]
    },
    {
      "cell_type": "code",
      "execution_count": null,
      "metadata": {
        "id": "yUEk0beJLxXo"
      },
      "outputs": [],
      "source": [
        "train_img_dataset = CustomImageDataset(train_img_df['filename'], train_img_df['label'], transform = train_transform)\n",
        "test_img_dataset = CustomImageDataset(test_img_df['filename'], test_img_df['label'], transform = test_transform)\n",
        "val_img_dataset = CustomImageDataset(val_img_df['filename'], val_img_df['label'], transform = test_transform)"
      ]
    },
    {
      "cell_type": "code",
      "execution_count": null,
      "metadata": {
        "id": "woIijHE2L2rW"
      },
      "outputs": [],
      "source": [
        "train_img_dataloader = DataLoader(train_img_dataset, batch_size = 32, shuffle = True)\n",
        "test_img_dataloader = DataLoader(test_img_dataset, batch_size = 32, shuffle = False)\n",
        "val_img_dataloader = DataLoader(val_img_dataset, batch_size = 32, shuffle = True)"
      ]
    },
    {
      "cell_type": "code",
      "execution_count": null,
      "metadata": {
        "colab": {
          "base_uri": "https://localhost:8080/"
        },
        "id": "DBSDninZL6RY",
        "outputId": "c8d091fd-5434-4d86-ae20-4f878edc3227"
      },
      "outputs": [
        {
          "data": {
            "text/plain": [
              "(array([[[-2.117904 , -2.117904 , -2.117904 , ..., -2.117904 ,\n",
              "          -2.117904 , -2.117904 ],\n",
              "         [-2.117904 , -2.117904 , -2.117904 , ..., -2.117904 ,\n",
              "          -2.117904 , -2.117904 ],\n",
              "         [-2.117904 , -2.117904 , -2.117904 , ..., -2.117904 ,\n",
              "          -2.117904 , -2.117904 ],\n",
              "         ...,\n",
              "         [-2.117904 , -2.117904 , -2.117904 , ..., -2.117904 ,\n",
              "          -2.117904 , -2.117904 ],\n",
              "         [-2.117904 , -2.117904 , -2.117904 , ..., -2.117904 ,\n",
              "          -2.117904 , -2.117904 ],\n",
              "         [-2.117904 , -2.117904 , -2.117904 , ..., -2.117904 ,\n",
              "          -2.117904 , -2.117904 ]],\n",
              " \n",
              "        [[-2.0357141, -2.0357141, -2.0357141, ..., -2.0357141,\n",
              "          -2.0357141, -2.0357141],\n",
              "         [-2.0357141, -2.0357141, -2.0357141, ..., -2.0357141,\n",
              "          -2.0357141, -2.0357141],\n",
              "         [-2.0357141, -2.0357141, -2.0357141, ..., -2.0357141,\n",
              "          -2.0357141, -2.0357141],\n",
              "         ...,\n",
              "         [-2.0357141, -2.0357141, -2.0357141, ..., -2.0357141,\n",
              "          -2.0357141, -2.0357141],\n",
              "         [-2.0357141, -2.0357141, -2.0357141, ..., -2.0357141,\n",
              "          -2.0357141, -2.0357141],\n",
              "         [-2.0357141, -2.0357141, -2.0357141, ..., -2.0357141,\n",
              "          -2.0357141, -2.0357141]],\n",
              " \n",
              "        [[-1.8044444, -1.8044444, -1.8044444, ..., -1.8044444,\n",
              "          -1.8044444, -1.8044444],\n",
              "         [-1.8044444, -1.8044444, -1.8044444, ..., -1.8044444,\n",
              "          -1.8044444, -1.8044444],\n",
              "         [-1.8044444, -1.8044444, -1.8044444, ..., -1.8044444,\n",
              "          -1.8044444, -1.8044444],\n",
              "         ...,\n",
              "         [-1.8044444, -1.8044444, -1.8044444, ..., -1.8044444,\n",
              "          -1.8044444, -1.8044444],\n",
              "         [-1.8044444, -1.8044444, -1.8044444, ..., -1.8044444,\n",
              "          -1.8044444, -1.8044444],\n",
              "         [-1.8044444, -1.8044444, -1.8044444, ..., -1.8044444,\n",
              "          -1.8044444, -1.8044444]]], dtype=float32),\n",
              " 0)"
            ]
          },
          "execution_count": 227,
          "metadata": {},
          "output_type": "execute_result"
        }
      ],
      "source": [
        "train_img_dataset.__getitem__(0)"
      ]
    },
    {
      "cell_type": "code",
      "execution_count": null,
      "metadata": {
        "colab": {
          "base_uri": "https://localhost:8080/"
        },
        "id": "nSjjgCY8L99_",
        "outputId": "57ab5eaa-2fab-46f0-8a19-20023bca8d0d"
      },
      "outputs": [
        {
          "data": {
            "text/plain": [
              "[tensor([[[[-2.1179, -2.1179, -2.1179,  ..., -2.1179, -2.1179, -2.1179],\n",
              "           [-2.1179, -2.1179, -2.1179,  ..., -2.1179, -2.1179, -2.1179],\n",
              "           [-2.1179, -2.1179, -2.1179,  ..., -2.1179, -2.1179, -2.1179],\n",
              "           ...,\n",
              "           [-2.1179, -2.1179, -2.1179,  ..., -2.1179, -2.1179, -2.1179],\n",
              "           [-2.1179, -2.1179, -2.1179,  ..., -2.1179, -2.1179, -2.1179],\n",
              "           [-2.1179, -2.1179, -2.1179,  ..., -2.1179, -2.1179, -2.1179]],\n",
              " \n",
              "          [[-2.0357, -2.0357, -2.0357,  ..., -2.0357, -2.0357, -2.0357],\n",
              "           [-2.0357, -2.0357, -2.0357,  ..., -2.0357, -2.0357, -2.0357],\n",
              "           [-2.0357, -2.0357, -2.0357,  ..., -2.0357, -2.0357, -2.0357],\n",
              "           ...,\n",
              "           [-2.0357, -2.0357, -2.0357,  ..., -2.0357, -2.0357, -2.0357],\n",
              "           [-2.0357, -2.0357, -2.0357,  ..., -2.0357, -2.0357, -2.0357],\n",
              "           [-2.0357, -2.0357, -2.0357,  ..., -2.0357, -2.0357, -2.0357]],\n",
              " \n",
              "          [[-1.8044, -1.8044, -1.8044,  ..., -1.8044, -1.8044, -1.8044],\n",
              "           [-1.8044, -1.8044, -1.8044,  ..., -1.8044, -1.8044, -1.8044],\n",
              "           [-1.8044, -1.8044, -1.8044,  ..., -1.8044, -1.8044, -1.8044],\n",
              "           ...,\n",
              "           [-1.8044, -1.8044, -1.8044,  ..., -1.8044, -1.8044, -1.8044],\n",
              "           [-1.8044, -1.8044, -1.8044,  ..., -1.8044, -1.8044, -1.8044],\n",
              "           [-1.8044, -1.8044, -1.8044,  ..., -1.8044, -1.8044, -1.8044]]],\n",
              " \n",
              " \n",
              "         [[[-2.1179, -2.1179, -2.1179,  ..., -2.1179, -2.1179, -2.1179],\n",
              "           [-2.1179, -2.1179, -2.1179,  ..., -2.1179, -2.1179, -2.1179],\n",
              "           [-2.1179, -2.1179, -2.1179,  ..., -2.1179, -2.1179, -2.1179],\n",
              "           ...,\n",
              "           [-2.1179, -2.1179, -2.1179,  ..., -2.1179, -2.1179, -2.1179],\n",
              "           [-2.1179, -2.1179, -2.1179,  ..., -2.1179, -2.1179, -2.1179],\n",
              "           [-2.1179, -2.1179, -2.1179,  ..., -2.1179, -2.1179, -2.1179]],\n",
              " \n",
              "          [[-2.0357, -2.0357, -2.0357,  ..., -2.0357, -2.0357, -2.0357],\n",
              "           [-2.0357, -2.0357, -2.0357,  ..., -2.0357, -2.0357, -2.0357],\n",
              "           [-2.0357, -2.0357, -2.0357,  ..., -2.0357, -2.0357, -2.0357],\n",
              "           ...,\n",
              "           [-2.0357, -2.0357, -2.0357,  ..., -2.0357, -2.0357, -2.0357],\n",
              "           [-2.0357, -2.0357, -2.0357,  ..., -2.0357, -2.0357, -2.0357],\n",
              "           [-2.0357, -2.0357, -2.0357,  ..., -2.0357, -2.0357, -2.0357]],\n",
              " \n",
              "          [[-1.8044, -1.8044, -1.8044,  ..., -1.8044, -1.8044, -1.8044],\n",
              "           [-1.8044, -1.8044, -1.8044,  ..., -1.8044, -1.8044, -1.8044],\n",
              "           [-1.8044, -1.8044, -1.8044,  ..., -1.8044, -1.8044, -1.8044],\n",
              "           ...,\n",
              "           [-1.8044, -1.8044, -1.8044,  ..., -1.8044, -1.8044, -1.8044],\n",
              "           [-1.8044, -1.8044, -1.8044,  ..., -1.8044, -1.8044, -1.8044],\n",
              "           [-1.8044, -1.8044, -1.8044,  ..., -1.8044, -1.8044, -1.8044]]],\n",
              " \n",
              " \n",
              "         [[[-2.1179, -2.1179, -0.9877,  ..., -2.1179, -2.1179, -2.1179],\n",
              "           [-2.1179, -2.1179, -1.0048,  ..., -2.1179, -2.1179, -2.1179],\n",
              "           [-2.1179, -1.0390, -1.0048,  ..., -1.0048, -1.0048, -1.0048],\n",
              "           ...,\n",
              "           [-0.9020, -0.8849, -0.8849,  ..., -0.7993, -2.1179, -2.1179],\n",
              "           [-2.1179, -2.1179, -2.1179,  ..., -0.1999, -2.1179, -2.1179],\n",
              "           [-2.1179, -2.1179, -2.1179,  ...,  0.7077, -2.1179, -2.1179]],\n",
              " \n",
              "          [[-2.0357, -2.0357, -0.8803,  ..., -2.0357, -2.0357, -2.0357],\n",
              "           [-2.0357, -2.0357, -0.8978,  ..., -2.0357, -2.0357, -2.0357],\n",
              "           [-2.0357, -0.9328, -0.8978,  ..., -0.8978, -0.8978, -0.8978],\n",
              "           ...,\n",
              "           [-0.7927, -0.7752, -0.7752,  ..., -0.6877, -2.0357, -2.0357],\n",
              "           [-2.0357, -2.0357, -2.0357,  ..., -0.0749, -2.0357, -2.0357],\n",
              "           [-2.0357, -2.0357, -2.0357,  ...,  0.8529, -2.0357, -2.0357]],\n",
              " \n",
              "          [[-1.8044, -1.8044, -0.6541,  ..., -1.8044, -1.8044, -1.8044],\n",
              "           [-1.8044, -1.8044, -0.6715,  ..., -1.8044, -1.8044, -1.8044],\n",
              "           [-1.8044, -0.7064, -0.6715,  ..., -0.6715, -0.6715, -0.6715],\n",
              "           ...,\n",
              "           [-0.5670, -0.5495, -0.5495,  ..., -0.4624, -1.8044, -1.8044],\n",
              "           [-1.8044, -1.8044, -1.8044,  ...,  0.1476, -1.8044, -1.8044],\n",
              "           [-1.8044, -1.8044, -1.8044,  ...,  1.0714, -1.8044, -1.8044]]],\n",
              " \n",
              " \n",
              "         ...,\n",
              " \n",
              " \n",
              "         [[[-2.1179, -2.1179, -2.1179,  ..., -2.1179, -2.1179, -2.1179],\n",
              "           [-2.1179, -2.1179, -2.1179,  ..., -2.1179, -2.1179, -2.1179],\n",
              "           [-2.1179, -2.1179, -2.1179,  ..., -2.1179, -2.1179, -2.1179],\n",
              "           ...,\n",
              "           [-2.1179, -2.1179, -2.1179,  ..., -2.1179, -2.1179, -2.1179],\n",
              "           [-2.1179, -2.1179, -2.1179,  ..., -2.1179, -2.1179, -2.1179],\n",
              "           [-2.1179, -2.1179, -2.1179,  ..., -2.1179, -2.1179, -2.1179]],\n",
              " \n",
              "          [[-2.0357, -2.0357, -2.0357,  ..., -2.0357, -2.0357, -2.0357],\n",
              "           [-2.0357, -2.0357, -2.0357,  ..., -2.0357, -2.0357, -2.0357],\n",
              "           [-2.0357, -2.0357, -2.0357,  ..., -2.0357, -2.0357, -2.0357],\n",
              "           ...,\n",
              "           [-2.0357, -2.0357, -2.0357,  ..., -2.0357, -2.0357, -2.0357],\n",
              "           [-2.0357, -2.0357, -2.0357,  ..., -2.0357, -2.0357, -2.0357],\n",
              "           [-2.0357, -2.0357, -2.0357,  ..., -2.0357, -2.0357, -2.0357]],\n",
              " \n",
              "          [[-1.8044, -1.8044, -1.8044,  ..., -1.8044, -1.8044, -1.8044],\n",
              "           [-1.8044, -1.8044, -1.8044,  ..., -1.8044, -1.8044, -1.8044],\n",
              "           [-1.8044, -1.8044, -1.8044,  ..., -1.8044, -1.8044, -1.8044],\n",
              "           ...,\n",
              "           [-1.8044, -1.8044, -1.8044,  ..., -1.8044, -1.8044, -1.8044],\n",
              "           [-1.8044, -1.8044, -1.8044,  ..., -1.8044, -1.8044, -1.8044],\n",
              "           [-1.8044, -1.8044, -1.8044,  ..., -1.8044, -1.8044, -1.8044]]],\n",
              " \n",
              " \n",
              "         [[[-2.1179, -2.1179, -2.1179,  ..., -2.1179, -2.1179, -2.1179],\n",
              "           [-2.1179, -2.1179, -2.1179,  ..., -2.1179, -2.1179, -2.1179],\n",
              "           [-2.1179, -2.1179, -2.1179,  ..., -2.1179, -2.1179, -2.1179],\n",
              "           ...,\n",
              "           [-2.1179, -2.1179, -2.1179,  ..., -2.1179, -2.1179, -2.1179],\n",
              "           [-2.1179, -2.1179, -2.1179,  ..., -2.1179, -2.1179, -2.1179],\n",
              "           [-2.1179, -2.1179, -2.1179,  ..., -2.1179, -2.1179, -2.1179]],\n",
              " \n",
              "          [[-2.0357, -2.0357, -2.0357,  ..., -2.0357, -2.0357, -2.0357],\n",
              "           [-2.0357, -2.0357, -2.0357,  ..., -2.0357, -2.0357, -2.0357],\n",
              "           [-2.0357, -2.0357, -2.0357,  ..., -2.0357, -2.0357, -2.0357],\n",
              "           ...,\n",
              "           [-2.0357, -2.0357, -2.0357,  ..., -2.0357, -2.0357, -2.0357],\n",
              "           [-2.0357, -2.0357, -2.0357,  ..., -2.0357, -2.0357, -2.0357],\n",
              "           [-2.0357, -2.0357, -2.0357,  ..., -2.0357, -2.0357, -2.0357]],\n",
              " \n",
              "          [[-1.8044, -1.8044, -1.8044,  ..., -1.8044, -1.8044, -1.8044],\n",
              "           [-1.8044, -1.8044, -1.8044,  ..., -1.8044, -1.8044, -1.8044],\n",
              "           [-1.8044, -1.8044, -1.8044,  ..., -1.8044, -1.8044, -1.8044],\n",
              "           ...,\n",
              "           [-1.8044, -1.8044, -1.8044,  ..., -1.8044, -1.8044, -1.8044],\n",
              "           [-1.8044, -1.8044, -1.8044,  ..., -1.8044, -1.8044, -1.8044],\n",
              "           [-1.8044, -1.8044, -1.8044,  ..., -1.8044, -1.8044, -1.8044]]],\n",
              " \n",
              " \n",
              "         [[[-2.1179, -2.1179, -2.1179,  ..., -2.1179, -2.1179, -2.1179],\n",
              "           [-2.1179, -2.1179, -2.1179,  ..., -2.1179, -2.1179, -2.1179],\n",
              "           [-2.1179, -2.1179, -2.1179,  ..., -2.1179, -2.1179, -2.1179],\n",
              "           ...,\n",
              "           [-2.1179, -2.1179, -2.1179,  ..., -2.1179, -2.1179, -2.1179],\n",
              "           [-2.1179, -2.1179, -2.1179,  ..., -2.1179, -2.1179, -2.1179],\n",
              "           [-2.1179, -2.1179, -2.1179,  ..., -2.1179, -2.1179, -2.1179]],\n",
              " \n",
              "          [[-2.0357, -2.0357, -2.0357,  ..., -2.0357, -2.0357, -2.0357],\n",
              "           [-2.0357, -2.0357, -2.0357,  ..., -2.0357, -2.0357, -2.0357],\n",
              "           [-2.0357, -2.0357, -2.0357,  ..., -2.0357, -2.0357, -2.0357],\n",
              "           ...,\n",
              "           [-2.0357, -2.0357, -2.0357,  ..., -2.0357, -2.0357, -2.0357],\n",
              "           [-2.0357, -2.0357, -2.0357,  ..., -2.0357, -2.0357, -2.0357],\n",
              "           [-2.0357, -2.0357, -2.0357,  ..., -2.0357, -2.0357, -2.0357]],\n",
              " \n",
              "          [[-1.8044, -1.8044, -1.8044,  ..., -1.8044, -1.8044, -1.8044],\n",
              "           [-1.8044, -1.8044, -1.8044,  ..., -1.8044, -1.8044, -1.8044],\n",
              "           [-1.8044, -1.8044, -1.8044,  ..., -1.8044, -1.8044, -1.8044],\n",
              "           ...,\n",
              "           [-1.8044, -1.8044, -1.8044,  ..., -1.8044, -1.8044, -1.8044],\n",
              "           [-1.8044, -1.8044, -1.8044,  ..., -1.8044, -1.8044, -1.8044],\n",
              "           [-1.8044, -1.8044, -1.8044,  ..., -1.8044, -1.8044, -1.8044]]]]),\n",
              " tensor([0, 0, 0, 0, 0, 0, 0, 0, 0, 0, 0, 0, 0, 0, 0, 0, 0, 0, 0, 0, 0, 0, 0, 0,\n",
              "         0, 0, 0, 0, 0, 0, 0, 0])]"
            ]
          },
          "execution_count": 228,
          "metadata": {},
          "output_type": "execute_result"
        }
      ],
      "source": [
        "next(iter(train_img_dataloader))"
      ]
    }
  ],
  "metadata": {
    "colab": {
      "provenance": []
    },
    "kernelspec": {
      "display_name": "base",
      "language": "python",
      "name": "python3"
    },
    "language_info": {
      "name": "python",
      "version": "3.11.7"
    }
  },
  "nbformat": 4,
  "nbformat_minor": 0
}
