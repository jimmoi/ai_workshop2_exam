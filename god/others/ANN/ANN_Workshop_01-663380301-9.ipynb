{
  "cells": [
    {
      "cell_type": "code",
      "execution_count": 2,
      "metadata": {
        "id": "L2wll61q7JDw"
      },
      "outputs": [],
      "source": [
        "import numpy as np"
      ]
    },
    {
      "cell_type": "markdown",
      "metadata": {
        "id": "bAsb_Ih_7E_X"
      },
      "source": [
        "#McCulloch-Pitts"
      ]
    },
    {
      "cell_type": "markdown",
      "metadata": {
        "id": "IfoeG6_I7ME3"
      },
      "source": [
        "## dataset"
      ]
    },
    {
      "cell_type": "code",
      "execution_count": 3,
      "metadata": {
        "id": "T_sYxAfn7OFm"
      },
      "outputs": [],
      "source": [
        "X = np.array([\n",
        "        [0, 0, 0],\n",
        "        [0, 0, 1],\n",
        "        [0, 1, 0],\n",
        "        [0, 1, 1],\n",
        "        [1, 0, 0],\n",
        "        [1, 0, 1],\n",
        "        [1, 1, 0],\n",
        "        [1, 1, 1]])\n",
        "y_true = np.array([0, 0, 0, 1, 0, 0, 1, 1])"
      ]
    },
    {
      "cell_type": "markdown",
      "metadata": {
        "id": "EUjR09Lq7Sw2"
      },
      "source": [
        "### Case 1"
      ]
    },
    {
      "cell_type": "code",
      "execution_count": 4,
      "metadata": {
        "id": "pNDnkqM27UKQ"
      },
      "outputs": [
        {
          "data": {
            "text/plain": [
              "array([0, 0, 0, 1, 0, 0, 1, 1])"
            ]
          },
          "execution_count": 4,
          "metadata": {},
          "output_type": "execute_result"
        }
      ],
      "source": [
        "# Example\n",
        "W1, W2, W3 = 0.125,0.625,0.125\n",
        "threshold = 0.7\n",
        "\n",
        "# X[:,0].dot(W1) + X[:,1].dot(W2) + X[:,2].dot(W3)\n",
        "\n",
        "((X[:,0]*W1 + X[:,1]*W2 + X[:,2]*W3) >= threshold).astype(int)\n",
        "\n"
      ]
    },
    {
      "cell_type": "markdown",
      "metadata": {
        "id": "8LvEkLsh7aGo"
      },
      "source": [
        "### Case 2"
      ]
    },
    {
      "cell_type": "code",
      "execution_count": 5,
      "metadata": {
        "id": "B3c5zK4M7cSX"
      },
      "outputs": [
        {
          "data": {
            "text/plain": [
              "array([0, 0, 0, 1, 0, 0, 1, 1])"
            ]
          },
          "execution_count": 5,
          "metadata": {},
          "output_type": "execute_result"
        }
      ],
      "source": [
        "# Code\n",
        "W = np.array([0.125,0.625,0.125])\n",
        "threshold = 0.7\n",
        "\n",
        "((X.dot(W)) >= threshold).astype(int)\n"
      ]
    },
    {
      "cell_type": "markdown",
      "metadata": {
        "id": "LJBYGPSR7edm"
      },
      "source": [
        "### Case 3"
      ]
    },
    {
      "cell_type": "code",
      "execution_count": 6,
      "metadata": {
        "id": "uGdZOoDT7feQ"
      },
      "outputs": [
        {
          "data": {
            "text/plain": [
              "array([0, 0, 0, 1, 0, 0, 1, 1])"
            ]
          },
          "execution_count": 6,
          "metadata": {},
          "output_type": "execute_result"
        }
      ],
      "source": [
        "# CODE\n",
        "class McCulloch_Pitts:\n",
        "    def __init__(self, W = np.array([0.125,0.625,0.125])):\n",
        "        self.threshold = 0.7\n",
        "        self.W = W\n",
        "        \n",
        "    def fit(self, X, y):\n",
        "        pass\n",
        "        \n",
        "    def predict(self, X):\n",
        "        return ((X.dot(W)) >= threshold).astype(int)\n",
        "\n",
        "\n",
        "\n",
        "\n",
        "test = McCulloch_Pitts()\n",
        "test.predict(X)\n"
      ]
    },
    {
      "cell_type": "markdown",
      "metadata": {
        "id": "Zk4_1Y7q7y1-"
      },
      "source": [
        "# Perceptron"
      ]
    },
    {
      "cell_type": "markdown",
      "metadata": {
        "id": "PuM5NZfs72s2"
      },
      "source": [
        "## dataset"
      ]
    },
    {
      "cell_type": "code",
      "execution_count": 37,
      "metadata": {
        "id": "fSigxVB5781v"
      },
      "outputs": [],
      "source": [
        "X = np.array([\n",
        "        [ 1, -1, -1, -1],\n",
        "        [ 1, -1, -1,  1],\n",
        "        [ 1, -1,  1, -1],\n",
        "        [ 1, -1,  1,  1],\n",
        "        [ 1,  1, -1, -1],\n",
        "        [ 1,  1, -1,  1],\n",
        "        [ 1,  1,  1, -1],\n",
        "        [ 1,  1,  1,  1]])\n",
        "y_true = np.array([-1,  1,  1,  1, -1,  1,  1,  1])"
      ]
    },
    {
      "cell_type": "markdown",
      "metadata": {
        "id": "TQgHFa9V7-jO"
      },
      "source": [
        "### Case 1"
      ]
    },
    {
      "cell_type": "code",
      "execution_count": 38,
      "metadata": {
        "id": "xkJoq3OY7_tX"
      },
      "outputs": [
        {
          "name": "stdout",
          "output_type": "stream",
          "text": [
            "Output: [-1  1  1  1 -1  1  1  1]\n"
          ]
        }
      ],
      "source": [
        "# CODE\n",
        "n_iter = 1\n",
        "eta = 0.1\n",
        "W0, W1, W2, W3 = 0.2, -0.2, 0.2, 0.2\n",
        "\n",
        "for _ in range(n_iter):\n",
        "    for x, y in zip(X,y_true):\n",
        "        y_hat = 1 if x[0]*W0+x[1]*W1+x[2]*W2+x[3]*W3 >= 0 else -1\n",
        "        W0 = W0+(eta*(y-y_hat))*x[0]\n",
        "        W1 = W1+(eta*(y-y_hat))*x[1]\n",
        "        W2 = W2+(eta*(y-y_hat))*x[2]\n",
        "        W3 = W3+(eta*(y-y_hat))*x[3]\n",
        "\n",
        "\n",
        "y_pred = np.array([1 if x[0]*W0+x[1]*W1+x[2]*W2+x[3]*W3 >= 0 else -1 for x in X])\n",
        "print(f\"Output: {y_pred}\")"
      ]
    },
    {
      "cell_type": "markdown",
      "metadata": {
        "id": "64gKhfjy8K8n"
      },
      "source": [
        "### Case 2"
      ]
    },
    {
      "cell_type": "code",
      "execution_count": 39,
      "metadata": {
        "id": "HjsEm1OV8Mfh"
      },
      "outputs": [
        {
          "name": "stdout",
          "output_type": "stream",
          "text": [
            "Output: [-1  1  1  1 -1  1  1  1]\n"
          ]
        }
      ],
      "source": [
        "n_iter = 1\n",
        "eta = 0.1\n",
        "W = np.array([0.2, -0.2, 0.2, 0.2])\n",
        "\n",
        "for _ in range(n_iter):\n",
        "    for x, y in zip(X,y_true):\n",
        "        y_hat = 1 if x.dot(W) >= 0 else -1\n",
        "        W = W + eta*(y-y_hat)*x\n",
        "\n",
        "y_pred = np.array([1 if x.dot(W) >= 0 else -1 for x in X])\n",
        "print(f\"Output: {y_pred}\")"
      ]
    },
    {
      "cell_type": "markdown",
      "metadata": {
        "id": "CCZrVtiB8SBO"
      },
      "source": [
        "### Case 3"
      ]
    },
    {
      "cell_type": "code",
      "execution_count": 40,
      "metadata": {
        "id": "ORu6RKyd8TJW"
      },
      "outputs": [
        {
          "data": {
            "text/plain": [
              "array([-1,  1,  1,  1, -1,  1,  1,  1])"
            ]
          },
          "execution_count": 40,
          "metadata": {},
          "output_type": "execute_result"
        }
      ],
      "source": [
        "# CODE\n",
        "class Perceptron:\n",
        "    def __init__(self, \n",
        "                 n_iter = 1, \n",
        "                 eta = 0.1, \n",
        "                 W = np.array([0.2, -0.2, 0.2, 0.2])\n",
        "                 ):\n",
        "        \n",
        "        self.n_iter = n_iter\n",
        "        self.eta = eta\n",
        "        self.W = W\n",
        "        \n",
        "    def fit(self, X, y):\n",
        "        for _ in range(self.n_iter):\n",
        "            for x, y in zip(X,y_true):\n",
        "                y_hat = 1 if x.dot(self.W) >= 0 else -1\n",
        "                self.W = self.W + self.eta*(y-y_hat)*x\n",
        "                \n",
        "    def predict(self, X):\n",
        "        return np.array([1 if x.dot(self.W) >= 0 else -1 for x in X])\n",
        "\n",
        "test = Perceptron()\n",
        "test.fit(X,y_true)\n",
        "test.predict(X)"
      ]
    },
    {
      "cell_type": "markdown",
      "metadata": {
        "id": "KXe06Xjc8ggn"
      },
      "source": [
        "# ADALINE"
      ]
    },
    {
      "cell_type": "markdown",
      "metadata": {
        "id": "JITVgiAR8jMu"
      },
      "source": [
        "## Dataset"
      ]
    },
    {
      "cell_type": "code",
      "execution_count": 41,
      "metadata": {
        "id": "mglkQHbJ8kfu"
      },
      "outputs": [],
      "source": [
        "X = np.array([\n",
        "        [ 1, -1, -1, -1],\n",
        "        [ 1, -1, -1,  1],\n",
        "        [ 1, -1,  1, -1],\n",
        "        [ 1, -1,  1,  1],\n",
        "        [ 1,  1, -1, -1],\n",
        "        [ 1,  1, -1,  1],\n",
        "        [ 1,  1,  1, -1],\n",
        "        [ 1,  1,  1,  1]])\n",
        "y_true = np.array([-1,  1,  1,  1, -1,  1,  1,  1])"
      ]
    },
    {
      "cell_type": "markdown",
      "metadata": {
        "id": "Jp5wljTC8l8v"
      },
      "source": [
        "### Case 1"
      ]
    },
    {
      "cell_type": "code",
      "execution_count": 49,
      "metadata": {
        "id": "HlA3cVom8nGY"
      },
      "outputs": [
        {
          "name": "stdout",
          "output_type": "stream",
          "text": [
            "Output: [1 1 1 1 1 1 1 1]\n"
          ]
        }
      ],
      "source": [
        "n_iter = 1\n",
        "eta = 0.1\n",
        "W0, W1, W2, W3 = 0., 0., 0., 0.\n",
        "for _ in range(n_iter):\n",
        "    for x, y in zip(X,y_true):\n",
        "        u = x[0]*W0+x[1]*W1+x[2]*W2+x[3]*W3\n",
        "        W0 = W0-(eta*2*(u-y))*x[0]\n",
        "        W1 = W1-(eta*2*(u-y))*x[1]\n",
        "        W2 = W2-(eta*2*(u-y))*x[2]\n",
        "        W3 = W3-(eta*2*(u-y))*x[3]\n",
        "\n",
        "y_pred = np.array([1 if x[0]*W0+x[1]*W1+x[2]*W2+x[3]*W3 >= 0 else -1 for x in X])\n",
        "print(f\"Output: {y_pred}\")"
      ]
    },
    {
      "cell_type": "markdown",
      "metadata": {
        "id": "y7LsPbq18nfu"
      },
      "source": [
        "### Case 2"
      ]
    },
    {
      "cell_type": "code",
      "execution_count": 50,
      "metadata": {
        "id": "Us_H1MSb8o5O"
      },
      "outputs": [
        {
          "name": "stdout",
          "output_type": "stream",
          "text": [
            "Output: [1 1 1 1 1 1 1 1]\n"
          ]
        }
      ],
      "source": [
        "n_iter = 1\n",
        "eta = 0.1\n",
        "W = np.array([0., 0., 0., 0.])\n",
        "\n",
        "for _ in range(n_iter):\n",
        "    for x, y in zip(X,y_true):\n",
        "        u = x.dot(W)\n",
        "        W = W-(eta*2*(u-y))*x\n",
        "\n",
        "y_pred = np.array([1 if x.dot(W) >= 0 else -1 for x in X])\n",
        "print(f\"Output: {y_pred}\")"
      ]
    },
    {
      "cell_type": "markdown",
      "metadata": {
        "id": "SiL21qPZ8pKA"
      },
      "source": [
        "### Case 3"
      ]
    },
    {
      "cell_type": "code",
      "execution_count": 51,
      "metadata": {
        "id": "NE1GEK6E8qNO"
      },
      "outputs": [
        {
          "data": {
            "text/plain": [
              "array([1, 1, 1, 1, 1, 1, 1, 1])"
            ]
          },
          "execution_count": 51,
          "metadata": {},
          "output_type": "execute_result"
        }
      ],
      "source": [
        "# CODE\n",
        "class ADALINE:\n",
        "    def __init__(self, \n",
        "                 n_iter = 1, \n",
        "                 eta = 0.1, \n",
        "                 W = np.array([0.2, -0.2, 0.2, 0.2])\n",
        "                 ):\n",
        "        \n",
        "        self.n_iter = n_iter\n",
        "        self.eta = eta\n",
        "        self.W = W\n",
        "        \n",
        "    def fit(self, X, y):\n",
        "        for _ in range(self.n_iter):\n",
        "            for x, y in zip(X,y_true):\n",
        "                u = x.dot(self.W)\n",
        "                self.W = self.W-(self.eta*2*(u-y))*x\n",
        "                \n",
        "    def predict(self, X):\n",
        "        return np.array([1 if x.dot(self.W) >= 0 else -1 for x in X])\n",
        "    \n",
        "test = ADALINE()\n",
        "test.fit(X,y_true)\n",
        "test.predict(X)\n"
      ]
    }
  ],
  "metadata": {
    "colab": {
      "provenance": []
    },
    "kernelspec": {
      "display_name": "Python 3",
      "name": "python3"
    },
    "language_info": {
      "codemirror_mode": {
        "name": "ipython",
        "version": 3
      },
      "file_extension": ".py",
      "mimetype": "text/x-python",
      "name": "python",
      "nbconvert_exporter": "python",
      "pygments_lexer": "ipython3",
      "version": "3.11.7"
    }
  },
  "nbformat": 4,
  "nbformat_minor": 0
}
