{
  "cells": [
    {
      "cell_type": "code",
      "execution_count": 1,
      "metadata": {
        "id": "8gdJceMlnVN9"
      },
      "outputs": [],
      "source": [
        "import numpy as np\n",
        "import matplotlib.pyplot as plt\n",
        "\n",
        "X = np.array([\n",
        "    [0, 0],\n",
        "    [0, 1],\n",
        "    [1, 0],\n",
        "    [1, 1]\n",
        "])\n",
        "\n",
        "Y = np.array([\n",
        "    [0],\n",
        "    [1],\n",
        "    [1],\n",
        "    [0]\n",
        "])\n",
        "\n",
        "class MLP:\n",
        "    def __init__(self, eta=0.01, epoch=10000):\n",
        "        self.eta =eta\n",
        "        self.epoch = epoch\n",
        "        self.wi = np.array([[1.0, 2.0],\n",
        "                            [1.0, 2.0],\n",
        "                            [-2.0, -1.0]])\n",
        "        self.wo = np.array([2.0, -1.0, 2.0])\n",
        "        self.error_square = np.array([])\n",
        "        # self.error = []\n",
        "\n",
        "    def sigmoid(self, x):\n",
        "        return 1/(1 + np.exp(-x))\n",
        "\n",
        "    def fit(self, X, Y):\n",
        "        X = np.insert(X,0,1,axis=1)\n",
        "        for i in range(self.epoch):\n",
        "            sub_error = np.array([])\n",
        "            for x,y in zip(X,Y):\n",
        "                        #Feed Forward\n",
        "                u = x @ self.wi\n",
        "                H = np.hstack([1, self.sigmoid(u)])\n",
        "                Y_hat = self.sigmoid(H @ self.wo)\n",
        "                        #Back Propagation\n",
        "                e = y-Y_hat\n",
        "                delta_o = e * Y_hat * (1 - Y_hat)\n",
        "                self.wo += self.eta * delta_o * H\n",
        "                \n",
        "                delta_h = np.outer(x, delta_o * (self.wo[1:]) * (H*(1-H))[1:])\n",
        "                self.wi += self.eta * delta_h\n",
        "    \n",
        "                sub_error = np.append(sub_error,e**2)\n",
        "            self.error_square = np.append(self.error_square, sub_error.mean())\n",
        "            if len(self.error_square) > 2 and self.error_square[-1] > self.error_square[-2]:\n",
        "                print('round :', i)\n",
        "                break\n",
        "\n",
        "            \n",
        "    def predict(self, X):\n",
        "        predictions = []\n",
        "        X = np.insert(X,0,1,axis=1)\n",
        "        for x in X:\n",
        "            H = np.hstack([1, self.sigmoid(x @ self.wi)])\n",
        "            Y_hat = self.sigmoid(H @ self.wo)\n",
        "            predictions.append(Y_hat)\n",
        "        return predictions\n",
        "    \n",
        "    def predict(self, X):\n",
        "        predictions = []\n",
        "        X = np.insert(X,0,1,axis=1)\n",
        "        H = self.sigmoid(X@self.wi)\n",
        "        H = np.insert(H,0,1,axis=1)\n",
        "        Y_hat = self.sigmoid(H @ self.wo)\n",
        "        return Y_hat\n",
        "\n",
        "\n",
        "\n"
      ]
    },
    {
      "cell_type": "code",
      "execution_count": 3,
      "metadata": {},
      "outputs": [
        {
          "ename": "KeyboardInterrupt",
          "evalue": "",
          "output_type": "error",
          "traceback": [
            "\u001b[0;31m---------------------------------------------------------------------------\u001b[0m",
            "\u001b[0;31mKeyboardInterrupt\u001b[0m                         Traceback (most recent call last)",
            "Cell \u001b[0;32mIn[3], line 2\u001b[0m\n\u001b[1;32m      1\u001b[0m model \u001b[38;5;241m=\u001b[39m MLP(eta\u001b[38;5;241m=\u001b[39m\u001b[38;5;241m0.001\u001b[39m, epoch\u001b[38;5;241m=\u001b[39m\u001b[38;5;241m10000000\u001b[39m)\n\u001b[0;32m----> 2\u001b[0m model\u001b[38;5;241m.\u001b[39mfit(X, Y)\n",
            "Cell \u001b[0;32mIn[1], line 50\u001b[0m, in \u001b[0;36mMLP.fit\u001b[0;34m(self, X, Y)\u001b[0m\n\u001b[1;32m     47\u001b[0m     \u001b[38;5;28mself\u001b[39m\u001b[38;5;241m.\u001b[39mwi \u001b[38;5;241m+\u001b[39m\u001b[38;5;241m=\u001b[39m \u001b[38;5;28mself\u001b[39m\u001b[38;5;241m.\u001b[39meta \u001b[38;5;241m*\u001b[39m delta_h\n\u001b[1;32m     49\u001b[0m     sub_error \u001b[38;5;241m=\u001b[39m np\u001b[38;5;241m.\u001b[39mappend(sub_error,e\u001b[38;5;241m*\u001b[39m\u001b[38;5;241m*\u001b[39m\u001b[38;5;241m2\u001b[39m)\n\u001b[0;32m---> 50\u001b[0m \u001b[38;5;28mself\u001b[39m\u001b[38;5;241m.\u001b[39merror_square \u001b[38;5;241m=\u001b[39m np\u001b[38;5;241m.\u001b[39mappend(\u001b[38;5;28mself\u001b[39m\u001b[38;5;241m.\u001b[39merror_square, sub_error\u001b[38;5;241m.\u001b[39mmean())\n\u001b[1;32m     51\u001b[0m \u001b[38;5;28;01mif\u001b[39;00m \u001b[38;5;28mlen\u001b[39m(\u001b[38;5;28mself\u001b[39m\u001b[38;5;241m.\u001b[39merror_square) \u001b[38;5;241m>\u001b[39m \u001b[38;5;241m2\u001b[39m \u001b[38;5;129;01mand\u001b[39;00m \u001b[38;5;28mself\u001b[39m\u001b[38;5;241m.\u001b[39merror_square[\u001b[38;5;241m-\u001b[39m\u001b[38;5;241m1\u001b[39m] \u001b[38;5;241m>\u001b[39m \u001b[38;5;28mself\u001b[39m\u001b[38;5;241m.\u001b[39merror_square[\u001b[38;5;241m-\u001b[39m\u001b[38;5;241m2\u001b[39m]:\n\u001b[1;32m     52\u001b[0m     \u001b[38;5;28mprint\u001b[39m(\u001b[38;5;124m'\u001b[39m\u001b[38;5;124mround :\u001b[39m\u001b[38;5;124m'\u001b[39m, i)\n",
            "File \u001b[0;32m~/anaconda3/lib/python3.12/site-packages/numpy/lib/function_base.py:5618\u001b[0m, in \u001b[0;36mappend\u001b[0;34m(arr, values, axis)\u001b[0m\n\u001b[1;32m   5616\u001b[0m     values \u001b[38;5;241m=\u001b[39m ravel(values)\n\u001b[1;32m   5617\u001b[0m     axis \u001b[38;5;241m=\u001b[39m arr\u001b[38;5;241m.\u001b[39mndim\u001b[38;5;241m-\u001b[39m\u001b[38;5;241m1\u001b[39m\n\u001b[0;32m-> 5618\u001b[0m \u001b[38;5;28;01mreturn\u001b[39;00m concatenate((arr, values), axis\u001b[38;5;241m=\u001b[39maxis)\n",
            "\u001b[0;31mKeyboardInterrupt\u001b[0m: "
          ]
        }
      ],
      "source": [
        "model = MLP(eta=0.001, epoch=10000000)\n",
        "model.fit(X, Y)"
      ]
    },
    {
      "cell_type": "code",
      "execution_count": null,
      "metadata": {},
      "outputs": [],
      "source": [
        "model.predict(X)"
      ]
    },
    {
      "cell_type": "code",
      "execution_count": 3,
      "metadata": {},
      "outputs": [
        {
          "data": {
            "image/png": "[encoded data removed]",
            "text/plain": [
              "<Figure size 640x480 with 1 Axes>"
            ]
          },
          "metadata": {},
          "output_type": "display_data"
        },
        {
          "name": "stdout",
          "output_type": "stream",
          "text": [
            "Final predictions:\n",
            "[0.02859594 0.96792733 0.97262971 0.02535725]\n",
            "[[ 3.1976504  -2.70180887]\n",
            " [ 6.33018346  4.98333523]\n",
            " [-6.24075913 -5.18841916]]\n",
            "[ 3.77593144 -8.17439782  8.78221695]\n"
          ]
        }
      ],
      "source": [
        "# Plotting training error over epochs\n",
        "plt.plot(model.error_square)\n",
        "\n",
        "plt.plot(np.linspace(0,100001,10), np.zeros(10))\n",
        "plt.xlabel('Epochs')\n",
        "plt.ylabel('Error (MSE)')\n",
        "plt.title('Training Error of MLP')\n",
        "plt.show()\n",
        "\n",
        "print(\"Final predictions:\")\n",
        "print(model.predict(X))\n",
        "\n",
        "print(model.wi)\n",
        "\n",
        "print(model.wo)"
      ]
    },
    {
      "cell_type": "code",
      "execution_count": 4,
      "metadata": {},
      "outputs": [
        {
          "data": {
            "text/plain": [
              "0.0008096609489183764"
            ]
          },
          "execution_count": 4,
          "metadata": {},
          "output_type": "execute_result"
        }
      ],
      "source": [
        "model.error_square.min()"
      ]
    }
  ],
  "metadata": {
    "colab": {
      "provenance": []
    },
    "kernelspec": {
      "display_name": "Python 3",
      "name": "python3"
    },
    "language_info": {
      "codemirror_mode": {
        "name": "ipython",
        "version": 3
      },
      "file_extension": ".py",
      "mimetype": "text/x-python",
      "name": "python",
      "nbconvert_exporter": "python",
      "pygments_lexer": "ipython3",
      "version": "3.12.4"
    }
  },
  "nbformat": 4,
  "nbformat_minor": 0
}
