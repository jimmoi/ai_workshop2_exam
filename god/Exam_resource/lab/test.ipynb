{
 "cells": [
  {
   "cell_type": "code",
   "execution_count": null,
   "metadata": {},
   "outputs": [],
   "source": [
    "size=5\n",
    "stack = size * [None]\n",
    "top=-1\n"
   ]
  },
  {
   "cell_type": "code",
   "execution_count": null,
   "metadata": {},
   "outputs": [],
   "source": [
    "def push(data):\n",
    "    global top, stack\n",
    "    if top >= size-1:\n",
    "        raise Exception('Stact Overflow')\n",
    "    top+=1\n",
    "    stack[top] = data\n",
    "    \n",
    "def pop():\n",
    "    global top, stack\n",
    "    if top <= -1:\n",
    "        raise Exception('Stack Underflow')\n",
    "    data = stack[top]\n",
    "    stack[top] = None\n",
    "    top-=1\n",
    "    return data"
   ]
  },
  {
   "cell_type": "code",
   "execution_count": null,
   "metadata": {},
   "outputs": [],
   "source": [
    "pop()"
   ]
  },
  {
   "cell_type": "code",
   "execution_count": null,
   "metadata": {},
   "outputs": [],
   "source": [
    "push(1)"
   ]
  },
  {
   "cell_type": "code",
   "execution_count": null,
   "metadata": {},
   "outputs": [],
   "source": [
    "stack"
   ]
  },
  {
   "cell_type": "code",
   "execution_count": 117,
   "metadata": {},
   "outputs": [],
   "source": [
    "def Enqueue(data):\n",
    "    global Front, Rear, Queue\n",
    "    if Rear >= size-1:\n",
    "        raise Exception('Queue Overflow')\n",
    "    if Front == -1:\n",
    "        Front += 1\n",
    "    Rear += 1\n",
    "    Queue[Rear] = data\n",
    "    \n",
    "def Dequeue():\n",
    "    global Front, Rear, Queue\n",
    "    if Front == -1:\n",
    "        raise Exception('Queue Underflow')\n",
    "    data = Queue[Front]\n",
    "    Queue[Front] = None\n",
    "    if Front == Rear:\n",
    "        Front = Rear = -1\n",
    "    else:\n",
    "        Front += 1\n",
    "    return data"
   ]
  },
  {
   "cell_type": "code",
   "execution_count": 118,
   "metadata": {},
   "outputs": [],
   "source": [
    "size = 5\n",
    "Queue = size*[None]\n",
    "Front = Rear = -1\n"
   ]
  },
  {
   "cell_type": "code",
   "execution_count": 119,
   "metadata": {},
   "outputs": [
    {
     "data": {
      "text/plain": [
       "[None, None, None, None, None]"
      ]
     },
     "execution_count": 119,
     "metadata": {},
     "output_type": "execute_result"
    }
   ],
   "source": [
    "Queue"
   ]
  },
  {
   "cell_type": "code",
   "execution_count": 120,
   "metadata": {},
   "outputs": [],
   "source": [
    "Enqueue(1)\n",
    "Enqueue(1)\n",
    "Enqueue(1)\n",
    "Enqueue(1)\n",
    "Enqueue(1)"
   ]
  },
  {
   "cell_type": "code",
   "execution_count": 126,
   "metadata": {},
   "outputs": [
    {
     "ename": "Exception",
     "evalue": "Queue Underflow",
     "output_type": "error",
     "traceback": [
      "\u001b[0;31m---------------------------------------------------------------------------\u001b[0m",
      "\u001b[0;31mException\u001b[0m                                 Traceback (most recent call last)",
      "Cell \u001b[0;32mIn[126], line 1\u001b[0m\n\u001b[0;32m----> 1\u001b[0m Dequeue()\n",
      "Cell \u001b[0;32mIn[117], line 13\u001b[0m, in \u001b[0;36mDequeue\u001b[0;34m()\u001b[0m\n\u001b[1;32m     11\u001b[0m \u001b[38;5;28;01mglobal\u001b[39;00m Front, Rear, Queue\n\u001b[1;32m     12\u001b[0m \u001b[38;5;28;01mif\u001b[39;00m Front \u001b[38;5;241m==\u001b[39m \u001b[38;5;241m-\u001b[39m\u001b[38;5;241m1\u001b[39m:\n\u001b[0;32m---> 13\u001b[0m     \u001b[38;5;28;01mraise\u001b[39;00m \u001b[38;5;167;01mException\u001b[39;00m(\u001b[38;5;124m'\u001b[39m\u001b[38;5;124mQueue Underflow\u001b[39m\u001b[38;5;124m'\u001b[39m)\n\u001b[1;32m     14\u001b[0m data \u001b[38;5;241m=\u001b[39m Queue[Front]\n\u001b[1;32m     15\u001b[0m Queue[Front] \u001b[38;5;241m=\u001b[39m \u001b[38;5;28;01mNone\u001b[39;00m\n",
      "\u001b[0;31mException\u001b[0m: Queue Underflow"
     ]
    }
   ],
   "source": [
    "Dequeue()"
   ]
  },
  {
   "cell_type": "code",
   "execution_count": 128,
   "metadata": {},
   "outputs": [],
   "source": [
    "class Node:\n",
    "    def __init__(self, data):\n",
    "        self.data = data\n",
    "        self.next = None       "
   ]
  },
  {
   "cell_type": "code",
   "execution_count": 171,
   "metadata": {},
   "outputs": [],
   "source": [
    "def Push(data):\n",
    "    global head, top\n",
    "    if head == None:\n",
    "        head = top = Node(data)\n",
    "    else:\n",
    "        top.next = Node(data)\n",
    "        top = top.next\n",
    "        \n",
    "def Pop():\n",
    "    global head, top\n",
    "    curr = head\n",
    "    if top == None:\n",
    "        raise Exception('Stack linklist underflow')\n",
    "    else:\n",
    "        if curr == top:\n",
    "            data = top.data\n",
    "            top = None\n",
    "            return data\n",
    "        else:\n",
    "            while curr != None:\n",
    "                if curr.next == top:\n",
    "                    data = top.data\n",
    "                    curr.next = None\n",
    "                    top = curr\n",
    "                    return data\n",
    "                curr = curr.next"
   ]
  },
  {
   "cell_type": "code",
   "execution_count": 172,
   "metadata": {},
   "outputs": [],
   "source": [
    "head = None\n",
    "top = None\n"
   ]
  },
  {
   "cell_type": "code",
   "execution_count": 175,
   "metadata": {},
   "outputs": [
    {
     "data": {
      "text/plain": [
       "10"
      ]
     },
     "execution_count": 175,
     "metadata": {},
     "output_type": "execute_result"
    }
   ],
   "source": [
    "head.data"
   ]
  },
  {
   "cell_type": "code",
   "execution_count": 182,
   "metadata": {},
   "outputs": [
    {
     "ename": "AttributeError",
     "evalue": "'NoneType' object has no attribute 'data'",
     "output_type": "error",
     "traceback": [
      "\u001b[0;31m---------------------------------------------------------------------------\u001b[0m",
      "\u001b[0;31mAttributeError\u001b[0m                            Traceback (most recent call last)",
      "Cell \u001b[0;32mIn[182], line 1\u001b[0m\n\u001b[0;32m----> 1\u001b[0m top\u001b[38;5;241m.\u001b[39mdata\n",
      "\u001b[0;31mAttributeError\u001b[0m: 'NoneType' object has no attribute 'data'"
     ]
    }
   ],
   "source": [
    "top.data"
   ]
  },
  {
   "cell_type": "code",
   "execution_count": 174,
   "metadata": {},
   "outputs": [],
   "source": [
    "Push(10)\n",
    "Push(11)\n",
    "Push(12)"
   ]
  },
  {
   "cell_type": "code",
   "execution_count": 183,
   "metadata": {},
   "outputs": [
    {
     "ename": "Exception",
     "evalue": "Stack linklist underflow",
     "output_type": "error",
     "traceback": [
      "\u001b[0;31m---------------------------------------------------------------------------\u001b[0m",
      "\u001b[0;31mException\u001b[0m                                 Traceback (most recent call last)",
      "Cell \u001b[0;32mIn[183], line 1\u001b[0m\n\u001b[0;32m----> 1\u001b[0m Pop()\n",
      "Cell \u001b[0;32mIn[171], line 13\u001b[0m, in \u001b[0;36mPop\u001b[0;34m()\u001b[0m\n\u001b[1;32m     11\u001b[0m curr \u001b[38;5;241m=\u001b[39m head\n\u001b[1;32m     12\u001b[0m \u001b[38;5;28;01mif\u001b[39;00m top \u001b[38;5;241m==\u001b[39m \u001b[38;5;28;01mNone\u001b[39;00m:\n\u001b[0;32m---> 13\u001b[0m     \u001b[38;5;28;01mraise\u001b[39;00m \u001b[38;5;167;01mException\u001b[39;00m(\u001b[38;5;124m'\u001b[39m\u001b[38;5;124mStack linklist underflow\u001b[39m\u001b[38;5;124m'\u001b[39m)\n\u001b[1;32m     14\u001b[0m \u001b[38;5;28;01melse\u001b[39;00m:\n\u001b[1;32m     15\u001b[0m     \u001b[38;5;28;01mif\u001b[39;00m curr \u001b[38;5;241m==\u001b[39m top:\n",
      "\u001b[0;31mException\u001b[0m: Stack linklist underflow"
     ]
    }
   ],
   "source": [
    "Pop()"
   ]
  },
  {
   "cell_type": "code",
   "execution_count": 200,
   "metadata": {},
   "outputs": [],
   "source": [
    "def Enqueue(data):\n",
    "    global head\n",
    "    temp = Node(data)\n",
    "    temp.next = head\n",
    "    head = temp\n",
    "    \n",
    "def Dequeue():\n",
    "    global head\n",
    "    curr = head\n",
    "    if curr == None:\n",
    "        raise Exception('Queue linklist underflow')\n",
    "    else:\n",
    "        data = curr.data\n",
    "        head = curr.next\n",
    "        return data"
   ]
  },
  {
   "cell_type": "code",
   "execution_count": 201,
   "metadata": {},
   "outputs": [],
   "source": [
    "head = None"
   ]
  },
  {
   "cell_type": "code",
   "execution_count": 204,
   "metadata": {},
   "outputs": [
    {
     "data": {
      "text/plain": [
       "3"
      ]
     },
     "execution_count": 204,
     "metadata": {},
     "output_type": "execute_result"
    }
   ],
   "source": [
    "head.data"
   ]
  },
  {
   "cell_type": "code",
   "execution_count": 203,
   "metadata": {},
   "outputs": [],
   "source": [
    "Enqueue(1)\n",
    "Enqueue(2)\n",
    "Enqueue(3)"
   ]
  },
  {
   "cell_type": "code",
   "execution_count": 208,
   "metadata": {},
   "outputs": [
    {
     "ename": "Exception",
     "evalue": "Queue linklist underflow",
     "output_type": "error",
     "traceback": [
      "\u001b[0;31m---------------------------------------------------------------------------\u001b[0m",
      "\u001b[0;31mException\u001b[0m                                 Traceback (most recent call last)",
      "Cell \u001b[0;32mIn[208], line 1\u001b[0m\n\u001b[0;32m----> 1\u001b[0m Dequeue()\n",
      "Cell \u001b[0;32mIn[200], line 11\u001b[0m, in \u001b[0;36mDequeue\u001b[0;34m()\u001b[0m\n\u001b[1;32m      9\u001b[0m curr \u001b[38;5;241m=\u001b[39m head\n\u001b[1;32m     10\u001b[0m \u001b[38;5;28;01mif\u001b[39;00m curr \u001b[38;5;241m==\u001b[39m \u001b[38;5;28;01mNone\u001b[39;00m:\n\u001b[0;32m---> 11\u001b[0m     \u001b[38;5;28;01mraise\u001b[39;00m \u001b[38;5;167;01mException\u001b[39;00m(\u001b[38;5;124m'\u001b[39m\u001b[38;5;124mQueue linklist underflow\u001b[39m\u001b[38;5;124m'\u001b[39m)\n\u001b[1;32m     12\u001b[0m \u001b[38;5;28;01melse\u001b[39;00m:\n\u001b[1;32m     13\u001b[0m     data \u001b[38;5;241m=\u001b[39m curr\u001b[38;5;241m.\u001b[39mdata\n",
      "\u001b[0;31mException\u001b[0m: Queue linklist underflow"
     ]
    }
   ],
   "source": [
    "Dequeue()"
   ]
  },
  {
   "cell_type": "code",
   "execution_count": 9,
   "metadata": {},
   "outputs": [
    {
     "data": {
      "text/plain": [
       "[1, 2, 3, 4, 5, '1', 2, 'x']"
      ]
     },
     "execution_count": 9,
     "metadata": {},
     "output_type": "execute_result"
    }
   ],
   "source": [
    "test = [1,2,3,4,5]\n",
    "test.extend(['1', 2, 'x'])\n",
    "# test.append(1,2)\n",
    "test"
   ]
  }
 ],
 "metadata": {
  "kernelspec": {
   "display_name": "base",
   "language": "python",
   "name": "python3"
  },
  "language_info": {
   "codemirror_mode": {
    "name": "ipython",
    "version": 3
   },
   "file_extension": ".py",
   "mimetype": "text/x-python",
   "name": "python",
   "nbconvert_exporter": "python",
   "pygments_lexer": "ipython3",
   "version": "3.11.7"
  }
 },
 "nbformat": 4,
 "nbformat_minor": 2
}
