{
 "cells": [
  {
   "cell_type": "code",
   "execution_count": 30,
   "metadata": {},
   "outputs": [],
   "source": [
    "class Node_dub:\n",
    "    def __init__(self, data:object=None) -> None:\n",
    "        self.data = data\n",
    "        self.prev = None\n",
    "        self.next = None\n",
    "    \n",
    "    def show_list(self, show_all = False) -> None:\n",
    "        match show_all:\n",
    "            case True:\n",
    "                nodes = []\n",
    "                curr = self\n",
    "                while curr:\n",
    "                    nodes.append(curr.__repr__())\n",
    "                    curr = curr.next\n",
    "                print('None -', f'{\" - \".join(nodes)}', '- None' ) \n",
    "            case False:\n",
    "                print(f'{self.prev} - {self.data} - {self.next}')\n",
    "                    \n",
    "    def __repr__(self):\n",
    "        return str(self.data)"
   ]
  },
  {
   "cell_type": "code",
   "execution_count": null,
   "metadata": {},
   "outputs": [],
   "source": [
    "class Doubly_linklist:\n",
    "    def __init__(self):\n",
    "        self.head = None\n",
    "        self.tail = None\n",
    "        self.count = 0\n",
    "        \n",
    "    @staticmethod\n",
    "    def create_linklist(*data:object):\n",
    "        init_node = Doubly_linklist()\n",
    "        for datum in data:\n",
    "            init_node.add(datum)\n",
    "        return init_node\n",
    "    \n",
    "    def is_empty(self):\n",
    "        if (self.head.data == None) and (self.head.next == None):\n",
    "            return True\n",
    "        else:\n",
    "            return False   \n",
    "    \n",
    "    def add(self, *data:object, position = 'tail') -> None:\n",
    "        for datum in data:\n",
    "            new = Node_dub(datum)\n",
    "            if (self.head is None) or self.is_empty():\n",
    "                self.head = self.tail = new\n",
    "            else:\n",
    "                if position == 'front':\n",
    "                    new.next = self.head\n",
    "                    self.head = new\n",
    "                else:\n",
    "                    self.tail.next = new\n",
    "                    self.tail = new"
   ]
  },
  {
   "cell_type": "code",
   "execution_count": 28,
   "metadata": {},
   "outputs": [],
   "source": [
    "ref = Node(1)\n",
    "test = ref\n",
    "temp = Node(2)\n",
    "test.next = temp\n",
    "temp.prev = test\n",
    "\n",
    "test = test.next\n",
    "temp = Node(3)\n",
    "test.next = temp\n",
    "temp.prev = test\n",
    "\n",
    "test = test.next\n",
    "temp = Node(4)\n",
    "test.next = temp\n",
    "temp.prev = test\n",
    "\n",
    "test = test.next\n",
    "temp = Node(5)\n",
    "test.next = temp\n",
    "temp.prev = test\n",
    "\n",
    "test = test.next\n",
    "temp = Node(6)\n",
    "test.next = temp\n",
    "temp.prev = test\n"
   ]
  },
  {
   "cell_type": "code",
   "execution_count": 29,
   "metadata": {},
   "outputs": [
    {
     "name": "stdout",
     "output_type": "stream",
     "text": [
      "None - 1 - 2 - 3 - 4 - 5 - 6 - None\n"
     ]
    }
   ],
   "source": [
    "ref.show_list(show_all=True)"
   ]
  }
 ],
 "metadata": {
  "kernelspec": {
   "display_name": "base",
   "language": "python",
   "name": "python3"
  },
  "language_info": {
   "codemirror_mode": {
    "name": "ipython",
    "version": 3
   },
   "file_extension": ".py",
   "mimetype": "text/x-python",
   "name": "python",
   "nbconvert_exporter": "python",
   "pygments_lexer": "ipython3",
   "version": "3.11.7"
  }
 },
 "nbformat": 4,
 "nbformat_minor": 2
}
