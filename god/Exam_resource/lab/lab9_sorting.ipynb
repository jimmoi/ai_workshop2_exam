{
 "cells": [
  {
   "cell_type": "markdown",
   "metadata": {},
   "source": [
    "### I LOVE MAMA"
   ]
  },
  {
   "cell_type": "code",
   "execution_count": 25,
   "metadata": {},
   "outputs": [],
   "source": [
    "import random "
   ]
  },
  {
   "cell_type": "code",
   "execution_count": 26,
   "metadata": {},
   "outputs": [],
   "source": [
    "def selection_sort(unsorted_lst : list):\n",
    "    unsorted_lst = unsorted_lst.copy()\n",
    "    size = len(unsorted_lst)\n",
    "    if size < 2:\n",
    "        print(\"No element to sort\")\n",
    "    for i in range(0, size):\n",
    "        lowindex = i\n",
    "        for j in range(size-1, i, -1):\n",
    "            if unsorted_lst[j]<unsorted_lst[lowindex]:\n",
    "                lowindex = j\n",
    "                \n",
    "            if i != lowindex:\n",
    "                unsorted_lst[i],unsorted_lst[j] = unsorted_lst[j],unsorted_lst[i]\n",
    "                lowindex = i\n",
    "    \n",
    "    return unsorted_lst\n",
    "        "
   ]
  },
  {
   "cell_type": "code",
   "execution_count": 27,
   "metadata": {},
   "outputs": [],
   "source": [
    "def insertion_sort(unsorted_lst : list):\n",
    "    unsorted_lst = unsorted_lst.copy()\n",
    "    size = len(unsorted_lst)\n",
    "    for i in range(0, size):\n",
    "        for j in range(i, 0, -1):\n",
    "            if unsorted_lst[j]<unsorted_lst[j-1]:\n",
    "                unsorted_lst[j],unsorted_lst[j-1] = unsorted_lst[j-1],unsorted_lst[j]\n",
    "    return unsorted_lst"
   ]
  },
  {
   "cell_type": "code",
   "execution_count": 28,
   "metadata": {},
   "outputs": [],
   "source": [
    "def randlist(n:int):\n",
    "    sample = list(range(n))\n",
    "    random.shuffle(sample)\n",
    "    return sample\n"
   ]
  },
  {
   "cell_type": "code",
   "execution_count": 29,
   "metadata": {},
   "outputs": [
    {
     "name": "stdout",
     "output_type": "stream",
     "text": [
      "[10, 1, 3, 2, 6, 4, 11, 8, 5, 14, 12, 0, 7, 13, 9]\n",
      "[14, 9, 6, 12, 11, 13, 0, 3, 8, 1, 5, 10, 7, 2, 4]\n"
     ]
    }
   ],
   "source": [
    "\n",
    "sample1 = randlist(15)\n",
    "sample2 = randlist(15)\n",
    "print(sample1, sample2 ,sep='\\n')"
   ]
  },
  {
   "cell_type": "code",
   "execution_count": 30,
   "metadata": {},
   "outputs": [
    {
     "data": {
      "text/plain": [
       "[0, 1, 2, 3, 4, 5, 6, 7, 8, 9, 10, 11, 12, 13, 14]"
      ]
     },
     "execution_count": 30,
     "metadata": {},
     "output_type": "execute_result"
    }
   ],
   "source": [
    "selection_sort(sample1)"
   ]
  },
  {
   "cell_type": "code",
   "execution_count": 31,
   "metadata": {},
   "outputs": [
    {
     "data": {
      "text/plain": [
       "[0, 1, 2, 3, 4, 5, 6, 7, 8, 9, 10, 11, 12, 13, 14]"
      ]
     },
     "execution_count": 31,
     "metadata": {},
     "output_type": "execute_result"
    }
   ],
   "source": [
    "insertion_sort(sample2)"
   ]
  }
 ],
 "metadata": {
  "kernelspec": {
   "display_name": "base",
   "language": "python",
   "name": "python3"
  },
  "language_info": {
   "codemirror_mode": {
    "name": "ipython",
    "version": 3
   },
   "file_extension": ".py",
   "mimetype": "text/x-python",
   "name": "python",
   "nbconvert_exporter": "python",
   "pygments_lexer": "ipython3",
   "version": "3.11.7"
  }
 },
 "nbformat": 4,
 "nbformat_minor": 2
}
