{
 "cells": [
  {
   "cell_type": "code",
   "execution_count": 2,
   "metadata": {},
   "outputs": [],
   "source": [
    "def preorder(index, tree):\n",
    "    size = len(tree)\n",
    "    if index > size-1:\n",
    "        return\n",
    "    if tree[index] == '':\n",
    "        return \"\"\n",
    "    \n",
    "    print(tree[index], end=' ')\n",
    "    preorder(leftchild(index), tree)\n",
    "    preorder(rightchild(index), tree)\n",
    "    \n",
    "def inorder(index, tree):\n",
    "    size = len(tree)\n",
    "    if index > size-1:\n",
    "        return\n",
    "    if tree[index] == '':\n",
    "        return \"\"\n",
    "    \n",
    "    inorder(leftchild(index), tree)\n",
    "    print(tree[index], end=' ')\n",
    "    inorder(rightchild(index), tree)"
   ]
  },
  {
   "cell_type": "code",
   "execution_count": 3,
   "metadata": {},
   "outputs": [],
   "source": [
    "def leftchild(index):\n",
    "    return (index*2)+1\n",
    "\n",
    "def rightchild(index):\n",
    "    return (index*2)+2\n",
    "\n",
    "def postorder_array(index, tree):\n",
    "    size = len(tree)\n",
    "    if index > size-1:\n",
    "        return\n",
    "    if tree[index] == '':\n",
    "        return \"\"\n",
    "    \n",
    "    postorder_array(leftchild(index), tree)\n",
    "    postorder_array(rightchild(index), tree)\n",
    "    print(tree[index], end=' ')\n"
   ]
  },
  {
   "cell_type": "code",
   "execution_count": 20,
   "metadata": {},
   "outputs": [],
   "source": [
    "tree = [1,2,3,4,5,6,7,8,9,10,11,12,13,14,15]\n",
    "alphabet = 'ABCDEFG'\n",
    "express1 = ['D', 'B', '+', 'A', '+', '+', 'C']\n",
    "express2 = ['A', 'B', '+', 'C', '+']\n",
    "express3 = ['+', '+', 'C', 'A', 'B']"
   ]
  },
  {
   "cell_type": "code",
   "execution_count": 21,
   "metadata": {},
   "outputs": [
    {
     "name": "stdout",
     "output_type": "stream",
     "text": [
      "8 4 9 2 10 5 11 1 12 6 13 3 14 7 15 "
     ]
    }
   ],
   "source": [
    "inorder(0, tree)"
   ]
  },
  {
   "cell_type": "code",
   "execution_count": 6,
   "metadata": {},
   "outputs": [],
   "source": [
    "class BiTreeNode():\n",
    "    def __init__(self, data =None) -> None:\n",
    "        self.data = data\n",
    "        self.left = None\n",
    "        self.right = None"
   ]
  },
  {
   "cell_type": "code",
   "execution_count": 7,
   "metadata": {},
   "outputs": [],
   "source": [
    "\n",
    "def build_tree_bylist(lst:list, order = 0)->BiTreeNode:\n",
    "    curr_size = len(lst)\n",
    "    def build(lst:list, order:int, size)->BiTreeNode:\n",
    "        curr = None\n",
    "        if (order<size) and (lst[order] is not None):\n",
    "            curr = BiTreeNode()\n",
    "            curr.data = lst[order]\n",
    "            curr.left = build(lst, 2*order+1, size)\n",
    "            curr.right = build(lst, 2*order+2, size)\n",
    "        return curr\n",
    "    tree = build(lst, order=order, size = curr_size)\n",
    "    return tree"
   ]
  },
  {
   "cell_type": "code",
   "execution_count": 8,
   "metadata": {},
   "outputs": [],
   "source": [
    "def postorder_linllist(tree):\n",
    "    if tree == None:\n",
    "        return \n",
    "    postorder_linllist(tree.left)\n",
    "    postorder_linllist(tree.right)\n",
    "    print(tree.data, end=' ') "
   ]
  },
  {
   "cell_type": "code",
   "execution_count": 9,
   "metadata": {},
   "outputs": [],
   "source": [
    "# test = BiTreeNode('1')\n",
    "# test.left = BiTreeNode('2')\n",
    "# test.right = BiTreeNode('3')\n",
    "# test.left.left = BiTreeNode('4')\n",
    "# test.left.right = BiTreeNode('5')\n",
    "# test.right.right = BiTreeNode('6')"
   ]
  },
  {
   "cell_type": "code",
   "execution_count": 10,
   "metadata": {},
   "outputs": [],
   "source": [
    "test = build_tree_bylist(tree)"
   ]
  },
  {
   "cell_type": "code",
   "execution_count": 11,
   "metadata": {},
   "outputs": [
    {
     "name": "stdout",
     "output_type": "stream",
     "text": [
      "8 9 4 10 11 5 2 12 13 6 14 15 7 3 1 "
     ]
    }
   ],
   "source": [
    "postorder_linllist(test)"
   ]
  }
 ],
 "metadata": {
  "kernelspec": {
   "display_name": "base",
   "language": "python",
   "name": "python3"
  },
  "language_info": {
   "codemirror_mode": {
    "name": "ipython",
    "version": 3
   },
   "file_extension": ".py",
   "mimetype": "text/x-python",
   "name": "python",
   "nbconvert_exporter": "python",
   "pygments_lexer": "ipython3",
   "version": "3.11.7"
  }
 },
 "nbformat": 4,
 "nbformat_minor": 2
}
