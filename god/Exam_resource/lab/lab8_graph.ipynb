{
 "cells": [
  {
   "cell_type": "code",
   "execution_count": 92,
   "metadata": {},
   "outputs": [],
   "source": [
    "import numpy as np\n",
    "import pandas as pd\n",
    "import string"
   ]
  },
  {
   "cell_type": "code",
   "execution_count": 93,
   "metadata": {},
   "outputs": [],
   "source": [
    "class Digraph_array:\n",
    "    def __init__(self, size = 4, names = None) -> None:\n",
    "        self.size = size\n",
    "        if not names:\n",
    "            self.vertex_names = list(string.ascii_uppercase[:self.size])\n",
    "        else:\n",
    "            if len(names) != self.size:\n",
    "                raise Exception('Name not match with size')\n",
    "            else:\n",
    "                self.vertex_names = names\n",
    "        self.graph_array = np.zeros((self.size,self.size))\n",
    "        self.graph_df = None\n",
    "        self.to_df()\n",
    "        \n",
    "    def to_df(self):\n",
    "        self.graph_df = pd.DataFrame(data=self.graph_array,\n",
    "                        columns=self.vertex_names,\n",
    "                        index=self.vertex_names,\n",
    "                        dtype=int)\n",
    "        \n",
    "    def name_to_index(self, name):\n",
    "        name_dict = {key : index for index,key in enumerate(self.vertex_names)}\n",
    "        return name_dict[name]\n",
    "    \n",
    "    def index_to_name(self, index_):\n",
    "        name_dict = {index : key for index,key in enumerate(self.vertex_names)}\n",
    "        return name_dict[index_]\n",
    "        \n",
    "        \n",
    "    def add_edge(self, start_point, end_point):\n",
    "        if not all([True if name in self.vertex_names else False for name in [start_point, end_point]]):\n",
    "            print('Some vertex name doesn\\'t exist')\n",
    "            return\n",
    "        start_point = self.name_to_index(start_point)\n",
    "        end_point = self.name_to_index(end_point)\n",
    "        if self.graph_array[start_point,end_point]:\n",
    "            print('This Edge has already existed')\n",
    "        else:\n",
    "            self.graph_array[start_point,end_point] = 1\n",
    "        self.to_df()\n",
    "            \n",
    "    def remove_edge(self, start_point, end_point):\n",
    "        if not all([True if name in self.vertex_names else False for name in [start_point, end_point]]):\n",
    "            print('Some vertex name doesn\\'t exist')\n",
    "            return\n",
    "        start_point = self.name_to_index(start_point)\n",
    "        end_point = self.name_to_index(end_point)\n",
    "        if not self.graph_array[start_point,end_point]:\n",
    "            print('No Edge to remove')\n",
    "        else:\n",
    "            self.graph_array[start_point,end_point] = 0\n",
    "        self.to_df()\n",
    "            \n",
    "    def __repr__(self):\n",
    "        \n",
    "        vertex = \" \".join(self.vertex_names)\n",
    "        metrix = self.graph_df.__repr__()\n",
    "        edges = []\n",
    "        for start in range(self.size):\n",
    "            for end in range(self.size):\n",
    "                if self.graph_array[start][end] == 1:\n",
    "                    edges.append((self.index_to_name(start)+'-'+self.index_to_name(end)))\n",
    "        edges = \", \".join(edges)\n",
    "        pharse = f\"Vertex : {vertex}\\n\\nEdges : {edges}\\n\\nMetrix :\\n\\n{metrix}\"\n",
    "        return pharse"
   ]
  },
  {
   "cell_type": "code",
   "execution_count": 99,
   "metadata": {},
   "outputs": [
    {
     "data": {
      "text/plain": [
       "Vertex : A B C D\n",
       "\n",
       "Edges : \n",
       "\n",
       "Metrix :\n",
       "\n",
       "   A  B  C  D\n",
       "A  0  0  0  0\n",
       "B  0  0  0  0\n",
       "C  0  0  0  0\n",
       "D  0  0  0  0"
      ]
     },
     "execution_count": 99,
     "metadata": {},
     "output_type": "execute_result"
    }
   ],
   "source": [
    "test = Digraph_array()\n",
    "test"
   ]
  },
  {
   "cell_type": "code",
   "execution_count": 100,
   "metadata": {},
   "outputs": [
    {
     "data": {
      "text/plain": [
       "Vertex : A B C D\n",
       "\n",
       "Edges : A-B, C-D, D-A\n",
       "\n",
       "Metrix :\n",
       "\n",
       "   A  B  C  D\n",
       "A  0  1  0  0\n",
       "B  0  0  0  0\n",
       "C  0  0  0  1\n",
       "D  1  0  0  0"
      ]
     },
     "metadata": {},
     "output_type": "display_data"
    }
   ],
   "source": [
    "test.add_edge('A','B')\n",
    "# test.add_edge('C','B')\n",
    "test.add_edge('C','D')\n",
    "test.add_edge('D','A')\n",
    "display(test)\n"
   ]
  },
  {
   "cell_type": "code",
   "execution_count": 101,
   "metadata": {},
   "outputs": [],
   "source": [
    "test.add_edge('A','D')"
   ]
  },
  {
   "cell_type": "code",
   "execution_count": 102,
   "metadata": {},
   "outputs": [
    {
     "data": {
      "text/plain": [
       "Vertex : A B C D\n",
       "\n",
       "Edges : A-B, A-D, C-D, D-A\n",
       "\n",
       "Metrix :\n",
       "\n",
       "   A  B  C  D\n",
       "A  0  1  0  1\n",
       "B  0  0  0  0\n",
       "C  0  0  0  1\n",
       "D  1  0  0  0"
      ]
     },
     "execution_count": 102,
     "metadata": {},
     "output_type": "execute_result"
    }
   ],
   "source": [
    "test"
   ]
  },
  {
   "cell_type": "code",
   "execution_count": 103,
   "metadata": {},
   "outputs": [
    {
     "data": {
      "text/plain": [
       "Vertex : A B C D\n",
       "\n",
       "Edges : A-B, A-D, C-D\n",
       "\n",
       "Metrix :\n",
       "\n",
       "   A  B  C  D\n",
       "A  0  1  0  1\n",
       "B  0  0  0  0\n",
       "C  0  0  0  1\n",
       "D  0  0  0  0"
      ]
     },
     "metadata": {},
     "output_type": "display_data"
    }
   ],
   "source": [
    "test.remove_edge('D','A')\n",
    "# test.remove_edge('A','A')\n",
    "display(test)"
   ]
  },
  {
   "cell_type": "code",
   "execution_count": 97,
   "metadata": {},
   "outputs": [
    {
     "name": "stdout",
     "output_type": "stream",
     "text": [
      "Some vertex name doesn't exist\n"
     ]
    }
   ],
   "source": [
    "test.remove_edge('H','K')"
   ]
  },
  {
   "cell_type": "code",
   "execution_count": 98,
   "metadata": {},
   "outputs": [],
   "source": [
    "# array = np.ones((5,4), dtype=int)\n",
    "# np.pad(array, pad_width=((0, 1), (0, 1)), mode='constant', constant_values=0)"
   ]
  }
 ],
 "metadata": {
  "kernelspec": {
   "display_name": "base",
   "language": "python",
   "name": "python3"
  },
  "language_info": {
   "codemirror_mode": {
    "name": "ipython",
    "version": 3
   },
   "file_extension": ".py",
   "mimetype": "text/x-python",
   "name": "python",
   "nbconvert_exporter": "python",
   "pygments_lexer": "ipython3",
   "version": "3.11.7"
  }
 },
 "nbformat": 4,
 "nbformat_minor": 2
}
