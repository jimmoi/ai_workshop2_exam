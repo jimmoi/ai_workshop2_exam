{
 "cells": [
  {
   "cell_type": "code",
   "execution_count": 17,
   "metadata": {},
   "outputs": [],
   "source": [
    "class BiTreeNode:\n",
    "    def __init__(self, data = None):\n",
    "        self.data = data\n",
    "        self.left = None\n",
    "        self.right = None\n",
    "        \n",
    "    def __repr__(self):\n",
    "        \"\"\"Return a horizontal string representation of the binary tree.\"\"\"\n",
    "        lines, *_ = self._display_aux()\n",
    "        return '\\n'.join(lines)\n",
    "\n",
    "    def _display_aux(self):\n",
    "        \"\"\"Returns list of strings, width, height, and horizontal coordinate of the root.\"\"\"\n",
    "        # No child (leaf node)\n",
    "        if self.right is None and self.left is None:\n",
    "            line = f'{self.data}'\n",
    "            width = len(line)\n",
    "            height = 1\n",
    "            middle = width // 2\n",
    "            return [line], width, height, middle\n",
    "\n",
    "        # Only left child\n",
    "        if self.right is None:\n",
    "            lines, n, p, x = self.left._display_aux()\n",
    "            s = f'{self.data}'\n",
    "            u = len(s)\n",
    "            first_line = s + x * ' ' + (n - x) * ' '\n",
    "            second_line = x * ' ' + '/' + (n - x) * ' '\n",
    "            shifted_lines = [line + u * ' ' for line in lines]\n",
    "            return [first_line, second_line] + shifted_lines, n + u, p + 2, u // 2\n",
    "\n",
    "        # Only right child\n",
    "        if self.left is None:\n",
    "            lines, n, p, x = self.right._display_aux()\n",
    "            s = f'{self.data}'\n",
    "            u = len(s)\n",
    "            first_line = x * ' ' + (n - x) * ' ' + s\n",
    "            second_line = x * ' ' + '\\\\' + (n - x) * ' '\n",
    "            shifted_lines = [u * ' ' + line for line in lines]\n",
    "            return [first_line, second_line] + shifted_lines, n + u, p + 2, n + u // 2\n",
    "\n",
    "        # Two children\n",
    "        left, n, p, x = self.left._display_aux()\n",
    "        right, m, q, y = self.right._display_aux()\n",
    "        s = f'{self.data}'\n",
    "        u = len(s)\n",
    "        first_line = (x + 1) * ' ' + (n - x - 1) * '_' + s + y * '_' + (m - y) * ' '\n",
    "        second_line = x * ' ' + '/' + (n - x - 1 + u + y) * ' ' + '\\\\' + (m - y - 1) * ' '\n",
    "        if p < q:\n",
    "            left += [n * ' '] * (q - p)\n",
    "        elif q < p:\n",
    "            right += [m * ' '] * (p - q)\n",
    "        zipped_lines = zip(left, right)\n",
    "        lines = [first_line, second_line] + [a + u * ' ' + b for a, b in zipped_lines]\n",
    "        return lines, n + m + u, max(p, q) + 2, n + u // 2"
   ]
  },
  {
   "cell_type": "code",
   "execution_count": 4,
   "metadata": {},
   "outputs": [],
   "source": [
    "\n",
    "def build_tree_bylist(lst:list)->BiTreeNode:\n",
    "    curr_size = len(lst)\n",
    "    def build(lst:list, order:int, size)->BiTreeNode:\n",
    "        curr = None\n",
    "        if (order<size) and (lst[order] is not None):\n",
    "            curr = BiTreeNode()\n",
    "            curr.data = lst[order]\n",
    "            curr.left = build(lst, 2*order+1, size)\n",
    "            curr.right = build(lst, 2*order+2, size)\n",
    "        return curr\n",
    "    tree = build(lst, order=0, size = curr_size)\n",
    "    return tree"
   ]
  },
  {
   "cell_type": "code",
   "execution_count": 22,
   "metadata": {},
   "outputs": [
    {
     "data": {
      "text/plain": [
       "    __0_  \n",
       "   /    \\ \n",
       "  _1    2 \n",
       " /  \\  / \\\n",
       " 3  4  5 6\n",
       "/ \\ /     \n",
       "7 8 9     "
      ]
     },
     "execution_count": 22,
     "metadata": {},
     "output_type": "execute_result"
    }
   ],
   "source": [
    "arr = [i for i in range(10)]\n",
    "lst_tree = [i for i in range(0,7)]\n",
    "tree_lst = build_tree_bylist(arr)\n",
    "tree_lst"
   ]
  },
  {
   "cell_type": "code",
   "execution_count": 9,
   "metadata": {},
   "outputs": [],
   "source": [
    "from util import Singly_linklist\n",
    "\n",
    "def build_tree_bylinklist(linklist:Singly_linklist) -> BiTreeNode:\n",
    "    if not linklist.head:\n",
    "        return None\n",
    "    nodes = []\n",
    "    current = linklist.head\n",
    "    while current:\n",
    "        nodes.append(current.data)\n",
    "        current = current.next\n",
    "        \n",
    "    curr_size = len(nodes)\n",
    "    def build(lst:list, order:int, size)->BiTreeNode:\n",
    "        curr = None\n",
    "        if (order<size) and (lst[order] is not None):\n",
    "            curr = BiTreeNode()\n",
    "            curr.data = lst[order]\n",
    "            curr.left = build(lst, 2*order+1, size)\n",
    "            curr.right = build(lst, 2*order+2, size)\n",
    "        return curr\n",
    "    \n",
    "    tree = build(nodes, order=0, size = curr_size)\n",
    "    return tree"
   ]
  },
  {
   "cell_type": "code",
   "execution_count": 12,
   "metadata": {},
   "outputs": [
    {
     "data": {
      "text/plain": [
       "'ABCDEFGHIJKLMNOPQRSTUVWXYZ'"
      ]
     },
     "execution_count": 12,
     "metadata": {},
     "output_type": "execute_result"
    }
   ],
   "source": [
    "import string\n",
    "\n",
    "alpphabet = string.ascii_uppercase\n",
    "alpphabet"
   ]
  },
  {
   "cell_type": "code",
   "execution_count": 16,
   "metadata": {},
   "outputs": [
    {
     "data": {
      "text/plain": [
       "        _______A______    \n",
       "       /              \\   \n",
       "    ___B___         __C_  \n",
       "   /       \\       /    \\ \n",
       "  _D_     _E_     _F    G \n",
       " /   \\   /   \\   /  \\  / \\\n",
       " H   I   J   K   L  M  N O\n",
       "/ \\ / \\ / \\ / \\ / \\ /     \n",
       "P Q R S T U V W X Y Z     "
      ]
     },
     "execution_count": 16,
     "metadata": {},
     "output_type": "execute_result"
    }
   ],
   "source": [
    "import string\n",
    "\n",
    "alpphabet = string.ascii_uppercase\n",
    "tree_linklist = Singly_linklist.create_linklist()\n",
    "for i in alpphabet: tree_linklist.add(i)\n",
    "\n",
    "tree_linklist = build_tree_bylinklist(tree_linklist)\n",
    "tree_linklist"
   ]
  }
 ],
 "metadata": {
  "kernelspec": {
   "display_name": "base",
   "language": "python",
   "name": "python3"
  },
  "language_info": {
   "codemirror_mode": {
    "name": "ipython",
    "version": 3
   },
   "file_extension": ".py",
   "mimetype": "text/x-python",
   "name": "python",
   "nbconvert_exporter": "python",
   "pygments_lexer": "ipython3",
   "version": "3.11.7"
  }
 },
 "nbformat": 4,
 "nbformat_minor": 2
}
