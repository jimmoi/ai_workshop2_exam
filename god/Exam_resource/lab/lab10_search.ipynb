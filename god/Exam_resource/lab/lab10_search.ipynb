{
 "cells": [
  {
   "cell_type": "code",
   "execution_count": 58,
   "metadata": {},
   "outputs": [],
   "source": [
    "def binary_search(lst:list, key:int, sort_func):\n",
    "    size = len(lst)\n",
    "    lst = sort_func(lst)\n",
    "    count = 0\n",
    "    found = False\n",
    "    low = 0\n",
    "    hi = size-1\n",
    "    while (low <= hi) and (not found):\n",
    "        mid = round((low+hi)/2)\n",
    "        if key == lst[mid]:\n",
    "            found = True\n",
    "            count += 1\n",
    "        else:\n",
    "            if key < lst[mid]:\n",
    "                hi = mid - 1\n",
    "                count += 1\n",
    "            else:\n",
    "                low = mid + 1\n",
    "                count += 1               \n",
    "    if found:\n",
    "        index = mid\n",
    "    else:\n",
    "        index = -1\n",
    "        \n",
    "    return index"
   ]
  },
  {
   "cell_type": "code",
   "execution_count": 59,
   "metadata": {},
   "outputs": [],
   "source": [
    "def selection_sort(unsorted_lst : list):\n",
    "    unsorted_lst = unsorted_lst.copy()\n",
    "    size = len(unsorted_lst)\n",
    "    if size < 2:\n",
    "        print(\"No element to sort\")\n",
    "    for i in range(0, size):\n",
    "        lowindex = i\n",
    "        for j in range(size-1, i, -1):\n",
    "            if unsorted_lst[j]<unsorted_lst[lowindex]:\n",
    "                lowindex = j\n",
    "                \n",
    "            if i != lowindex:\n",
    "                unsorted_lst[i],unsorted_lst[j] = unsorted_lst[j],unsorted_lst[i]\n",
    "                lowindex = i\n",
    "    \n",
    "    return unsorted_lst"
   ]
  },
  {
   "cell_type": "code",
   "execution_count": 60,
   "metadata": {},
   "outputs": [],
   "source": [
    "def menu(lim_size = 10, sort_algo = sorted): \n",
    "    index = None\n",
    "    input_lst = []\n",
    "    while True:\n",
    "        ans = input('Enter 1 : Add data\\nEnter 2 : Search data\\nEnter n : Exit\\nEnter : ')\n",
    "        if ans == 'n':\n",
    "            break\n",
    "        if ans in ['1', '2', 'n']: \n",
    "            match ans:\n",
    "                case '1':\n",
    "                    while True:\n",
    "                        input_int = int(input(\"Enter number : \"))\n",
    "                        if input_int == 0 or len(input_lst) >= lim_size:\n",
    "                            print('Exit add data')\n",
    "                            break\n",
    "                        input_lst.append(input_int)\n",
    "                        print(input_lst)\n",
    "                case '2':\n",
    "                    while True:\n",
    "                        key = int(input('Enter key : '))\n",
    "                        index = binary_search(input_lst, key, selection_sort)\n",
    "                        print(f\"    Key index is {index}\")\n",
    "                        sub_ans = input('Continue? yes : y | no : n\\n    Enter : ')\n",
    "                        if sub_ans == 'n':\n",
    "                            break\n",
    "        else:\n",
    "            print('please select valid choice')   "
   ]
  },
  {
   "cell_type": "code",
   "execution_count": 61,
   "metadata": {},
   "outputs": [
    {
     "data": {
      "text/plain": [
       "10"
      ]
     },
     "execution_count": 61,
     "metadata": {},
     "output_type": "execute_result"
    }
   ],
   "source": [
    "menu(sort_algo = selection_sort)"
   ]
  }
 ],
 "metadata": {
  "kernelspec": {
   "display_name": "base",
   "language": "python",
   "name": "python3"
  },
  "language_info": {
   "codemirror_mode": {
    "name": "ipython",
    "version": 3
   },
   "file_extension": ".py",
   "mimetype": "text/x-python",
   "name": "python",
   "nbconvert_exporter": "python",
   "pygments_lexer": "ipython3",
   "version": "3.11.7"
  }
 },
 "nbformat": 4,
 "nbformat_minor": 2
}
