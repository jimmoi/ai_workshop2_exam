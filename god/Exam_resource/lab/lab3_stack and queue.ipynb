{
 "cells": [
  {
   "cell_type": "code",
   "execution_count": 1,
   "metadata": {},
   "outputs": [],
   "source": [
    "class MyQueue():\n",
    "    def __init__(self, size, datatype):\n",
    "        self.size = size\n",
    "        self.front = -1\n",
    "        self.rear = -1\n",
    "        self.queue = [None]*self.size\n",
    "        self.datatype = datatype\n",
    "    \n",
    "    @staticmethod\n",
    "    def create_queue(size, datatype = object):\n",
    "        return MyQueue(size, datatype)\n",
    "    \n",
    "    def enqueue(self, *data):\n",
    "        if all(map(lambda x: True if isinstance(x,self.datatype) else False, data)):\n",
    "            if self.front == -1:\n",
    "                self.front += 1\n",
    "            for datum in data:\n",
    "                if self.rear >= self.size-1:\n",
    "                    raise Exception('Queue Overflow')\n",
    "                self.rear += 1\n",
    "                self.queue[self.rear] = datum\n",
    "        else:\n",
    "            raise Exception(f'Not all element is {self.datatype}')\n",
    "    \n",
    "    def dequeue(self):\n",
    "        if self.front <= -1:\n",
    "            raise Exception('Queue Underflow')\n",
    "        if self.front == self.rear:\n",
    "            datum = self.queue[self.front]\n",
    "            self.queue[self.front] = None\n",
    "            self.front, self.rear = -1,-1\n",
    "            return datum\n",
    "        datum = self.queue[self.front]\n",
    "        self.queue[self.front] = None\n",
    "        self.front += 1\n",
    "        return datum\n",
    "\n",
    "    def __repr__(self) -> str:\n",
    "        return f'{self.queue} front {self.front} | rear {self.rear}'"
   ]
  },
  {
   "cell_type": "code",
   "execution_count": null,
   "metadata": {},
   "outputs": [],
   "source": [
    "def profix(Math_express:str):\n",
    "    Math_express = Math_express.split()\n",
    "    profix_stack = MyStack.create_stack(2)\n",
    "    check_operand = 0\n",
    "    for i in Math_express:\n",
    "        if i in ['+','-','*','/','**',]:\n",
    "            b,a = profix_stack.pop(), profix_stack.pop()\n",
    "            try:\n",
    "                result = eval(f'{a} {i} {b}')\n",
    "            except:\n",
    "                raise Exception(f'{a} can not operate with {b}')\n",
    "            profix_stack.push(result)\n",
    "            check_operand -= 1\n",
    "        else:\n",
    "            if check_operand >= 2:\n",
    "                raise Exception('Some profix math express are invalid form')\n",
    "            check_operand += 1\n",
    "            profix_stack.push(i)\n",
    "    return profix_stack.pop()"
   ]
  },
  {
   "cell_type": "code",
   "execution_count": 2,
   "metadata": {},
   "outputs": [],
   "source": [
    "class MyCircularQueue(MyQueue):    \n",
    "    @staticmethod\n",
    "    def create_cir_queue(size, datatype = object):\n",
    "        return MyCircularQueue(size, datatype)\n",
    "    \n",
    "    def enqueue(self, *data):\n",
    "        if all(map(lambda x: True if isinstance(x,self.datatype) else False, data)):\n",
    "            if self.front == -1:\n",
    "                self.front = 0\n",
    "            for datum in data:\n",
    "                if ((self.rear+1)%self.size == self.front and self.queue[(self.rear+1)%self.size] is not None): # check Overflow\n",
    "                    raise Exception('Queue Overflow')\n",
    "                if self.rear == self.size-1:  # make it link to front array\n",
    "                    self.rear = -1\n",
    "                self.rear += 1\n",
    "                self.queue[self.rear] = datum\n",
    "        else:\n",
    "            raise Exception(f'Not all element is {self.datatype}')\n",
    "    \n",
    "    def dequeue(self):\n",
    "        if (self.front == self.rear) and ((self.front+1)%self.size is None):\n",
    "            raise Exception('Queue Underflow')\n",
    "        datum = self.queue[self.front]\n",
    "        self.queue[self.front] = None\n",
    "        self.front += 1\n",
    "        return datum"
   ]
  },
  {
   "cell_type": "code",
   "execution_count": 3,
   "metadata": {},
   "outputs": [],
   "source": [
    "test = MyCircularQueue.create_cir_queue(5)"
   ]
  },
  {
   "cell_type": "code",
   "execution_count": 4,
   "metadata": {},
   "outputs": [
    {
     "data": {
      "text/plain": [
       "[None, None, None, None, None] front -1 | rear -1"
      ]
     },
     "execution_count": 4,
     "metadata": {},
     "output_type": "execute_result"
    }
   ],
   "source": [
    "test"
   ]
  },
  {
   "cell_type": "code",
   "execution_count": 5,
   "metadata": {},
   "outputs": [],
   "source": [
    "test.enqueue(1,2,3,4,5)"
   ]
  },
  {
   "cell_type": "code",
   "execution_count": 13,
   "metadata": {},
   "outputs": [
    {
     "data": {
      "text/plain": [
       "['x', 'x', 3, 4, 5] front 2 | rear 1"
      ]
     },
     "execution_count": 13,
     "metadata": {},
     "output_type": "execute_result"
    }
   ],
   "source": [
    "test"
   ]
  },
  {
   "cell_type": "code",
   "execution_count": 14,
   "metadata": {},
   "outputs": [
    {
     "ename": "Exception",
     "evalue": "Queue Overflow",
     "output_type": "error",
     "traceback": [
      "\u001b[1;31m---------------------------------------------------------------------------\u001b[0m",
      "\u001b[1;31mException\u001b[0m                                 Traceback (most recent call last)",
      "Cell \u001b[1;32mIn[14], line 1\u001b[0m\n\u001b[1;32m----> 1\u001b[0m test\u001b[38;5;241m.\u001b[39menqueue(\u001b[38;5;124m'\u001b[39m\u001b[38;5;124mx\u001b[39m\u001b[38;5;124m'\u001b[39m)\n",
      "Cell \u001b[1;32mIn[2], line 13\u001b[0m, in \u001b[0;36mMyCircularQueue.enqueue\u001b[1;34m(self, *data)\u001b[0m\n\u001b[0;32m     10\u001b[0m \u001b[38;5;28;01mfor\u001b[39;00m datum \u001b[38;5;129;01min\u001b[39;00m data:\n\u001b[0;32m     12\u001b[0m     \u001b[38;5;28;01mif\u001b[39;00m ((\u001b[38;5;28mself\u001b[39m\u001b[38;5;241m.\u001b[39mrear\u001b[38;5;241m+\u001b[39m\u001b[38;5;241m1\u001b[39m)\u001b[38;5;241m%\u001b[39m\u001b[38;5;28mself\u001b[39m\u001b[38;5;241m.\u001b[39msize \u001b[38;5;241m==\u001b[39m \u001b[38;5;28mself\u001b[39m\u001b[38;5;241m.\u001b[39mfront \u001b[38;5;129;01mand\u001b[39;00m \u001b[38;5;28mself\u001b[39m\u001b[38;5;241m.\u001b[39mqueue[(\u001b[38;5;28mself\u001b[39m\u001b[38;5;241m.\u001b[39mrear\u001b[38;5;241m+\u001b[39m\u001b[38;5;241m1\u001b[39m)\u001b[38;5;241m%\u001b[39m\u001b[38;5;28mself\u001b[39m\u001b[38;5;241m.\u001b[39msize] \u001b[38;5;129;01mis\u001b[39;00m \u001b[38;5;129;01mnot\u001b[39;00m \u001b[38;5;28;01mNone\u001b[39;00m): \u001b[38;5;66;03m# check Overflow\u001b[39;00m\n\u001b[1;32m---> 13\u001b[0m         \u001b[38;5;28;01mraise\u001b[39;00m \u001b[38;5;167;01mException\u001b[39;00m(\u001b[38;5;124m'\u001b[39m\u001b[38;5;124mQueue Overflow\u001b[39m\u001b[38;5;124m'\u001b[39m)\n\u001b[0;32m     14\u001b[0m     \u001b[38;5;28;01mif\u001b[39;00m \u001b[38;5;28mself\u001b[39m\u001b[38;5;241m.\u001b[39mrear \u001b[38;5;241m==\u001b[39m \u001b[38;5;28mself\u001b[39m\u001b[38;5;241m.\u001b[39msize\u001b[38;5;241m-\u001b[39m\u001b[38;5;241m1\u001b[39m:  \u001b[38;5;66;03m# make it link to front array\u001b[39;00m\n\u001b[0;32m     15\u001b[0m         \u001b[38;5;28mself\u001b[39m\u001b[38;5;241m.\u001b[39mrear \u001b[38;5;241m=\u001b[39m \u001b[38;5;241m-\u001b[39m\u001b[38;5;241m1\u001b[39m\n",
      "\u001b[1;31mException\u001b[0m: Queue Overflow"
     ]
    }
   ],
   "source": [
    "test.enqueue('x')"
   ]
  },
  {
   "cell_type": "code",
   "execution_count": 8,
   "metadata": {},
   "outputs": [
    {
     "data": {
      "text/plain": [
       "2"
      ]
     },
     "execution_count": 8,
     "metadata": {},
     "output_type": "execute_result"
    }
   ],
   "source": [
    "test.dequeue()"
   ]
  }
 ],
 "metadata": {
  "kernelspec": {
   "display_name": "base",
   "language": "python",
   "name": "python3"
  },
  "language_info": {
   "codemirror_mode": {
    "name": "ipython",
    "version": 3
   },
   "file_extension": ".py",
   "mimetype": "text/x-python",
   "name": "python",
   "nbconvert_exporter": "python",
   "pygments_lexer": "ipython3",
   "version": "3.11.7"
  }
 },
 "nbformat": 4,
 "nbformat_minor": 2
}
