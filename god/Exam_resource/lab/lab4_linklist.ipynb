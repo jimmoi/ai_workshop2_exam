{
 "cells": [
  {
   "cell_type": "code",
   "execution_count": 562,
   "metadata": {},
   "outputs": [],
   "source": [
    "class Node:\n",
    "    def __init__(self, data:object=None) -> None:\n",
    "        self.data = data\n",
    "        self.next = None\n",
    "        \n",
    "    def show_list(self, show_all = False) -> None:\n",
    "        match show_all:\n",
    "            case True:\n",
    "                nodes = []\n",
    "                curr = self\n",
    "                while curr:\n",
    "                    nodes.append(curr.__repr__())\n",
    "                    curr = curr.next\n",
    "                print(f'{\" - \".join(nodes)}', '- None' ) \n",
    "            case False:\n",
    "                print(f'{self.data} - {self.next}')\n",
    "                    \n",
    "    def __repr__(self):\n",
    "        return str(self.data)\n",
    "        \n",
    "    "
   ]
  },
  {
   "cell_type": "code",
   "execution_count": 568,
   "metadata": {},
   "outputs": [],
   "source": [
    "class Singly_linklist:\n",
    "    def __init__(self) -> None:\n",
    "        self.head = None\n",
    "        self.tail = None\n",
    "        self.count = 0\n",
    "    \n",
    "    @staticmethod\n",
    "    def create_linklist(*data:object):\n",
    "        init_node = Singly_linklist()\n",
    "        for datum in data:\n",
    "            init_node.add(datum)\n",
    "        return init_node\n",
    "\n",
    "    def add(self, *data:object, position = 'tail') -> None:\n",
    "        if position == 'head':\n",
    "            data = data[::-1]\n",
    "\n",
    "        for datum in data:\n",
    "            new = Node(datum)\n",
    "            if (self.head is None) or self.is_empty():\n",
    "                self.head = self.tail = new\n",
    "            else:\n",
    "                if position == 'head':\n",
    "                    new.next = self.head\n",
    "                    self.head = new\n",
    "                else:\n",
    "                    self.tail.next = new\n",
    "                    self.tail = new\n",
    "                           \n",
    "    def search(self, data:object) -> int:\n",
    "        curr = self.head\n",
    "        count = 0\n",
    "        while curr:\n",
    "            if curr.data == data:\n",
    "                count += 1\n",
    "            curr = curr.next\n",
    "        else:\n",
    "            return count\n",
    "    \n",
    "    def remove(self, data, *, order:int = '*'): #------------------------> Problem if have duplicate item next to each other\n",
    "        if self.is_empty():\n",
    "            raise Exception('Linklist Underflow')\n",
    "        if self.search(data):\n",
    "            curr = self.head\n",
    "            prev = None\n",
    "            count = 0\n",
    "            rm_value = None\n",
    "            while curr:\n",
    "                if curr.data == data:\n",
    "                    count+=1\n",
    "                    if (order == count) or (order == '*'):\n",
    "                        if prev:\n",
    "                            # print('-------------------')\n",
    "                            # prev.show_list(show_all=True)\n",
    "                            prev.next = curr.next\n",
    "                            # prev.show_list(show_all=True)\n",
    "                            rm_value = curr.data\n",
    "                        else:\n",
    "                            rm_value = curr.data\n",
    "                            if curr.next:\n",
    "                                self.head = curr.next\n",
    "                            else:\n",
    "                                curr.data = None\n",
    "                        if curr == self.tail:\n",
    "                            self.tail = prev\n",
    "                prev = curr\n",
    "                curr = curr.next\n",
    "            return rm_value\n",
    "        else:\n",
    "            raise ValueError(\"No data to remove in link_list\")\n",
    "        \n",
    "    def insert(self, *data, order) -> None:\n",
    "        init = True\n",
    "        for datum in data:\n",
    "            if init:\n",
    "                insert = Singly_linklist.make_linklist(datum)\n",
    "                init = False\n",
    "            else:\n",
    "                insert.add(datum) \n",
    "                \n",
    "        curr = self.head\n",
    "        prev = None\n",
    "        for _ in range(order):\n",
    "            prev = curr\n",
    "            curr = curr.next\n",
    "            if curr == None:\n",
    "                raise Exception('order out of range')\n",
    "        if prev:\n",
    "            insert.tail.next = curr\n",
    "            prev.next = insert.head\n",
    "        else:\n",
    "            insert.tail.next = curr\n",
    "            self.head = insert.head\n",
    "\n",
    "    def replace(self, old_data, new_data, *, order:int = '*') -> None:\n",
    "        if self.search(old_data):\n",
    "            curr = self.head\n",
    "            count = 0\n",
    "            while curr:\n",
    "                if curr.data == old_data:\n",
    "                    count+=1\n",
    "                    if (order == count) or (order == '*'):\n",
    "                        curr.data = new_data\n",
    "                curr = curr.next\n",
    "        else:\n",
    "            raise ValueError(\"No data to replace in link_list\")\n",
    "        \n",
    "    def is_empty(self):\n",
    "        if (self.head.data == None) and (self.head.next == None):\n",
    "            return True\n",
    "        else:\n",
    "            return False    \n",
    "        \n",
    "    def count_element(self) -> int:\n",
    "        curr = self.head\n",
    "        count = 0\n",
    "        while curr:\n",
    "            count+=1\n",
    "            curr = curr.next\n",
    "        self.count = count\n",
    "        return count\n",
    "\n",
    "    def __repr__(self) -> str:\n",
    "        nodes = []\n",
    "        curr = self.head\n",
    "        while curr:\n",
    "            nodes.append(str(curr.data))\n",
    "            curr = curr.next\n",
    "\n",
    "        return f'{\" - \".join(nodes)} - None| H:{self.head} , T:{self.tail}' \n",
    "\n"
   ]
  },
  {
   "cell_type": "code",
   "execution_count": 581,
   "metadata": {},
   "outputs": [],
   "source": [
    "test = Singly_linklist.create_linklist(1,2,3,'x','x','x',)"
   ]
  },
  {
   "cell_type": "code",
   "execution_count": 582,
   "metadata": {},
   "outputs": [
    {
     "data": {
      "text/plain": [
       "1 - 2 - 3 - x - x - x - None| H:1 , T:x"
      ]
     },
     "execution_count": 582,
     "metadata": {},
     "output_type": "execute_result"
    }
   ],
   "source": [
    "test"
   ]
  },
  {
   "cell_type": "code",
   "execution_count": 583,
   "metadata": {},
   "outputs": [
    {
     "data": {
      "text/plain": [
       "'x'"
      ]
     },
     "execution_count": 583,
     "metadata": {},
     "output_type": "execute_result"
    }
   ],
   "source": [
    "test.remove('x')"
   ]
  },
  {
   "cell_type": "code",
   "execution_count": 584,
   "metadata": {},
   "outputs": [
    {
     "data": {
      "text/plain": [
       "1 - 2 - 3 - x - None| H:1 , T:x"
      ]
     },
     "execution_count": 584,
     "metadata": {},
     "output_type": "execute_result"
    }
   ],
   "source": [
    "test"
   ]
  },
  {
   "cell_type": "code",
   "execution_count": null,
   "metadata": {},
   "outputs": [],
   "source": [
    "class Stack:\n",
    "    def __init__(self, stack:Singly_linklist):\n",
    "        self.stack = stack\n",
    "        \n",
    "    @staticmethod\n",
    "    def create_stack():\n",
    "        return Stack(stack=Singly_linklist())\n",
    "    \n",
    "    def push(self, *data):\n",
    "        for i in data:\n",
    "            self.stack.add(i)\n",
    "    \n",
    "    def pop(self):\n",
    "        if self.is_empty():\n",
    "            raise Exception('Stack Underflow')\n",
    "        tail_order = self.stack.search(self.stack.tail.data)\n",
    "        rm_value = self.stack.remove(self.stack.tail.data, order=tail_order)\n",
    "        return rm_value\n",
    "    \n",
    "    def is_empty(self):\n",
    "        return self.stack.is_empty()\n",
    "    \n",
    "    def __repr__(self) -> str:\n",
    "        return self.stack.__repr__()\n",
    "                "
   ]
  },
  {
   "cell_type": "code",
   "execution_count": null,
   "metadata": {},
   "outputs": [],
   "source": [
    "class Queue:\n",
    "    def __init__(self, queue:Singly_linklist):\n",
    "        self.queue = queue\n",
    "        \n",
    "    @staticmethod\n",
    "    def create_queue():\n",
    "        return Queue(queue=Singly_linklist())\n",
    "    \n",
    "    def enqueue(self, *data):\n",
    "        for i in data:\n",
    "            self.queue.add(i)\n",
    "    \n",
    "    def dequeue(self):\n",
    "        if self.is_empty():\n",
    "            raise Exception('Queue Underflow')\n",
    "        rm_value = self.queue.remove(self.queue.head.data, order=1)\n",
    "        return rm_value\n",
    "    \n",
    "    \n",
    "    def is_empty(self):\n",
    "        return self.queue.is_empty()\n",
    "    \n",
    "    def __repr__(self) -> str:\n",
    "        return self.queue.__repr__()\n",
    "                "
   ]
  },
  {
   "cell_type": "code",
   "execution_count": null,
   "metadata": {},
   "outputs": [
    {
     "data": {
      "text/plain": [
       "1, 2, 3, x, x, x | H:1 , T:x"
      ]
     },
     "execution_count": 529,
     "metadata": {},
     "output_type": "execute_result"
    }
   ],
   "source": [
    "test = Queue.create_queue()\n",
    "test.enqueue(1,2,3,'x','x','x')\n",
    "test"
   ]
  }
 ],
 "metadata": {
  "kernelspec": {
   "display_name": "base",
   "language": "python",
   "name": "python3"
  },
  "language_info": {
   "codemirror_mode": {
    "name": "ipython",
    "version": 3
   },
   "file_extension": ".py",
   "mimetype": "text/x-python",
   "name": "python",
   "nbconvert_exporter": "python",
   "pygments_lexer": "ipython3",
   "version": "3.12.4"
  }
 },
 "nbformat": 4,
 "nbformat_minor": 2
}
