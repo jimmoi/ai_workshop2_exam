{
  "cells": [
    {
      "cell_type": "markdown",
      "metadata": {
        "id": "brsHNql9_uYE"
      },
      "source": [
        "# Tensor Basics\n",
        "This section covers:\n",
        "* Converting NumPy arrays to PyTorch tensors\n",
        "* Creating tensors from scratch\n",
        "\n",
        "## Perform standard imports"
      ]
    },
    {
      "cell_type": "code",
      "execution_count": 1,
      "metadata": {
        "id": "-H9ZIPc2_uYG"
      },
      "outputs": [],
      "source": [
        "import torch"
      ]
    },
    {
      "cell_type": "markdown",
      "metadata": {
        "id": "YEydeLdU_uYH"
      },
      "source": [
        "Confirm you're using PyTorch version 1.1.0"
      ]
    },
    {
      "cell_type": "code",
      "execution_count": 2,
      "metadata": {
        "id": "XPjSUtyq_uYH"
      },
      "outputs": [
        {
          "data": {
            "text/plain": [
              "'2.4.0'"
            ]
          },
          "execution_count": 2,
          "metadata": {},
          "output_type": "execute_result"
        }
      ],
      "source": [
        "torch.__version__"
      ]
    },
    {
      "cell_type": "markdown",
      "metadata": {
        "id": "wnmgxH3T_uYI"
      },
      "source": [
        "## Converting NumPy arrays to PyTorch tensors\n",
        "A <a href='https://pytorch.org/docs/stable/tensors.html'><strong><tt>torch.Tensor</tt></strong></a> is a multi-dimensional matrix containing elements of a single data type.<br>\n",
        "Calculations between tensors can only happen if the tensors share the same dtype.<br>\n",
        "In some cases tensors are used as a replacement for NumPy to use the power of GPUs (more on this later)."
      ]
    },
    {
      "cell_type": "code",
      "execution_count": 3,
      "metadata": {
        "id": "BuuoggOR_uYI"
      },
      "outputs": [
        {
          "name": "stdout",
          "output_type": "stream",
          "text": [
            "[1. 2. 3. 4. 5.]\n",
            "float64\n",
            "<class 'numpy.ndarray'>\n"
          ]
        }
      ],
      "source": [
        "import numpy as np\n",
        "\n",
        "arr = np.array([1,2,3,4,5.0])\n",
        "print(arr)\n",
        "print(arr.dtype)\n",
        "print(type(arr))"
      ]
    },
    {
      "cell_type": "code",
      "execution_count": 4,
      "metadata": {
        "id": "lfdIUJ-k_uYI"
      },
      "outputs": [
        {
          "name": "stdout",
          "output_type": "stream",
          "text": [
            "tensor([1., 2., 3., 4., 5.], dtype=torch.float64)\n",
            "torch.float64\n",
            "<class 'torch.Tensor'>\n",
            "torch.DoubleTensor\n"
          ]
        }
      ],
      "source": [
        "x = torch.from_numpy(arr)\n",
        "\n",
        "print(x)\n",
        "print(x.dtype)\n",
        "\n",
        "# Print the tensor object type\n",
        "print(type(x))\n",
        "print(x.type()) # this is more specific!"
      ]
    },
    {
      "cell_type": "code",
      "execution_count": 5,
      "metadata": {
        "id": "g3eh4WCc_uYI"
      },
      "outputs": [
        {
          "name": "stdout",
          "output_type": "stream",
          "text": [
            "tensor([1., 2., 3., 4., 5.], dtype=torch.float64)\n",
            "torch.float64\n",
            "<class 'torch.Tensor'>\n",
            "torch.DoubleTensor\n"
          ]
        }
      ],
      "source": [
        "x = torch.as_tensor(arr)\n",
        "\n",
        "print(x)\n",
        "print(x.dtype)\n",
        "\n",
        "# Print the tensor object type\n",
        "print(type(x))\n",
        "print(x.type()) # this is more specific!"
      ]
    },
    {
      "cell_type": "code",
      "execution_count": null,
      "metadata": {
        "id": "SBBfIB77xsNh"
      },
      "outputs": [],
      "source": [
        "#2D array\n"
      ]
    },
    {
      "cell_type": "markdown",
      "metadata": {
        "id": "ox-tk7Zy_uYJ"
      },
      "source": [
        "<h2><a href='https://pytorch.org/docs/stable/tensors.html'>Tensor Datatypes</a></h2>\n",
        "<table style=\"display: inline-block\">\n",
        "<tr><th>TYPE</th><th>NAME</th><th>EQUIVALENT</th><th>TENSOR TYPE</th></tr>\n",
        "<tr><td>32-bit integer (signed)</td><td>torch.int32</td><td>torch.int</td><td>IntTensor</td></tr>\n",
        "<tr><td>64-bit integer (signed)</td><td>torch.int64</td><td>torch.long</td><td>LongTensor</td></tr>\n",
        "<tr><td>16-bit integer (signed)</td><td>torch.int16</td><td>torch.short</td><td>ShortTensor</td></tr>\n",
        "<tr><td>32-bit floating point</td><td>torch.float32</td><td>torch.float</td><td>FloatTensor</td></tr>\n",
        "<tr><td>64-bit floating point</td><td>torch.float64</td><td>torch.double</td><td>DoubleTensor</td></tr>\n",
        "<tr><td>16-bit floating point</td><td>torch.float16</td><td>torch.half</td><td>HalfTensor</td></tr>\n",
        "<tr><td>8-bit integer (signed)</td><td>torch.int8</td><td></td><td>CharTensor</td></tr>\n",
        "<tr><td>8-bit integer (unsigned)</td><td>torch.uint8</td><td></td><td>ByteTensor</td></tr></table>"
      ]
    },
    {
      "cell_type": "markdown",
      "metadata": {
        "collapsed": true,
        "id": "rNeBQdPAD6lb"
      },
      "source": [
        "___\n",
        "# Tensor Operations\n",
        "This section covers:\n",
        "* Indexing and slicing\n",
        "* Reshaping tensors (tensor views)\n",
        "* Tensor arithmetic and basic operations\n",
        "* Dot products\n",
        "* Matrix multiplication\n",
        "* Additional, more advanced operations\n",
        "\n",
        "## Perform standard imports"
      ]
    },
    {
      "cell_type": "code",
      "execution_count": 6,
      "metadata": {
        "id": "jAPLq38yD6ld"
      },
      "outputs": [],
      "source": [
        "import torch\n",
        "import numpy as np"
      ]
    },
    {
      "cell_type": "markdown",
      "metadata": {
        "id": "zs19gjP8D6le"
      },
      "source": [
        "## Indexing and slicing\n",
        "Extracting specific values from a tensor works just the same as with NumPy arrays<br>"
      ]
    },
    {
      "cell_type": "code",
      "execution_count": 7,
      "metadata": {
        "id": "5mN6eZToRbKo"
      },
      "outputs": [
        {
          "data": {
            "text/plain": [
              "tensor([0, 1, 2, 3, 4, 5])"
            ]
          },
          "execution_count": 7,
          "metadata": {},
          "output_type": "execute_result"
        }
      ],
      "source": [
        "torch.arange(6)"
      ]
    },
    {
      "cell_type": "code",
      "execution_count": 8,
      "metadata": {
        "id": "-N9N38faD6le",
        "scrolled": true
      },
      "outputs": [
        {
          "name": "stdout",
          "output_type": "stream",
          "text": [
            "tensor([[0, 1],\n",
            "        [2, 3],\n",
            "        [4, 5]])\n"
          ]
        }
      ],
      "source": [
        "x = torch.arange(6).reshape(3,2)\n",
        "print(x)"
      ]
    },
    {
      "cell_type": "markdown",
      "metadata": {
        "id": "E5bpG64UD6lf"
      },
      "source": [
        "## Reshape tensors with <tt>.view()</tt>\n",
        "<a href='https://pytorch.org/docs/master/tensors.html#torch.Tensor.view'><strong><tt>view()</tt></strong></a> and <a href='https://pytorch.org/docs/master/torch.html#torch.reshape'><strong><tt>reshape()</tt></strong></a> do essentially the same thing by returning a reshaped tensor without changing the original tensor in place.<br>\n",
        "There's a good discussion of the differences <a href='https://stackoverflow.com/questions/49643225/whats-the-difference-between-reshape-and-view-in-pytorch'>here</a>."
      ]
    },
    {
      "cell_type": "code",
      "execution_count": 9,
      "metadata": {
        "id": "PB7u8NrtD6lf"
      },
      "outputs": [
        {
          "name": "stdout",
          "output_type": "stream",
          "text": [
            "tensor([0, 1, 2, 3, 4, 5, 6, 7, 8, 9])\n"
          ]
        }
      ],
      "source": [
        "x = torch.arange(10)\n",
        "print(x)"
      ]
    },
    {
      "cell_type": "code",
      "execution_count": 10,
      "metadata": {
        "id": "W7W3iH5ID6lf"
      },
      "outputs": [
        {
          "data": {
            "text/plain": [
              "tensor([[0, 1, 2, 3, 4],\n",
              "        [5, 6, 7, 8, 9]])"
            ]
          },
          "execution_count": 10,
          "metadata": {},
          "output_type": "execute_result"
        }
      ],
      "source": [
        "x.view(2,5)"
      ]
    },
    {
      "cell_type": "code",
      "execution_count": 11,
      "metadata": {
        "id": "qb-85pP3GSXA"
      },
      "outputs": [
        {
          "data": {
            "text/plain": [
              "tensor([[0, 1, 2, 3, 4],\n",
              "        [5, 6, 7, 8, 9]])"
            ]
          },
          "execution_count": 11,
          "metadata": {},
          "output_type": "execute_result"
        }
      ],
      "source": [
        "x.reshape(2,5)"
      ]
    },
    {
      "cell_type": "code",
      "execution_count": 12,
      "metadata": {
        "id": "5qGvcxHPD6lg"
      },
      "outputs": [
        {
          "data": {
            "text/plain": [
              "tensor([0, 1, 2, 3, 4, 5, 6, 7, 8, 9])"
            ]
          },
          "execution_count": 12,
          "metadata": {},
          "output_type": "execute_result"
        }
      ],
      "source": [
        "# x is unchanged\n",
        "x"
      ]
    },
    {
      "cell_type": "markdown",
      "metadata": {
        "id": "_NfILm7tD6lh"
      },
      "source": [
        "## Tensor Arithmetic\n",
        "Adding tensors can be performed a few different ways depending on the desired result.<br>\n",
        "\n",
        "As a simple expression:"
      ]
    },
    {
      "cell_type": "code",
      "execution_count": 18,
      "metadata": {
        "id": "CwFpBWiMD6lh"
      },
      "outputs": [
        {
          "name": "stdout",
          "output_type": "stream",
          "text": [
            "tensor([5., 7., 9.])\n"
          ]
        }
      ],
      "source": [
        "a = torch.tensor([1,2,3], dtype=torch.float32)\n",
        "b = torch.tensor([4,5,6], dtype=torch.float16)\n",
        "print(a + b)"
      ]
    },
    {
      "cell_type": "markdown",
      "metadata": {
        "id": "jdUMrpABD6lh"
      },
      "source": [
        "As arguments passed into a torch operation:"
      ]
    },
    {
      "cell_type": "code",
      "execution_count": 20,
      "metadata": {
        "id": "Sv7CvgZzD6li"
      },
      "outputs": [
        {
          "name": "stdout",
          "output_type": "stream",
          "text": [
            "torch.float32\n",
            "tensor([5., 7., 9.])\n"
          ]
        }
      ],
      "source": [
        "print((torch.add(a, b).dtype))\n",
        "print((torch.add(a, b)))"
      ]
    },
    {
      "cell_type": "markdown",
      "metadata": {
        "id": "K3SYHfRpD6li"
      },
      "source": [
        "With an output tensor passed in as an argument:"
      ]
    },
    {
      "cell_type": "code",
      "execution_count": 21,
      "metadata": {
        "id": "fddu2VZOD6li"
      },
      "outputs": [
        {
          "name": "stdout",
          "output_type": "stream",
          "text": [
            "tensor([5., 7., 9.])\n"
          ]
        }
      ],
      "source": [
        "result = torch.empty(3)\n",
        "torch.add(a, b, out=result)  # equivalent to result=torch.add(a,b)\n",
        "print(result)"
      ]
    },
    {
      "cell_type": "markdown",
      "metadata": {
        "id": "nHYhE7RsD6li"
      },
      "source": [
        "Changing a tensor in-place"
      ]
    },
    {
      "cell_type": "code",
      "execution_count": 22,
      "metadata": {
        "id": "xH6upzCyD6li"
      },
      "outputs": [
        {
          "name": "stdout",
          "output_type": "stream",
          "text": [
            "tensor([5., 7., 9.])\n"
          ]
        }
      ],
      "source": [
        "a.add_(b)  # equivalent to a=torch.add(a,b)\n",
        "print(a)"
      ]
    },
    {
      "cell_type": "markdown",
      "metadata": {
        "id": "SlJ-F4b_D6lq"
      },
      "source": [
        "<div class=\"alert alert-info\"><strong>NOTE:</strong> Any operation that changes a tensor in-place is post-fixed with an underscore _.\n",
        "    <br>In the above example: <tt>a.add_(b)</tt> changed <tt>a</tt>.</div>"
      ]
    },
    {
      "cell_type": "markdown",
      "metadata": {
        "id": "ursDpOUpD6lq"
      },
      "source": [
        "### Basic Tensor Operations\n",
        "<table style=\"display: inline-block\">\n",
        "<caption style=\"text-align: center\"><strong>Arithmetic</strong></caption>\n",
        "<tr><th>OPERATION</th><th>FUNCTION</th><th>DESCRIPTION</th></tr>\n",
        "<tr><td>a + b</td><td>a.add(b)</td><td>element wise addition</td></tr>\n",
        "<tr><td>a - b</td><td>a.sub(b)</td><td>subtraction</td></tr>\n",
        "<tr><td>a * b</td><td>a.mul(b)</td><td>multiplication</td></tr>\n",
        "<tr><td>a / b</td><td>a.div(b)</td><td>division</td></tr>\n",
        "<tr><td>a % b</td><td>a.fmod(b)</td><td>modulo (remainder after division)</td></tr>\n",
        "<tr><td>a<sup>b</sup></td><td>a.pow(b)</td><td>power</td></tr>\n",
        "<tr><td>&nbsp;</td><td></td><td></td></tr>\n",
        "</table>"
      ]
    },
    {
      "cell_type": "markdown",
      "metadata": {
        "id": "fIfDLf5BD6lq"
      },
      "source": [
        "<table style=\"display: inline-block\">\n",
        "<caption style=\"text-align: center\"><strong>Monomial Operations</strong></caption>\n",
        "<tr><th>OPERATION</th><th>FUNCTION</th><th>DESCRIPTION</th></tr>\n",
        "<tr><td>|a|</td><td>torch.abs(a)</td><td>absolute value</td></tr>\n",
        "<tr><td>1/a</td><td>torch.reciprocal(a)</td><td>reciprocal</td></tr>\n",
        "<tr><td>$\\sqrt{a}$</td><td>torch.sqrt(a)</td><td>square root</td></tr>\n",
        "<tr><td>log(a)</td><td>torch.log(a)</td><td>natural log</td></tr>\n",
        "<tr><td>e<sup>a</sup></td><td>torch.exp(a)</td><td>exponential</td></tr>\n",
        "<tr><td>12.34  ==>  12.</td><td>torch.trunc(a)</td><td>truncated integer</td></tr>\n",
        "<tr><td>12.34  ==>  0.34</td><td>torch.frac(a)</td><td>fractional component</td></tr>\n",
        "</table>"
      ]
    },
    {
      "cell_type": "markdown",
      "metadata": {
        "id": "R4RgxwvpD6lq"
      },
      "source": [
        "<table style=\"display: inline-block\">\n",
        "<caption style=\"text-align: center\"><strong>Trigonometry</strong></caption>\n",
        "<tr><th>OPERATION</th><th>FUNCTION</th><th>DESCRIPTION</th></tr>\n",
        "<tr><td>sin(a)</td><td>torch.sin(a)</td><td>sine</td></tr>\n",
        "<tr><td>cos(a)</td><td>torch.sin(a)</td><td>cosine</td></tr>\n",
        "<tr><td>tan(a)</td><td>torch.sin(a)</td><td>tangent</td></tr>\n",
        "<tr><td>arcsin(a)</td><td>torch.asin(a)</td><td>arc sine</td></tr>\n",
        "<tr><td>arccos(a)</td><td>torch.acos(a)</td><td>arc cosine</td></tr>\n",
        "<tr><td>arctan(a)</td><td>torch.atan(a)</td><td>arc tangent</td></tr>\n",
        "<tr><td>sinh(a)</td><td>torch.sinh(a)</td><td>hyperbolic sine</td></tr>\n",
        "<tr><td>cosh(a)</td><td>torch.cosh(a)</td><td>hyperbolic cosine</td></tr>\n",
        "<tr><td>tanh(a)</td><td>torch.tanh(a)</td><td>hyperbolic tangent</td></tr>\n",
        "</table>"
      ]
    },
    {
      "cell_type": "markdown",
      "metadata": {
        "id": "ovrwTbTED6lq"
      },
      "source": [
        "<table style=\"display: inline-block\">\n",
        "<caption style=\"text-align: center\"><strong>Summary Statistics</strong></caption>\n",
        "<tr><th>OPERATION</th><th>FUNCTION</th><th>DESCRIPTION</th></tr>\n",
        "<tr><td>$\\sum a$</td><td>torch.sum(a)</td><td>sum</td></tr>\n",
        "<tr><td>$\\bar a$</td><td>torch.mean(a)</td><td>mean</td></tr>\n",
        "<tr><td>a<sub>max</sub></td><td>torch.max(a)</td><td>maximum</td></tr>\n",
        "<tr><td>a<sub>min</sub></td><td>torch.min(a)</td><td>minimum</td></tr>\n",
        "<tr><td colspan=\"3\">torch.max(a,b) returns a tensor of size a<br>containing the element wise max between a and b</td></tr>\n",
        "</table>"
      ]
    },
    {
      "cell_type": "markdown",
      "metadata": {
        "id": "V59j0kzoD6lr"
      },
      "source": [
        "<div class=\"alert alert-info\"><strong>NOTE:</strong> Most arithmetic operations require float values. Those that do work with integers return integer tensors.<br>\n",
        "For example, <tt>torch.div(a,b)</tt> performs floor division (truncates the decimal) for integer types, and classic division for floats.</div>"
      ]
    },
    {
      "cell_type": "markdown",
      "metadata": {
        "id": "ekbm1XGsD6lr"
      },
      "source": [
        "#### Use the space below to experiment with different operations"
      ]
    },
    {
      "cell_type": "code",
      "execution_count": null,
      "metadata": {
        "id": "f8WUSxOqD6lr"
      },
      "outputs": [],
      "source": [
        "a = torch.tensor([1,2,3], dtype=torch.float)\n",
        "b = torch.tensor([4,5,6], dtype=torch.float)"
      ]
    },
    {
      "cell_type": "code",
      "execution_count": null,
      "metadata": {
        "id": "ywX1TmolD6lr"
      },
      "outputs": [],
      "source": [
        "#min, max, mean, sum\n",
        "\n"
      ]
    },
    {
      "cell_type": "markdown",
      "metadata": {
        "id": "h5xcLMsMD6lr"
      },
      "source": [
        "## Dot products\n",
        "A <a href='https://en.wikipedia.org/wiki/Dot_product'>dot product</a> is the sum of the products of the corresponding entries of two 1D tensors. If the tensors are both vectors, the dot product is given as:<br>\n",
        "\n",
        "$\\begin{bmatrix} a & b & c \\end{bmatrix} \\;\\cdot\\; \\begin{bmatrix} d & e & f \\end{bmatrix} = ad + be + cf$\n",
        "\n",
        "If the tensors include a column vector, then the dot product is the sum of the result of the multiplied matrices. For example:<br>\n",
        "$\\begin{bmatrix} a & b & c \\end{bmatrix} \\;\\cdot\\; \\begin{bmatrix} d \\\\ e \\\\ f \\end{bmatrix} = ad + be + cf$<br><br>\n",
        "Dot products can be expressed as <a href='https://pytorch.org/docs/stable/torch.html#torch.dot'><strong><tt>torch.dot(a,b)</tt></strong></a> or `a.dot(b)` or `b.dot(a)`"
      ]
    },
    {
      "cell_type": "code",
      "execution_count": 23,
      "metadata": {
        "id": "-vKbQD-ID6lr",
        "scrolled": true
      },
      "outputs": [
        {
          "name": "stdout",
          "output_type": "stream",
          "text": [
            "tensor([ 4., 10., 18.])\n",
            "tensor(32.)\n"
          ]
        }
      ],
      "source": [
        "a = torch.tensor([1,2,3], dtype=torch.float)\n",
        "b = torch.tensor([4,5,6], dtype=torch.float)\n",
        "print(a.mul(b)) # element-wise multiplication\n",
        "print(a.dot(b))"
      ]
    },
    {
      "cell_type": "markdown",
      "metadata": {
        "id": "4l_ofMj9D6ls"
      },
      "source": [
        "<div class=\"alert alert-info\"><strong>NOTE:</strong> There's a slight difference between <tt>torch.dot()</tt> and <tt>numpy.dot()</tt>. While <tt>torch.dot()</tt> only accepts 1D arguments and returns a dot product, <tt>numpy.dot()</tt> also accepts 2D arguments and performs matrix multiplication. We show matrix multiplication below.</div>"
      ]
    },
    {
      "cell_type": "markdown",
      "metadata": {
        "id": "mgLEZmEeD6ls"
      },
      "source": [
        "## Matrix multiplication\n",
        "2D <a href='https://en.wikipedia.org/wiki/Matrix_multiplication'>Matrix multiplication</a> is possible when the number of columns in tensor <strong><tt>A</tt></strong> matches the number of rows in tensor <strong><tt>B</tt></strong>. In this case, the product of tensor <strong><tt>A</tt></strong> with size $(x,y)$ and tensor <strong><tt>B</tt></strong> with size $(y,z)$ results in a tensor of size $(x,z)$\n",
        "<div>\n",
        "\n",
        "$\\begin{bmatrix} a & b & c \\\\\n",
        "d & e & f \\end{bmatrix} \\;\\times\\; \\begin{bmatrix} m & n \\\\ p & q \\\\ r & s \\end{bmatrix} = \\begin{bmatrix} (am+bp+cr) & (an+bq+cs) \\\\\n",
        "(dm+ep+fr) & (dn+eq+fs) \\end{bmatrix}$</div></div>\n",
        "\n",
        "Matrix multiplication can be computed using <a href='https://pytorch.org/docs/stable/torch.html#torch.mm'><strong><tt>torch.mm(a,b)</tt></strong></a> or `a.mm(b)` or `a @ b`"
      ]
    },
    {
      "cell_type": "code",
      "execution_count": 24,
      "metadata": {
        "id": "Ca4qNKBwD6ls"
      },
      "outputs": [
        {
          "name": "stdout",
          "output_type": "stream",
          "text": [
            "a:  torch.Size([2, 3])\n",
            "b:  torch.Size([3, 2])\n"
          ]
        }
      ],
      "source": [
        "a = torch.tensor([[0,2,4],[1,3,5]], dtype=torch.float)\n",
        "b = torch.tensor([[6,7],[8,9],[10,11]], dtype=torch.float)\n",
        "\n",
        "print('a: ',a.size())\n",
        "print('b: ',b.size())"
      ]
    },
    {
      "cell_type": "code",
      "execution_count": 25,
      "metadata": {
        "id": "BxnIDGCtD6ls"
      },
      "outputs": [
        {
          "name": "stdout",
          "output_type": "stream",
          "text": [
            "a x b: \n",
            " tensor([[56., 62.],\n",
            "        [80., 89.]])\n"
          ]
        }
      ],
      "source": [
        "print('a x b: \\n',torch.mm(a,b))"
      ]
    },
    {
      "cell_type": "code",
      "execution_count": 26,
      "metadata": {
        "id": "b1jYZ5JkD6ls"
      },
      "outputs": [
        {
          "name": "stdout",
          "output_type": "stream",
          "text": [
            "a x b: \n",
            " tensor([[56., 62.],\n",
            "        [80., 89.]])\n"
          ]
        }
      ],
      "source": [
        "print('a x b: \\n',a.mm(b))"
      ]
    },
    {
      "cell_type": "code",
      "execution_count": 27,
      "metadata": {
        "id": "ING2pasYD6ls"
      },
      "outputs": [
        {
          "name": "stdout",
          "output_type": "stream",
          "text": [
            "a x b: \n",
            " tensor([[56., 62.],\n",
            "        [80., 89.]])\n"
          ]
        }
      ],
      "source": [
        "print('a x b: \\n',a @ b)"
      ]
    },
    {
      "cell_type": "code",
      "execution_count": null,
      "metadata": {
        "id": "3dmDsHZGyEgt"
      },
      "outputs": [],
      "source": [
        "# Create tensor A with size of 5x4.\n",
        "# Create tensor B with column size 5.\n",
        "# Compute the product of tensor A and tensor B.\n",
        "\n",
        "\n"
      ]
    },
    {
      "cell_type": "markdown",
      "metadata": {
        "id": "-OGxaB5W9qoi"
      },
      "source": [
        "___\n",
        "# PyTorch Gradients\n",
        "This section covers the PyTorch <a href='https://pytorch.org/docs/stable/autograd.html'><strong><tt>autograd</tt></strong></a> implementation of gradient descent. Tools include:\n",
        "* <a href='https://pytorch.org/docs/stable/autograd.html#torch.autograd.backward'><tt><strong>torch.autograd.backward()</strong></tt></a>\n",
        "* <a href='https://pytorch.org/docs/stable/autograd.html#torch.autograd.grad'><tt><strong>torch.autograd.grad()</strong></tt></a>\n",
        "\n",
        "\n",
        "<div class=\"alert alert-info\"><h3>Additional Resources:</h3>\n",
        "<strong>\n",
        "<a href='https://pytorch.org/docs/stable/notes/autograd.html'>PyTorch Notes:</a></strong>&nbsp;&nbsp;<font color=black>Autograd mechanics</font></div>"
      ]
    },
    {
      "cell_type": "markdown",
      "metadata": {
        "id": "IZAyP71W9qoj"
      },
      "source": [
        "## Autograd - Automatic Differentiation\n",
        "In previous sections we created tensors and performed a variety of operations on them, but we did nothing to store the sequence of operations, or to apply the derivative of a completed function.\n",
        "\n",
        "In this section we'll introduce the concept of the <em>dynamic computational graph</em> which is comprised of all the <em>Tensor</em> objects in the network, as well as the <em>Functions</em> used to create them. Note that only the input Tensors we create ourselves will not have associated Function objects.\n",
        "\n",
        "The PyTorch <a href='https://pytorch.org/docs/stable/autograd.html'><strong><tt>autograd</tt></strong></a> package provides automatic differentiation for all operations on Tensors. This is because operations become attributes of the tensors themselves. When a Tensor's <tt>.requires_grad</tt> attribute is set to True, it starts to track all operations on it. When an operation finishes you can call <tt>.backward()</tt> and have all the gradients computed automatically. The gradient for a tensor will be accumulated into its <tt>.grad</tt> attribute.\n",
        "    \n",
        "Let's see this in practice."
      ]
    },
    {
      "cell_type": "markdown",
      "metadata": {
        "id": "Q9S7_fbO9qok"
      },
      "source": [
        "## Back-propagation on one step\n",
        "We'll start by applying a single polynomial function $y = f(x)$ to tensor $x$. Then we'll backprop and print the gradient $\\frac {dy} {dx}$.\n",
        "\n",
        "$\\begin{split}Function:\\quad y &= 2x^4 + x^3 + 3x^2 + 5x + 1 \\\\\n",
        "Derivative:\\quad y' &= 8x^3 + 3x^2 + 6x + 5\\end{split}$\n",
        "\n",
        "#### Step 1. Perform standard imports"
      ]
    },
    {
      "cell_type": "code",
      "execution_count": null,
      "metadata": {
        "id": "HjWbDMwg9qok"
      },
      "outputs": [],
      "source": [
        "import torch"
      ]
    },
    {
      "cell_type": "markdown",
      "metadata": {
        "id": "jd6H96Nj9qok"
      },
      "source": [
        "#### Step 2. Create a tensor with <tt>requires_grad</tt> set to True\n",
        "This sets up computational tracking on the tensor."
      ]
    },
    {
      "cell_type": "code",
      "execution_count": 29,
      "metadata": {
        "id": "VFO9g0sg9qol"
      },
      "outputs": [
        {
          "name": "stdout",
          "output_type": "stream",
          "text": [
            "tensor(2., requires_grad=True)\n",
            "None\n"
          ]
        }
      ],
      "source": [
        "x = torch.tensor(2.0, requires_grad=True)\n",
        "print(x)\n",
        "print(x.grad) # gradient has not yet been computed"
      ]
    },
    {
      "cell_type": "markdown",
      "metadata": {
        "id": "pw_xD5009qol"
      },
      "source": [
        "#### Step 3. Define a function"
      ]
    },
    {
      "cell_type": "code",
      "execution_count": 30,
      "metadata": {
        "id": "u2l-yAuI9qol"
      },
      "outputs": [
        {
          "name": "stdout",
          "output_type": "stream",
          "text": [
            "tensor(63., grad_fn=<AddBackward0>)\n"
          ]
        }
      ],
      "source": [
        "y = 2*x**4 + x**3 + 3*x**2 + 5*x + 1\n",
        "\n",
        "print(y)"
      ]
    },
    {
      "cell_type": "markdown",
      "metadata": {
        "id": "QMYckjx_9qol"
      },
      "source": [
        "Since $y$ was created as a result of an operation, it has an associated gradient function accessible as <tt>y.grad_fn</tt><br>\n",
        "The calculation of $y$ is done as:<br>\n",
        "\n",
        "$\\quad y=2(2)^4+(2)^3+3(2)^2+5(2)+1 = 32+8+12+10+1 = 63$\n",
        "\n",
        "This is the value of $y$ when $x=2$.\n",
        "\n",
        "#### Step 4. Backprop"
      ]
    },
    {
      "cell_type": "code",
      "execution_count": 31,
      "metadata": {
        "id": "Nbq7gUeO9qom"
      },
      "outputs": [],
      "source": [
        "#perform backpropagation and compute all gradients\n",
        "y.backward()"
      ]
    },
    {
      "cell_type": "markdown",
      "metadata": {
        "id": "I92Fy8uU9qom"
      },
      "source": [
        "#### Step 5. Display the resulting gradient"
      ]
    },
    {
      "cell_type": "code",
      "execution_count": 32,
      "metadata": {
        "id": "PrSlZWWl9qom"
      },
      "outputs": [
        {
          "name": "stdout",
          "output_type": "stream",
          "text": [
            "tensor(93.)\n"
          ]
        }
      ],
      "source": [
        "print(x.grad)"
      ]
    },
    {
      "cell_type": "markdown",
      "metadata": {
        "id": "ZtJ6_s4M9qom"
      },
      "source": [
        "Note that <tt>x.grad</tt> is an attribute of tensor $x$, so we don't use parentheses. The computation is the result of<br>\n",
        "\n",
        "$\\quad y'=8(2)^3+3(2)^2+6(2)+5 = 64+12+12+5 = 93$\n",
        "\n",
        "This is the slope of the polynomial at the point $(2,63)$.\n",
        "\n",
        "## Back-propagation on multiple steps\n",
        "Now let's do something more complex, involving layers $y$ and $z$ between $x$ and our output layer $out$.\n",
        "#### 1. Create a tensor"
      ]
    },
    {
      "cell_type": "code",
      "execution_count": 33,
      "metadata": {
        "id": "DSY-Ltk99qom"
      },
      "outputs": [
        {
          "name": "stdout",
          "output_type": "stream",
          "text": [
            "tensor([[1., 2., 3.],\n",
            "        [3., 2., 1.]], requires_grad=True)\n"
          ]
        }
      ],
      "source": [
        "#tensor(Layer, row, col) -> image rgb\n",
        "\n",
        "x = torch.tensor([[1.,2,3],[3,2,1]], requires_grad=True)\n",
        "print(x)"
      ]
    },
    {
      "cell_type": "markdown",
      "metadata": {
        "id": "-mDYQ-_o9qom"
      },
      "source": [
        "#### 2. Create the first layer with $y = 3x+2$"
      ]
    },
    {
      "cell_type": "code",
      "execution_count": 34,
      "metadata": {
        "id": "4wvazyQC9qom"
      },
      "outputs": [
        {
          "name": "stdout",
          "output_type": "stream",
          "text": [
            "tensor([[ 5.,  8., 11.],\n",
            "        [11.,  8.,  5.]], grad_fn=<AddBackward0>)\n"
          ]
        }
      ],
      "source": [
        "y = 3*x + 2\n",
        "print(y)"
      ]
    },
    {
      "cell_type": "markdown",
      "metadata": {
        "id": "I6Wx0ywA9qom"
      },
      "source": [
        "#### 3. Create the second layer with $z = 2y^2$"
      ]
    },
    {
      "cell_type": "code",
      "execution_count": 35,
      "metadata": {
        "id": "UrTc5tKH9qom"
      },
      "outputs": [
        {
          "name": "stdout",
          "output_type": "stream",
          "text": [
            "tensor([[ 50., 128., 242.],\n",
            "        [242., 128.,  50.]], grad_fn=<MulBackward0>)\n"
          ]
        }
      ],
      "source": [
        "z = 2*y**2\n",
        "print(z)"
      ]
    },
    {
      "cell_type": "markdown",
      "metadata": {
        "id": "VKTXR2li9qom"
      },
      "source": [
        "#### 4. Set the output to be the matrix mean"
      ]
    },
    {
      "cell_type": "code",
      "execution_count": 37,
      "metadata": {
        "id": "7Inda8-i9qom"
      },
      "outputs": [
        {
          "name": "stdout",
          "output_type": "stream",
          "text": [
            "tensor(140., grad_fn=<MeanBackward0>)\n"
          ]
        }
      ],
      "source": [
        "out = z.mean()\n",
        "print(out)"
      ]
    },
    {
      "cell_type": "markdown",
      "metadata": {
        "id": "wd25TQ4x9qon"
      },
      "source": [
        "#### 5. Now perform back-propagation to find the gradient of x w.r.t out\n",
        "(If you haven't seen it before, w.r.t. is an abbreviation of <em>with respect to</em>)"
      ]
    },
    {
      "cell_type": "code",
      "execution_count": 38,
      "metadata": {
        "id": "YHGf-rWb9qon"
      },
      "outputs": [
        {
          "name": "stdout",
          "output_type": "stream",
          "text": [
            "tensor([[10., 16., 22.],\n",
            "        [22., 16., 10.]])\n"
          ]
        }
      ],
      "source": [
        "out.backward()\n",
        "print(x.grad)"
      ]
    },
    {
      "cell_type": "markdown",
      "metadata": {
        "id": "j-kaxyZs9qon"
      },
      "source": [
        "You should see a 2x3 matrix. If we call the final <tt>out</tt> tensor \"$o$\", we can calculate the partial derivative of $o$ with respect to $x_i$ as follows:<br>\n",
        "\n",
        "$o = \\frac {1} {6}\\sum_{i=1}^{6} z_i$<br>\n",
        "\n",
        "$z_i = 2(y_i)^2 = 2(3x_i+2)^2$<br>\n",
        "\n",
        "To solve the derivative of $z_i$ we use the <a href='https://en.wikipedia.org/wiki/Chain_rule'>chain rule</a>, where the derivative of $f(g(x)) = f'(g(x))g'(x)$<br>\n",
        "\n",
        "In this case<br>\n",
        "\n",
        "$\\begin{split} f(g(x)) &= 2(g(x))^2, \\quad &f'(g(x)) = 4g(x) \\\\\n",
        "g(x) &= 3x+2, &g'(x) = 3 \\\\\n",
        "\\frac {dz} {dx} &= 4g(x)\\times 3 &= 12(3x+2) \\end{split}$\n",
        "\n",
        "Therefore,<br>\n",
        "\n",
        "$\\frac{\\partial o}{\\partial x_i} = \\frac{1}{6}\\times 12(3x+2)$<br>\n",
        "\n",
        "$\\frac{\\partial o}{\\partial x_i}\\bigr\\rvert_{x_i=1} = 2(3(1)+2) = 10$\n",
        "\n",
        "$\\frac{\\partial o}{\\partial x_i}\\bigr\\rvert_{x_i=2} = 2(3(2)+2) = 16$\n",
        "\n",
        "$\\frac{\\partial o}{\\partial x_i}\\bigr\\rvert_{x_i=3} = 2(3(3)+2) = 22$"
      ]
    },
    {
      "cell_type": "markdown",
      "metadata": {
        "id": "SGYl5M9e9rVL"
      },
      "source": [
        "___\n",
        "# Linear Regression with PyTorch\n",
        "In this section we'll use PyTorch's machine learning model to progressively develop a best-fit line for a given set of data points. Like most linear regression algorithms, we're seeking to minimize the error between our model and the actual data, using a <em>loss function</em> like mean-squared-error.\n"
      ]
    },
    {
      "cell_type": "markdown",
      "metadata": {
        "id": "GNLpLAr09rVN"
      },
      "source": [
        "## Perform standard imports"
      ]
    },
    {
      "cell_type": "code",
      "execution_count": 39,
      "metadata": {
        "id": "wc1vplW09rVO"
      },
      "outputs": [],
      "source": [
        "import torch\n",
        "import torch.nn as nn  # we'll use this a lot going forward!\n",
        "\n",
        "import numpy as np\n",
        "import matplotlib.pyplot as plt\n",
        "%matplotlib inline"
      ]
    },
    {
      "cell_type": "markdown",
      "metadata": {
        "id": "wpPQQjMj9rVO"
      },
      "source": [
        "## Create a column matrix of X values\n",
        "We can create tensors right away rather than convert from NumPy arrays."
      ]
    },
    {
      "cell_type": "code",
      "execution_count": 40,
      "metadata": {
        "id": "b0UCvoUs9rVO"
      },
      "outputs": [],
      "source": [
        "X = torch.linspace(1,50,50).reshape(-1,1)\n",
        "\n",
        "# Equivalent to\n",
        "# X = torch.unsqueeze(torch.linspace(1,50,50), dim=1)"
      ]
    },
    {
      "cell_type": "markdown",
      "metadata": {
        "id": "mqYLN_9a9rVP"
      },
      "source": [
        "## Create a column matrix of y values\n",
        "Here we'll set our own parameters of $\\mathrm {weight} = 2,\\; \\mathrm {bias} = 1$, plus the error amount.<br><strong><tt>y</tt></strong> will have the same shape as <strong><tt>X</tt></strong> and <strong><tt>e</tt></strong>"
      ]
    },
    {
      "cell_type": "code",
      "execution_count": 41,
      "metadata": {
        "id": "p05wfrPx9rVQ"
      },
      "outputs": [
        {
          "name": "stdout",
          "output_type": "stream",
          "text": [
            "torch.Size([50, 1])\n"
          ]
        }
      ],
      "source": [
        "torch.manual_seed(71) # to obtain reproducible results\n",
        "e = torch.randint(-8,9,(50,1),dtype=torch.float)\n",
        "y = 2*X + 1 + e\n",
        "print(y.shape)"
      ]
    },
    {
      "cell_type": "markdown",
      "metadata": {
        "id": "X04u5yd99rVQ"
      },
      "source": [
        "## Plot the results\n",
        "We have to convert tensors to NumPy arrays just for plotting."
      ]
    },
    {
      "cell_type": "code",
      "execution_count": 42,
      "metadata": {
        "id": "d9tEXXg09rVQ"
      },
      "outputs": [
        {
          "data": {
            "image/png": "[encoded data removed]",
            "text/plain": [
              "<Figure size 640x480 with 1 Axes>"
            ]
          },
          "metadata": {},
          "output_type": "display_data"
        }
      ],
      "source": [
        "plt.scatter(X.numpy(), y.numpy())\n",
        "plt.ylabel('y')\n",
        "plt.xlabel('x');"
      ]
    },
    {
      "cell_type": "markdown",
      "metadata": {
        "id": "SNihp3Eq9rVQ"
      },
      "source": [
        "Note that when we created tensor $X$, we did <em>not</em> pass <tt>requires_grad=True</tt>. This means that $y$ doesn't have a gradient function, and <tt>y.backward()</tt> won't work. Since PyTorch is not tracking operations, it doesn't know the relationship between $X$ and $y$."
      ]
    },
    {
      "cell_type": "markdown",
      "metadata": {
        "id": "CfcDBMVr9rVQ"
      },
      "source": [
        "## Simple linear model\n",
        "As a quick demonstration we'll show how the built-in <tt>nn.Linear()</tt> model preselects weight and bias values at random."
      ]
    },
    {
      "cell_type": "code",
      "execution_count": 43,
      "metadata": {
        "id": "h_bg5sRW9rVR"
      },
      "outputs": [
        {
          "name": "stdout",
          "output_type": "stream",
          "text": [
            "Parameter containing:\n",
            "tensor([[0.1060]], requires_grad=True)\n",
            "Parameter containing:\n",
            "tensor([0.9638], requires_grad=True)\n"
          ]
        }
      ],
      "source": [
        "torch.manual_seed(59)\n",
        "\n",
        "model = nn.Linear(in_features=1, out_features=1)\n",
        "print(model.weight)\n",
        "print(model.bias)"
      ]
    },
    {
      "cell_type": "markdown",
      "metadata": {
        "id": "178e4_Qp9rVR"
      },
      "source": [
        "Without seeing any data, the model sets a random weight of 0.1060 and a bias of 0.9638."
      ]
    },
    {
      "cell_type": "markdown",
      "metadata": {
        "id": "HnTkIstG9rVR"
      },
      "source": [
        "## Model classes\n",
        "PyTorch lets us define models as object classes that can store multiple model layers. In upcoming sections we'll set up several neural network layers, and determine how each layer should perform its forward pass to the next layer. For now, though, we only need a single <tt>linear</tt> layer."
      ]
    },
    {
      "cell_type": "code",
      "execution_count": 44,
      "metadata": {
        "id": "a6tyFzN69rVR"
      },
      "outputs": [],
      "source": [
        "class Model(nn.Module):\n",
        "    def __init__(self, in_features, out_features):\n",
        "        super().__init__()\n",
        "        self.linear = nn.Linear(in_features, out_features)\n",
        "\n",
        "    def forward(self, x):\n",
        "        y_pred = self.linear(x)\n",
        "        return y_pred"
      ]
    },
    {
      "cell_type": "markdown",
      "metadata": {
        "id": "FmN2sTkk9rVR"
      },
      "source": [
        "<div class=\"alert alert-info\"><strong>NOTE:</strong> The \"Linear\" model layer used here doesn't really refer to linear regression. Instead, it describes the type of neural network layer employed. Linear layers are also called \"fully connected\" or \"dense\" layers. Going forward our models may contain linear layers, convolutional layers, and more.</div>"
      ]
    },
    {
      "cell_type": "markdown",
      "metadata": {
        "id": "rLoEpH1W9rVR"
      },
      "source": [
        "When <tt>Model</tt> is instantiated, we need to pass in the size (dimensions) of the incoming and outgoing features. For our purposes we'll use (1,1).<br>As above, we can see the initial hyperparameters."
      ]
    },
    {
      "cell_type": "code",
      "execution_count": 45,
      "metadata": {
        "id": "SP2bQH2Z9rVS"
      },
      "outputs": [
        {
          "name": "stdout",
          "output_type": "stream",
          "text": [
            "Model(\n",
            "  (linear): Linear(in_features=1, out_features=1, bias=True)\n",
            ")\n",
            "Weight: 0.10597813129425049\n",
            "Bias:   0.9637961387634277\n"
          ]
        }
      ],
      "source": [
        "torch.manual_seed(59)\n",
        "model = Model(1, 1)\n",
        "print(model)\n",
        "print('Weight:', model.linear.weight.item())\n",
        "print('Bias:  ', model.linear.bias.item())"
      ]
    },
    {
      "cell_type": "markdown",
      "metadata": {
        "id": "7WUCqp5V9rVS"
      },
      "source": [
        "As models become more complex, it may be better to iterate over all the model parameters:"
      ]
    },
    {
      "cell_type": "code",
      "execution_count": 46,
      "metadata": {
        "id": "Rg4qeWY99rVS"
      },
      "outputs": [
        {
          "name": "stdout",
          "output_type": "stream",
          "text": [
            "linear.weight \t 0.10597813129425049\n",
            "linear.bias \t 0.9637961387634277\n"
          ]
        }
      ],
      "source": [
        "for name, param in model.named_parameters():\n",
        "    print(name, '\\t', param.item())"
      ]
    },
    {
      "cell_type": "markdown",
      "metadata": {
        "id": "BBaJmW4C9rVS"
      },
      "source": [
        "Now let's see the result when we pass a tensor into the model."
      ]
    },
    {
      "cell_type": "code",
      "execution_count": 47,
      "metadata": {
        "id": "hPfL_eMb9rVT"
      },
      "outputs": [
        {
          "name": "stdout",
          "output_type": "stream",
          "text": [
            "tensor([1.1758], grad_fn=<ViewBackward0>)\n"
          ]
        }
      ],
      "source": [
        "x = torch.tensor([2.0])\n",
        "print(model(x))   # equivalent to print(model.forward(x))"
      ]
    },
    {
      "cell_type": "markdown",
      "metadata": {
        "id": "fSWZYS0f9rVT"
      },
      "source": [
        "which is confirmed with $f(x) = (0.1060)(2.0)+(0.9638) = 1.1758$"
      ]
    },
    {
      "cell_type": "markdown",
      "metadata": {
        "id": "iKDbIdsG9rVT"
      },
      "source": [
        "## Plot the initial model\n",
        "We can plot the untrained model against our dataset to get an idea of our starting point."
      ]
    },
    {
      "cell_type": "code",
      "execution_count": 48,
      "metadata": {
        "id": "8y1wONGV9rVT"
      },
      "outputs": [
        {
          "name": "stdout",
          "output_type": "stream",
          "text": [
            "[ 1. 50.]\n"
          ]
        }
      ],
      "source": [
        "x1 = np.array([X.min(),X.max()])\n",
        "print(x1)"
      ]
    },
    {
      "cell_type": "code",
      "execution_count": 49,
      "metadata": {
        "id": "b9foWytd9rVT"
      },
      "outputs": [
        {
          "name": "stdout",
          "output_type": "stream",
          "text": [
            "Initial weight: 0.10597813, Initial bias: 0.96379614\n",
            "\n",
            "[1.0697743 6.2627025]\n"
          ]
        }
      ],
      "source": [
        "w1,b1 = model.linear.weight.item(), model.linear.bias.item()\n",
        "print(f'Initial weight: {w1:.8f}, Initial bias: {b1:.8f}')\n",
        "print()\n",
        "\n",
        "y1 = x1*w1 + b1\n",
        "print(y1)"
      ]
    },
    {
      "cell_type": "code",
      "execution_count": 50,
      "metadata": {
        "id": "QMgtDa5D9rVT"
      },
      "outputs": [
        {
          "data": {
            "image/png": "[encoded data removed]",
            "text/plain": [
              "<Figure size 640x480 with 1 Axes>"
            ]
          },
          "metadata": {},
          "output_type": "display_data"
        }
      ],
      "source": [
        "plt.scatter(X.numpy(), y.numpy())\n",
        "plt.plot(x1,y1,'r')\n",
        "plt.title('Initial Model')\n",
        "plt.ylabel('y')\n",
        "plt.xlabel('x');"
      ]
    },
    {
      "cell_type": "markdown",
      "metadata": {
        "id": "s8istUWM9rVT"
      },
      "source": [
        "## Set the loss function\n",
        "We could write our own function to apply a Mean Squared Error (MSE) that follows<br>\n",
        "\n",
        "$\\begin{split}MSE &= \\frac {1} {n} \\sum_{i=1}^n {(y_i - \\hat y_i)}^2 \\\\\n",
        "&= \\frac {1} {n} \\sum_{i=1}^n {(y_i - (wx_i + b))}^2\\end{split}$<br>\n",
        "\n",
        "Fortunately PyTorch has it built in.<br>\n",
        "<em>By convention, you'll see the variable name \"criterion\" used, but feel free to use something like \"linear_loss_func\" if that's clearer.</em>"
      ]
    },
    {
      "cell_type": "code",
      "execution_count": 51,
      "metadata": {
        "id": "AUonfg199rVT"
      },
      "outputs": [],
      "source": [
        "criterion = nn.MSELoss()"
      ]
    },
    {
      "cell_type": "markdown",
      "metadata": {
        "id": "xcvgXPBN9rVU"
      },
      "source": [
        "## Set the optimization\n",
        "Here we'll use <a href='https://en.wikipedia.org/wiki/Stochastic_gradient_descent'>Stochastic Gradient Descent</a> (SGD) with an applied <a href='https://en.wikipedia.org/wiki/Learning_rate'>learning rate</a> (lr) of 0.001. Recall that the learning rate tells the optimizer how much to adjust each parameter on the next round of calculations. Too large a step and we run the risk of overshooting the minimum, causing the algorithm to diverge. Too small and it will take a long time to converge.\n",
        "\n",
        "For more complicated (multivariate) data, you might also consider passing optional <a href='https://en.wikipedia.org/wiki/Stochastic_gradient_descent#Momentum'><tt>momentum</tt></a> and <a href='https://en.wikipedia.org/wiki/Tikhonov_regularization'><tt>weight_decay</tt></a> arguments. Momentum allows the algorithm to \"roll over\" small bumps to avoid local minima that can cause convergence too soon. Weight decay (also called an L2 penalty) applies to biases.\n",
        "\n",
        "For more information, see <a href='https://pytorch.org/docs/stable/optim.html'><strong><tt>torch.optim</tt></strong></a>"
      ]
    },
    {
      "cell_type": "code",
      "execution_count": 52,
      "metadata": {
        "id": "UJtRR7Rt9rVU"
      },
      "outputs": [],
      "source": [
        "optimizer = torch.optim.SGD(model.parameters(), lr = 0.001)\n",
        "\n",
        "# You'll sometimes see this as\n",
        "# optimizer = torch.optim.SGD(model.parameters(), lr = 1e-3)"
      ]
    },
    {
      "cell_type": "markdown",
      "metadata": {
        "id": "4HW-l8uW9rVU"
      },
      "source": [
        "## Train the model\n",
        "An <em>epoch</em> is a single pass through the entire dataset. We want to pick a sufficiently large number of epochs to reach a plateau close to our known parameters of $\\mathrm {weight} = 2,\\; \\mathrm {bias} = 1$"
      ]
    },
    {
      "cell_type": "markdown",
      "metadata": {
        "id": "ZnujrzQ19rVU"
      },
      "source": [
        "<div class=\"alert alert-info\"><strong>Let's walk through the steps we're about to take:</strong><br>\n",
        "\n",
        "1. Set a reasonably large number of passes<br>\n",
        "<tt><font color=black>epochs = 50</font></tt><br>\n",
        "2. Create a list to store loss values. This will let us view our progress afterward.<br>\n",
        "<tt><font color=black>losses = []</font></tt><br>\n",
        "<tt><font color=black>for i in range(epochs):</font></tt><br>\n",
        "3. Bump \"i\" so that the printed report starts at 1<br>\n",
        "<tt><font color=black>&nbsp;&nbsp;&nbsp;&nbsp;i+=1</font></tt><br>\n",
        "4. Create a prediction set by running \"X\" through the current model parameters<br>\n",
        "<tt><font color=black>&nbsp;&nbsp;&nbsp;&nbsp;y_pred = model.forward(X)</font></tt><br>\n",
        "5. Calculate the loss<br>\n",
        "<tt><font color=black>&nbsp;&nbsp;&nbsp;&nbsp;loss = criterion(y_pred, y)</font></tt><br>\n",
        "6. Add the loss value to our tracking list<br>\n",
        "<tt><font color=black>&nbsp;&nbsp;&nbsp;&nbsp;losses.append(loss)</font></tt><br>\n",
        "7. Print the current line of results<br>\n",
        "<tt><font color=black>&nbsp;&nbsp;&nbsp;&nbsp;print(f'epoch: {i:2} loss: {loss.item():10.8f}')</font></tt><br>\n",
        "8. Gradients accumulate with every backprop. To prevent compounding we need to reset the stored gradient for each new epoch.<br>\n",
        "<tt><font color=black>&nbsp;&nbsp;&nbsp;&nbsp;optimizer.zero_grad()</font></tt><br>\n",
        "9. Now we can backprop<br>\n",
        "<tt><font color=black>&nbsp;&nbsp;&nbsp;&nbsp;loss.backward()</font></tt><br>\n",
        "10. Finally, we can update the hyperparameters of our model<br>\n",
        "<tt><font color=black>&nbsp;&nbsp;&nbsp;&nbsp;optimizer.step()</font></tt>\n",
        "</div>"
      ]
    },
    {
      "cell_type": "code",
      "execution_count": 53,
      "metadata": {
        "id": "lV-TQVbH9rVU",
        "scrolled": true
      },
      "outputs": [
        {
          "name": "stdout",
          "output_type": "stream",
          "text": [
            "epoch:  0  loss: 3057.21679688weight: 0.10597813bias: 0.96379614\n",
            "epoch:  1  loss: 1588.53112793weight: 3.33490038bias: 1.06046367\n",
            "epoch:  2  loss: 830.29998779weight: 1.01483274bias: 0.99226284\n",
            "epoch:  3  loss: 438.85241699weight: 2.68179965bias: 1.04252183\n",
            "epoch:  4  loss: 236.76152039weight: 1.48402119bias: 1.00766504\n",
            "epoch:  5  loss: 132.42912292weight: 2.34460592bias: 1.03396463\n",
            "epoch:  6  loss: 78.56572723weight: 1.72622538bias: 1.01632178\n",
            "epoch:  7  loss: 50.75775909weight: 2.17050409bias: 1.03025162\n",
            "epoch:  8  loss: 36.40123367weight: 1.85124576bias: 1.02149546\n",
            "epoch:  9  loss: 28.98922920weight: 2.08060074bias: 1.02903891\n",
            "epoch: 10  loss: 25.16238213weight: 1.91576838bias: 1.02487016\n",
            "epoch: 11  loss: 23.18647385weight: 2.03416562bias: 1.02911627\n",
            "epoch: 12  loss: 22.16612625weight: 1.94905841bias: 1.02731562\n",
            "epoch: 13  loss: 21.63911057weight: 2.01017213bias: 1.02985907\n",
            "epoch: 14  loss: 21.36677170weight: 1.96622372bias: 1.02928054\n",
            "epoch: 15  loss: 21.22591782weight: 1.99776423bias: 1.03094459\n",
            "epoch: 16  loss: 21.15294647weight: 1.97506487bias: 1.03099668\n",
            "epoch: 17  loss: 21.11500931weight: 1.99133754bias: 1.03220642\n",
            "epoch: 18  loss: 21.09517670weight: 1.97960854bias: 1.03258383\n",
            "epoch: 19  loss: 21.08468437weight: 1.98799884bias: 1.03355861\n",
            "epoch: 20  loss: 21.07901382weight: 1.98193336bias: 1.03410351\n",
            "epoch: 21  loss: 21.07583046weight: 1.98625445bias: 1.03495669\n",
            "epoch: 22  loss: 21.07393837weight: 1.98311269bias: 1.03558779\n",
            "epoch: 23  loss: 21.07270050weight: 1.98533309bias: 1.03637791\n",
            "epoch: 24  loss: 21.07181931weight: 1.98370099bias: 1.03705311\n",
            "epoch: 25  loss: 21.07110596weight: 1.98483658bias: 1.03781021\n",
            "epoch: 26  loss: 21.07048607weight: 1.98398376bias: 1.03850794\n",
            "epoch: 27  loss: 21.06991386weight: 1.98455977bias: 1.03924775\n",
            "epoch: 28  loss: 21.06936836weight: 1.98410904bias: 1.03995669\n",
            "epoch: 29  loss: 21.06883812weight: 1.98439610bias: 1.04068720\n",
            "epoch: 30  loss: 21.06830788weight: 1.98415291bias: 1.04140162\n",
            "epoch: 31  loss: 21.06778145weight: 1.98429084bias: 1.04212701\n",
            "epoch: 32  loss: 21.06726074weight: 1.98415494bias: 1.04284394\n",
            "epoch: 33  loss: 21.06674004weight: 1.98421574bias: 1.04356635\n",
            "epoch: 34  loss: 21.06622505weight: 1.98413551bias: 1.04428422\n",
            "epoch: 35  loss: 21.06570816weight: 1.98415649bias: 1.04500473\n",
            "epoch: 36  loss: 21.06518745weight: 1.98410451bias: 1.04572272\n",
            "epoch: 37  loss: 21.06466866weight: 1.98410523bias: 1.04644191\n",
            "epoch: 38  loss: 21.06415749weight: 1.98406804bias: 1.04715967\n",
            "epoch: 39  loss: 21.06363678weight: 1.98405814bias: 1.04787791\n",
            "epoch: 40  loss: 21.06312561weight: 1.98402870bias: 1.04859519\n",
            "epoch: 41  loss: 21.06260681weight: 1.98401320bias: 1.04931259\n",
            "epoch: 42  loss: 21.06209564weight: 1.98398757bias: 1.05002928\n",
            "epoch: 43  loss: 21.06157684weight: 1.98396957bias: 1.05074584\n",
            "epoch: 44  loss: 21.06106949weight: 1.98394585bias: 1.05146194\n",
            "epoch: 45  loss: 21.06055450weight: 1.98392630bias: 1.05217779\n",
            "epoch: 46  loss: 21.06004333weight: 1.98390377bias: 1.05289316\n",
            "epoch: 47  loss: 21.05953217weight: 1.98388338bias: 1.05360830\n",
            "epoch: 48  loss: 21.05901337weight: 1.98386145bias: 1.05432308\n",
            "epoch: 49  loss: 21.05850983weight: 1.98384094bias: 1.05503750\n"
          ]
        }
      ],
      "source": [
        "epochs = 50\n",
        "losses = []\n",
        "\n",
        "for i in range(epochs):\n",
        "    # forward step\n",
        "    y_pred = model.forward(X)\n",
        "    # compute loss (error)\n",
        "    loss = criterion(y_pred, y)\n",
        "    # append loss to a list for plotting and analysis\n",
        "    losses.append(loss.detach().numpy())\n",
        "    print(f'epoch: {i:2}  loss: {loss.item():10.8f}', end='')\n",
        "    print(f'weight: {model.linear.weight.item():10.8f}', end='')\n",
        "    print(f'bias: {model.linear.bias.item():10.8f}')\n",
        "    # reset gadient at each epoch, because gradients are accumulating\n",
        "    optimizer.zero_grad()\n",
        "    # backprop the loss through the model and compute gradients\n",
        "    loss.backward()\n",
        "    # optimization step to upade weights and biases\n",
        "    optimizer.step()"
      ]
    },
    {
      "cell_type": "markdown",
      "metadata": {
        "id": "G8OmNUNj9rVU"
      },
      "source": [
        "## Plot the loss values\n",
        "Let's see how loss changed over time"
      ]
    },
    {
      "cell_type": "code",
      "execution_count": 54,
      "metadata": {
        "id": "8KIwPNrT9rVU"
      },
      "outputs": [
        {
          "data": {
            "image/png": "[encoded data removed]",
            "text/plain": [
              "<Figure size 640x480 with 1 Axes>"
            ]
          },
          "metadata": {},
          "output_type": "display_data"
        }
      ],
      "source": [
        "plt.plot(range(epochs), losses)\n",
        "plt.ylabel('Loss')\n",
        "plt.xlabel('epoch');"
      ]
    },
    {
      "cell_type": "markdown",
      "metadata": {
        "id": "zKlA7tqG9rVf"
      },
      "source": [
        "## Plot the result\n",
        "Now we'll derive <tt>y1</tt> from the new model to plot the most recent best-fit line."
      ]
    },
    {
      "cell_type": "code",
      "execution_count": 55,
      "metadata": {
        "id": "T6snU56-9rVf"
      },
      "outputs": [
        {
          "name": "stdout",
          "output_type": "stream",
          "text": [
            "Current weight: 1.98381913, Current bias: 1.05575156\n",
            "\n",
            "[ 1. 50.]\n",
            "[  3.0395708 100.246704 ]\n"
          ]
        }
      ],
      "source": [
        "w1,b1 = model.linear.weight.item(), model.linear.bias.item()\n",
        "print(f'Current weight: {w1:.8f}, Current bias: {b1:.8f}')\n",
        "print()\n",
        "\n",
        "y1 = x1*w1 + b1\n",
        "print(x1)\n",
        "print(y1)"
      ]
    },
    {
      "cell_type": "code",
      "execution_count": 56,
      "metadata": {
        "id": "alyka8vf9rVf"
      },
      "outputs": [
        {
          "data": {
            "image/png": "[encoded data removed]",
            "text/plain": [
              "<Figure size 640x480 with 1 Axes>"
            ]
          },
          "metadata": {},
          "output_type": "display_data"
        }
      ],
      "source": [
        "plt.scatter(X.numpy(), y.numpy())\n",
        "plt.plot(x1,y1,'r')\n",
        "plt.title('Current Model')\n",
        "plt.ylabel('y')\n",
        "plt.xlabel('x');"
      ]
    },
    {
      "cell_type": "markdown",
      "metadata": {
        "collapsed": true,
        "id": "CVsBuLNGeyZN"
      },
      "source": [
        "___\n",
        "# Basic PyTorch Neural Network\n",
        "\n",
        "Our goal is to develop a model capable of classifying an iris plant based on four features. This is a multi-class classification where each sample can belong to ONE of 3 classes (<em>Iris setosa</em>, <em>Iris virginica</em> or <em>Iris versicolor</em>). The network will have 4 input neurons (flower dimensions) and 3 output neurons (scores). Our loss function will compare the target label (ground truth) to the corresponding output score."
      ]
    },
    {
      "cell_type": "markdown",
      "metadata": {
        "id": "zE5U14iJeyZP"
      },
      "source": [
        "## Perform standard imports"
      ]
    },
    {
      "cell_type": "code",
      "execution_count": 57,
      "metadata": {
        "id": "x3cq9Sq1eyZQ"
      },
      "outputs": [],
      "source": [
        "import torch\n",
        "import torch.nn as nn\n",
        "import torch.nn.functional as F\n",
        "from torch.utils.data import TensorDataset, Dataset, DataLoader\n",
        "from sklearn.model_selection import train_test_split\n",
        "\n",
        "import pandas as pd\n",
        "import matplotlib.pyplot as plt\n",
        "%matplotlib inline"
      ]
    },
    {
      "cell_type": "markdown",
      "metadata": {
        "id": "Y9Vrmc3WeyZR"
      },
      "source": [
        "## Create a model class\n",
        "For this exercise we're using the Iris dataset. Since a single straight line can't classify three flowers we should include at least one hidden layer in our model.\n",
        "\n",
        "In the forward section we'll use the <a href='https://en.wikipedia.org/wiki/Rectifier_(neural_networks)'>rectified linear unit</a> (ReLU)  function<br>\n",
        "$\\quad f(x)=max(0,x)$<br>\n",
        "as our activation function. This is available as a full module <a href='https://pytorch.org/docs/stable/nn.html#relu'><strong><tt>torch.nn.ReLU</tt></strong></a> or as just a functional call <a href='https://pytorch.org/docs/stable/nn.html#id27'><strong><tt>torch.nn.functional.relu</tt></strong></a>"
      ]
    },
    {
      "cell_type": "code",
      "execution_count": 58,
      "metadata": {
        "id": "01nHpukReyZR"
      },
      "outputs": [],
      "source": [
        "class Model(nn.Module):\n",
        "    def __init__(self, in_features=4, h1=8, h2=9, out_features=3):\n",
        "        super().__init__()\n",
        "        self.fc1 = nn.Linear(in_features,h1)    # 1st hidden layer\n",
        "        self.fc2 = nn.Linear(h1, h2)            # 2nd hidden layer\n",
        "        self.out = nn.Linear(h2, out_features)  # output layer\n",
        "\n",
        "    def forward(self, x):\n",
        "        x = F.relu(self.fc1(x))\n",
        "        x = F.relu(self.fc2(x))\n",
        "        x = self.out(x)\n",
        "        return x"
      ]
    },
    {
      "cell_type": "code",
      "execution_count": 59,
      "metadata": {
        "id": "nFwbTOGJeyZR"
      },
      "outputs": [],
      "source": [
        "# Instantiate the Model class using parameter defaults:\n",
        "torch.manual_seed(32)\n",
        "model = Model()"
      ]
    },
    {
      "cell_type": "markdown",
      "metadata": {
        "id": "fdK-yAb-eyZR"
      },
      "source": [
        "## Load the iris dataset"
      ]
    },
    {
      "cell_type": "code",
      "execution_count": 60,
      "metadata": {
        "id": "SG1YZzf4eyZR"
      },
      "outputs": [
        {
          "data": {
            "text/html": [
              "<div>\n",
              "<style scoped>\n",
              "    .dataframe tbody tr th:only-of-type {\n",
              "        vertical-align: middle;\n",
              "    }\n",
              "\n",
              "    .dataframe tbody tr th {\n",
              "        vertical-align: top;\n",
              "    }\n",
              "\n",
              "    .dataframe thead th {\n",
              "        text-align: right;\n",
              "    }\n",
              "</style>\n",
              "<table border=\"1\" class=\"dataframe\">\n",
              "  <thead>\n",
              "    <tr style=\"text-align: right;\">\n",
              "      <th></th>\n",
              "      <th>sepal length</th>\n",
              "      <th>sepal width</th>\n",
              "      <th>petal length</th>\n",
              "      <th>petal width</th>\n",
              "      <th>class</th>\n",
              "    </tr>\n",
              "  </thead>\n",
              "  <tbody>\n",
              "    <tr>\n",
              "      <th>0</th>\n",
              "      <td>5.1</td>\n",
              "      <td>3.5</td>\n",
              "      <td>1.4</td>\n",
              "      <td>0.2</td>\n",
              "      <td>Iris-setosa</td>\n",
              "    </tr>\n",
              "    <tr>\n",
              "      <th>1</th>\n",
              "      <td>4.9</td>\n",
              "      <td>3.0</td>\n",
              "      <td>1.4</td>\n",
              "      <td>0.2</td>\n",
              "      <td>Iris-setosa</td>\n",
              "    </tr>\n",
              "    <tr>\n",
              "      <th>2</th>\n",
              "      <td>4.7</td>\n",
              "      <td>3.2</td>\n",
              "      <td>1.3</td>\n",
              "      <td>0.2</td>\n",
              "      <td>Iris-setosa</td>\n",
              "    </tr>\n",
              "    <tr>\n",
              "      <th>3</th>\n",
              "      <td>4.6</td>\n",
              "      <td>3.1</td>\n",
              "      <td>1.5</td>\n",
              "      <td>0.2</td>\n",
              "      <td>Iris-setosa</td>\n",
              "    </tr>\n",
              "    <tr>\n",
              "      <th>4</th>\n",
              "      <td>5.0</td>\n",
              "      <td>3.6</td>\n",
              "      <td>1.4</td>\n",
              "      <td>0.2</td>\n",
              "      <td>Iris-setosa</td>\n",
              "    </tr>\n",
              "  </tbody>\n",
              "</table>\n",
              "</div>"
            ],
            "text/plain": [
              "   sepal length  sepal width  petal length  petal width        class\n",
              "0           5.1          3.5           1.4          0.2  Iris-setosa\n",
              "1           4.9          3.0           1.4          0.2  Iris-setosa\n",
              "2           4.7          3.2           1.3          0.2  Iris-setosa\n",
              "3           4.6          3.1           1.5          0.2  Iris-setosa\n",
              "4           5.0          3.6           1.4          0.2  Iris-setosa"
            ]
          },
          "execution_count": 60,
          "metadata": {},
          "output_type": "execute_result"
        }
      ],
      "source": [
        "df = pd.read_csv('https://raw.githubusercontent.com/plotly/datasets/master/iris-data.csv')\n",
        "df.head()"
      ]
    },
    {
      "cell_type": "markdown",
      "metadata": {
        "id": "_Pbh8wp1eyZS"
      },
      "source": [
        "## Perform Train/Test/Split"
      ]
    },
    {
      "cell_type": "code",
      "execution_count": 61,
      "metadata": {
        "id": "IIccgqiAgnU-"
      },
      "outputs": [],
      "source": [
        "from sklearn.model_selection import train_test_split\n",
        "\n",
        "X = df.drop('class',axis=1).values\n",
        "y = df['class'].map({'Iris-setosa':0,'Iris-versicolor':1,'Iris-virginica':2}).values\n",
        "train_X, test_X, train_y, test_y = train_test_split(X, y, test_size=0.2, random_state=33)\n",
        "\n",
        "X_train = torch.FloatTensor(train_X)\n",
        "X_test = torch.FloatTensor(test_X)\n",
        "y_train = torch.LongTensor(train_y)\n",
        "y_test = torch.LongTensor(test_y)"
      ]
    },
    {
      "cell_type": "markdown",
      "metadata": {
        "id": "l0lhWiVpeyZT"
      },
      "source": [
        "## Prepare DataLoader\n",
        "For this analysis we don't need to create a Dataset object, but we should take advantage of PyTorch's DataLoader tool. Even though our dataset is small (120 training samples), we'll load it into our model in two batches. This technique becomes very helpful with large datasets.\n",
        "\n",
        "Note that scikit-learn already shuffled the source dataset before preparing train and test sets. We'll still benefit from the DataLoader shuffle utility for model training if we make multiple passes throught the dataset."
      ]
    },
    {
      "cell_type": "code",
      "execution_count": 62,
      "metadata": {
        "id": "UoHXQA_5i5pk"
      },
      "outputs": [],
      "source": [
        "Tr_set = TensorDataset(X_train,y_train) # create your datset\n",
        "Tr_dataloader = DataLoader(Tr_set,batch_size=64, shuffle=True) # create your dataloader\n",
        "Ts_set = TensorDataset(X_test,y_test)\n",
        "Ts_dataloader = DataLoader(Ts_set,batch_size=64, shuffle=True)"
      ]
    },
    {
      "cell_type": "markdown",
      "metadata": {
        "id": "UsoQN1-oeyZT"
      },
      "source": [
        "## Define loss equations and optimizations\n",
        "As before, we'll utilize <a href='https://en.wikipedia.org/wiki/Cross_entropy'>Cross Entropy</a> with <a href='https://pytorch.org/docs/stable/nn.html#crossentropyloss'><strong><tt>torch.nn.CrossEntropyLoss()</tt></strong></a><br>\n",
        "For the optimizer, we'll use a variation of Stochastic Gradient Descent called <a href='https://en.wikipedia.org/wiki/Stochastic_gradient_descent#Adam'>Adam</a> (short for Adaptive Moment Estimation), with <a href='https://pytorch.org/docs/stable/optim.html#torch.optim.Adam'><strong><tt>torch.optim.Adam()</tt></strong></a>"
      ]
    },
    {
      "cell_type": "code",
      "execution_count": 63,
      "metadata": {
        "id": "W0uEzwmFeyZT"
      },
      "outputs": [],
      "source": [
        "# FOR REDO\n",
        "torch.manual_seed(4)\n",
        "model = Model()"
      ]
    },
    {
      "cell_type": "code",
      "execution_count": 64,
      "metadata": {
        "id": "offHZf4LeyZT"
      },
      "outputs": [],
      "source": [
        "criterion = nn.CrossEntropyLoss()\n",
        "optimizer = torch.optim.Adam(model.parameters(), lr=0.01)"
      ]
    },
    {
      "cell_type": "code",
      "execution_count": 65,
      "metadata": {
        "id": "uftnTEU2eyZT"
      },
      "outputs": [
        {
          "data": {
            "text/plain": [
              "<bound method Module.parameters of Model(\n",
              "  (fc1): Linear(in_features=4, out_features=8, bias=True)\n",
              "  (fc2): Linear(in_features=8, out_features=9, bias=True)\n",
              "  (out): Linear(in_features=9, out_features=3, bias=True)\n",
              ")>"
            ]
          },
          "execution_count": 65,
          "metadata": {},
          "output_type": "execute_result"
        }
      ],
      "source": [
        "model.parameters"
      ]
    },
    {
      "cell_type": "markdown",
      "metadata": {
        "id": "s_dAxQfoeyZU"
      },
      "source": [
        "## Train the model"
      ]
    },
    {
      "cell_type": "code",
      "execution_count": 66,
      "metadata": {
        "id": "CQj7uPIYjDU3"
      },
      "outputs": [
        {
          "name": "stdout",
          "output_type": "stream",
          "text": [
            "epoch:  1  loss: 1.05592191\n",
            "epoch: 11  loss: 0.70733768\n",
            "epoch: 21  loss: 0.34743851\n",
            "epoch: 31  loss: 0.15905826\n",
            "epoch: 41  loss: 0.09642036\n",
            "epoch: 51  loss: 0.07830629\n",
            "epoch: 61  loss: 0.07481284\n",
            "epoch: 71  loss: 0.06339094\n",
            "epoch: 81  loss: 0.06052411\n",
            "epoch: 91  loss: 0.05775695\n",
            "epoch: 101  loss: 0.06109943\n",
            "epoch: 111  loss: 0.07459415\n",
            "epoch: 121  loss: 0.05458643\n",
            "epoch: 131  loss: 0.05381037\n",
            "epoch: 141  loss: 0.05177440\n"
          ]
        }
      ],
      "source": [
        "epochs = 150\n",
        "losses = []\n",
        "\n",
        "for i in range(epochs):\n",
        "    for X, y in Tr_dataloader:\n",
        "        y_pred = model.forward(X)\n",
        "        loss = criterion(y_pred, y)\n",
        "        optimizer.zero_grad()\n",
        "        loss.backward()\n",
        "        optimizer.step()\n",
        "\n",
        "    with torch.no_grad():\n",
        "        y_pred = model.forward(X_train)\n",
        "        loss = criterion(y_pred, y_train)\n",
        "        losses.append(loss.detach().numpy())\n",
        "        if i%10 == 1:\n",
        "            print(f'epoch: {i:2}  loss: {loss.item():10.8f}')"
      ]
    },
    {
      "cell_type": "markdown",
      "metadata": {
        "id": "2w3PBzPBeyZU"
      },
      "source": [
        "## Plot the loss function"
      ]
    },
    {
      "cell_type": "code",
      "execution_count": 67,
      "metadata": {
        "id": "wbEChNC1eyZU"
      },
      "outputs": [
        {
          "data": {
            "image/png": "[encoded data removed]",
            "text/plain": [
              "<Figure size 640x480 with 1 Axes>"
            ]
          },
          "metadata": {},
          "output_type": "display_data"
        }
      ],
      "source": [
        "plt.plot(range(epochs), losses)\n",
        "plt.ylabel('Loss')\n",
        "plt.xlabel('epoch');"
      ]
    },
    {
      "cell_type": "markdown",
      "metadata": {
        "id": "QQi3L0aweyZU"
      },
      "source": [
        "## Validate the model\n",
        "Now we run the test set through the model to see if the loss calculation resembles the training data."
      ]
    },
    {
      "cell_type": "code",
      "execution_count": 68,
      "metadata": {
        "id": "Lo-yEOP4eyZU"
      },
      "outputs": [
        {
          "name": "stdout",
          "output_type": "stream",
          "text": [
            "0.10912504\n"
          ]
        }
      ],
      "source": [
        "# TO EVALUATE THE ENTIRE TEST SET\n",
        "with torch.no_grad():\n",
        "    y_val = model.forward(X_test)\n",
        "    loss = criterion(y_val, y_test)\n",
        "print(f'{loss:.8f}')"
      ]
    },
    {
      "cell_type": "code",
      "execution_count": 69,
      "metadata": {
        "id": "e0EUSMZ2eyZV"
      },
      "outputs": [
        {
          "name": "stdout",
          "output_type": "stream",
          "text": [
            " 1. tensor([-2.2648,  7.0772, -1.0277])     1\n",
            " 2. tensor([-1.9182,  7.8730, -1.8069])     1\n",
            " 3. tensor([ 15.7279,   8.4448, -21.4249])  0\n",
            " 4. tensor([-5.0844,  7.2727,  1.9702])     1\n",
            " 5. tensor([-10.4809,   6.5712,   8.2458])  2\n",
            " 6. tensor([-17.6209,   5.8022,  16.4826])  2\n",
            " 7. tensor([ 15.8535,   8.6604, -21.6634])  0\n",
            " 8. tensor([ 16.9068,   8.9132, -22.9550])  0\n",
            " 9. tensor([-10.6230,   6.7605,   8.3121])  2\n",
            "10. tensor([-14.3066,   6.5645,  12.4585])  2\n",
            "11. tensor([-15.4019,   6.4154,  13.7360])  2\n",
            "12. tensor([ 15.3076,   8.0545, -20.7774])  0\n",
            "13. tensor([-14.5363,   6.1415,  12.9253])  2\n",
            "14. tensor([-4.9282,  7.1156,  1.8776])     1\n",
            "15. tensor([-11.7994,   6.6833,   9.6458])  2\n",
            "16. tensor([-1.8613,  7.6209, -1.7441])     1\n",
            "17. tensor([-8.1389,  6.5829,  5.6737])     2\n",
            "18. tensor([ 17.1790,   9.0608, -23.3267])  0\n",
            "19. tensor([-4.5806,  7.3569,  1.3782])     1\n",
            "20. tensor([-11.6314,   7.3346,   9.1308])  2\n",
            "21. tensor([ 16.2263,   8.6145, -22.0595])  0\n",
            "22. tensor([ 17.9621,   9.6262, -24.4590])  0\n",
            "23. tensor([-15.3450,   6.1632,  13.7987])  2\n",
            "24. tensor([ 16.0219,   8.4642, -21.7627])  0\n",
            "25. tensor([-10.0447,   6.2388,   7.9327])  2\n",
            "26. tensor([-8.6817,  6.5850,  6.2675])     2\n",
            "27. tensor([-4.0457,  7.2303,  0.8517])     1\n",
            "28. tensor([-1.1873,  7.3923, -2.3696])     1\n",
            "29. tensor([-10.9407,   6.6125,   8.7361])  2\n",
            "30. tensor([-9.7184,  6.4004,  7.4996])     2\n",
            "\n",
            "28 out of 30 = 93.33% correct\n"
          ]
        }
      ],
      "source": [
        "correct = 0\n",
        "with torch.no_grad():\n",
        "    for i,data in enumerate(X_test):\n",
        "        y_val = model.forward(data)\n",
        "        print(f'{i+1:2}. {str(y_val):38}  {y_test[i]}')\n",
        "        if y_val.argmax().item() == y_test[i]:\n",
        "            correct += 1\n",
        "print(f'\\n{correct} out of {len(y_test)} = {100*correct/len(y_test):.2f}% correct')"
      ]
    },
    {
      "cell_type": "markdown",
      "metadata": {
        "id": "FFWS5vgieyZV"
      },
      "source": [
        "Here we can see that #17 was misclassified."
      ]
    },
    {
      "cell_type": "markdown",
      "metadata": {
        "id": "NM83NcZXeyZV"
      },
      "source": [
        "## Save the trained model to a file\n",
        "Right now <strong><tt>model</tt></strong> has been trained and validated, and seems to correctly classify an iris 97% of the time. Let's save this to disk.<br>\n",
        "The tools we'll use are <a href='https://pytorch.org/docs/stable/torch.html#torch.save'><strong><tt>torch.save()</tt></strong></a> and <a href='https://pytorch.org/docs/stable/torch.html#torch.load'><strong><tt>torch.load()</tt></strong></a><br>\n",
        "\n",
        "There are two basic ways to save a model.<br>\n",
        "\n",
        "The first saves/loads the `state_dict` (learned parameters) of the model, but not the model class. The syntax follows:<br>\n",
        "<tt><strong>Save:</strong>&nbsp;torch.save(model.state_dict(), PATH)<br><br>\n",
        "<strong>Load:</strong>&nbsp;model = TheModelClass(\\*args, \\*\\*kwargs)<br>\n",
        "&nbsp;&nbsp;&nbsp;&nbsp;&nbsp;&nbsp;model.load_state_dict(torch.load(PATH))<br>\n",
        "&nbsp;&nbsp;&nbsp;&nbsp;&nbsp;&nbsp;model.eval()</tt>\n",
        "\n",
        "The second saves the entire model including its class and parameters as a pickle file. Care must be taken if you want to load this into another notebook to make sure all the target data is brought in properly.<br>\n",
        "<tt><strong>Save:</strong>&nbsp;torch.save(model, PATH)<br><br>\n",
        "<strong>Load:</strong>&nbsp;model = torch.load(PATH))<br>\n",
        "&nbsp;&nbsp;&nbsp;&nbsp;&nbsp;&nbsp;model.eval()</tt>\n",
        "\n",
        "In either method, you must call <tt>model.eval()</tt> to set dropout and batch normalization layers to evaluation mode before running inference. Failing to do this will yield inconsistent inference results.\n",
        "\n",
        "For more information visit https://pytorch.org/tutorials/beginner/saving_loading_models.html"
      ]
    },
    {
      "cell_type": "markdown",
      "metadata": {
        "id": "9t6HC6KweyZV"
      },
      "source": [
        "### Save the model"
      ]
    },
    {
      "cell_type": "code",
      "execution_count": 70,
      "metadata": {
        "id": "k57guwUbeyZV"
      },
      "outputs": [],
      "source": [
        "torch.save(model.state_dict(), 'IrisDatasetModel.pt')"
      ]
    },
    {
      "cell_type": "markdown",
      "metadata": {
        "id": "1CCBCB1HeyZV"
      },
      "source": [
        "### Load a new model\n",
        "We'll load a new model object and test it as we had before to make sure it worked."
      ]
    },
    {
      "cell_type": "code",
      "execution_count": 71,
      "metadata": {
        "id": "M4lyG2vpeyZV"
      },
      "outputs": [
        {
          "name": "stderr",
          "output_type": "stream",
          "text": [
            "C:\\Users\\gotxz\\AppData\\Local\\Temp\\ipykernel_20500\\1704381205.py:2: FutureWarning: You are using `torch.load` with `weights_only=False` (the current default value), which uses the default pickle module implicitly. It is possible to construct malicious pickle data which will execute arbitrary code during unpickling (See https://github.com/pytorch/pytorch/blob/main/SECURITY.md#untrusted-models for more details). In a future release, the default value for `weights_only` will be flipped to `True`. This limits the functions that could be executed during unpickling. Arbitrary objects will no longer be allowed to be loaded via this mode unless they are explicitly allowlisted by the user via `torch.serialization.add_safe_globals`. We recommend you start setting `weights_only=True` for any use case where you don't have full control of the loaded file. Please open an issue on GitHub for any issues related to this experimental feature.\n",
            "  new_model.load_state_dict(torch.load('IrisDatasetModel.pt'))\n"
          ]
        },
        {
          "data": {
            "text/plain": [
              "Model(\n",
              "  (fc1): Linear(in_features=4, out_features=8, bias=True)\n",
              "  (fc2): Linear(in_features=8, out_features=9, bias=True)\n",
              "  (out): Linear(in_features=9, out_features=3, bias=True)\n",
              ")"
            ]
          },
          "execution_count": 71,
          "metadata": {},
          "output_type": "execute_result"
        }
      ],
      "source": [
        "new_model = Model()\n",
        "new_model.load_state_dict(torch.load('IrisDatasetModel.pt'))\n",
        "new_model.eval()"
      ]
    },
    {
      "cell_type": "code",
      "execution_count": 72,
      "metadata": {
        "id": "8jp8LyQXeyZV"
      },
      "outputs": [
        {
          "name": "stdout",
          "output_type": "stream",
          "text": [
            "0.10912504\n"
          ]
        }
      ],
      "source": [
        "with torch.no_grad():\n",
        "    y_val = new_model.forward(X_test)\n",
        "    loss = criterion(y_val, y_test)\n",
        "print(f'{loss:.8f}')"
      ]
    },
    {
      "cell_type": "markdown",
      "metadata": {
        "id": "E0RbAOpeeyZW"
      },
      "source": [
        "## Apply the model to classify new, unseen data"
      ]
    },
    {
      "cell_type": "code",
      "execution_count": 73,
      "metadata": {
        "id": "NEkfVK0ReyZW"
      },
      "outputs": [],
      "source": [
        "mystery_iris = torch.tensor([5.6,3.7,2.2,0.5])"
      ]
    },
    {
      "cell_type": "markdown",
      "metadata": {
        "id": "hCdznPVreyZh"
      },
      "source": [
        "Now run it through the model:"
      ]
    },
    {
      "cell_type": "code",
      "execution_count": 74,
      "metadata": {
        "id": "C5dptrLhpH8G"
      },
      "outputs": [
        {
          "name": "stdout",
          "output_type": "stream",
          "text": [
            "tensor([ 15.4598,   9.1462, -21.4864])\n",
            "\n",
            "Iris setosa\n"
          ]
        }
      ],
      "source": [
        "labels = ['Iris setosa','Iris versicolor','Iris virginica']\n",
        "\n",
        "with torch.no_grad():\n",
        "    print(new_model(mystery_iris))\n",
        "    print()\n",
        "    print(labels[new_model(mystery_iris).argmax()])"
      ]
    }
  ],
  "metadata": {
    "colab": {
      "provenance": [],
      "toc_visible": true
    },
    "kernelspec": {
      "display_name": "Python 3",
      "name": "python3"
    },
    "language_info": {
      "codemirror_mode": {
        "name": "ipython",
        "version": 3
      },
      "file_extension": ".py",
      "mimetype": "text/x-python",
      "name": "python",
      "nbconvert_exporter": "python",
      "pygments_lexer": "ipython3",
      "version": "3.11.7"
    }
  },
  "nbformat": 4,
  "nbformat_minor": 0
}
