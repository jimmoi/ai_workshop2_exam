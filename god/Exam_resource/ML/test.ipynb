{
 "cells": [
  {
   "cell_type": "code",
   "execution_count": 180,
   "metadata": {},
   "outputs": [],
   "source": [
    "import pandas as pd\n",
    "import numpy as np\n",
    "import matplotlib.pyplot as plt\n",
    "import seaborn as sns\n",
    "from sklearn.linear_model import LinearRegression\n",
    "from sklearn.decomposition import PCA"
   ]
  },
  {
   "cell_type": "code",
   "execution_count": 181,
   "metadata": {},
   "outputs": [
    {
     "data": {
      "text/html": [
       "<div>\n",
       "<style scoped>\n",
       "    .dataframe tbody tr th:only-of-type {\n",
       "        vertical-align: middle;\n",
       "    }\n",
       "\n",
       "    .dataframe tbody tr th {\n",
       "        vertical-align: top;\n",
       "    }\n",
       "\n",
       "    .dataframe thead th {\n",
       "        text-align: right;\n",
       "    }\n",
       "</style>\n",
       "<table border=\"1\" class=\"dataframe\">\n",
       "  <thead>\n",
       "    <tr style=\"text-align: right;\">\n",
       "      <th></th>\n",
       "      <th>Gene1</th>\n",
       "      <th>Gene2</th>\n",
       "      <th>Gene3</th>\n",
       "      <th>Gene4</th>\n",
       "    </tr>\n",
       "  </thead>\n",
       "  <tbody>\n",
       "    <tr>\n",
       "      <th>0</th>\n",
       "      <td>10.0</td>\n",
       "      <td>6.0</td>\n",
       "      <td>12.0</td>\n",
       "      <td>5.0</td>\n",
       "    </tr>\n",
       "    <tr>\n",
       "      <th>1</th>\n",
       "      <td>11.0</td>\n",
       "      <td>4.0</td>\n",
       "      <td>9.0</td>\n",
       "      <td>7.0</td>\n",
       "    </tr>\n",
       "    <tr>\n",
       "      <th>2</th>\n",
       "      <td>8.0</td>\n",
       "      <td>5.0</td>\n",
       "      <td>10.0</td>\n",
       "      <td>6.0</td>\n",
       "    </tr>\n",
       "    <tr>\n",
       "      <th>3</th>\n",
       "      <td>3.0</td>\n",
       "      <td>3.0</td>\n",
       "      <td>2.5</td>\n",
       "      <td>2.0</td>\n",
       "    </tr>\n",
       "    <tr>\n",
       "      <th>4</th>\n",
       "      <td>2.0</td>\n",
       "      <td>2.8</td>\n",
       "      <td>1.3</td>\n",
       "      <td>4.0</td>\n",
       "    </tr>\n",
       "    <tr>\n",
       "      <th>5</th>\n",
       "      <td>1.0</td>\n",
       "      <td>1.0</td>\n",
       "      <td>2.0</td>\n",
       "      <td>7.0</td>\n",
       "    </tr>\n",
       "  </tbody>\n",
       "</table>\n",
       "</div>"
      ],
      "text/plain": [
       "   Gene1  Gene2  Gene3  Gene4\n",
       "0   10.0    6.0   12.0    5.0\n",
       "1   11.0    4.0    9.0    7.0\n",
       "2    8.0    5.0   10.0    6.0\n",
       "3    3.0    3.0    2.5    2.0\n",
       "4    2.0    2.8    1.3    4.0\n",
       "5    1.0    1.0    2.0    7.0"
      ]
     },
     "execution_count": 181,
     "metadata": {},
     "output_type": "execute_result"
    }
   ],
   "source": [
    "data = np.array(\n",
    "    [[10,6,12,5],\n",
    "     [11,4,9,7],\n",
    "     [8,5,10,6],\n",
    "     [3,3,2.5,2],\n",
    "     [2,2.8,1.3,4],\n",
    "     [1,1,2,7]]\n",
    ")\n",
    "\n",
    "df = pd.DataFrame(columns=['Gene1','Gene2','Gene3','Gene4'],\n",
    "                  data=data)\n",
    "df"
   ]
  },
  {
   "cell_type": "code",
   "execution_count": 182,
   "metadata": {},
   "outputs": [],
   "source": [
    "# sns.pairplot(df)\n",
    "# plt.show()"
   ]
  },
  {
   "cell_type": "code",
   "execution_count": 183,
   "metadata": {},
   "outputs": [
    {
     "data": {
      "text/html": [
       "<div>\n",
       "<style scoped>\n",
       "    .dataframe tbody tr th:only-of-type {\n",
       "        vertical-align: middle;\n",
       "    }\n",
       "\n",
       "    .dataframe tbody tr th {\n",
       "        vertical-align: top;\n",
       "    }\n",
       "\n",
       "    .dataframe thead th {\n",
       "        text-align: right;\n",
       "    }\n",
       "</style>\n",
       "<table border=\"1\" class=\"dataframe\">\n",
       "  <thead>\n",
       "    <tr style=\"text-align: right;\">\n",
       "      <th></th>\n",
       "      <th>PCA1</th>\n",
       "      <th>PCA2</th>\n",
       "    </tr>\n",
       "  </thead>\n",
       "  <tbody>\n",
       "    <tr>\n",
       "      <th>0</th>\n",
       "      <td>4.719998</td>\n",
       "      <td>0.826949</td>\n",
       "    </tr>\n",
       "    <tr>\n",
       "      <th>1</th>\n",
       "      <td>4.988861</td>\n",
       "      <td>-1.392896</td>\n",
       "    </tr>\n",
       "    <tr>\n",
       "      <th>2</th>\n",
       "      <td>2.500152</td>\n",
       "      <td>0.558086</td>\n",
       "    </tr>\n",
       "    <tr>\n",
       "      <th>3</th>\n",
       "      <td>-2.881249</td>\n",
       "      <td>0.356784</td>\n",
       "    </tr>\n",
       "    <tr>\n",
       "      <th>4</th>\n",
       "      <td>-3.890244</td>\n",
       "      <td>0.504866</td>\n",
       "    </tr>\n",
       "    <tr>\n",
       "      <th>5</th>\n",
       "      <td>-5.437518</td>\n",
       "      <td>-0.853790</td>\n",
       "    </tr>\n",
       "  </tbody>\n",
       "</table>\n",
       "</div>"
      ],
      "text/plain": [
       "       PCA1      PCA2\n",
       "0  4.719998  0.826949\n",
       "1  4.988861 -1.392896\n",
       "2  2.500152  0.558086\n",
       "3 -2.881249  0.356784\n",
       "4 -3.890244  0.504866\n",
       "5 -5.437518 -0.853790"
      ]
     },
     "execution_count": 183,
     "metadata": {},
     "output_type": "execute_result"
    }
   ],
   "source": [
    "ndim = 2\n",
    "n_components = 2\n",
    "pca = PCA(n_components=n_components)\n",
    "x_reduce = pca.fit_transform(df.iloc[:,:ndim])\n",
    "compenents = pca.components_\n",
    "df_reduce = pd.DataFrame(columns=[f'PCA{i+1}' for i in range(x_reduce.shape[1])],\n",
    "                  data=x_reduce)\n",
    "df_reduce"
   ]
  },
  {
   "cell_type": "code",
   "execution_count": 184,
   "metadata": {},
   "outputs": [],
   "source": [
    "# ndim =2\n",
    "# n_components = 2\n",
    "# test = df.copy().values\n",
    "# test = test[:,:ndim]\n",
    "# test_hat = test-test.mean(axis=0)\n",
    "# S = (test_hat.T@test_hat)*(1/(test_hat.shape[0]-1))\n",
    "# eigen_value, eigenvector = np.linalg.eig(S)\n",
    "# eigenvector = eigenvector[:,(-eigen_value).argsort()[:n_components]]\n",
    "# x_reduce = test_hat@eigenvector\n",
    "# x_reduce"
   ]
  },
  {
   "cell_type": "code",
   "execution_count": 185,
   "metadata": {},
   "outputs": [],
   "source": [
    "pca1 = compenents[0]\n",
    "pca2 = compenents[1]"
   ]
  },
  {
   "cell_type": "code",
   "execution_count": 186,
   "metadata": {},
   "outputs": [
    {
     "data": {
      "text/plain": [
       "array([0.94171069, 0.33642381])"
      ]
     },
     "execution_count": 186,
     "metadata": {},
     "output_type": "execute_result"
    }
   ],
   "source": [
    "pca1"
   ]
  },
  {
   "cell_type": "code",
   "execution_count": 232,
   "metadata": {},
   "outputs": [
    {
     "data": {
      "image/png": "[encoded data removed]",
      "text/plain": [
       "<Figure size 640x480 with 1 Axes>"
      ]
     },
     "metadata": {},
     "output_type": "display_data"
    }
   ],
   "source": [
    "plt.scatter(df.iloc[:,[0]],\n",
    "            df.iloc[:,[1]])\n",
    "plt.gca().set_aspect('equal')"
   ]
  },
  {
   "cell_type": "code",
   "execution_count": 233,
   "metadata": {},
   "outputs": [
    {
     "data": {
      "image/png": "[encoded data removed]",
      "text/plain": [
       "<Figure size 640x480 with 1 Axes>"
      ]
     },
     "metadata": {},
     "output_type": "display_data"
    }
   ],
   "source": [
    "plt.scatter(df_hat.iloc[:,[0]],\n",
    "            df_hat.iloc[:,[1]])\n",
    "plt.gca().set_aspect('equal')"
   ]
  },
  {
   "cell_type": "code",
   "execution_count": 235,
   "metadata": {},
   "outputs": [
    {
     "data": {
      "image/png": "[encoded data removed]",
      "text/plain": [
       "<Figure size 640x480 with 1 Axes>"
      ]
     },
     "metadata": {},
     "output_type": "display_data"
    }
   ],
   "source": [
    "df_hat = df - df.mean()\n",
    "plt.scatter(df_hat.iloc[:,[0]],\n",
    "            df_hat.iloc[:,[1]])\n",
    "line = np.linspace(-6,6,10)\n",
    "plt.plot(line,\n",
    "        line*(pca1[1]/pca1[0]) )\n",
    "plt.plot(line,\n",
    "        line*(pca2[1]/pca2[0]) )\n",
    "plt.gca().set_aspect('equal')\n",
    "plt.xlim(-6,6)\n",
    "plt.ylim(-3,3)\n",
    "plt.show()"
   ]
  },
  {
   "cell_type": "code",
   "execution_count": 201,
   "metadata": {},
   "outputs": [
    {
     "data": {
      "image/png": "[encoded data removed]",
      "text/plain": [
       "<Figure size 640x480 with 1 Axes>"
      ]
     },
     "metadata": {},
     "output_type": "display_data"
    }
   ],
   "source": [
    "plt.scatter(df_reduce.iloc[:,[0]],\n",
    "            df_reduce.iloc[:,[1]])\n",
    "plt.axvline(0, -5, 5, ls = '--', color = 'k')\n",
    "plt.axhline(0, -5, 5, ls = '--', color = 'k')\n",
    "plt.gca().set_aspect('equal')\n",
    "plt.show()"
   ]
  },
  {
   "cell_type": "code",
   "execution_count": 335,
   "metadata": {},
   "outputs": [],
   "source": [
    "# class Projregression():\n",
    "#     def __init__(self, epochs = 100, lr = 0.01) -> None:\n",
    "#         self.eigen_vector = np.array([0.70721, 0.70721])\n",
    "#         self.epochs = epochs\n",
    "#         self.lr = lr\n",
    "#         self.error = None\n",
    "    \n",
    "#     def fit(self, x1, x2):\n",
    "#         data = np.concatenate((x1,x2),axis=1)\n",
    "#         for epoch in range(self.epochs):\n",
    "#             dist = data@self.eigen_vector.T\n",
    "#             self.error = 0.5*(dist)**2\n",
    "#             grad = (data.T @ dist)\n",
    "#             self.eigen_vector -= self.lr * grad"
   ]
  },
  {
   "cell_type": "code",
   "execution_count": 215,
   "metadata": {},
   "outputs": [
    {
     "data": {
      "text/plain": [
       "array([[8., 8., 2.],\n",
       "       [8., 0., 7.],\n",
       "       [6., 4., 2.]])"
      ]
     },
     "execution_count": 215,
     "metadata": {},
     "output_type": "execute_result"
    }
   ],
   "source": [
    "(np.random.random((3,3))*10).round()"
   ]
  },
  {
   "cell_type": "code",
   "execution_count": 226,
   "metadata": {},
   "outputs": [],
   "source": [
    "TEST = (np.random.random((3,3))*10).round()"
   ]
  },
  {
   "cell_type": "code",
   "execution_count": 227,
   "metadata": {},
   "outputs": [
    {
     "data": {
      "text/plain": [
       "array([[129.,  56.,  73.],\n",
       "       [ 56.,  90.,  49.],\n",
       "       [ 73.,  49.,  66.]])"
      ]
     },
     "execution_count": 227,
     "metadata": {},
     "output_type": "execute_result"
    }
   ],
   "source": [
    "TEST.T@TEST"
   ]
  },
  {
   "cell_type": "code",
   "execution_count": 228,
   "metadata": {},
   "outputs": [
    {
     "data": {
      "text/plain": [
       "array([[ 24, -18,  12],\n",
       "       [-18,  18,   0],\n",
       "       [ 12,   0,  24]])"
      ]
     },
     "execution_count": 228,
     "metadata": {},
     "output_type": "execute_result"
    }
   ],
   "source": [
    "TEST = TEST-TEST.mean(axis=0)\n",
    "TEST = TEST.astype(int)\n",
    "TEST.T@TEST"
   ]
  }
 ],
 "metadata": {
  "kernelspec": {
   "display_name": "base",
   "language": "python",
   "name": "python3"
  },
  "language_info": {
   "codemirror_mode": {
    "name": "ipython",
    "version": 3
   },
   "file_extension": ".py",
   "mimetype": "text/x-python",
   "name": "python",
   "nbconvert_exporter": "python",
   "pygments_lexer": "ipython3",
   "version": "3.11.7"
  }
 },
 "nbformat": 4,
 "nbformat_minor": 2
}
