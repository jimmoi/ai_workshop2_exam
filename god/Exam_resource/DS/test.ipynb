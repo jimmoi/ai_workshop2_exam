{
 "cells": [
  {
   "cell_type": "code",
   "execution_count": 9,
   "metadata": {},
   "outputs": [
    {
     "name": "stdout",
     "output_type": "stream",
     "text": [
      "Pearson correlation coefficient: 0.9999892115765611\n"
     ]
    }
   ],
   "source": [
    "import numpy as np\n",
    "from scipy.stats import pearsonr\n",
    "import matplotlib.pyplot as plt\n",
    "\n",
    "# Example data: two sets of 2D positions\n",
    "positions1 = np.array([[1, 2], [3, 4], [5, 6], [7, 8]])\n",
    "positions2 = np.array([[2, 3], [4, 5], [6, 7], [8, 9]])\n",
    "positions2 = (positions2/5)+4\n",
    "\n",
    "\n",
    "\n",
    "# Calculate distances from the origin\n",
    "distances1 = np.linalg.norm(positions1, axis=1)\n",
    "distances2 = np.linalg.norm(positions2, axis=1)\n",
    "\n",
    "# Calculate Pearson correlation coefficient\n",
    "correlation, _ = pearsonr(distances1, distances2)\n",
    "\n",
    "print(f'Pearson correlation coefficient: {correlation}')"
   ]
  },
  {
   "cell_type": "code",
   "execution_count": 11,
   "metadata": {},
   "outputs": [
    {
     "data": {
      "text/plain": [
       "array([ 2.23606798,  5.        ,  7.81024968, 10.63014581])"
      ]
     },
     "execution_count": 11,
     "metadata": {},
     "output_type": "execute_result"
    }
   ],
   "source": [
    "distances1"
   ]
  },
  {
   "cell_type": "code",
   "execution_count": 10,
   "metadata": {},
   "outputs": [
    {
     "data": {
      "image/png": "[encoded data removed]",
      "text/plain": [
       "<Figure size 640x480 with 1 Axes>"
      ]
     },
     "metadata": {},
     "output_type": "display_data"
    }
   ],
   "source": [
    "plt.scatter(positions1[:,0], positions1[:,1])\n",
    "plt.scatter(positions2[:,0], positions2[:,1])\n",
    "plt.show()"
   ]
  }
 ],
 "metadata": {
  "kernelspec": {
   "display_name": "base",
   "language": "python",
   "name": "python3"
  },
  "language_info": {
   "codemirror_mode": {
    "name": "ipython",
    "version": 3
   },
   "file_extension": ".py",
   "mimetype": "text/x-python",
   "name": "python",
   "nbconvert_exporter": "python",
   "pygments_lexer": "ipython3",
   "version": "3.11.7"
  }
 },
 "nbformat": 4,
 "nbformat_minor": 2
}
