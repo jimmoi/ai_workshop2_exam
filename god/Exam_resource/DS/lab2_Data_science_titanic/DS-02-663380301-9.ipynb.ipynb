{
  "cells": [
    {
      "cell_type": "markdown",
      "metadata": {
        "id": "LAHH_oEaXsnU"
      },
      "source": [
        "# Question refinement example for Titanic dataset\n"
      ]
    },
    {
      "cell_type": "markdown",
      "metadata": {
        "id": "B5KR88lVS7sr"
      },
      "source": [
        "**Data Dictionary**\n",
        "\n",
        "| Variable | Definition | Key |\n",
        "|:----:| :--- |:--- |\n",
        "| survival | Survival | 0 = No, 1 = Yes|\n",
        "| pclass | Ticket class | 1 = 1st, 2 = 2nd, 3 = 3rd |\n",
        "| sex | Sex |  |\n",
        "|Age  | Age in years |  |\n",
        "|sibsp  | # of siblings / spouses aboard the Titanic |  |\n",
        "| parch | # of parents / children aboard the Titanic |  |\n",
        "| ticket | Ticket number |  |\n",
        "| fare |Passenger fare  |  |\n",
        "| cabin | Cabin number |  |\n",
        "| embarked | Port of Embarkation | C = Cherbourg, Q = Queenstown, S = Southampton |\n",
        "| | | |\n",
        "\n",
        "\n",
        "**Variable Notes**\n",
        "\n",
        "**pclass**: A proxy for socio-economic status (SES)\n",
        "* 1st = Upper\n",
        "* 2nd = Middle\n",
        "* 3rd = Lower\n",
        "\n",
        "**age**: Age is fractional if less than 1. If the age is estimated, is it in the form of xx.5\n",
        "\n",
        "**sibsp**: The dataset defines family relations in this way...\n",
        "* Sibling = brother, sister, stepbrother, stepsister\n",
        "* Spouse = husband, wife (mistresses and fiancés were ignored)\n",
        "\n",
        "**parch**: The dataset defines family relations in this way...\n",
        "* Parent = mother, father\n",
        "* Child = daughter, son, stepdaughter, stepson\n",
        "* Some children travelled only with a nanny, therefore parch=0 for them."
      ]
    },
    {
      "cell_type": "code",
      "execution_count": 1,
      "metadata": {
        "id": "k_tV360IXrCK"
      },
      "outputs": [],
      "source": [
        "#IMPORT LIBRARY\n",
        "import pandas as pd\n",
        "import numpy as np\n",
        "import scipy as sp\n",
        "import matplotlib.pyplot as plt\n",
        "from math import radians, cos, sin, asin, sqrt\n",
        "import datetime\n",
        "from sklearn.linear_model import LinearRegression\n",
        "import seaborn as sns\n",
        "sns.set(style=\"ticks\")"
      ]
    },
    {
      "cell_type": "markdown",
      "metadata": {
        "id": "sQJ_dHIvu9KS"
      },
      "source": [
        "### ทำการอ่านข้อมูลจาก FILE csv\n",
        "DATASET สามารถ download ได้ที่\n",
        "\n",
        "https://drive.google.com/file/d/1AGHVog0Zr3Dw_ckInFo7v8f_ufslv7cH/view?usp=sharing\n"
      ]
    },
    {
      "cell_type": "code",
      "execution_count": 2,
      "metadata": {
        "colab": {
          "base_uri": "https://localhost:8080/",
          "height": 276
        },
        "id": "tXvXzHmvXxsM",
        "outputId": "2b92c4c5-7404-4478-cef1-f3a75cd4f74a"
      },
      "outputs": [
        {
          "data": {
            "text/html": [
              "<div>\n",
              "<style scoped>\n",
              "    .dataframe tbody tr th:only-of-type {\n",
              "        vertical-align: middle;\n",
              "    }\n",
              "\n",
              "    .dataframe tbody tr th {\n",
              "        vertical-align: top;\n",
              "    }\n",
              "\n",
              "    .dataframe thead th {\n",
              "        text-align: right;\n",
              "    }\n",
              "</style>\n",
              "<table border=\"1\" class=\"dataframe\">\n",
              "  <thead>\n",
              "    <tr style=\"text-align: right;\">\n",
              "      <th></th>\n",
              "      <th>PassengerId</th>\n",
              "      <th>Survived</th>\n",
              "      <th>Pclass</th>\n",
              "      <th>Name</th>\n",
              "      <th>Sex</th>\n",
              "      <th>Age</th>\n",
              "      <th>SibSp</th>\n",
              "      <th>Parch</th>\n",
              "      <th>Ticket</th>\n",
              "      <th>Fare</th>\n",
              "      <th>Cabin</th>\n",
              "      <th>Embarked</th>\n",
              "    </tr>\n",
              "  </thead>\n",
              "  <tbody>\n",
              "    <tr>\n",
              "      <th>0</th>\n",
              "      <td>1</td>\n",
              "      <td>0</td>\n",
              "      <td>3</td>\n",
              "      <td>Braund, Mr. Owen Harris</td>\n",
              "      <td>male</td>\n",
              "      <td>22.0</td>\n",
              "      <td>1</td>\n",
              "      <td>0</td>\n",
              "      <td>A/5 21171</td>\n",
              "      <td>7.2500</td>\n",
              "      <td>NaN</td>\n",
              "      <td>S</td>\n",
              "    </tr>\n",
              "    <tr>\n",
              "      <th>1</th>\n",
              "      <td>2</td>\n",
              "      <td>1</td>\n",
              "      <td>1</td>\n",
              "      <td>Cumings, Mrs. John Bradley (Florence Briggs Th...</td>\n",
              "      <td>female</td>\n",
              "      <td>38.0</td>\n",
              "      <td>1</td>\n",
              "      <td>0</td>\n",
              "      <td>PC 17599</td>\n",
              "      <td>71.2833</td>\n",
              "      <td>C85</td>\n",
              "      <td>C</td>\n",
              "    </tr>\n",
              "    <tr>\n",
              "      <th>2</th>\n",
              "      <td>3</td>\n",
              "      <td>1</td>\n",
              "      <td>3</td>\n",
              "      <td>Heikkinen, Miss. Laina</td>\n",
              "      <td>female</td>\n",
              "      <td>26.0</td>\n",
              "      <td>0</td>\n",
              "      <td>0</td>\n",
              "      <td>STON/O2. 3101282</td>\n",
              "      <td>7.9250</td>\n",
              "      <td>NaN</td>\n",
              "      <td>S</td>\n",
              "    </tr>\n",
              "    <tr>\n",
              "      <th>3</th>\n",
              "      <td>4</td>\n",
              "      <td>1</td>\n",
              "      <td>1</td>\n",
              "      <td>Futrelle, Mrs. Jacques Heath (Lily May Peel)</td>\n",
              "      <td>female</td>\n",
              "      <td>35.0</td>\n",
              "      <td>1</td>\n",
              "      <td>0</td>\n",
              "      <td>113803</td>\n",
              "      <td>53.1000</td>\n",
              "      <td>C123</td>\n",
              "      <td>S</td>\n",
              "    </tr>\n",
              "    <tr>\n",
              "      <th>4</th>\n",
              "      <td>5</td>\n",
              "      <td>0</td>\n",
              "      <td>3</td>\n",
              "      <td>Allen, Mr. William Henry</td>\n",
              "      <td>male</td>\n",
              "      <td>35.0</td>\n",
              "      <td>0</td>\n",
              "      <td>0</td>\n",
              "      <td>373450</td>\n",
              "      <td>8.0500</td>\n",
              "      <td>NaN</td>\n",
              "      <td>S</td>\n",
              "    </tr>\n",
              "  </tbody>\n",
              "</table>\n",
              "</div>"
            ],
            "text/plain": [
              "   PassengerId  Survived  Pclass  \\\n",
              "0            1         0       3   \n",
              "1            2         1       1   \n",
              "2            3         1       3   \n",
              "3            4         1       1   \n",
              "4            5         0       3   \n",
              "\n",
              "                                                Name     Sex   Age  SibSp  \\\n",
              "0                            Braund, Mr. Owen Harris    male  22.0      1   \n",
              "1  Cumings, Mrs. John Bradley (Florence Briggs Th...  female  38.0      1   \n",
              "2                             Heikkinen, Miss. Laina  female  26.0      0   \n",
              "3       Futrelle, Mrs. Jacques Heath (Lily May Peel)  female  35.0      1   \n",
              "4                           Allen, Mr. William Henry    male  35.0      0   \n",
              "\n",
              "   Parch            Ticket     Fare Cabin Embarked  \n",
              "0      0         A/5 21171   7.2500   NaN        S  \n",
              "1      0          PC 17599  71.2833   C85        C  \n",
              "2      0  STON/O2. 3101282   7.9250   NaN        S  \n",
              "3      0            113803  53.1000  C123        S  \n",
              "4      0            373450   8.0500   NaN        S  "
            ]
          },
          "execution_count": 2,
          "metadata": {},
          "output_type": "execute_result"
        }
      ],
      "source": [
        "# โยนไฟล์เข้ามาที่ colab\n",
        "path_to_file = 'Titanic-Dataset.csv'\n",
        "titanic_data = pd.read_csv(path_to_file, low_memory=False)\n",
        "titanic_data.head()"
      ]
    },
    {
      "cell_type": "markdown",
      "metadata": {
        "id": "zn00GRbpYxIb"
      },
      "source": [
        "### ดูข้อมูลเบื่องต้น"
      ]
    },
    {
      "cell_type": "code",
      "execution_count": 3,
      "metadata": {
        "colab": {
          "base_uri": "https://localhost:8080/"
        },
        "id": "IfD8sSFrZl6R",
        "outputId": "b76c85bd-6344-45df-cc96-80e89d5ff135"
      },
      "outputs": [
        {
          "name": "stdout",
          "output_type": "stream",
          "text": [
            "<class 'pandas.core.frame.DataFrame'>\n",
            "RangeIndex: 891 entries, 0 to 890\n",
            "Data columns (total 12 columns):\n",
            " #   Column       Non-Null Count  Dtype  \n",
            "---  ------       --------------  -----  \n",
            " 0   PassengerId  891 non-null    int64  \n",
            " 1   Survived     891 non-null    int64  \n",
            " 2   Pclass       891 non-null    int64  \n",
            " 3   Name         891 non-null    object \n",
            " 4   Sex          891 non-null    object \n",
            " 5   Age          714 non-null    float64\n",
            " 6   SibSp        891 non-null    int64  \n",
            " 7   Parch        891 non-null    int64  \n",
            " 8   Ticket       891 non-null    object \n",
            " 9   Fare         891 non-null    float64\n",
            " 10  Cabin        204 non-null    object \n",
            " 11  Embarked     889 non-null    object \n",
            "dtypes: float64(2), int64(5), object(5)\n",
            "memory usage: 83.7+ KB\n"
          ]
        }
      ],
      "source": [
        "titanic_data.info()"
      ]
    },
    {
      "cell_type": "markdown",
      "metadata": {
        "id": "Uqart37vb56T"
      },
      "source": [
        "## WHO?\n",
        "\n",
        "\n",
        "\n",
        "\n",
        "\n",
        "\n",
        "  "
      ]
    },
    {
      "cell_type": "markdown",
      "metadata": {
        "id": "5ptiXqIkIkly"
      },
      "source": [
        "### 1.มีผู้โดยสารผู้หญิงหรือผู้ชายเยอะกว่ากัน?\n",
        "\n",
        "*   ผู้หญิงกี่คน  = 314\n",
        "*   ผู้ชายกี่คน = 577\n",
        "\n"
      ]
    },
    {
      "cell_type": "code",
      "execution_count": 126,
      "metadata": {
        "id": "iF8CaFDbIpPb"
      },
      "outputs": [
        {
          "name": "stdout",
          "output_type": "stream",
          "text": [
            "Sex\n",
            "male      577\n",
            "female    314\n",
            "Name: count, dtype: int64\n"
          ]
        }
      ],
      "source": [
        "#CODE\n",
        "\n",
        "#masking with condition\n",
        "#data[masking]\n",
        "\n",
        "# print(titanic_data[titanic_data[\"Sex\"].isin([\"female\"])][\"Sex\"].count())\n",
        "\n",
        "# print(titanic_data[titanic_data[\"Sex\"].isin([\"male\"])][\"Sex\"].count())\n",
        "\n",
        "print(titanic_data[\"Sex\"].value_counts())\n"
      ]
    },
    {
      "cell_type": "markdown",
      "metadata": {
        "id": "-iBBrT20Iul8"
      },
      "source": [
        " ### 2.ผู้โดยสารชายที่รอดชีวิตมีกี่คน\n",
        "\n",
        "*   รอด  = 342\n",
        "*   ไม่รอด = 549\n"
      ]
    },
    {
      "cell_type": "code",
      "execution_count": 127,
      "metadata": {
        "id": "tXpfyDcxIyOy"
      },
      "outputs": [
        {
          "name": "stdout",
          "output_type": "stream",
          "text": [
            "Survived\n",
            "0    549\n",
            "1    342\n",
            "Name: count, dtype: int64\n"
          ]
        }
      ],
      "source": [
        "#CODE\n",
        "\n",
        "#masking with condition\n",
        "#data[masking]\n",
        "\n",
        "print(titanic_data[\"Survived\"].value_counts())\n"
      ]
    },
    {
      "cell_type": "markdown",
      "metadata": {
        "id": "HQqQClVMXg1S"
      },
      "source": [
        "### 3.จำนวนผู้โดยสารชาย ชั้น upper economic ที่รอดชีวิต และเสียชีวิตมีกี่คน\n",
        "\n",
        "*   รอด  = 45\n",
        "*   ไม่รอด = 77"
      ]
    },
    {
      "cell_type": "code",
      "execution_count": 6,
      "metadata": {
        "id": "9S45HgkKYAUJ"
      },
      "outputs": [
        {
          "data": {
            "text/plain": [
              "Survived\n",
              "0    77\n",
              "1    45\n",
              "Name: count, dtype: int64"
            ]
          },
          "execution_count": 6,
          "metadata": {},
          "output_type": "execute_result"
        }
      ],
      "source": [
        "titanic_data[(titanic_data[\"Sex\"] == \"male\") & \n",
        "             (titanic_data[\"Pclass\"] == 1)][\"Survived\"].value_counts()"
      ]
    },
    {
      "cell_type": "markdown",
      "metadata": {
        "id": "IrdNPLhDaQ46"
      },
      "source": [
        "# Workshop1\n",
        "\n",
        "## ตั้งคำถามเพิ่มเติมเกี่ยวกับข้อมูล Tinanic อีก 3 คำถาม"
      ]
    },
    {
      "cell_type": "code",
      "execution_count": 7,
      "metadata": {
        "id": "-TzkCfh3aQIb"
      },
      "outputs": [
        {
          "data": {
            "text/plain": [
              "<Axes: >"
            ]
          },
          "execution_count": 7,
          "metadata": {},
          "output_type": "execute_result"
        },
        {
          "data": {
            "image/png": "[encoded data removed]",
            "text/plain": [
              "<Figure size 640x480 with 1 Axes>"
            ]
          },
          "metadata": {},
          "output_type": "display_data"
        }
      ],
      "source": [
        "#คำถามที่1: วัยของผู้โดยสารส่วยใหญ่คือช่วงไหน\n",
        "titanic_data[\"Age\"].hist()\n",
        "\n",
        "\n",
        "#ช่วงวัยรุ่น"
      ]
    },
    {
      "cell_type": "code",
      "execution_count": 130,
      "metadata": {
        "id": "fYXH8KBYavxJ"
      },
      "outputs": [
        {
          "data": {
            "text/html": [
              "<div>\n",
              "<style scoped>\n",
              "    .dataframe tbody tr th:only-of-type {\n",
              "        vertical-align: middle;\n",
              "    }\n",
              "\n",
              "    .dataframe tbody tr th {\n",
              "        vertical-align: top;\n",
              "    }\n",
              "\n",
              "    .dataframe thead th {\n",
              "        text-align: right;\n",
              "    }\n",
              "</style>\n",
              "<table border=\"1\" class=\"dataframe\">\n",
              "  <thead>\n",
              "    <tr style=\"text-align: right;\">\n",
              "      <th></th>\n",
              "      <th>Sex</th>\n",
              "      <th>Survived</th>\n",
              "      <th>count</th>\n",
              "    </tr>\n",
              "  </thead>\n",
              "  <tbody>\n",
              "    <tr>\n",
              "      <th>3</th>\n",
              "      <td>female</td>\n",
              "      <td>0</td>\n",
              "      <td>81</td>\n",
              "    </tr>\n",
              "    <tr>\n",
              "      <th>0</th>\n",
              "      <td>male</td>\n",
              "      <td>0</td>\n",
              "      <td>468</td>\n",
              "    </tr>\n",
              "    <tr>\n",
              "      <th>1</th>\n",
              "      <td>female</td>\n",
              "      <td>1</td>\n",
              "      <td>233</td>\n",
              "    </tr>\n",
              "    <tr>\n",
              "      <th>2</th>\n",
              "      <td>male</td>\n",
              "      <td>1</td>\n",
              "      <td>109</td>\n",
              "    </tr>\n",
              "  </tbody>\n",
              "</table>\n",
              "</div>"
            ],
            "text/plain": [
              "      Sex  Survived  count\n",
              "3  female         0     81\n",
              "0    male         0    468\n",
              "1  female         1    233\n",
              "2    male         1    109"
            ]
          },
          "execution_count": 130,
          "metadata": {},
          "output_type": "execute_result"
        }
      ],
      "source": [
        "#คำถามที่2: จำนวนผู้รอดชีวิตเป็นชายหรือหญิงมากกว่ากัน\n",
        "titanic_data[[\"Sex\",\"Survived\"]].value_counts().reset_index().sort_values([\"Survived\", \"Sex\"])\n",
        "\n",
        "\n",
        "# หญิงรอดจำนวนมากกว่า 124 คน"
      ]
    },
    {
      "cell_type": "code",
      "execution_count": 40,
      "metadata": {
        "id": "PLy5YQPKaxQq"
      },
      "outputs": [
        {
          "data": {
            "text/plain": [
              "<Axes: >"
            ]
          },
          "execution_count": 40,
          "metadata": {},
          "output_type": "execute_result"
        },
        {
          "data": {
            "image/png": "[encoded data removed]",
            "text/plain": [
              "<Figure size 640x480 with 1 Axes>"
            ]
          },
          "metadata": {},
          "output_type": "display_data"
        }
      ],
      "source": [
        "#คำถามที่3 : อายุผู้โดยสารในชั้น lower ส่วยมากอายุเท่าไหร่\n",
        "titanic_data[titanic_data[\"Pclass\"] == 3][\"Age\"].hist()\n",
        "\n",
        "\n",
        "#ประมาณ 20-30 ปี"
      ]
    },
    {
      "cell_type": "markdown",
      "metadata": {
        "id": "JUL7La2iMl_Y"
      },
      "source": [
        "# Workshop2\n",
        "\n",
        "### จากข้อมูล 2 ชุดที่กำหนดให้ ให้นศ. ฝึกตั้งคำถาม Question refinement มาข้อมูลละ 3 คำถาม พร้อมทั้งหาคำตอบของคำถามนั้นด้วย\n"
      ]
    },
    {
      "cell_type": "markdown",
      "metadata": {
        "id": "tJQNS-8pMrxa"
      },
      "source": [
        "## ข้อมูลชุดที่ 1: Higher Education Students Performance Evaluation\n",
        "\n",
        "link: https://archive.ics.uci.edu/dataset/856/higher+education+students+performance+evaluation\n"
      ]
    },
    {
      "cell_type": "code",
      "execution_count": 49,
      "metadata": {
        "id": "w0akPt5OMrS_"
      },
      "outputs": [
        {
          "data": {
            "text/html": [
              "<div>\n",
              "<style scoped>\n",
              "    .dataframe tbody tr th:only-of-type {\n",
              "        vertical-align: middle;\n",
              "    }\n",
              "\n",
              "    .dataframe tbody tr th {\n",
              "        vertical-align: top;\n",
              "    }\n",
              "\n",
              "    .dataframe thead th {\n",
              "        text-align: right;\n",
              "    }\n",
              "</style>\n",
              "<table border=\"1\" class=\"dataframe\">\n",
              "  <thead>\n",
              "    <tr style=\"text-align: right;\">\n",
              "      <th></th>\n",
              "      <th>STUDENT ID</th>\n",
              "      <th>Age</th>\n",
              "      <th>Sex</th>\n",
              "      <th>Graduated high-school type</th>\n",
              "      <th>Scholarship type</th>\n",
              "      <th>Additional work</th>\n",
              "      <th>Regular artistic or sports activity</th>\n",
              "      <th>Do you have a partner</th>\n",
              "      <th>Total salary</th>\n",
              "      <th>Transportation to the university</th>\n",
              "      <th>...</th>\n",
              "      <th>Preparation to midterm exams 1</th>\n",
              "      <th>Preparation to midterm exams 2</th>\n",
              "      <th>Taking notes</th>\n",
              "      <th>Listening in classes</th>\n",
              "      <th>Discussion improves my interest and success in the course</th>\n",
              "      <th>Flip-classroom</th>\n",
              "      <th>Cumulative grade point average in the last semester</th>\n",
              "      <th>Expected Cumulative grade point average in the graduation</th>\n",
              "      <th>Course ID</th>\n",
              "      <th>OUTPUT Grade</th>\n",
              "    </tr>\n",
              "  </thead>\n",
              "  <tbody>\n",
              "    <tr>\n",
              "      <th>0</th>\n",
              "      <td>STUDENT1</td>\n",
              "      <td>2</td>\n",
              "      <td>2</td>\n",
              "      <td>3</td>\n",
              "      <td>3</td>\n",
              "      <td>1</td>\n",
              "      <td>2</td>\n",
              "      <td>2</td>\n",
              "      <td>1</td>\n",
              "      <td>1</td>\n",
              "      <td>...</td>\n",
              "      <td>1</td>\n",
              "      <td>1</td>\n",
              "      <td>3</td>\n",
              "      <td>2</td>\n",
              "      <td>1</td>\n",
              "      <td>2</td>\n",
              "      <td>1</td>\n",
              "      <td>1</td>\n",
              "      <td>1</td>\n",
              "      <td>1</td>\n",
              "    </tr>\n",
              "    <tr>\n",
              "      <th>1</th>\n",
              "      <td>STUDENT2</td>\n",
              "      <td>2</td>\n",
              "      <td>2</td>\n",
              "      <td>3</td>\n",
              "      <td>3</td>\n",
              "      <td>1</td>\n",
              "      <td>2</td>\n",
              "      <td>2</td>\n",
              "      <td>1</td>\n",
              "      <td>1</td>\n",
              "      <td>...</td>\n",
              "      <td>1</td>\n",
              "      <td>1</td>\n",
              "      <td>3</td>\n",
              "      <td>2</td>\n",
              "      <td>3</td>\n",
              "      <td>2</td>\n",
              "      <td>2</td>\n",
              "      <td>3</td>\n",
              "      <td>1</td>\n",
              "      <td>1</td>\n",
              "    </tr>\n",
              "    <tr>\n",
              "      <th>2</th>\n",
              "      <td>STUDENT3</td>\n",
              "      <td>2</td>\n",
              "      <td>2</td>\n",
              "      <td>2</td>\n",
              "      <td>3</td>\n",
              "      <td>2</td>\n",
              "      <td>2</td>\n",
              "      <td>2</td>\n",
              "      <td>2</td>\n",
              "      <td>4</td>\n",
              "      <td>...</td>\n",
              "      <td>1</td>\n",
              "      <td>1</td>\n",
              "      <td>2</td>\n",
              "      <td>2</td>\n",
              "      <td>1</td>\n",
              "      <td>1</td>\n",
              "      <td>2</td>\n",
              "      <td>2</td>\n",
              "      <td>1</td>\n",
              "      <td>1</td>\n",
              "    </tr>\n",
              "    <tr>\n",
              "      <th>3</th>\n",
              "      <td>STUDENT4</td>\n",
              "      <td>1</td>\n",
              "      <td>1</td>\n",
              "      <td>1</td>\n",
              "      <td>3</td>\n",
              "      <td>1</td>\n",
              "      <td>2</td>\n",
              "      <td>1</td>\n",
              "      <td>2</td>\n",
              "      <td>1</td>\n",
              "      <td>...</td>\n",
              "      <td>1</td>\n",
              "      <td>2</td>\n",
              "      <td>3</td>\n",
              "      <td>2</td>\n",
              "      <td>2</td>\n",
              "      <td>1</td>\n",
              "      <td>3</td>\n",
              "      <td>2</td>\n",
              "      <td>1</td>\n",
              "      <td>1</td>\n",
              "    </tr>\n",
              "    <tr>\n",
              "      <th>4</th>\n",
              "      <td>STUDENT5</td>\n",
              "      <td>2</td>\n",
              "      <td>2</td>\n",
              "      <td>1</td>\n",
              "      <td>3</td>\n",
              "      <td>2</td>\n",
              "      <td>2</td>\n",
              "      <td>1</td>\n",
              "      <td>3</td>\n",
              "      <td>1</td>\n",
              "      <td>...</td>\n",
              "      <td>2</td>\n",
              "      <td>1</td>\n",
              "      <td>2</td>\n",
              "      <td>2</td>\n",
              "      <td>2</td>\n",
              "      <td>1</td>\n",
              "      <td>2</td>\n",
              "      <td>2</td>\n",
              "      <td>1</td>\n",
              "      <td>1</td>\n",
              "    </tr>\n",
              "    <tr>\n",
              "      <th>5</th>\n",
              "      <td>STUDENT6</td>\n",
              "      <td>2</td>\n",
              "      <td>2</td>\n",
              "      <td>2</td>\n",
              "      <td>3</td>\n",
              "      <td>2</td>\n",
              "      <td>2</td>\n",
              "      <td>2</td>\n",
              "      <td>2</td>\n",
              "      <td>1</td>\n",
              "      <td>...</td>\n",
              "      <td>1</td>\n",
              "      <td>1</td>\n",
              "      <td>1</td>\n",
              "      <td>2</td>\n",
              "      <td>1</td>\n",
              "      <td>2</td>\n",
              "      <td>4</td>\n",
              "      <td>4</td>\n",
              "      <td>1</td>\n",
              "      <td>2</td>\n",
              "    </tr>\n",
              "    <tr>\n",
              "      <th>6</th>\n",
              "      <td>STUDENT7</td>\n",
              "      <td>1</td>\n",
              "      <td>2</td>\n",
              "      <td>2</td>\n",
              "      <td>4</td>\n",
              "      <td>2</td>\n",
              "      <td>2</td>\n",
              "      <td>2</td>\n",
              "      <td>1</td>\n",
              "      <td>1</td>\n",
              "      <td>...</td>\n",
              "      <td>1</td>\n",
              "      <td>1</td>\n",
              "      <td>3</td>\n",
              "      <td>3</td>\n",
              "      <td>3</td>\n",
              "      <td>3</td>\n",
              "      <td>4</td>\n",
              "      <td>4</td>\n",
              "      <td>1</td>\n",
              "      <td>5</td>\n",
              "    </tr>\n",
              "    <tr>\n",
              "      <th>7</th>\n",
              "      <td>STUDENT8</td>\n",
              "      <td>1</td>\n",
              "      <td>1</td>\n",
              "      <td>2</td>\n",
              "      <td>3</td>\n",
              "      <td>1</td>\n",
              "      <td>1</td>\n",
              "      <td>1</td>\n",
              "      <td>2</td>\n",
              "      <td>2</td>\n",
              "      <td>...</td>\n",
              "      <td>3</td>\n",
              "      <td>1</td>\n",
              "      <td>3</td>\n",
              "      <td>2</td>\n",
              "      <td>2</td>\n",
              "      <td>1</td>\n",
              "      <td>1</td>\n",
              "      <td>1</td>\n",
              "      <td>1</td>\n",
              "      <td>2</td>\n",
              "    </tr>\n",
              "    <tr>\n",
              "      <th>8</th>\n",
              "      <td>STUDENT9</td>\n",
              "      <td>2</td>\n",
              "      <td>1</td>\n",
              "      <td>3</td>\n",
              "      <td>3</td>\n",
              "      <td>2</td>\n",
              "      <td>1</td>\n",
              "      <td>1</td>\n",
              "      <td>1</td>\n",
              "      <td>1</td>\n",
              "      <td>...</td>\n",
              "      <td>1</td>\n",
              "      <td>1</td>\n",
              "      <td>3</td>\n",
              "      <td>2</td>\n",
              "      <td>2</td>\n",
              "      <td>2</td>\n",
              "      <td>4</td>\n",
              "      <td>3</td>\n",
              "      <td>1</td>\n",
              "      <td>5</td>\n",
              "    </tr>\n",
              "    <tr>\n",
              "      <th>9</th>\n",
              "      <td>STUDENT10</td>\n",
              "      <td>2</td>\n",
              "      <td>1</td>\n",
              "      <td>2</td>\n",
              "      <td>3</td>\n",
              "      <td>2</td>\n",
              "      <td>2</td>\n",
              "      <td>1</td>\n",
              "      <td>3</td>\n",
              "      <td>4</td>\n",
              "      <td>...</td>\n",
              "      <td>1</td>\n",
              "      <td>1</td>\n",
              "      <td>2</td>\n",
              "      <td>2</td>\n",
              "      <td>2</td>\n",
              "      <td>2</td>\n",
              "      <td>1</td>\n",
              "      <td>2</td>\n",
              "      <td>1</td>\n",
              "      <td>0</td>\n",
              "    </tr>\n",
              "  </tbody>\n",
              "</table>\n",
              "<p>10 rows × 33 columns</p>\n",
              "</div>"
            ],
            "text/plain": [
              "  STUDENT ID  Age  Sex  Graduated high-school type  Scholarship type  \\\n",
              "0   STUDENT1    2    2                           3                 3   \n",
              "1   STUDENT2    2    2                           3                 3   \n",
              "2   STUDENT3    2    2                           2                 3   \n",
              "3   STUDENT4    1    1                           1                 3   \n",
              "4   STUDENT5    2    2                           1                 3   \n",
              "5   STUDENT6    2    2                           2                 3   \n",
              "6   STUDENT7    1    2                           2                 4   \n",
              "7   STUDENT8    1    1                           2                 3   \n",
              "8   STUDENT9    2    1                           3                 3   \n",
              "9  STUDENT10    2    1                           2                 3   \n",
              "\n",
              "   Additional work  Regular artistic or sports activity  \\\n",
              "0                1                                    2   \n",
              "1                1                                    2   \n",
              "2                2                                    2   \n",
              "3                1                                    2   \n",
              "4                2                                    2   \n",
              "5                2                                    2   \n",
              "6                2                                    2   \n",
              "7                1                                    1   \n",
              "8                2                                    1   \n",
              "9                2                                    2   \n",
              "\n",
              "   Do you have a partner  Total salary  Transportation to the university  ...  \\\n",
              "0                      2             1                                 1  ...   \n",
              "1                      2             1                                 1  ...   \n",
              "2                      2             2                                 4  ...   \n",
              "3                      1             2                                 1  ...   \n",
              "4                      1             3                                 1  ...   \n",
              "5                      2             2                                 1  ...   \n",
              "6                      2             1                                 1  ...   \n",
              "7                      1             2                                 2  ...   \n",
              "8                      1             1                                 1  ...   \n",
              "9                      1             3                                 4  ...   \n",
              "\n",
              "   Preparation to midterm exams 1  Preparation to midterm exams 2  \\\n",
              "0                               1                               1   \n",
              "1                               1                               1   \n",
              "2                               1                               1   \n",
              "3                               1                               2   \n",
              "4                               2                               1   \n",
              "5                               1                               1   \n",
              "6                               1                               1   \n",
              "7                               3                               1   \n",
              "8                               1                               1   \n",
              "9                               1                               1   \n",
              "\n",
              "   Taking notes  Listening in classes  \\\n",
              "0             3                     2   \n",
              "1             3                     2   \n",
              "2             2                     2   \n",
              "3             3                     2   \n",
              "4             2                     2   \n",
              "5             1                     2   \n",
              "6             3                     3   \n",
              "7             3                     2   \n",
              "8             3                     2   \n",
              "9             2                     2   \n",
              "\n",
              "   Discussion improves my interest and success in the course  Flip-classroom  \\\n",
              "0                                                  1                       2   \n",
              "1                                                  3                       2   \n",
              "2                                                  1                       1   \n",
              "3                                                  2                       1   \n",
              "4                                                  2                       1   \n",
              "5                                                  1                       2   \n",
              "6                                                  3                       3   \n",
              "7                                                  2                       1   \n",
              "8                                                  2                       2   \n",
              "9                                                  2                       2   \n",
              "\n",
              "   Cumulative grade point average in the last semester  \\\n",
              "0                                                  1     \n",
              "1                                                  2     \n",
              "2                                                  2     \n",
              "3                                                  3     \n",
              "4                                                  2     \n",
              "5                                                  4     \n",
              "6                                                  4     \n",
              "7                                                  1     \n",
              "8                                                  4     \n",
              "9                                                  1     \n",
              "\n",
              "   Expected Cumulative grade point average in the graduation  Course ID  \\\n",
              "0                                                  1                  1   \n",
              "1                                                  3                  1   \n",
              "2                                                  2                  1   \n",
              "3                                                  2                  1   \n",
              "4                                                  2                  1   \n",
              "5                                                  4                  1   \n",
              "6                                                  4                  1   \n",
              "7                                                  1                  1   \n",
              "8                                                  3                  1   \n",
              "9                                                  2                  1   \n",
              "\n",
              "   OUTPUT Grade  \n",
              "0             1  \n",
              "1             1  \n",
              "2             1  \n",
              "3             1  \n",
              "4             1  \n",
              "5             2  \n",
              "6             5  \n",
              "7             2  \n",
              "8             5  \n",
              "9             0  \n",
              "\n",
              "[10 rows x 33 columns]"
            ]
          },
          "execution_count": 49,
          "metadata": {},
          "output_type": "execute_result"
        }
      ],
      "source": [
        "#โหลดข้อมูล\n",
        "student = pd.read_csv(\"student.csv\")\n",
        "colums = ['STUDENT ID',\n",
        "'Age',\n",
        "'Sex',\n",
        "'Graduated high-school type',\n",
        "'Scholarship type',\n",
        "'Additional work',\n",
        "'Regular artistic or sports activity',\n",
        "'Do you have a partner',\n",
        "'Total salary',\n",
        "'Transportation to the university',\n",
        "'Accommodation type in Cyprus',\n",
        "'Mother education',\n",
        "'Father education',\n",
        "'Number of sisters-brothers',\n",
        "'Parental status',\n",
        "'Mother occupation',\n",
        "'Father occupation',\n",
        "'Weekly study hours',\n",
        "'Reading frequency',\n",
        "'Reading frequency',\n",
        "'Attendance to the seminars-conferences',\n",
        "'Impact of your projects-activities',\n",
        "'Attendance to classes',\n",
        "'Preparation to midterm exams 1',\n",
        "'Preparation to midterm exams 2',\n",
        "'Taking notes',\n",
        "'Listening in classes',\n",
        "'Discussion improves my interest and success in the course',\n",
        "'Flip-classroom',\n",
        "'Cumulative grade point average in the last semester',\n",
        "'Expected Cumulative grade point average in the graduation',\n",
        "'Course ID',\n",
        "'OUTPUT Grade']\n",
        "\n",
        "student.columns = colums\n",
        "\n",
        "student.head(10)"
      ]
    },
    {
      "cell_type": "code",
      "execution_count": 78,
      "metadata": {
        "id": "K9-2fit9OQib"
      },
      "outputs": [
        {
          "name": "stdout",
          "output_type": "stream",
          "text": [
            "<class 'pandas.core.frame.DataFrame'>\n",
            "RangeIndex: 145 entries, 0 to 144\n",
            "Data columns (total 33 columns):\n",
            " #   Column                                                     Non-Null Count  Dtype \n",
            "---  ------                                                     --------------  ----- \n",
            " 0   STUDENT ID                                                 145 non-null    object\n",
            " 1   Age                                                        145 non-null    int64 \n",
            " 2   Sex                                                        145 non-null    int64 \n",
            " 3   Graduated high-school type                                 145 non-null    int64 \n",
            " 4   Scholarship type                                           145 non-null    int64 \n",
            " 5   Additional work                                            145 non-null    int64 \n",
            " 6   Regular artistic or sports activity                        145 non-null    int64 \n",
            " 7   Do you have a partner                                      145 non-null    int64 \n",
            " 8   Total salary                                               145 non-null    int64 \n",
            " 9   Transportation to the university                           145 non-null    int64 \n",
            " 10  Accommodation type in Cyprus                               145 non-null    int64 \n",
            " 11  Mother education                                           145 non-null    int64 \n",
            " 12  Father education                                           145 non-null    int64 \n",
            " 13  Number of sisters-brothers                                 145 non-null    int64 \n",
            " 14  Parental status                                            145 non-null    int64 \n",
            " 15  Mother occupation                                          145 non-null    int64 \n",
            " 16  Father occupation                                          145 non-null    int64 \n",
            " 17  Weekly study hours                                         145 non-null    int64 \n",
            " 18  Reading frequency                                          145 non-null    int64 \n",
            " 19  Reading frequency                                          145 non-null    int64 \n",
            " 20  Attendance to the seminars-conferences                     145 non-null    int64 \n",
            " 21  Impact of your projects-activities                         145 non-null    int64 \n",
            " 22  Attendance to classes                                      145 non-null    int64 \n",
            " 23  Preparation to midterm exams 1                             145 non-null    int64 \n",
            " 24  Preparation to midterm exams 2                             145 non-null    int64 \n",
            " 25  Taking notes                                               145 non-null    int64 \n",
            " 26  Listening in classes                                       145 non-null    int64 \n",
            " 27  Discussion improves my interest and success in the course  145 non-null    int64 \n",
            " 28  Flip-classroom                                             145 non-null    int64 \n",
            " 29  Cumulative grade point average in the last semester        145 non-null    int64 \n",
            " 30  Expected Cumulative grade point average in the graduation  145 non-null    int64 \n",
            " 31  Course ID                                                  145 non-null    int64 \n",
            " 32  OUTPUT Grade                                               145 non-null    int64 \n",
            "dtypes: int64(32), object(1)\n",
            "memory usage: 37.5+ KB\n"
          ]
        }
      ],
      "source": [
        "\n",
        "student.info()"
      ]
    },
    {
      "cell_type": "code",
      "execution_count": 146,
      "metadata": {
        "id": "PB5WWPZlOdxT"
      },
      "outputs": [
        {
          "data": {
            "text/plain": [
              "Sex\n",
              "2    17\n",
              "Name: count, dtype: int64"
            ]
          },
          "execution_count": 146,
          "metadata": {},
          "output_type": "execute_result"
        }
      ],
      "source": [
        "#คำถามที่ 1: นักเรียนที่ได้เกรด AA ส่วนใหญเป็นเพศไหน \n",
        "student[student[\"OUTPUT Grade\"] == 7].value_counts(\"Sex\")"
      ]
    },
    {
      "cell_type": "code",
      "execution_count": 1,
      "metadata": {},
      "outputs": [],
      "source": [
        "#คำตอบของคำถามที่1:\n",
        "#2 : male"
      ]
    },
    {
      "cell_type": "code",
      "execution_count": 152,
      "metadata": {
        "id": "_zuSwgFAOZUr"
      },
      "outputs": [
        {
          "data": {
            "text/plain": [
              "Total salary\n",
              "1    93\n",
              "2    27\n",
              "3    16\n",
              "5     5\n",
              "4     4\n",
              "Name: count, dtype: int64"
            ]
          },
          "execution_count": 152,
          "metadata": {},
          "output_type": "execute_result"
        }
      ],
      "source": [
        "#คำถามที่2: รายได้ส่วนมากขอกักศึกษาส่วนใหญ่เป็นเท่าไหร่\n",
        "student[\"Total salary\"].value_counts()\n"
      ]
    },
    {
      "cell_type": "code",
      "execution_count": 14,
      "metadata": {
        "id": "GeQop-lWOkt8"
      },
      "outputs": [],
      "source": [
        "#คำตอบของคำถามที่2:\n",
        "# ระดับ 1 : USD 135-200"
      ]
    },
    {
      "cell_type": "code",
      "execution_count": 168,
      "metadata": {
        "id": "svL9RvweObxP"
      },
      "outputs": [
        {
          "data": {
            "text/html": [
              "<div>\n",
              "<style scoped>\n",
              "    .dataframe tbody tr th:only-of-type {\n",
              "        vertical-align: middle;\n",
              "    }\n",
              "\n",
              "    .dataframe tbody tr th {\n",
              "        vertical-align: top;\n",
              "    }\n",
              "\n",
              "    .dataframe thead th {\n",
              "        text-align: right;\n",
              "    }\n",
              "</style>\n",
              "<table border=\"1\" class=\"dataframe\">\n",
              "  <thead>\n",
              "    <tr style=\"text-align: right;\">\n",
              "      <th></th>\n",
              "      <th>Parental status</th>\n",
              "      <th>count</th>\n",
              "      <th>ratio</th>\n",
              "    </tr>\n",
              "  </thead>\n",
              "  <tbody>\n",
              "    <tr>\n",
              "      <th>0</th>\n",
              "      <td>1</td>\n",
              "      <td>127</td>\n",
              "      <td>0.875862</td>\n",
              "    </tr>\n",
              "    <tr>\n",
              "      <th>1</th>\n",
              "      <td>2</td>\n",
              "      <td>11</td>\n",
              "      <td>0.075862</td>\n",
              "    </tr>\n",
              "    <tr>\n",
              "      <th>2</th>\n",
              "      <td>3</td>\n",
              "      <td>7</td>\n",
              "      <td>0.048276</td>\n",
              "    </tr>\n",
              "  </tbody>\n",
              "</table>\n",
              "</div>"
            ],
            "text/plain": [
              "   Parental status  count     ratio\n",
              "0                1    127  0.875862\n",
              "1                2     11  0.075862\n",
              "2                3      7  0.048276"
            ]
          },
          "execution_count": 168,
          "metadata": {},
          "output_type": "execute_result"
        }
      ],
      "source": [
        "#คำถามที่3: นักศึกษาที่ผู้ปกครองเสียชีวิตคิดเป็นเท่าใดคิดเป็นร้อยละเท่าใด\n",
        "proportion = student[\"Parental status\"].value_counts().reset_index()\n",
        "proportion[\"ratio\"] = proportion[\"count\"]/proportion[\"count\"].sum()\n",
        "proportion"
      ]
    },
    {
      "cell_type": "code",
      "execution_count": 16,
      "metadata": {
        "id": "ErvMJEI4OmRT"
      },
      "outputs": [],
      "source": [
        "#คำตอบของคำถามที่3:\n",
        "#ร้อยละ 4.83"
      ]
    },
    {
      "cell_type": "markdown",
      "metadata": {
        "id": "VPqoFOPLNXBi"
      },
      "source": [
        "## ข้อมูลชุดที่ 2: Clickstream Data for Online Shopping\n",
        "\n",
        "link: https://archive.ics.uci.edu/dataset/553/clickstream+data+for+online+shopping"
      ]
    },
    {
      "cell_type": "code",
      "execution_count": 45,
      "metadata": {
        "id": "V4b4q5KPOowq"
      },
      "outputs": [
        {
          "data": {
            "text/html": [
              "<div>\n",
              "<style scoped>\n",
              "    .dataframe tbody tr th:only-of-type {\n",
              "        vertical-align: middle;\n",
              "    }\n",
              "\n",
              "    .dataframe tbody tr th {\n",
              "        vertical-align: top;\n",
              "    }\n",
              "\n",
              "    .dataframe thead th {\n",
              "        text-align: right;\n",
              "    }\n",
              "</style>\n",
              "<table border=\"1\" class=\"dataframe\">\n",
              "  <thead>\n",
              "    <tr style=\"text-align: right;\">\n",
              "      <th></th>\n",
              "      <th>year</th>\n",
              "      <th>month</th>\n",
              "      <th>day</th>\n",
              "      <th>order</th>\n",
              "      <th>country</th>\n",
              "      <th>session ID</th>\n",
              "      <th>page 1 (main category)</th>\n",
              "      <th>page 2 (clothing model)</th>\n",
              "      <th>colour</th>\n",
              "      <th>location</th>\n",
              "      <th>model photography</th>\n",
              "      <th>price</th>\n",
              "      <th>price 2</th>\n",
              "      <th>page</th>\n",
              "    </tr>\n",
              "  </thead>\n",
              "  <tbody>\n",
              "    <tr>\n",
              "      <th>0</th>\n",
              "      <td>2008</td>\n",
              "      <td>4</td>\n",
              "      <td>1</td>\n",
              "      <td>1</td>\n",
              "      <td>29</td>\n",
              "      <td>1</td>\n",
              "      <td>1</td>\n",
              "      <td>A13</td>\n",
              "      <td>1</td>\n",
              "      <td>5</td>\n",
              "      <td>1</td>\n",
              "      <td>28</td>\n",
              "      <td>2</td>\n",
              "      <td>1</td>\n",
              "    </tr>\n",
              "    <tr>\n",
              "      <th>1</th>\n",
              "      <td>2008</td>\n",
              "      <td>4</td>\n",
              "      <td>1</td>\n",
              "      <td>2</td>\n",
              "      <td>29</td>\n",
              "      <td>1</td>\n",
              "      <td>1</td>\n",
              "      <td>A16</td>\n",
              "      <td>1</td>\n",
              "      <td>6</td>\n",
              "      <td>1</td>\n",
              "      <td>33</td>\n",
              "      <td>2</td>\n",
              "      <td>1</td>\n",
              "    </tr>\n",
              "    <tr>\n",
              "      <th>2</th>\n",
              "      <td>2008</td>\n",
              "      <td>4</td>\n",
              "      <td>1</td>\n",
              "      <td>3</td>\n",
              "      <td>29</td>\n",
              "      <td>1</td>\n",
              "      <td>2</td>\n",
              "      <td>B4</td>\n",
              "      <td>10</td>\n",
              "      <td>2</td>\n",
              "      <td>1</td>\n",
              "      <td>52</td>\n",
              "      <td>1</td>\n",
              "      <td>1</td>\n",
              "    </tr>\n",
              "    <tr>\n",
              "      <th>3</th>\n",
              "      <td>2008</td>\n",
              "      <td>4</td>\n",
              "      <td>1</td>\n",
              "      <td>4</td>\n",
              "      <td>29</td>\n",
              "      <td>1</td>\n",
              "      <td>2</td>\n",
              "      <td>B17</td>\n",
              "      <td>6</td>\n",
              "      <td>6</td>\n",
              "      <td>2</td>\n",
              "      <td>38</td>\n",
              "      <td>2</td>\n",
              "      <td>1</td>\n",
              "    </tr>\n",
              "    <tr>\n",
              "      <th>4</th>\n",
              "      <td>2008</td>\n",
              "      <td>4</td>\n",
              "      <td>1</td>\n",
              "      <td>5</td>\n",
              "      <td>29</td>\n",
              "      <td>1</td>\n",
              "      <td>2</td>\n",
              "      <td>B8</td>\n",
              "      <td>4</td>\n",
              "      <td>3</td>\n",
              "      <td>2</td>\n",
              "      <td>52</td>\n",
              "      <td>1</td>\n",
              "      <td>1</td>\n",
              "    </tr>\n",
              "    <tr>\n",
              "      <th>5</th>\n",
              "      <td>2008</td>\n",
              "      <td>4</td>\n",
              "      <td>1</td>\n",
              "      <td>6</td>\n",
              "      <td>29</td>\n",
              "      <td>1</td>\n",
              "      <td>3</td>\n",
              "      <td>C56</td>\n",
              "      <td>6</td>\n",
              "      <td>1</td>\n",
              "      <td>2</td>\n",
              "      <td>57</td>\n",
              "      <td>1</td>\n",
              "      <td>4</td>\n",
              "    </tr>\n",
              "    <tr>\n",
              "      <th>6</th>\n",
              "      <td>2008</td>\n",
              "      <td>4</td>\n",
              "      <td>1</td>\n",
              "      <td>7</td>\n",
              "      <td>29</td>\n",
              "      <td>1</td>\n",
              "      <td>3</td>\n",
              "      <td>C57</td>\n",
              "      <td>5</td>\n",
              "      <td>1</td>\n",
              "      <td>2</td>\n",
              "      <td>33</td>\n",
              "      <td>2</td>\n",
              "      <td>4</td>\n",
              "    </tr>\n",
              "    <tr>\n",
              "      <th>7</th>\n",
              "      <td>2008</td>\n",
              "      <td>4</td>\n",
              "      <td>1</td>\n",
              "      <td>8</td>\n",
              "      <td>29</td>\n",
              "      <td>1</td>\n",
              "      <td>4</td>\n",
              "      <td>P67</td>\n",
              "      <td>9</td>\n",
              "      <td>5</td>\n",
              "      <td>1</td>\n",
              "      <td>38</td>\n",
              "      <td>1</td>\n",
              "      <td>4</td>\n",
              "    </tr>\n",
              "    <tr>\n",
              "      <th>8</th>\n",
              "      <td>2008</td>\n",
              "      <td>4</td>\n",
              "      <td>1</td>\n",
              "      <td>9</td>\n",
              "      <td>29</td>\n",
              "      <td>1</td>\n",
              "      <td>4</td>\n",
              "      <td>P82</td>\n",
              "      <td>6</td>\n",
              "      <td>4</td>\n",
              "      <td>2</td>\n",
              "      <td>48</td>\n",
              "      <td>1</td>\n",
              "      <td>5</td>\n",
              "    </tr>\n",
              "    <tr>\n",
              "      <th>9</th>\n",
              "      <td>2008</td>\n",
              "      <td>4</td>\n",
              "      <td>1</td>\n",
              "      <td>1</td>\n",
              "      <td>29</td>\n",
              "      <td>2</td>\n",
              "      <td>2</td>\n",
              "      <td>B31</td>\n",
              "      <td>9</td>\n",
              "      <td>5</td>\n",
              "      <td>1</td>\n",
              "      <td>57</td>\n",
              "      <td>1</td>\n",
              "      <td>2</td>\n",
              "    </tr>\n",
              "  </tbody>\n",
              "</table>\n",
              "</div>"
            ],
            "text/plain": [
              "   year  month  day  order  country  session ID  page 1 (main category)  \\\n",
              "0  2008      4    1      1       29           1                       1   \n",
              "1  2008      4    1      2       29           1                       1   \n",
              "2  2008      4    1      3       29           1                       2   \n",
              "3  2008      4    1      4       29           1                       2   \n",
              "4  2008      4    1      5       29           1                       2   \n",
              "5  2008      4    1      6       29           1                       3   \n",
              "6  2008      4    1      7       29           1                       3   \n",
              "7  2008      4    1      8       29           1                       4   \n",
              "8  2008      4    1      9       29           1                       4   \n",
              "9  2008      4    1      1       29           2                       2   \n",
              "\n",
              "  page 2 (clothing model)  colour  location  model photography  price  \\\n",
              "0                     A13       1         5                  1     28   \n",
              "1                     A16       1         6                  1     33   \n",
              "2                      B4      10         2                  1     52   \n",
              "3                     B17       6         6                  2     38   \n",
              "4                      B8       4         3                  2     52   \n",
              "5                     C56       6         1                  2     57   \n",
              "6                     C57       5         1                  2     33   \n",
              "7                     P67       9         5                  1     38   \n",
              "8                     P82       6         4                  2     48   \n",
              "9                     B31       9         5                  1     57   \n",
              "\n",
              "   price 2  page  \n",
              "0        2     1  \n",
              "1        2     1  \n",
              "2        1     1  \n",
              "3        2     1  \n",
              "4        1     1  \n",
              "5        1     4  \n",
              "6        2     4  \n",
              "7        1     4  \n",
              "8        1     5  \n",
              "9        1     2  "
            ]
          },
          "execution_count": 45,
          "metadata": {},
          "output_type": "execute_result"
        }
      ],
      "source": [
        "#โหลดข้อมูล\n",
        "shopping = pd.read_csv(\"e-shop clothing 2008.csv\", delimiter=\";\")\n",
        "shopping.head(10)"
      ]
    },
    {
      "cell_type": "code",
      "execution_count": 59,
      "metadata": {},
      "outputs": [
        {
          "name": "stdout",
          "output_type": "stream",
          "text": [
            "<class 'pandas.core.frame.DataFrame'>\n",
            "RangeIndex: 165474 entries, 0 to 165473\n",
            "Data columns (total 14 columns):\n",
            " #   Column                   Non-Null Count   Dtype \n",
            "---  ------                   --------------   ----- \n",
            " 0   year                     165474 non-null  int64 \n",
            " 1   month                    165474 non-null  int64 \n",
            " 2   day                      165474 non-null  int64 \n",
            " 3   order                    165474 non-null  int64 \n",
            " 4   country                  165474 non-null  int64 \n",
            " 5   session ID               165474 non-null  int64 \n",
            " 6   page 1 (main category)   165474 non-null  int64 \n",
            " 7   page 2 (clothing model)  165474 non-null  object\n",
            " 8   colour                   165474 non-null  int64 \n",
            " 9   location                 165474 non-null  int64 \n",
            " 10  model photography        165474 non-null  int64 \n",
            " 11  price                    165474 non-null  int64 \n",
            " 12  price 2                  165474 non-null  int64 \n",
            " 13  page                     165474 non-null  int64 \n",
            "dtypes: int64(13), object(1)\n",
            "memory usage: 17.7+ MB\n"
          ]
        }
      ],
      "source": [
        "shopping.info()"
      ]
    },
    {
      "cell_type": "code",
      "execution_count": 73,
      "metadata": {},
      "outputs": [
        {
          "data": {
            "text/plain": [
              "count    165474.000000\n",
              "mean          9.817476\n",
              "std          13.478411\n",
              "min           1.000000\n",
              "25%           2.000000\n",
              "50%           6.000000\n",
              "75%          12.000000\n",
              "max         195.000000\n",
              "Name: order, dtype: float64"
            ]
          },
          "execution_count": 73,
          "metadata": {},
          "output_type": "execute_result"
        }
      ],
      "source": [
        "shopping[\"order\"].describe()"
      ]
    },
    {
      "cell_type": "code",
      "execution_count": 97,
      "metadata": {
        "id": "x9euTYvVOowy"
      },
      "outputs": [
        {
          "data": {
            "image/png": "[encoded data removed]",
            "text/plain": [
              "<Figure size 640x480 with 1 Axes>"
            ]
          },
          "metadata": {},
          "output_type": "display_data"
        }
      ],
      "source": [
        "#คำถามที่1: ในเดือนไหนมียอด order สูงที่สุด\n",
        "df_month = shopping.groupby('month')['order'].sum().reset_index()\n",
        "plt.bar(df_month['month'], df_month['order'])\n",
        "plt.xlabel('Month')\n",
        "plt.ylabel('Sum of Orders')\n",
        "plt.show()"
      ]
    },
    {
      "cell_type": "code",
      "execution_count": 19,
      "metadata": {
        "id": "OeyQTmgVOowz"
      },
      "outputs": [],
      "source": [
        "#คำตอบของคำถามที่1: เดือนที่ 4 April"
      ]
    },
    {
      "cell_type": "code",
      "execution_count": 117,
      "metadata": {
        "id": "eJqOEH6eOowz"
      },
      "outputs": [
        {
          "data": {
            "text/html": [
              "<div>\n",
              "<style scoped>\n",
              "    .dataframe tbody tr th:only-of-type {\n",
              "        vertical-align: middle;\n",
              "    }\n",
              "\n",
              "    .dataframe tbody tr th {\n",
              "        vertical-align: top;\n",
              "    }\n",
              "\n",
              "    .dataframe thead th {\n",
              "        text-align: right;\n",
              "    }\n",
              "</style>\n",
              "<table border=\"1\" class=\"dataframe\">\n",
              "  <thead>\n",
              "    <tr style=\"text-align: right;\">\n",
              "      <th></th>\n",
              "      <th>country</th>\n",
              "      <th>session ID</th>\n",
              "    </tr>\n",
              "  </thead>\n",
              "  <tbody>\n",
              "    <tr>\n",
              "      <th>28</th>\n",
              "      <td>29</td>\n",
              "      <td>133963</td>\n",
              "    </tr>\n",
              "    <tr>\n",
              "      <th>8</th>\n",
              "      <td>9</td>\n",
              "      <td>18003</td>\n",
              "    </tr>\n",
              "    <tr>\n",
              "      <th>23</th>\n",
              "      <td>24</td>\n",
              "      <td>4091</td>\n",
              "    </tr>\n",
              "  </tbody>\n",
              "</table>\n",
              "</div>"
            ],
            "text/plain": [
              "    country  session ID\n",
              "28       29      133963\n",
              "8         9       18003\n",
              "23       24        4091"
            ]
          },
          "execution_count": 117,
          "metadata": {},
          "output_type": "execute_result"
        }
      ],
      "source": [
        "#คำถามที่2: 3 ประเทศที่ที่มีsessionมาที่สุด\n",
        "df_country = shopping.groupby('country')['session ID'].count().reset_index()\n",
        "df_country.sort_values(\"session ID\", ascending=False).head(3)\n"
      ]
    },
    {
      "cell_type": "code",
      "execution_count": 21,
      "metadata": {
        "id": "N4pm1ecUOowz"
      },
      "outputs": [],
      "source": [
        "#คำตอบของคำถามที่2:\n",
        "# จาก \n",
        "# 1. 29 = Poland\n",
        "# 2. 8  = Cyprus\n",
        "# 3. 23 = Latvai"
      ]
    },
    {
      "cell_type": "code",
      "execution_count": 142,
      "metadata": {
        "id": "k5A78FPXOowz"
      },
      "outputs": [
        {
          "data": {
            "text/html": [
              "<div>\n",
              "<style scoped>\n",
              "    .dataframe tbody tr th:only-of-type {\n",
              "        vertical-align: middle;\n",
              "    }\n",
              "\n",
              "    .dataframe tbody tr th {\n",
              "        vertical-align: top;\n",
              "    }\n",
              "\n",
              "    .dataframe thead th {\n",
              "        text-align: right;\n",
              "    }\n",
              "</style>\n",
              "<table border=\"1\" class=\"dataframe\">\n",
              "  <thead>\n",
              "    <tr style=\"text-align: right;\">\n",
              "      <th></th>\n",
              "      <th>colour</th>\n",
              "      <th>count</th>\n",
              "    </tr>\n",
              "  </thead>\n",
              "  <tbody>\n",
              "    <tr>\n",
              "      <th>13</th>\n",
              "      <td>5</td>\n",
              "      <td>1667</td>\n",
              "    </tr>\n",
              "    <tr>\n",
              "      <th>12</th>\n",
              "      <td>8</td>\n",
              "      <td>2664</td>\n",
              "    </tr>\n",
              "    <tr>\n",
              "      <th>11</th>\n",
              "      <td>10</td>\n",
              "      <td>3579</td>\n",
              "    </tr>\n",
              "  </tbody>\n",
              "</table>\n",
              "</div>"
            ],
            "text/plain": [
              "    colour  count\n",
              "13       5   1667\n",
              "12       8   2664\n",
              "11      10   3579"
            ]
          },
          "execution_count": 142,
          "metadata": {},
          "output_type": "execute_result"
        }
      ],
      "source": [
        "#คำถามที่3: 3 สีอันดับที่คนนิยมน้อยที่สุด\n",
        "\n",
        "shopping[\"colour\"].value_counts().reset_index().sort_values('count', ascending=True).head(3)"
      ]
    },
    {
      "cell_type": "code",
      "execution_count": 23,
      "metadata": {
        "id": "cISq6KWJOowz"
      },
      "outputs": [],
      "source": [
        "#คำตอบของคำถามที่3:\n",
        "# 5 = burgundy\n",
        "# 8 = navy blue\n",
        "# 10 = olive"
      ]
    }
  ],
  "metadata": {
    "colab": {
      "provenance": []
    },
    "kernelspec": {
      "display_name": "Python 3",
      "name": "python3"
    },
    "language_info": {
      "codemirror_mode": {
        "name": "ipython",
        "version": 3
      },
      "file_extension": ".py",
      "mimetype": "text/x-python",
      "name": "python",
      "nbconvert_exporter": "python",
      "pygments_lexer": "ipython3",
      "version": "3.11.7"
    }
  },
  "nbformat": 4,
  "nbformat_minor": 0
}
