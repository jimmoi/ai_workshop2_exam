{
  "cells": [
    {
      "cell_type": "code",
      "execution_count": 1,
      "metadata": {
        "id": "0nstVPKmT1Tp"
      },
      "outputs": [],
      "source": [
        "import pandas as pd"
      ]
    },
    {
      "cell_type": "markdown",
      "metadata": {
        "id": "4PsuP2P7T3Uc"
      },
      "source": [
        "#Supermarket data\n",
        "\n",
        "**ดาวน์โหลดข้อมูลจาก**\n",
        "https://drive.google.com/file/d/18XOHfl_9DX-BuBrtmGnzRO7djS5ylB_l/view?usp=sharing"
      ]
    },
    {
      "cell_type": "markdown",
      "metadata": {
        "id": "f4uaKv5sXk9K"
      },
      "source": [
        "ข้อมูล supermarket data เป็นข้อมูลบันทึกการซื้อสินค้าของลูกค้าจากร้านค้าจากสาขาต่างๆ โดยมีการเก็บข้อมูลไว้ 3 ไฟล์ ได้แก่\n",
        "\n",
        "\n",
        "1. supermarket_distances:เก็บข้อมูลระยะทางจากบ้านลูกค้าไปยังร้านค้าสาขาต่างๆ\n",
        "2. supermarket_prices: เก็บข้อมูลราคาของสินค้าแต่ละชิ้น\n",
        "3. supermarket_purchases: เก็บข้อมูลการซื้อสินค้าของลูกค้า\n",
        "\n"
      ]
    },
    {
      "cell_type": "markdown",
      "metadata": {
        "id": "aX7Fk17pYxAr"
      },
      "source": [
        "##Goal: ต้องการวิเคราะห์ข้อมูลว่าร้านค้าสาขาใดทำยอดขายของแต่ละสาขา"
      ]
    },
    {
      "cell_type": "code",
      "execution_count": 2,
      "metadata": {
        "id": "PUo5swJNT9Yr"
      },
      "outputs": [
        {
          "name": "stderr",
          "output_type": "stream",
          "text": [
            "'unzip' is not recognized as an internal or external command,\n",
            "operable program or batch file.\n"
          ]
        }
      ],
      "source": [
        "#แตก zip ไฟล์\n",
        "!unzip /content/supermarket_data.zip"
      ]
    },
    {
      "cell_type": "code",
      "execution_count": 3,
      "metadata": {
        "id": "wfgZZoUbTTqV"
      },
      "outputs": [
        {
          "data": {
            "text/html": [
              "<div>\n",
              "<style scoped>\n",
              "    .dataframe tbody tr th:only-of-type {\n",
              "        vertical-align: middle;\n",
              "    }\n",
              "\n",
              "    .dataframe tbody tr th {\n",
              "        vertical-align: top;\n",
              "    }\n",
              "\n",
              "    .dataframe thead th {\n",
              "        text-align: right;\n",
              "    }\n",
              "</style>\n",
              "<table border=\"1\" class=\"dataframe\">\n",
              "  <thead>\n",
              "    <tr style=\"text-align: right;\">\n",
              "      <th></th>\n",
              "      <th>customer_id</th>\n",
              "      <th>shop_id</th>\n",
              "      <th>distance</th>\n",
              "    </tr>\n",
              "  </thead>\n",
              "  <tbody>\n",
              "    <tr>\n",
              "      <th>0</th>\n",
              "      <td>1</td>\n",
              "      <td>1</td>\n",
              "      <td>4082.522163</td>\n",
              "    </tr>\n",
              "    <tr>\n",
              "      <th>1</th>\n",
              "      <td>1</td>\n",
              "      <td>2</td>\n",
              "      <td>985.876199</td>\n",
              "    </tr>\n",
              "    <tr>\n",
              "      <th>2</th>\n",
              "      <td>1</td>\n",
              "      <td>3</td>\n",
              "      <td>2372.096966</td>\n",
              "    </tr>\n",
              "    <tr>\n",
              "      <th>3</th>\n",
              "      <td>1</td>\n",
              "      <td>4</td>\n",
              "      <td>4929.804616</td>\n",
              "    </tr>\n",
              "    <tr>\n",
              "      <th>4</th>\n",
              "      <td>1</td>\n",
              "      <td>5</td>\n",
              "      <td>3284.386737</td>\n",
              "    </tr>\n",
              "  </tbody>\n",
              "</table>\n",
              "</div>"
            ],
            "text/plain": [
              "   customer_id  shop_id     distance\n",
              "0            1        1  4082.522163\n",
              "1            1        2   985.876199\n",
              "2            1        3  2372.096966\n",
              "3            1        4  4929.804616\n",
              "4            1        5  3284.386737"
            ]
          },
          "execution_count": 3,
          "metadata": {},
          "output_type": "execute_result"
        }
      ],
      "source": [
        "#code\n",
        "df_distances = pd.read_csv(\"supermarket_data\\supermarket_distances\", delimiter=\" \")\n",
        "df_distances.head()"
      ]
    },
    {
      "cell_type": "code",
      "execution_count": 4,
      "metadata": {
        "id": "IbnnB2z5W1lX"
      },
      "outputs": [
        {
          "data": {
            "text/html": [
              "<div>\n",
              "<style scoped>\n",
              "    .dataframe tbody tr th:only-of-type {\n",
              "        vertical-align: middle;\n",
              "    }\n",
              "\n",
              "    .dataframe tbody tr th {\n",
              "        vertical-align: top;\n",
              "    }\n",
              "\n",
              "    .dataframe thead th {\n",
              "        text-align: right;\n",
              "    }\n",
              "</style>\n",
              "<table border=\"1\" class=\"dataframe\">\n",
              "  <thead>\n",
              "    <tr style=\"text-align: right;\">\n",
              "      <th></th>\n",
              "      <th>product_id</th>\n",
              "      <th>price</th>\n",
              "    </tr>\n",
              "  </thead>\n",
              "  <tbody>\n",
              "    <tr>\n",
              "      <th>0</th>\n",
              "      <td>1</td>\n",
              "      <td>4.130</td>\n",
              "    </tr>\n",
              "    <tr>\n",
              "      <th>1</th>\n",
              "      <td>2</td>\n",
              "      <td>2.189</td>\n",
              "    </tr>\n",
              "    <tr>\n",
              "      <th>2</th>\n",
              "      <td>3</td>\n",
              "      <td>3.349</td>\n",
              "    </tr>\n",
              "    <tr>\n",
              "      <th>3</th>\n",
              "      <td>4</td>\n",
              "      <td>4.682</td>\n",
              "    </tr>\n",
              "    <tr>\n",
              "      <th>4</th>\n",
              "      <td>5</td>\n",
              "      <td>1.615</td>\n",
              "    </tr>\n",
              "  </tbody>\n",
              "</table>\n",
              "</div>"
            ],
            "text/plain": [
              "   product_id  price\n",
              "0           1  4.130\n",
              "1           2  2.189\n",
              "2           3  3.349\n",
              "3           4  4.682\n",
              "4           5  1.615"
            ]
          },
          "execution_count": 4,
          "metadata": {},
          "output_type": "execute_result"
        }
      ],
      "source": [
        "#code\n",
        "df_prices = pd.read_csv(\"supermarket_data\\supermarket_prices\", delimiter=\" \")\n",
        "df_prices.head()"
      ]
    },
    {
      "cell_type": "code",
      "execution_count": 5,
      "metadata": {
        "id": "B8Y9If3LW191"
      },
      "outputs": [
        {
          "data": {
            "text/html": [
              "<div>\n",
              "<style scoped>\n",
              "    .dataframe tbody tr th:only-of-type {\n",
              "        vertical-align: middle;\n",
              "    }\n",
              "\n",
              "    .dataframe tbody tr th {\n",
              "        vertical-align: top;\n",
              "    }\n",
              "\n",
              "    .dataframe thead th {\n",
              "        text-align: right;\n",
              "    }\n",
              "</style>\n",
              "<table border=\"1\" class=\"dataframe\">\n",
              "  <thead>\n",
              "    <tr style=\"text-align: right;\">\n",
              "      <th></th>\n",
              "      <th>customer_id</th>\n",
              "      <th>product_id</th>\n",
              "      <th>shop_id</th>\n",
              "      <th>quantity</th>\n",
              "    </tr>\n",
              "  </thead>\n",
              "  <tbody>\n",
              "    <tr>\n",
              "      <th>0</th>\n",
              "      <td>1</td>\n",
              "      <td>112</td>\n",
              "      <td>1</td>\n",
              "      <td>3</td>\n",
              "    </tr>\n",
              "    <tr>\n",
              "      <th>1</th>\n",
              "      <td>1</td>\n",
              "      <td>112</td>\n",
              "      <td>2</td>\n",
              "      <td>16</td>\n",
              "    </tr>\n",
              "    <tr>\n",
              "      <th>2</th>\n",
              "      <td>1</td>\n",
              "      <td>113</td>\n",
              "      <td>2</td>\n",
              "      <td>2</td>\n",
              "    </tr>\n",
              "    <tr>\n",
              "      <th>3</th>\n",
              "      <td>1</td>\n",
              "      <td>114</td>\n",
              "      <td>2</td>\n",
              "      <td>1</td>\n",
              "    </tr>\n",
              "    <tr>\n",
              "      <th>4</th>\n",
              "      <td>1</td>\n",
              "      <td>133</td>\n",
              "      <td>1</td>\n",
              "      <td>1</td>\n",
              "    </tr>\n",
              "  </tbody>\n",
              "</table>\n",
              "</div>"
            ],
            "text/plain": [
              "   customer_id  product_id  shop_id  quantity\n",
              "0            1         112        1         3\n",
              "1            1         112        2        16\n",
              "2            1         113        2         2\n",
              "3            1         114        2         1\n",
              "4            1         133        1         1"
            ]
          },
          "execution_count": 5,
          "metadata": {},
          "output_type": "execute_result"
        }
      ],
      "source": [
        "#code\n",
        "df_purchases = pd.read_csv(\"supermarket_data\\supermarket_purchases\", delimiter=\" \")\n",
        "df_purchases.head()"
      ]
    },
    {
      "cell_type": "markdown",
      "metadata": {
        "id": "sN0mKzlJZVrR"
      },
      "source": [
        "##Data collection\n",
        "เราต้องการข้อมูลอะไรบ้าง เพื่อตอบ Goal ที่ตั้งไว้"
      ]
    },
    {
      "cell_type": "code",
      "execution_count": 6,
      "metadata": {
        "id": "fFb-2wgLZrJv"
      },
      "outputs": [],
      "source": [
        "#Ans\n",
        "#product_id, shop_id, quantity, price"
      ]
    },
    {
      "cell_type": "markdown",
      "metadata": {
        "id": "vHkaq0DjZ2Ru"
      },
      "source": [
        "###DataMart\n",
        "\n",
        "\n",
        "*   [pandas.DataFrame.merge](https://pandas.pydata.org/docs/reference/api/pandas.DataFrame.merge.html)\n",
        "*   [pandas Merge, join, concatenate and compare](https://pandas.pydata.org/docs/user_guide/merging.html)\n",
        "\n"
      ]
    },
    {
      "cell_type": "code",
      "execution_count": 7,
      "metadata": {
        "id": "J7f2pnHbZ92l"
      },
      "outputs": [
        {
          "data": {
            "text/html": [
              "<div>\n",
              "<style scoped>\n",
              "    .dataframe tbody tr th:only-of-type {\n",
              "        vertical-align: middle;\n",
              "    }\n",
              "\n",
              "    .dataframe tbody tr th {\n",
              "        vertical-align: top;\n",
              "    }\n",
              "\n",
              "    .dataframe thead th {\n",
              "        text-align: right;\n",
              "    }\n",
              "</style>\n",
              "<table border=\"1\" class=\"dataframe\">\n",
              "  <thead>\n",
              "    <tr style=\"text-align: right;\">\n",
              "      <th></th>\n",
              "      <th>product_id</th>\n",
              "      <th>shop_id</th>\n",
              "      <th>quantity</th>\n",
              "      <th>price</th>\n",
              "      <th>total</th>\n",
              "    </tr>\n",
              "  </thead>\n",
              "  <tbody>\n",
              "    <tr>\n",
              "      <th>0</th>\n",
              "      <td>112</td>\n",
              "      <td>1</td>\n",
              "      <td>3</td>\n",
              "      <td>0.334</td>\n",
              "      <td>1.002</td>\n",
              "    </tr>\n",
              "    <tr>\n",
              "      <th>1</th>\n",
              "      <td>112</td>\n",
              "      <td>2</td>\n",
              "      <td>16</td>\n",
              "      <td>0.334</td>\n",
              "      <td>5.344</td>\n",
              "    </tr>\n",
              "    <tr>\n",
              "      <th>2</th>\n",
              "      <td>113</td>\n",
              "      <td>2</td>\n",
              "      <td>2</td>\n",
              "      <td>0.269</td>\n",
              "      <td>0.538</td>\n",
              "    </tr>\n",
              "    <tr>\n",
              "      <th>3</th>\n",
              "      <td>114</td>\n",
              "      <td>2</td>\n",
              "      <td>1</td>\n",
              "      <td>0.344</td>\n",
              "      <td>0.344</td>\n",
              "    </tr>\n",
              "    <tr>\n",
              "      <th>4</th>\n",
              "      <td>133</td>\n",
              "      <td>1</td>\n",
              "      <td>1</td>\n",
              "      <td>1.048</td>\n",
              "      <td>1.048</td>\n",
              "    </tr>\n",
              "    <tr>\n",
              "      <th>...</th>\n",
              "      <td>...</td>\n",
              "      <td>...</td>\n",
              "      <td>...</td>\n",
              "      <td>...</td>\n",
              "      <td>...</td>\n",
              "    </tr>\n",
              "    <tr>\n",
              "      <th>24638720</th>\n",
              "      <td>3894</td>\n",
              "      <td>1</td>\n",
              "      <td>3</td>\n",
              "      <td>2.637</td>\n",
              "      <td>7.911</td>\n",
              "    </tr>\n",
              "    <tr>\n",
              "      <th>24638721</th>\n",
              "      <td>3896</td>\n",
              "      <td>1</td>\n",
              "      <td>1</td>\n",
              "      <td>1.245</td>\n",
              "      <td>1.245</td>\n",
              "    </tr>\n",
              "    <tr>\n",
              "      <th>24638722</th>\n",
              "      <td>3897</td>\n",
              "      <td>1</td>\n",
              "      <td>1</td>\n",
              "      <td>1.959</td>\n",
              "      <td>1.959</td>\n",
              "    </tr>\n",
              "    <tr>\n",
              "      <th>24638723</th>\n",
              "      <td>1514</td>\n",
              "      <td>1</td>\n",
              "      <td>1</td>\n",
              "      <td>11.350</td>\n",
              "      <td>11.350</td>\n",
              "    </tr>\n",
              "    <tr>\n",
              "      <th>24638724</th>\n",
              "      <td>3296</td>\n",
              "      <td>1</td>\n",
              "      <td>1</td>\n",
              "      <td>3.355</td>\n",
              "      <td>3.355</td>\n",
              "    </tr>\n",
              "  </tbody>\n",
              "</table>\n",
              "<p>24638725 rows × 5 columns</p>\n",
              "</div>"
            ],
            "text/plain": [
              "          product_id  shop_id  quantity   price   total\n",
              "0                112        1         3   0.334   1.002\n",
              "1                112        2        16   0.334   5.344\n",
              "2                113        2         2   0.269   0.538\n",
              "3                114        2         1   0.344   0.344\n",
              "4                133        1         1   1.048   1.048\n",
              "...              ...      ...       ...     ...     ...\n",
              "24638720        3894        1         3   2.637   7.911\n",
              "24638721        3896        1         1   1.245   1.245\n",
              "24638722        3897        1         1   1.959   1.959\n",
              "24638723        1514        1         1  11.350  11.350\n",
              "24638724        3296        1         1   3.355   3.355\n",
              "\n",
              "[24638725 rows x 5 columns]"
            ]
          },
          "execution_count": 7,
          "metadata": {},
          "output_type": "execute_result"
        }
      ],
      "source": [
        "#code\n",
        "df = df_purchases[['product_id', 'shop_id', 'quantity']]\n",
        "df = df.merge(df_prices, how ='left', on=\"product_id\")\n",
        "df['total'] = df[\"quantity\"]*df[\"price\"]\n",
        "df\n"
      ]
    },
    {
      "cell_type": "code",
      "execution_count": 8,
      "metadata": {},
      "outputs": [
        {
          "name": "stdout",
          "output_type": "stream",
          "text": [
            "<class 'pandas.core.frame.DataFrame'>\n",
            "RangeIndex: 24638725 entries, 0 to 24638724\n",
            "Data columns (total 5 columns):\n",
            " #   Column      Dtype  \n",
            "---  ------      -----  \n",
            " 0   product_id  int64  \n",
            " 1   shop_id     int64  \n",
            " 2   quantity    int64  \n",
            " 3   price       float64\n",
            " 4   total       float64\n",
            "dtypes: float64(2), int64(3)\n",
            "memory usage: 939.9 MB\n"
          ]
        }
      ],
      "source": [
        "df.info()"
      ]
    },
    {
      "cell_type": "markdown",
      "metadata": {
        "id": "QfxhJ57EbhOO"
      },
      "source": [
        "###Auto Profiling\n",
        "\n",
        "\n",
        "*   [pandas-profiling](https://pypi.org/project/pandas-profiling/)\n",
        "\n"
      ]
    },
    {
      "cell_type": "code",
      "execution_count": 9,
      "metadata": {
        "id": "0v68T6XacDhs"
      },
      "outputs": [],
      "source": [
        "from ydata_profiling import ProfileReport"
      ]
    },
    {
      "cell_type": "code",
      "execution_count": 10,
      "metadata": {
        "id": "sclRtgLpcMG7"
      },
      "outputs": [],
      "source": [
        "profile = ProfileReport(df)"
      ]
    },
    {
      "cell_type": "code",
      "execution_count": 11,
      "metadata": {
        "id": "0h95NNd1cOGg"
      },
      "outputs": [
        {
          "data": {
            "application/vnd.jupyter.widget-view+json": {
              "model_id": "536627db1d52444dad998fd5b3925c44",
              "version_major": 2,
              "version_minor": 0
            },
            "text/plain": [
              "Summarize dataset:   0%|          | 0/5 [00:00<?, ?it/s]"
            ]
          },
          "metadata": {},
          "output_type": "display_data"
        },
        {
          "name": "stderr",
          "output_type": "stream",
          "text": [
            "c:\\Users\\gotxz\\anaconda3\\Lib\\site-packages\\matplotlib\\image.py:181: UserWarning: Data with more than 2**24 rows cannot be accurately displayed. Downsampling to less than 2**24 rows before displaying. To remove this warning, manually downsample your data.\n",
            "  warnings.warn(msg.format(n='2**24 rows'))\n"
          ]
        },
        {
          "data": {
            "application/vnd.jupyter.widget-view+json": {
              "model_id": "d6c47aa7bd714fcc9e25d3dad9718f78",
              "version_major": 2,
              "version_minor": 0
            },
            "text/plain": [
              "Generate report structure:   0%|          | 0/1 [00:00<?, ?it/s]"
            ]
          },
          "metadata": {},
          "output_type": "display_data"
        },
        {
          "data": {
            "application/vnd.jupyter.widget-view+json": {
              "model_id": "d67423fc5cd542199571c33eb0f24ff7",
              "version_major": 2,
              "version_minor": 0
            },
            "text/plain": [
              "Render widgets:   0%|          | 0/1 [00:00<?, ?it/s]"
            ]
          },
          "metadata": {},
          "output_type": "display_data"
        },
        {
          "data": {
            "application/vnd.jupyter.widget-view+json": {
              "model_id": "2308580cd77a436f89e1200ad583e359",
              "version_major": 2,
              "version_minor": 0
            },
            "text/plain": [
              "VBox(children=(Tab(children=(Tab(children=(GridBox(children=(VBox(children=(GridspecLayout(children=(HTML(valu…"
            ]
          },
          "metadata": {},
          "output_type": "display_data"
        }
      ],
      "source": [
        "profile.to_widgets()"
      ]
    },
    {
      "cell_type": "markdown",
      "metadata": {
        "id": "N06Sf4q3cdql"
      },
      "source": [
        "#🥊Workshop: Melbourne Housing Snapshot\n",
        "\n",
        "**ดาวน์โหลดข้อมูลจาก**\n",
        "https://drive.google.com/file/d/1zRxc0S0ZecZnTCVvrSjw8nycyNrQ59_B/view?usp=sharing"
      ]
    },
    {
      "cell_type": "markdown",
      "metadata": {
        "id": "FjfvCdgbcqDI"
      },
      "source": [
        "##About Dataset\n",
        "13580 rows, 21 columns\n",
        "\n",
        "###Content\n",
        " The dataset includes Address, Type of Real estate, Suburb, Method of Selling, Rooms, Price, Real Estate Agent, Date of Sale and distance from C.B.D.\n",
        "\n",
        "###Notes on Specific Variables\n",
        "\n",
        "**`Rooms`**: Number of rooms\n",
        "\n",
        "**`Price`**: Price in dollars\n",
        "\n",
        "**`Method`**:\n",
        "* S - property sold;\n",
        "* SP - property sold prior;\n",
        "* PI - property passed in;\n",
        "* PN - sold prior not disclosed;\n",
        "* SN - sold not disclosed;\n",
        "* NB - no bid;\n",
        "* VB - vendor bid;\n",
        "* W - withdrawn prior to auction;\n",
        "* SA - sold after auction;\n",
        "* SS - sold after auction price not disclosed.\n",
        "* N/A - price or highest bid not available.\n",
        "\n",
        "**`Type`**:\n",
        "* br - bedroom(s);\n",
        "* h - house,cottage,villa, semi,terrace;\n",
        "* u - unit, duplex;\n",
        "* t - townhouse;\n",
        "* dev site - development site;\n",
        "* o res - other residential.\n",
        "\n",
        "**`SellerG`**: Real Estate Agent\n",
        "\n",
        "**`Date`**: Date sold\n",
        "\n",
        "**`Distance`**: Distance from CBD\n",
        "\n",
        "**`Regionname`**: General Region (West, North West, North, North east …etc)\n",
        "\n",
        "**`Propertycount`**: Number of properties that exist in the suburb.\n",
        "\n",
        "**`Bedroom2`** : Scraped # of Bedrooms (from different source)\n",
        "\n",
        "**`Bathroom`**: Number of Bathrooms\n",
        "\n",
        "**`Car`**: Number of carspots\n",
        "\n",
        "**`Landsize`**: Land Size\n",
        "\n",
        "**`BuildingArea`**: Building Size\n",
        "\n",
        "**`CouncilArea`**: Governing council for the area"
      ]
    },
    {
      "cell_type": "markdown",
      "metadata": {
        "id": "E8E9NOBAd8yq"
      },
      "source": [
        "ข้อมูลของราคาขายบ้านใน Melbourne มีข้อมูล 3 ไฟล์ ได้แก่\n",
        "* Suburb_data.csv: ข้อมูลของเขตชานเมือง\n",
        "* house_data.csv: ข้อมูลบ้าน\n",
        "* sale_data.csv: ข้อมูลการขาย"
      ]
    },
    {
      "cell_type": "code",
      "execution_count": 12,
      "metadata": {
        "id": "4Yj4xhzlgG18"
      },
      "outputs": [],
      "source": [
        "#read data\n",
        "df_Suburb_data = pd.read_csv('MelbourneHousing_DS\\Suburb_data.csv')\n",
        "df_house_data = pd.read_csv('MelbourneHousing_DS\\house_data.csv')\n",
        "df_sale_data = pd.read_csv('MelbourneHousing_DS\\sale_data.csv')\n",
        "\n",
        "\n",
        "\n"
      ]
    },
    {
      "cell_type": "code",
      "execution_count": 13,
      "metadata": {},
      "outputs": [
        {
          "data": {
            "text/html": [
              "<div>\n",
              "<style scoped>\n",
              "    .dataframe tbody tr th:only-of-type {\n",
              "        vertical-align: middle;\n",
              "    }\n",
              "\n",
              "    .dataframe tbody tr th {\n",
              "        vertical-align: top;\n",
              "    }\n",
              "\n",
              "    .dataframe thead th {\n",
              "        text-align: right;\n",
              "    }\n",
              "</style>\n",
              "<table border=\"1\" class=\"dataframe\">\n",
              "  <thead>\n",
              "    <tr style=\"text-align: right;\">\n",
              "      <th></th>\n",
              "      <th>Suburb</th>\n",
              "      <th>Address</th>\n",
              "      <th>Lattitude</th>\n",
              "      <th>Longtitude</th>\n",
              "      <th>Distance</th>\n",
              "      <th>Type</th>\n",
              "      <th>Rooms</th>\n",
              "      <th>Bedroom2</th>\n",
              "      <th>Bathroom</th>\n",
              "      <th>Landsize</th>\n",
              "    </tr>\n",
              "  </thead>\n",
              "  <tbody>\n",
              "    <tr>\n",
              "      <th>0</th>\n",
              "      <td>Abbotsford</td>\n",
              "      <td>85 Turner St</td>\n",
              "      <td>-37.7996</td>\n",
              "      <td>144.9984</td>\n",
              "      <td>2.5</td>\n",
              "      <td>h</td>\n",
              "      <td>2</td>\n",
              "      <td>2.0</td>\n",
              "      <td>1.0</td>\n",
              "      <td>202.0</td>\n",
              "    </tr>\n",
              "    <tr>\n",
              "      <th>1</th>\n",
              "      <td>Abbotsford</td>\n",
              "      <td>25 Bloomburg St</td>\n",
              "      <td>-37.8079</td>\n",
              "      <td>144.9934</td>\n",
              "      <td>2.5</td>\n",
              "      <td>h</td>\n",
              "      <td>2</td>\n",
              "      <td>2.0</td>\n",
              "      <td>1.0</td>\n",
              "      <td>156.0</td>\n",
              "    </tr>\n",
              "    <tr>\n",
              "      <th>2</th>\n",
              "      <td>Abbotsford</td>\n",
              "      <td>5 Charles St</td>\n",
              "      <td>-37.8093</td>\n",
              "      <td>144.9944</td>\n",
              "      <td>2.5</td>\n",
              "      <td>h</td>\n",
              "      <td>3</td>\n",
              "      <td>3.0</td>\n",
              "      <td>2.0</td>\n",
              "      <td>134.0</td>\n",
              "    </tr>\n",
              "    <tr>\n",
              "      <th>3</th>\n",
              "      <td>Abbotsford</td>\n",
              "      <td>40 Federation La</td>\n",
              "      <td>-37.7969</td>\n",
              "      <td>144.9969</td>\n",
              "      <td>2.5</td>\n",
              "      <td>h</td>\n",
              "      <td>3</td>\n",
              "      <td>3.0</td>\n",
              "      <td>2.0</td>\n",
              "      <td>94.0</td>\n",
              "    </tr>\n",
              "    <tr>\n",
              "      <th>4</th>\n",
              "      <td>Abbotsford</td>\n",
              "      <td>55a Park St</td>\n",
              "      <td>-37.8072</td>\n",
              "      <td>144.9941</td>\n",
              "      <td>2.5</td>\n",
              "      <td>h</td>\n",
              "      <td>4</td>\n",
              "      <td>3.0</td>\n",
              "      <td>1.0</td>\n",
              "      <td>120.0</td>\n",
              "    </tr>\n",
              "  </tbody>\n",
              "</table>\n",
              "</div>"
            ],
            "text/plain": [
              "       Suburb           Address  Lattitude  Longtitude  Distance Type  Rooms  \\\n",
              "0  Abbotsford      85 Turner St   -37.7996    144.9984       2.5    h      2   \n",
              "1  Abbotsford   25 Bloomburg St   -37.8079    144.9934       2.5    h      2   \n",
              "2  Abbotsford      5 Charles St   -37.8093    144.9944       2.5    h      3   \n",
              "3  Abbotsford  40 Federation La   -37.7969    144.9969       2.5    h      3   \n",
              "4  Abbotsford       55a Park St   -37.8072    144.9941       2.5    h      4   \n",
              "\n",
              "   Bedroom2  Bathroom  Landsize  \n",
              "0       2.0       1.0     202.0  \n",
              "1       2.0       1.0     156.0  \n",
              "2       3.0       2.0     134.0  \n",
              "3       3.0       2.0      94.0  \n",
              "4       3.0       1.0     120.0  "
            ]
          },
          "execution_count": 13,
          "metadata": {},
          "output_type": "execute_result"
        }
      ],
      "source": [
        "df_house_data.head()"
      ]
    },
    {
      "cell_type": "code",
      "execution_count": 14,
      "metadata": {},
      "outputs": [
        {
          "data": {
            "text/html": [
              "<div>\n",
              "<style scoped>\n",
              "    .dataframe tbody tr th:only-of-type {\n",
              "        vertical-align: middle;\n",
              "    }\n",
              "\n",
              "    .dataframe tbody tr th {\n",
              "        vertical-align: top;\n",
              "    }\n",
              "\n",
              "    .dataframe thead th {\n",
              "        text-align: right;\n",
              "    }\n",
              "</style>\n",
              "<table border=\"1\" class=\"dataframe\">\n",
              "  <thead>\n",
              "    <tr style=\"text-align: right;\">\n",
              "      <th></th>\n",
              "      <th>sale_no</th>\n",
              "      <th>Address</th>\n",
              "      <th>CouncilArea</th>\n",
              "      <th>YearBuilt</th>\n",
              "      <th>BuildingArea</th>\n",
              "      <th>Car</th>\n",
              "      <th>Price</th>\n",
              "      <th>Date</th>\n",
              "      <th>Method</th>\n",
              "      <th>SellerG</th>\n",
              "    </tr>\n",
              "  </thead>\n",
              "  <tbody>\n",
              "    <tr>\n",
              "      <th>0</th>\n",
              "      <td>1</td>\n",
              "      <td>85 Turner St</td>\n",
              "      <td>Yarra</td>\n",
              "      <td>NaN</td>\n",
              "      <td>NaN</td>\n",
              "      <td>1.0</td>\n",
              "      <td>1480000.0</td>\n",
              "      <td>3/12/2016</td>\n",
              "      <td>S</td>\n",
              "      <td>Biggin</td>\n",
              "    </tr>\n",
              "    <tr>\n",
              "      <th>1</th>\n",
              "      <td>2</td>\n",
              "      <td>25 Bloomburg St</td>\n",
              "      <td>Yarra</td>\n",
              "      <td>1900.0</td>\n",
              "      <td>79.0</td>\n",
              "      <td>0.0</td>\n",
              "      <td>1035000.0</td>\n",
              "      <td>4/02/2016</td>\n",
              "      <td>S</td>\n",
              "      <td>Biggin</td>\n",
              "    </tr>\n",
              "    <tr>\n",
              "      <th>2</th>\n",
              "      <td>3</td>\n",
              "      <td>5 Charles St</td>\n",
              "      <td>Yarra</td>\n",
              "      <td>1900.0</td>\n",
              "      <td>150.0</td>\n",
              "      <td>0.0</td>\n",
              "      <td>1465000.0</td>\n",
              "      <td>4/03/2017</td>\n",
              "      <td>SP</td>\n",
              "      <td>Biggin</td>\n",
              "    </tr>\n",
              "    <tr>\n",
              "      <th>3</th>\n",
              "      <td>4</td>\n",
              "      <td>40 Federation La</td>\n",
              "      <td>Yarra</td>\n",
              "      <td>NaN</td>\n",
              "      <td>NaN</td>\n",
              "      <td>1.0</td>\n",
              "      <td>850000.0</td>\n",
              "      <td>4/03/2017</td>\n",
              "      <td>PI</td>\n",
              "      <td>Biggin</td>\n",
              "    </tr>\n",
              "    <tr>\n",
              "      <th>4</th>\n",
              "      <td>5</td>\n",
              "      <td>55a Park St</td>\n",
              "      <td>Yarra</td>\n",
              "      <td>2014.0</td>\n",
              "      <td>142.0</td>\n",
              "      <td>2.0</td>\n",
              "      <td>1600000.0</td>\n",
              "      <td>4/06/2016</td>\n",
              "      <td>VB</td>\n",
              "      <td>Nelson</td>\n",
              "    </tr>\n",
              "  </tbody>\n",
              "</table>\n",
              "</div>"
            ],
            "text/plain": [
              "   sale_no           Address CouncilArea  YearBuilt  BuildingArea  Car  \\\n",
              "0        1      85 Turner St       Yarra        NaN           NaN  1.0   \n",
              "1        2   25 Bloomburg St       Yarra     1900.0          79.0  0.0   \n",
              "2        3      5 Charles St       Yarra     1900.0         150.0  0.0   \n",
              "3        4  40 Federation La       Yarra        NaN           NaN  1.0   \n",
              "4        5       55a Park St       Yarra     2014.0         142.0  2.0   \n",
              "\n",
              "       Price       Date Method SellerG  \n",
              "0  1480000.0  3/12/2016      S  Biggin  \n",
              "1  1035000.0  4/02/2016      S  Biggin  \n",
              "2  1465000.0  4/03/2017     SP  Biggin  \n",
              "3   850000.0  4/03/2017     PI  Biggin  \n",
              "4  1600000.0  4/06/2016     VB  Nelson  "
            ]
          },
          "execution_count": 14,
          "metadata": {},
          "output_type": "execute_result"
        }
      ],
      "source": [
        "df_sale_data.head()"
      ]
    },
    {
      "cell_type": "code",
      "execution_count": 15,
      "metadata": {},
      "outputs": [
        {
          "data": {
            "text/html": [
              "<div>\n",
              "<style scoped>\n",
              "    .dataframe tbody tr th:only-of-type {\n",
              "        vertical-align: middle;\n",
              "    }\n",
              "\n",
              "    .dataframe tbody tr th {\n",
              "        vertical-align: top;\n",
              "    }\n",
              "\n",
              "    .dataframe thead th {\n",
              "        text-align: right;\n",
              "    }\n",
              "</style>\n",
              "<table border=\"1\" class=\"dataframe\">\n",
              "  <thead>\n",
              "    <tr style=\"text-align: right;\">\n",
              "      <th></th>\n",
              "      <th>Suburb</th>\n",
              "      <th>Regionname</th>\n",
              "      <th>Postcode</th>\n",
              "      <th>Propertycount</th>\n",
              "    </tr>\n",
              "  </thead>\n",
              "  <tbody>\n",
              "    <tr>\n",
              "      <th>0</th>\n",
              "      <td>Abbotsford</td>\n",
              "      <td>Northern Metropolitan</td>\n",
              "      <td>3067.0</td>\n",
              "      <td>4019.0</td>\n",
              "    </tr>\n",
              "    <tr>\n",
              "      <th>1</th>\n",
              "      <td>Airport West</td>\n",
              "      <td>Western Metropolitan</td>\n",
              "      <td>3042.0</td>\n",
              "      <td>3464.0</td>\n",
              "    </tr>\n",
              "    <tr>\n",
              "      <th>2</th>\n",
              "      <td>Albert Park</td>\n",
              "      <td>Southern Metropolitan</td>\n",
              "      <td>3206.0</td>\n",
              "      <td>3280.0</td>\n",
              "    </tr>\n",
              "    <tr>\n",
              "      <th>3</th>\n",
              "      <td>Alphington</td>\n",
              "      <td>Northern Metropolitan</td>\n",
              "      <td>3078.0</td>\n",
              "      <td>2211.0</td>\n",
              "    </tr>\n",
              "    <tr>\n",
              "      <th>4</th>\n",
              "      <td>Altona</td>\n",
              "      <td>Western Metropolitan</td>\n",
              "      <td>3018.0</td>\n",
              "      <td>5301.0</td>\n",
              "    </tr>\n",
              "  </tbody>\n",
              "</table>\n",
              "</div>"
            ],
            "text/plain": [
              "         Suburb             Regionname  Postcode  Propertycount\n",
              "0    Abbotsford  Northern Metropolitan    3067.0         4019.0\n",
              "1  Airport West   Western Metropolitan    3042.0         3464.0\n",
              "2   Albert Park  Southern Metropolitan    3206.0         3280.0\n",
              "3    Alphington  Northern Metropolitan    3078.0         2211.0\n",
              "4        Altona   Western Metropolitan    3018.0         5301.0"
            ]
          },
          "execution_count": 15,
          "metadata": {},
          "output_type": "execute_result"
        }
      ],
      "source": [
        "df_Suburb_data.head()"
      ]
    },
    {
      "cell_type": "markdown",
      "metadata": {
        "id": "M0MgAL4GesYT"
      },
      "source": [
        "##🎯Goal1: ต้องการพยากรณ์ราคาบ้านจากลักษะของบ้าน"
      ]
    },
    {
      "cell_type": "markdown",
      "metadata": {
        "id": "ChR1HDBxfMeO"
      },
      "source": [
        "###Data collection: เราต้องการข้อมูลอะไรบ้าง เพื่อให้ทำ Goal1 ได้"
      ]
    },
    {
      "cell_type": "markdown",
      "metadata": {
        "id": "W6gUbYQNfr0h"
      },
      "source": [
        "สร้าง datamart สำหรับ Goal1"
      ]
    },
    {
      "cell_type": "code",
      "execution_count": 16,
      "metadata": {
        "id": "ls7Y8WfgfmNi"
      },
      "outputs": [
        {
          "data": {
            "text/html": [
              "<div>\n",
              "<style scoped>\n",
              "    .dataframe tbody tr th:only-of-type {\n",
              "        vertical-align: middle;\n",
              "    }\n",
              "\n",
              "    .dataframe tbody tr th {\n",
              "        vertical-align: top;\n",
              "    }\n",
              "\n",
              "    .dataframe thead th {\n",
              "        text-align: right;\n",
              "    }\n",
              "</style>\n",
              "<table border=\"1\" class=\"dataframe\">\n",
              "  <thead>\n",
              "    <tr style=\"text-align: right;\">\n",
              "      <th></th>\n",
              "      <th>Address</th>\n",
              "      <th>Type</th>\n",
              "      <th>Rooms</th>\n",
              "      <th>Bedroom2</th>\n",
              "      <th>Bathroom</th>\n",
              "      <th>Landsize</th>\n",
              "      <th>Price</th>\n",
              "    </tr>\n",
              "  </thead>\n",
              "  <tbody>\n",
              "    <tr>\n",
              "      <th>920</th>\n",
              "      <td>1 Jassa St</td>\n",
              "      <td>h</td>\n",
              "      <td>3</td>\n",
              "      <td>3.0</td>\n",
              "      <td>1.0</td>\n",
              "      <td>686.0</td>\n",
              "      <td>1352000.0</td>\n",
              "    </tr>\n",
              "    <tr>\n",
              "      <th>13316</th>\n",
              "      <td>25 Ramleh Rd</td>\n",
              "      <td>h</td>\n",
              "      <td>4</td>\n",
              "      <td>4.0</td>\n",
              "      <td>2.0</td>\n",
              "      <td>743.0</td>\n",
              "      <td>920000.0</td>\n",
              "    </tr>\n",
              "    <tr>\n",
              "      <th>5402</th>\n",
              "      <td>110/61 Stawell St</td>\n",
              "      <td>u</td>\n",
              "      <td>1</td>\n",
              "      <td>1.0</td>\n",
              "      <td>1.0</td>\n",
              "      <td>7455.0</td>\n",
              "      <td>405000.0</td>\n",
              "    </tr>\n",
              "    <tr>\n",
              "      <th>12771</th>\n",
              "      <td>38 Allison Av</td>\n",
              "      <td>h</td>\n",
              "      <td>3</td>\n",
              "      <td>3.0</td>\n",
              "      <td>2.0</td>\n",
              "      <td>705.0</td>\n",
              "      <td>2200000.0</td>\n",
              "    </tr>\n",
              "    <tr>\n",
              "      <th>1071</th>\n",
              "      <td>1/112 Roslyn St</td>\n",
              "      <td>u</td>\n",
              "      <td>2</td>\n",
              "      <td>2.0</td>\n",
              "      <td>2.0</td>\n",
              "      <td>329.0</td>\n",
              "      <td>1300000.0</td>\n",
              "    </tr>\n",
              "    <tr>\n",
              "      <th>4978</th>\n",
              "      <td>62 Pridham St</td>\n",
              "      <td>h</td>\n",
              "      <td>3</td>\n",
              "      <td>3.0</td>\n",
              "      <td>2.0</td>\n",
              "      <td>146.0</td>\n",
              "      <td>1612000.0</td>\n",
              "    </tr>\n",
              "    <tr>\n",
              "      <th>10225</th>\n",
              "      <td>5 Eastgate St</td>\n",
              "      <td>h</td>\n",
              "      <td>5</td>\n",
              "      <td>5.0</td>\n",
              "      <td>2.0</td>\n",
              "      <td>546.0</td>\n",
              "      <td>1750000.0</td>\n",
              "    </tr>\n",
              "    <tr>\n",
              "      <th>7806</th>\n",
              "      <td>9/211 Weston St</td>\n",
              "      <td>u</td>\n",
              "      <td>2</td>\n",
              "      <td>2.0</td>\n",
              "      <td>1.0</td>\n",
              "      <td>0.0</td>\n",
              "      <td>835000.0</td>\n",
              "    </tr>\n",
              "    <tr>\n",
              "      <th>4117</th>\n",
              "      <td>4/30 Kenmare St</td>\n",
              "      <td>h</td>\n",
              "      <td>5</td>\n",
              "      <td>5.0</td>\n",
              "      <td>4.0</td>\n",
              "      <td>355.0</td>\n",
              "      <td>1400000.0</td>\n",
              "    </tr>\n",
              "    <tr>\n",
              "      <th>6830</th>\n",
              "      <td>136 Hyde St</td>\n",
              "      <td>h</td>\n",
              "      <td>4</td>\n",
              "      <td>4.0</td>\n",
              "      <td>2.0</td>\n",
              "      <td>482.0</td>\n",
              "      <td>1150000.0</td>\n",
              "    </tr>\n",
              "  </tbody>\n",
              "</table>\n",
              "</div>"
            ],
            "text/plain": [
              "                 Address Type  Rooms  Bedroom2  Bathroom  Landsize      Price\n",
              "920           1 Jassa St    h      3       3.0       1.0     686.0  1352000.0\n",
              "13316       25 Ramleh Rd    h      4       4.0       2.0     743.0   920000.0\n",
              "5402   110/61 Stawell St    u      1       1.0       1.0    7455.0   405000.0\n",
              "12771      38 Allison Av    h      3       3.0       2.0     705.0  2200000.0\n",
              "1071     1/112 Roslyn St    u      2       2.0       2.0     329.0  1300000.0\n",
              "4978       62 Pridham St    h      3       3.0       2.0     146.0  1612000.0\n",
              "10225      5 Eastgate St    h      5       5.0       2.0     546.0  1750000.0\n",
              "7806     9/211 Weston St    u      2       2.0       1.0       0.0   835000.0\n",
              "4117     4/30 Kenmare St    h      5       5.0       4.0     355.0  1400000.0\n",
              "6830         136 Hyde St    h      4       4.0       2.0     482.0  1150000.0"
            ]
          },
          "metadata": {},
          "output_type": "display_data"
        },
        {
          "data": {
            "text/plain": [
              "Address     0\n",
              "Type        0\n",
              "Rooms       0\n",
              "Bedroom2    0\n",
              "Bathroom    0\n",
              "Landsize    0\n",
              "Price       0\n",
              "dtype: int64"
            ]
          },
          "execution_count": 16,
          "metadata": {},
          "output_type": "execute_result"
        }
      ],
      "source": [
        "\n",
        "#CODE\n",
        "#Type, Rooms, Bedroom2, Bathroom, Landsize\n",
        "df_goal1 = df_house_data[['Address','Type', 'Rooms', 'Bedroom2', 'Bathroom', 'Landsize']].merge(df_sale_data[['Address', 'Price']], how='left', on='Address')\n",
        "display(df_goal1.sample(10))\n",
        "df_goal1.isnull().sum()\n",
        "\n",
        "\n",
        "\n",
        "\n"
      ]
    },
    {
      "cell_type": "markdown",
      "metadata": {
        "id": "xJWdGdgafCAW"
      },
      "source": [
        "##🎯Goal2: ต้องการพยากรณ์ราคาบ้านจากทำเลที่ตั้งของบ้าน"
      ]
    },
    {
      "cell_type": "markdown",
      "metadata": {
        "id": "YCDDPQIWfdqe"
      },
      "source": [
        "###Data collection: เราต้องการข้อมูลอะไรบ้าง เพื่อให้ทำ Goal2 ได้"
      ]
    },
    {
      "cell_type": "markdown",
      "metadata": {
        "id": "3xknXUmFfyr3"
      },
      "source": [
        "สร้าง datamart สำหรับ Goal2"
      ]
    },
    {
      "cell_type": "code",
      "execution_count": 17,
      "metadata": {
        "id": "XH7hlbHudsKb"
      },
      "outputs": [
        {
          "data": {
            "text/html": [
              "<div>\n",
              "<style scoped>\n",
              "    .dataframe tbody tr th:only-of-type {\n",
              "        vertical-align: middle;\n",
              "    }\n",
              "\n",
              "    .dataframe tbody tr th {\n",
              "        vertical-align: top;\n",
              "    }\n",
              "\n",
              "    .dataframe thead th {\n",
              "        text-align: right;\n",
              "    }\n",
              "</style>\n",
              "<table border=\"1\" class=\"dataframe\">\n",
              "  <thead>\n",
              "    <tr style=\"text-align: right;\">\n",
              "      <th></th>\n",
              "      <th>Address</th>\n",
              "      <th>Suburb</th>\n",
              "      <th>Lattitude</th>\n",
              "      <th>Longtitude</th>\n",
              "      <th>Distance</th>\n",
              "      <th>Price</th>\n",
              "    </tr>\n",
              "  </thead>\n",
              "  <tbody>\n",
              "    <tr>\n",
              "      <th>1127</th>\n",
              "      <td>2/61 Black St</td>\n",
              "      <td>Brighton</td>\n",
              "      <td>-37.91640</td>\n",
              "      <td>145.00020</td>\n",
              "      <td>11.2</td>\n",
              "      <td>800000.0</td>\n",
              "    </tr>\n",
              "    <tr>\n",
              "      <th>12540</th>\n",
              "      <td>28 Highfield Rd</td>\n",
              "      <td>Doncaster East</td>\n",
              "      <td>-37.78758</td>\n",
              "      <td>145.16792</td>\n",
              "      <td>14.3</td>\n",
              "      <td>1381000.0</td>\n",
              "    </tr>\n",
              "    <tr>\n",
              "      <th>13043</th>\n",
              "      <td>21 Chicquita Cct</td>\n",
              "      <td>Mentone</td>\n",
              "      <td>-37.97928</td>\n",
              "      <td>145.07630</td>\n",
              "      <td>20.0</td>\n",
              "      <td>792000.0</td>\n",
              "    </tr>\n",
              "    <tr>\n",
              "      <th>3681</th>\n",
              "      <td>75 Derby St</td>\n",
              "      <td>Kew</td>\n",
              "      <td>-37.80070</td>\n",
              "      <td>145.03740</td>\n",
              "      <td>5.6</td>\n",
              "      <td>1910000.0</td>\n",
              "    </tr>\n",
              "    <tr>\n",
              "      <th>10173</th>\n",
              "      <td>1/30 Burns St</td>\n",
              "      <td>Maidstone</td>\n",
              "      <td>-37.78707</td>\n",
              "      <td>144.87608</td>\n",
              "      <td>6.4</td>\n",
              "      <td>810000.0</td>\n",
              "    </tr>\n",
              "    <tr>\n",
              "      <th>120</th>\n",
              "      <td>17 Reed St</td>\n",
              "      <td>Albert Park</td>\n",
              "      <td>-37.84480</td>\n",
              "      <td>144.94530</td>\n",
              "      <td>3.3</td>\n",
              "      <td>1740000.0</td>\n",
              "    </tr>\n",
              "    <tr>\n",
              "      <th>5156</th>\n",
              "      <td>15 Rodman St</td>\n",
              "      <td>Reservoir</td>\n",
              "      <td>-37.70200</td>\n",
              "      <td>145.00710</td>\n",
              "      <td>11.2</td>\n",
              "      <td>810000.0</td>\n",
              "    </tr>\n",
              "    <tr>\n",
              "      <th>7209</th>\n",
              "      <td>10 Cleve Gr</td>\n",
              "      <td>Heidelberg</td>\n",
              "      <td>-37.75070</td>\n",
              "      <td>145.06200</td>\n",
              "      <td>10.6</td>\n",
              "      <td>1195000.0</td>\n",
              "    </tr>\n",
              "    <tr>\n",
              "      <th>3134</th>\n",
              "      <td>16 Smith St</td>\n",
              "      <td>Hampton</td>\n",
              "      <td>-37.93320</td>\n",
              "      <td>145.02260</td>\n",
              "      <td>13.7</td>\n",
              "      <td>772000.0</td>\n",
              "    </tr>\n",
              "    <tr>\n",
              "      <th>8466</th>\n",
              "      <td>86 Malpas St</td>\n",
              "      <td>Preston</td>\n",
              "      <td>-37.73360</td>\n",
              "      <td>145.01680</td>\n",
              "      <td>8.8</td>\n",
              "      <td>1010000.0</td>\n",
              "    </tr>\n",
              "  </tbody>\n",
              "</table>\n",
              "</div>"
            ],
            "text/plain": [
              "                Address          Suburb  Lattitude  Longtitude  Distance  \\\n",
              "1127      2/61 Black St        Brighton  -37.91640   145.00020      11.2   \n",
              "12540   28 Highfield Rd  Doncaster East  -37.78758   145.16792      14.3   \n",
              "13043  21 Chicquita Cct         Mentone  -37.97928   145.07630      20.0   \n",
              "3681        75 Derby St             Kew  -37.80070   145.03740       5.6   \n",
              "10173     1/30 Burns St       Maidstone  -37.78707   144.87608       6.4   \n",
              "120          17 Reed St     Albert Park  -37.84480   144.94530       3.3   \n",
              "5156       15 Rodman St       Reservoir  -37.70200   145.00710      11.2   \n",
              "7209        10 Cleve Gr      Heidelberg  -37.75070   145.06200      10.6   \n",
              "3134        16 Smith St         Hampton  -37.93320   145.02260      13.7   \n",
              "8466       86 Malpas St         Preston  -37.73360   145.01680       8.8   \n",
              "\n",
              "           Price  \n",
              "1127    800000.0  \n",
              "12540  1381000.0  \n",
              "13043   792000.0  \n",
              "3681   1910000.0  \n",
              "10173   810000.0  \n",
              "120    1740000.0  \n",
              "5156    810000.0  \n",
              "7209   1195000.0  \n",
              "3134    772000.0  \n",
              "8466   1010000.0  "
            ]
          },
          "metadata": {},
          "output_type": "display_data"
        },
        {
          "data": {
            "text/plain": [
              "Address       0\n",
              "Suburb        0\n",
              "Lattitude     0\n",
              "Longtitude    0\n",
              "Distance      0\n",
              "Price         0\n",
              "dtype: int64"
            ]
          },
          "execution_count": 17,
          "metadata": {},
          "output_type": "execute_result"
        }
      ],
      "source": [
        "#CODE\n",
        "#Address, Lattitude, Longtitude, Distance\n",
        "df_goal2 = df_house_data[['Address', 'Suburb', 'Lattitude', 'Longtitude', 'Distance']].merge(df_sale_data[['Address', 'Price']], how='left', on='Address')\n",
        "display(df_goal2.sample(10))\n",
        "df_goal2.isnull().sum()\n",
        "\n",
        "\n",
        "\n"
      ]
    },
    {
      "cell_type": "markdown",
      "metadata": {
        "id": "3KcZGuxNgS5s"
      },
      "source": [
        "##🎯QA: datamart ทั้งสองก้อนพร้อมใช้หรือยัง? ถ้ายังไม่พร้อม ทำไมถึงยังไม่พร้อม?"
      ]
    },
    {
      "cell_type": "code",
      "execution_count": 18,
      "metadata": {
        "id": "PGpQ6RWHgh5l"
      },
      "outputs": [],
      "source": [
        "#ANS:\n",
        "#พร้อมแล้ว เนื่องจากข้อมูลถูกคัดกรองให้สอดคล้องกับความต้องการเรียบร้อย \n",
        "\n",
        "\n",
        "\n"
      ]
    }
  ],
  "metadata": {
    "colab": {
      "provenance": [],
      "toc_visible": true
    },
    "kernelspec": {
      "display_name": "Python 3",
      "name": "python3"
    },
    "language_info": {
      "codemirror_mode": {
        "name": "ipython",
        "version": 3
      },
      "file_extension": ".py",
      "mimetype": "text/x-python",
      "name": "python",
      "nbconvert_exporter": "python",
      "pygments_lexer": "ipython3",
      "version": "3.11.7"
    }
  },
  "nbformat": 4,
  "nbformat_minor": 0
}
