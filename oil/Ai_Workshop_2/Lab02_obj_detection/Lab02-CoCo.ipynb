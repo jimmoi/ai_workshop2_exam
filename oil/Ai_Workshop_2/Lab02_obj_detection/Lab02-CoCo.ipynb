{
  "cells": [
    {
      "cell_type": "markdown",
      "metadata": {
        "id": "M-qkuRvQ5vGY"
      },
      "source": [
        "# Object Detection with PyTorch\n",
        "\n",
        "This workshop demonstrates how to build a simple object detection system using PyTorch that can:\n",
        "- Detect a single object in an image\n",
        "- Classify the object type (circle or rectangle)\n",
        "- Locate the object's position (x, y coordinates)\n",
        "\n",
        "```\n",
        "Praisan Padungweang\n",
        "\n",
        "2024, College of Computing, KKU\n",
        "```"
      ]
    },
    {
      "cell_type": "markdown",
      "metadata": {
        "id": "ZRhWZDxRNTeb"
      },
      "source": [
        "## Common Issues and Tips\n",
        "\n",
        "1. **Data Normalization**:\n",
        "   - All position and size values are normalized to [0,1]\n",
        "   - Must denormalize for visualization\n",
        "   - Helps with training stability\n",
        "\n",
        "2. **Model Capacity**:\n",
        "   - Current architecture is intentionally simple\n",
        "   - Can be extended with more layers for complex scenes\n",
        "\n",
        "3. **Performance Metrics**:\n",
        "   - MSE loss combines classification and regression\n",
        "   - Consider separate metrics for position vs. classification accuracy"
      ]
    },
    {
      "cell_type": "markdown",
      "metadata": {
        "id": "MROaQhlYS1YU"
      },
      "source": [
        "## Prepare Dataset\n",
        "- Create custom dataset class for handle coco format annotation from label studio."
      ]
    },
    {
      "cell_type": "code",
      "execution_count": null,
      "metadata": {
        "colab": {
          "base_uri": "https://localhost:8080/"
        },
        "id": "dJM5ElGjPH9v",
        "outputId": "29c0fe01-d0da-42ab-ade9-aabaa7bb69aa"
      },
      "outputs": [
        {
          "name": "stdout",
          "output_type": "stream",
          "text": [
            "Downloading...\n",
            "From: https://drive.google.com/uc?id=1sVTk0Wnrkoq-FN1USoMdfEJFI6LxYfHi\n",
            "To: /content/dataset_simpleDetection.zip\n",
            "\r  0% 0.00/36.6k [00:00<?, ?B/s]\r100% 36.6k/36.6k [00:00<00:00, 51.9MB/s]\n"
          ]
        }
      ],
      "source": [
        "# Dowload the dataset and unzip it\n",
        "!gdown 1sVTk0Wnrkoq-FN1USoMdfEJFI6LxYfHi"
      ]
    },
    {
      "cell_type": "code",
      "execution_count": null,
      "metadata": {
        "colab": {
          "base_uri": "https://localhost:8080/"
        },
        "id": "kGAIVQkTR2OS",
        "outputId": "ce742379-13ac-4d0c-d054-d1e7a84e4cc5"
      },
      "outputs": [
        {
          "name": "stdout",
          "output_type": "stream",
          "text": [
            "Archive:  /content/dataset_simpleDetection.zip\n",
            "   creating: train/\n",
            "   creating: train/images/\n",
            "  inflating: train/images/055cf90b-image_87.png  \n",
            "  inflating: train/images/06fd5261-image_68.png  \n",
            "  inflating: train/images/08c92a46-image_36.png  \n",
            "  inflating: train/images/0c392bac-image_76.png  \n",
            "  inflating: train/images/0d193863-image_71.png  \n",
            "  inflating: train/images/10758b91-image_92.png  \n",
            "  inflating: train/images/12883919-image_79.png  \n",
            "  inflating: train/images/15e6e73d-image_88.png  \n",
            "  inflating: train/images/20a82ac5-image_69.png  \n",
            "  inflating: train/images/21eba3dd-image_46.png  \n",
            "  inflating: train/images/23127e28-image_31.png  \n",
            "  inflating: train/images/313b0477-image_97.png  \n",
            "  inflating: train/images/348d4481-image_83.png  \n",
            "  inflating: train/images/3eb430e4-image_66.png  \n",
            "  inflating: train/images/43e7968b-image_70.png  \n",
            "  inflating: train/images/45e751cb-image_78.png  \n",
            "  inflating: train/images/4744b670-image_82.png  \n",
            "  inflating: train/images/488527ed-image_56.png  \n",
            "  inflating: train/images/4916531e-image_73.png  \n",
            "  inflating: train/images/49a0926d-image_39.png  \n",
            "  inflating: train/images/4bdbd7be-image_43.png  \n",
            "  inflating: train/images/4c91e3ed-image_91.png  \n",
            "  inflating: train/images/54215b06-image_63.png  \n",
            "  inflating: train/images/5b59ffde-image_98.png  \n",
            "  inflating: train/images/63bf282f-image_53.png  \n",
            "  inflating: train/images/66c96d74-image_93.png  \n",
            "  inflating: train/images/673e232d-image_34.png  \n",
            "  inflating: train/images/6f2a29de-image_84.png  \n",
            "  inflating: train/images/756e70c9-image_54.png  \n",
            "  inflating: train/images/76f017be-image_59.png  \n",
            "  inflating: train/images/7760aca5-image_61.png  \n",
            "  inflating: train/images/77d810f4-image_89.png  \n",
            "  inflating: train/images/79c3f4c5-image_51.png  \n",
            "  inflating: train/images/829ed944-image_72.png  \n",
            "  inflating: train/images/8462d3d0-image_52.png  \n",
            "  inflating: train/images/8959f522-image_40.png  \n",
            "  inflating: train/images/89e4d849-image_38.png  \n",
            "  inflating: train/images/8fd5a580-image_94.png  \n",
            "  inflating: train/images/912df0d8-image_57.png  \n",
            "  inflating: train/images/9661b1df-image_49.png  \n",
            "  inflating: train/images/a03d3cd6-image_77.png  \n",
            "  inflating: train/images/a184094b-image_95.png  \n",
            "  inflating: train/images/a4d7ea0e-image_62.png  \n",
            "  inflating: train/images/aa5e8349-image_35.png  \n",
            "  inflating: train/images/abeb4e33-image_47.png  \n",
            "  inflating: train/images/ae733e28-image_33.png  \n",
            "  inflating: train/images/b19746ff-image_58.png  \n",
            "  inflating: train/images/b37262d9-image_42.png  \n",
            "  inflating: train/images/b7058f7e-image_75.png  \n",
            "  inflating: train/images/c0058935-image_45.png  \n",
            "  inflating: train/images/c0d5e5d2-image_60.png  \n",
            "  inflating: train/images/c26f05d5-image_32.png  \n",
            "  inflating: train/images/c51b73f7-image_85.png  \n",
            "  inflating: train/images/cdcc96f4-image_67.png  \n",
            "  inflating: train/images/ce389351-image_80.png  \n",
            "  inflating: train/images/d944e6b1-image_74.png  \n",
            "  inflating: train/images/daf6cf14-image_90.png  \n",
            "  inflating: train/images/db9c93d7-image_37.png  \n",
            "  inflating: train/images/dc2f4eb0-image_55.png  \n",
            "  inflating: train/images/dd2d3c9b-image_96.png  \n",
            "  inflating: train/images/def72041-image_50.png  \n",
            "  inflating: train/images/e79001ae-image_44.png  \n",
            "  inflating: train/images/e9694443-image_99.png  \n",
            "  inflating: train/images/ea432450-image_41.png  \n",
            "  inflating: train/images/ec1afc94-image_48.png  \n",
            "  inflating: train/images/ee1710c3-image_81.png  \n",
            "  inflating: train/images/eef161c3-image_86.png  \n",
            "  inflating: train/images/f1e05245-image_65.png  \n",
            "  inflating: train/images/f6fb7d3e-image_30.png  \n",
            "  inflating: train/images/f9f7ed87-image_64.png  \n",
            "   creating: val/\n",
            "   creating: val/images/\n",
            "  inflating: val/images/09a5f448-image_10.png  \n",
            "  inflating: val/images/24bf2adf-image_9.png  \n",
            "  inflating: val/images/53b51ad6-image_1.png  \n",
            "  inflating: val/images/5a067713-image_3.png  \n",
            "  inflating: val/images/5bc56f52-image_0.png  \n",
            "  inflating: val/images/67b5132c-image_2.png  \n",
            "  inflating: val/images/78ccbe94-image_14.png  \n",
            "  inflating: val/images/8aaa3c26-image_7.png  \n",
            "  inflating: val/images/a1522e3f-image_5.png  \n",
            "  inflating: val/images/bf9580ba-image_11.png  \n",
            "  inflating: val/images/c32e414d-image_12.png  \n",
            "  inflating: val/images/dfb35841-image_4.png  \n",
            "  inflating: val/images/ed9622b7-image_13.png  \n",
            "  inflating: val/images/ef367ccb-image_8.png  \n",
            "  inflating: val/images/fff30759-image_6.png  \n",
            "  inflating: test.json               \n",
            "  inflating: train.json              \n",
            "  inflating: val.json                \n",
            "   creating: test/\n",
            "   creating: test/images/\n",
            "  inflating: test/images/180a4454-image_16.png  \n",
            "  inflating: test/images/259fe9bb-image_18.png  \n",
            "  inflating: test/images/36ce339e-image_17.png  \n",
            "  inflating: test/images/43045b4c-image_20.png  \n",
            "  inflating: test/images/4d149e67-image_24.png  \n",
            "  inflating: test/images/4d4c3c91-image_15.png  \n",
            "  inflating: test/images/5451082e-image_27.png  \n",
            "  inflating: test/images/5e825a28-image_21.png  \n",
            "  inflating: test/images/66215cd2-image_25.png  \n",
            "  inflating: test/images/748058ef-image_29.png  \n",
            "  inflating: test/images/7d5a41f2-image_26.png  \n",
            "  inflating: test/images/8a1f55a3-image_28.png  \n",
            "  inflating: test/images/c689aa25-image_19.png  \n",
            "  inflating: test/images/cdfd5023-image_22.png  \n",
            "  inflating: test/images/e31858f9-image_23.png  \n"
          ]
        }
      ],
      "source": [
        "!unzip /content/dataset_simpleDetection"
      ]
    },
    {
      "cell_type": "code",
      "execution_count": 1,
      "metadata": {
        "id": "Zj34gqVb70JK"
      },
      "outputs": [],
      "source": [
        "import os\n",
        "import json\n",
        "import random\n",
        "from pycocotools.coco import COCO\n",
        "from torch.utils.data import Dataset, DataLoader\n",
        "import torchvision.transforms as transforms\n",
        "import torch.nn as nn\n",
        "import torch.optim as optim\n",
        "from PIL import Image\n",
        "import torch\n",
        "import numpy as np\n",
        "\n",
        "import matplotlib.pyplot as plt\n",
        "import matplotlib.patches as patches\n",
        "from tqdm import tqdm\n",
        "from sklearn.metrics import precision_recall_fscore_support"
      ]
    },
    {
      "cell_type": "code",
      "execution_count": 2,
      "metadata": {
        "id": "vyFOfqZ978HK"
      },
      "outputs": [],
      "source": [
        "# Create dataset class for handle coco annoation format\n",
        "\n",
        "class SyntheticDectectionDataset(Dataset):\n",
        "  def __init__(self, images_path, annotations_file, transform=None):\n",
        "    self.coco = COCO(annotations_file)\n",
        "    self.images_path = images_path\n",
        "    self.image_ids = list(self.coco.imgs.keys())\n",
        "    self.transform = transform\n",
        "\n",
        "  def __len__(self):\n",
        "    return len(self.image_ids)\n",
        "\n",
        "  def __getitem__(self, idx):\n",
        "    image_id = self.image_ids[idx]\n",
        "    # Use the image_id to get the image info from coco.imgs\n",
        "    image_info = self.coco.imgs[image_id]\n",
        "    image_path = os.path.join(self.images_path, image_info['file_name']).replace(\"\\\\\", \"/\")\n",
        "\n",
        "    # Load grayscale image\n",
        "    image = Image.open(image_path).convert('L')\n",
        "\n",
        "    # Normalize image to [0, 1]\n",
        "    image = np.array(image, dtype=np.float32) / 255.0\n",
        "    # image = torch.tensor(image).unsqueeze(0)\n",
        "\n",
        "    # Load annotations\n",
        "    anns_ids = self.coco.getAnnIds(imgIds=image_id)\n",
        "    anns = self.coco.loadAnns(anns_ids)\n",
        "\n",
        "    # Prepare target, COCO bbox: [x, y, width, height]\n",
        "    bboxes = [ann['bbox'] for ann in anns]\n",
        "    labels = [ann['category_id'] for ann in anns]\n",
        "\n",
        "    # Normalize bounding boxes [x, y, width, height] to [0, 1]\n",
        "    bboxes = np.array(bboxes, dtype=np.float32)\n",
        "    bboxes[:, 0] /= image_info['width']  # Normalize x to [0, 1]\n",
        "    bboxes[:, 1] /= image_info['height']  # Normalize y to [0, 1]\n",
        "    bboxes[:, 2] /= image_info['width']  # Normalize width to [0, 1]\n",
        "    bboxes[:, 3] /= image_info['height']  # Normalize height to [0, 1]\n",
        "\n",
        "    bboxes = torch.as_tensor(bboxes, dtype=torch.float32)\n",
        "    labels = torch.as_tensor(labels, dtype=torch.int64)\n",
        "\n",
        "    target = {\n",
        "            'bboxes': bboxes,\n",
        "            'labels': labels,\n",
        "        }\n",
        "\n",
        "    if self.transform:\n",
        "      image = self.transform(image)\n",
        "\n",
        "    return image, target"
      ]
    },
    {
      "cell_type": "code",
      "execution_count": 6,
      "metadata": {
        "id": "2IDySWYrTg1q"
      },
      "outputs": [],
      "source": [
        "# Set paths\n",
        "train_dir = \"./train\"\n",
        "test_dir = \"./test\"\n",
        "val_dir = \"./val\"\n",
        "\n",
        "train_anns = \"./train.json\"\n",
        "test_anns = \"./test.json\"\n",
        "val_anns = \"./val.json\"\n",
        "\n",
        "train_transform = transforms.Compose([\n",
        "    transforms.ToTensor()\n",
        "])\n",
        "\n",
        "test_transform = transforms.Compose([\n",
        "    transforms.ToTensor()])\n",
        "\n",
        "val_transform = transforms.Compose([\n",
        "    transforms.ToTensor()])"
      ]
    },
    {
      "cell_type": "code",
      "execution_count": 7,
      "metadata": {
        "colab": {
          "base_uri": "https://localhost:8080/"
        },
        "id": "FxBtE1TI98oc",
        "outputId": "8526ba69-a608-4242-f656-836cc41f5e42"
      },
      "outputs": [
        {
          "name": "stdout",
          "output_type": "stream",
          "text": [
            "loading annotations into memory...\n",
            "Done (t=0.00s)\n",
            "creating index...\n",
            "index created!\n",
            "loading annotations into memory...\n",
            "Done (t=0.00s)\n",
            "creating index...\n",
            "index created!\n",
            "loading annotations into memory...\n",
            "Done (t=0.00s)\n",
            "creating index...\n",
            "index created!\n"
          ]
        }
      ],
      "source": [
        "# Create datasets\n",
        "train_dataset = SyntheticDectectionDataset(train_dir, train_anns, transform= train_transform)\n",
        "test_dataset = SyntheticDectectionDataset(test_dir, test_anns, transform= test_transform)\n",
        "val_dataset = SyntheticDectectionDataset(val_dir, val_anns, transform= val_transform)\n",
        "\n",
        "\n",
        "# Create dataloaders\n",
        "train_loader = DataLoader(train_dataset, batch_size=4, shuffle=True)\n",
        "test_loader = DataLoader(test_dataset, batch_size=4, shuffle=False)\n",
        "val_loader = DataLoader(val_dataset, batch_size=4, shuffle=False)"
      ]
    },
    {
      "cell_type": "code",
      "execution_count": 10,
      "metadata": {
        "colab": {
          "base_uri": "https://localhost:8080/",
          "height": 528
        },
        "id": "TZEqd7yVwLU7",
        "outputId": "4b5eafb1-a290-4e93-9925-99ef6e679a5d"
      },
      "outputs": [
        {
          "data": {
            "image/png": "[encoded data removed]",
            "text/plain": [
              "<Figure size 1500x500 with 3 Axes>"
            ]
          },
          "metadata": {},
          "output_type": "display_data"
        }
      ],
      "source": [
        "def plot_samples_from_dataloader(dataloader, num_samples=1):\n",
        "    images, targets = next(iter(dataloader))\n",
        "    num_samples = min(num_samples, len(images))\n",
        "\n",
        "    # Create a grid for plotting\n",
        "    fig, axes = plt.subplots(1, num_samples, figsize=(5 * num_samples, 5))\n",
        "    # Ensure `axes` is iterable when there's only one sample\n",
        "    if num_samples == 1:\n",
        "        axes = [axes]\n",
        "\n",
        "    for i in range(num_samples):\n",
        "        image = images[i].numpy().squeeze()  # Convert to numpy and remove the channel dimension\n",
        "        gt_bboxes = targets['bboxes'][i].numpy()  # Ground truth bounding boxes for this image\n",
        "        labels = targets['labels'][i].numpy()  # Ground truth labels for this image\n",
        "\n",
        "        # Plot the image\n",
        "        axes[i].imshow(image, cmap='gray')\n",
        "        axes[i].set_title(f\"Sample {i + 1} Ground Truth\")\n",
        "\n",
        "        # Plot the bounding boxes\n",
        "        for bbox, label in zip(gt_bboxes, labels):\n",
        "            # Denormalize the bounding box to pixel coordinates\n",
        "            x, y, w, h = bbox *64\n",
        "            rect = plt.Rectangle((x, y), w, h, linewidth=2, edgecolor='g', facecolor='none')\n",
        "            axes[i].add_patch(rect)\n",
        "\n",
        "            # Add label above the bounding box\n",
        "            label_text = \"Circle\" if label == 0 else \"Rectangle\"\n",
        "            axes[i].text(x, y - 1, label_text, color='g', fontsize=10, weight='bold',\n",
        "                 bbox=dict(facecolor='white', alpha=0.9, edgecolor='none'))\n",
        "\n",
        "        axes[i].axis('off')\n",
        "\n",
        "    plt.tight_layout()\n",
        "    plt.show()\n",
        "\n",
        "plot_samples_from_dataloader(train_loader, num_samples=3)"
      ]
    },
    {
      "cell_type": "markdown",
      "metadata": {
        "id": "5Fm7IIOwTmS1"
      },
      "source": [
        "## Model Architecture\n",
        "The CNN architecture consists of:\n",
        "\n",
        "1. **Convolutional Layers**:\n",
        "   - First conv layer: 1→32 channels, 3x3 kernel\n",
        "   - Second conv layer: 32→64 channels, 3x3 kernel\n",
        "   - Each followed by ReLU activation and 2x2 max pooling\n",
        "\n",
        "2. **Fully Connected Layers**:\n",
        "   - First FC layer: 64×16×16 → 128 neurons\n",
        "   - Output layer: 128 → 5 outputs (class, x, y, w, h)\n",
        "\n",
        "Input image processing:\n",
        "- Input: 64×64×1 (grayscale)\n",
        "- After conv1+pool: 32×32×32\n",
        "- After conv2+pool: 16×16×64\n",
        "- Flattened: 16,384 features\n",
        "- Final output: 5 values"
      ]
    },
    {
      "cell_type": "code",
      "execution_count": 11,
      "metadata": {
        "id": "PtHlaLeEUcQc"
      },
      "outputs": [],
      "source": [
        "device = torch.device('cuda' if torch.cuda.is_available() else 'cpu')"
      ]
    },
    {
      "cell_type": "code",
      "execution_count": 12,
      "metadata": {
        "id": "Sl-6Ww1KOt5C"
      },
      "outputs": [],
      "source": [
        "# Create a CNN model for object detection\n",
        "\n",
        "class SimpleObjectDetector(nn.Module):\n",
        "    def __init__(self):\n",
        "        super(SimpleObjectDetector, self).__init__()\n",
        "        self.conv1 = nn.Conv2d(1, 32, kernel_size=3, padding=1)\n",
        "        self.conv2 = nn.Conv2d(32, 64, kernel_size=3, padding=1)\n",
        "        self.pool = nn.MaxPool2d(2, 2)\n",
        "        self.fc1 = nn.Linear(64 * 16 * 16, 128)\n",
        "        self.fc2 = nn.Linear(128, 5) # 5 outputs (class, x, y, w, h)\n",
        "\n",
        "    def forward(self, x):\n",
        "        x = self.pool(torch.relu(self.conv1(x)))\n",
        "        x = self.pool(torch.relu(self.conv2(x)))\n",
        "        x = nn.Flatten()(x)\n",
        "        x = torch.relu(self.fc1(x))\n",
        "        x = torch.sigmoid(self.fc2(x))\n",
        "\n",
        "        return x"
      ]
    },
    {
      "cell_type": "code",
      "execution_count": 13,
      "metadata": {
        "colab": {
          "base_uri": "https://localhost:8080/"
        },
        "id": "IpoWUrnu07n3",
        "outputId": "210e4958-c57f-4b83-d996-6f121bc83202"
      },
      "outputs": [
        {
          "name": "stdout",
          "output_type": "stream",
          "text": [
            "Requirement already satisfied: torchview in /home/oil/anaconda3/envs/ai-workshop/lib/python3.10/site-packages (0.2.6)\n"
          ]
        }
      ],
      "source": [
        "!pip install torchview"
      ]
    },
    {
      "cell_type": "code",
      "execution_count": 14,
      "metadata": {
        "id": "sY4mhx1F1HKU"
      },
      "outputs": [],
      "source": [
        "from torchview import draw_graph\n",
        "from torchsummary import summary"
      ]
    },
    {
      "cell_type": "code",
      "execution_count": 15,
      "metadata": {
        "colab": {
          "base_uri": "https://localhost:8080/"
        },
        "id": "Sw7MNhvN1J7g",
        "outputId": "64466b21-ffae-4ec8-a598-89e1d4d8cf1c"
      },
      "outputs": [
        {
          "name": "stdout",
          "output_type": "stream",
          "text": [
            "----------------------------------------------------------------\n",
            "        Layer (type)               Output Shape         Param #\n",
            "================================================================\n",
            "            Conv2d-1           [-1, 32, 64, 64]             320\n",
            "         MaxPool2d-2           [-1, 32, 32, 32]               0\n",
            "            Conv2d-3           [-1, 64, 32, 32]          18,496\n",
            "         MaxPool2d-4           [-1, 64, 16, 16]               0\n",
            "            Linear-5                  [-1, 128]       2,097,280\n",
            "            Linear-6                    [-1, 5]             645\n",
            "================================================================\n",
            "Total params: 2,116,741\n",
            "Trainable params: 2,116,741\n",
            "Non-trainable params: 0\n",
            "----------------------------------------------------------------\n",
            "Input size (MB): 0.02\n",
            "Forward/backward pass size (MB): 1.88\n",
            "Params size (MB): 8.07\n",
            "Estimated Total Size (MB): 9.97\n",
            "----------------------------------------------------------------\n"
          ]
        }
      ],
      "source": [
        "# Define model\n",
        "model = SimpleObjectDetector()\n",
        "model = model.to(device)\n",
        "\n",
        "# Print model summary\n",
        "summary(model, input_size = (1, 64, 64))"
      ]
    },
    {
      "cell_type": "code",
      "execution_count": null,
      "metadata": {
        "colab": {
          "base_uri": "https://localhost:8080/",
          "height": 1000
        },
        "id": "yJ2TnmV51aw0",
        "outputId": "24bccb0f-437c-4426-c13f-a526762cbe14"
      },
      "outputs": [
        {
          "data": {
            "image/svg+xml": [
              "<?xml version=\"1.0\" encoding=\"UTF-8\" standalone=\"no\"?>\n",
              "<!DOCTYPE svg PUBLIC \"-//W3C//DTD SVG 1.1//EN\"\n",
              " \"http://www.w3.org/Graphics/SVG/1.1/DTD/svg11.dtd\">\n",
              "<!-- Generated by graphviz version 2.43.0 (0)\n",
              " -->\n",
              "<!-- Title: model Pages: 1 -->\n",
              "<svg width=\"214pt\" height=\"864pt\"\n",
              " viewBox=\"0.00 0.00 213.76 864.00\" xmlns=\"http://www.w3.org/2000/svg\" xmlns:xlink=\"http://www.w3.org/1999/xlink\">\n",
              "<g id=\"graph0\" class=\"graph\" transform=\"scale(0.89 0.89) rotate(0) translate(4 962)\">\n",
              "<title>model</title>\n",
              "<polygon fill=\"white\" stroke=\"transparent\" points=\"-4,4 -4,-962 235,-962 235,4 -4,4\"/>\n",
              "<!-- 0 -->\n",
              "<g id=\"node1\" class=\"node\">\n",
              "<title>0</title>\n",
              "<polygon fill=\"lightyellow\" stroke=\"transparent\" points=\"204.5,-958 26.5,-958 26.5,-926 204.5,-926 204.5,-958\"/>\n",
              "<polygon fill=\"none\" stroke=\"black\" points=\"26.5,-926 26.5,-958 109.5,-958 109.5,-926 26.5,-926\"/>\n",
              "<text text-anchor=\"start\" x=\"31.5\" y=\"-945\" font-family=\"Linux libertine\" font-size=\"10.00\">input&#45;tensor</text>\n",
              "<text text-anchor=\"start\" x=\"46.5\" y=\"-934\" font-family=\"Linux libertine\" font-size=\"10.00\">depth:0</text>\n",
              "<polygon fill=\"none\" stroke=\"black\" points=\"109.5,-926 109.5,-958 204.5,-958 204.5,-926 109.5,-926\"/>\n",
              "<text text-anchor=\"start\" x=\"114.5\" y=\"-939.5\" font-family=\"Linux libertine\" font-size=\"10.00\">(1, 1, 64, 64)</text>\n",
              "</g>\n",
              "<!-- 1 -->\n",
              "<g id=\"node2\" class=\"node\">\n",
              "<title>1</title>\n",
              "<polygon fill=\"#c1ffc1\" stroke=\"transparent\" points=\"225,-890 6,-890 6,-848 225,-848 225,-890\"/>\n",
              "<polygon fill=\"none\" stroke=\"black\" points=\"6.5,-848 6.5,-890 59.5,-890 59.5,-848 6.5,-848\"/>\n",
              "<text text-anchor=\"start\" x=\"14.5\" y=\"-872\" font-family=\"Linux libertine\" font-size=\"10.00\">Conv2d</text>\n",
              "<text text-anchor=\"start\" x=\"11.5\" y=\"-861\" font-family=\"Linux libertine\" font-size=\"10.00\">depth:1</text>\n",
              "<polygon fill=\"none\" stroke=\"black\" points=\"59.5,-869 59.5,-890 118.5,-890 118.5,-869 59.5,-869\"/>\n",
              "<text text-anchor=\"start\" x=\"70.5\" y=\"-877\" font-family=\"Linux libertine\" font-size=\"10.00\">input:</text>\n",
              "<polygon fill=\"none\" stroke=\"black\" points=\"118.5,-869 118.5,-890 225.5,-890 225.5,-869 118.5,-869\"/>\n",
              "<text text-anchor=\"start\" x=\"126.5\" y=\"-877\" font-family=\"Linux libertine\" font-size=\"10.00\">(1, 1, 64, 64) </text>\n",
              "<polygon fill=\"none\" stroke=\"black\" points=\"59.5,-848 59.5,-869 118.5,-869 118.5,-848 59.5,-848\"/>\n",
              "<text text-anchor=\"start\" x=\"64.5\" y=\"-856\" font-family=\"Linux libertine\" font-size=\"10.00\">output: </text>\n",
              "<polygon fill=\"none\" stroke=\"black\" points=\"118.5,-848 118.5,-869 225.5,-869 225.5,-848 118.5,-848\"/>\n",
              "<text text-anchor=\"start\" x=\"123.5\" y=\"-856\" font-family=\"Linux libertine\" font-size=\"10.00\">(1, 32, 64, 64) </text>\n",
              "</g>\n",
              "<!-- 0&#45;&gt;1 -->\n",
              "<g id=\"edge1\" class=\"edge\">\n",
              "<title>0&#45;&gt;1</title>\n",
              "<path fill=\"none\" stroke=\"black\" d=\"M115.5,-925.94C115.5,-918.45 115.5,-909.12 115.5,-900.24\"/>\n",
              "<polygon fill=\"black\" stroke=\"black\" points=\"119,-900.16 115.5,-890.16 112,-900.16 119,-900.16\"/>\n",
              "</g>\n",
              "<!-- 2 -->\n",
              "<g id=\"node3\" class=\"node\">\n",
              "<title>2</title>\n",
              "<polygon fill=\"aliceblue\" stroke=\"transparent\" points=\"225,-812 6,-812 6,-770 225,-770 225,-812\"/>\n",
              "<polygon fill=\"none\" stroke=\"black\" points=\"6.5,-770 6.5,-812 59.5,-812 59.5,-770 6.5,-770\"/>\n",
              "<text text-anchor=\"start\" x=\"20.5\" y=\"-794\" font-family=\"Linux libertine\" font-size=\"10.00\">relu</text>\n",
              "<text text-anchor=\"start\" x=\"11.5\" y=\"-783\" font-family=\"Linux libertine\" font-size=\"10.00\">depth:1</text>\n",
              "<polygon fill=\"none\" stroke=\"black\" points=\"59.5,-791 59.5,-812 118.5,-812 118.5,-791 59.5,-791\"/>\n",
              "<text text-anchor=\"start\" x=\"70.5\" y=\"-799\" font-family=\"Linux libertine\" font-size=\"10.00\">input:</text>\n",
              "<polygon fill=\"none\" stroke=\"black\" points=\"118.5,-791 118.5,-812 225.5,-812 225.5,-791 118.5,-791\"/>\n",
              "<text text-anchor=\"start\" x=\"123.5\" y=\"-799\" font-family=\"Linux libertine\" font-size=\"10.00\">(1, 32, 64, 64) </text>\n",
              "<polygon fill=\"none\" stroke=\"black\" points=\"59.5,-770 59.5,-791 118.5,-791 118.5,-770 59.5,-770\"/>\n",
              "<text text-anchor=\"start\" x=\"64.5\" y=\"-778\" font-family=\"Linux libertine\" font-size=\"10.00\">output: </text>\n",
              "<polygon fill=\"none\" stroke=\"black\" points=\"118.5,-770 118.5,-791 225.5,-791 225.5,-770 118.5,-770\"/>\n",
              "<text text-anchor=\"start\" x=\"123.5\" y=\"-778\" font-family=\"Linux libertine\" font-size=\"10.00\">(1, 32, 64, 64) </text>\n",
              "</g>\n",
              "<!-- 1&#45;&gt;2 -->\n",
              "<g id=\"edge2\" class=\"edge\">\n",
              "<title>1&#45;&gt;2</title>\n",
              "<path fill=\"none\" stroke=\"black\" d=\"M115.5,-847.63C115.5,-839.82 115.5,-830.73 115.5,-822.18\"/>\n",
              "<polygon fill=\"black\" stroke=\"black\" points=\"119,-822.16 115.5,-812.16 112,-822.16 119,-822.16\"/>\n",
              "</g>\n",
              "<!-- 3 -->\n",
              "<g id=\"node4\" class=\"node\">\n",
              "<title>3</title>\n",
              "<polygon fill=\"#c1ffc1\" stroke=\"transparent\" points=\"231,-734 0,-734 0,-692 231,-692 231,-734\"/>\n",
              "<polygon fill=\"none\" stroke=\"black\" points=\"0.5,-692 0.5,-734 65.5,-734 65.5,-692 0.5,-692\"/>\n",
              "<text text-anchor=\"start\" x=\"5.5\" y=\"-716\" font-family=\"Linux libertine\" font-size=\"10.00\">MaxPool2d</text>\n",
              "<text text-anchor=\"start\" x=\"11.5\" y=\"-705\" font-family=\"Linux libertine\" font-size=\"10.00\">depth:1</text>\n",
              "<polygon fill=\"none\" stroke=\"black\" points=\"65.5,-713 65.5,-734 124.5,-734 124.5,-713 65.5,-713\"/>\n",
              "<text text-anchor=\"start\" x=\"76.5\" y=\"-721\" font-family=\"Linux libertine\" font-size=\"10.00\">input:</text>\n",
              "<polygon fill=\"none\" stroke=\"black\" points=\"124.5,-713 124.5,-734 231.5,-734 231.5,-713 124.5,-713\"/>\n",
              "<text text-anchor=\"start\" x=\"129.5\" y=\"-721\" font-family=\"Linux libertine\" font-size=\"10.00\">(1, 32, 64, 64) </text>\n",
              "<polygon fill=\"none\" stroke=\"black\" points=\"65.5,-692 65.5,-713 124.5,-713 124.5,-692 65.5,-692\"/>\n",
              "<text text-anchor=\"start\" x=\"70.5\" y=\"-700\" font-family=\"Linux libertine\" font-size=\"10.00\">output: </text>\n",
              "<polygon fill=\"none\" stroke=\"black\" points=\"124.5,-692 124.5,-713 231.5,-713 231.5,-692 124.5,-692\"/>\n",
              "<text text-anchor=\"start\" x=\"129.5\" y=\"-700\" font-family=\"Linux libertine\" font-size=\"10.00\">(1, 32, 32, 32) </text>\n",
              "</g>\n",
              "<!-- 2&#45;&gt;3 -->\n",
              "<g id=\"edge3\" class=\"edge\">\n",
              "<title>2&#45;&gt;3</title>\n",
              "<path fill=\"none\" stroke=\"black\" d=\"M115.5,-769.63C115.5,-761.82 115.5,-752.73 115.5,-744.18\"/>\n",
              "<polygon fill=\"black\" stroke=\"black\" points=\"119,-744.16 115.5,-734.16 112,-744.16 119,-744.16\"/>\n",
              "</g>\n",
              "<!-- 4 -->\n",
              "<g id=\"node5\" class=\"node\">\n",
              "<title>4</title>\n",
              "<polygon fill=\"#c1ffc1\" stroke=\"transparent\" points=\"225,-656 6,-656 6,-614 225,-614 225,-656\"/>\n",
              "<polygon fill=\"none\" stroke=\"black\" points=\"6.5,-614 6.5,-656 59.5,-656 59.5,-614 6.5,-614\"/>\n",
              "<text text-anchor=\"start\" x=\"14.5\" y=\"-638\" font-family=\"Linux libertine\" font-size=\"10.00\">Conv2d</text>\n",
              "<text text-anchor=\"start\" x=\"11.5\" y=\"-627\" font-family=\"Linux libertine\" font-size=\"10.00\">depth:1</text>\n",
              "<polygon fill=\"none\" stroke=\"black\" points=\"59.5,-635 59.5,-656 118.5,-656 118.5,-635 59.5,-635\"/>\n",
              "<text text-anchor=\"start\" x=\"70.5\" y=\"-643\" font-family=\"Linux libertine\" font-size=\"10.00\">input:</text>\n",
              "<polygon fill=\"none\" stroke=\"black\" points=\"118.5,-635 118.5,-656 225.5,-656 225.5,-635 118.5,-635\"/>\n",
              "<text text-anchor=\"start\" x=\"123.5\" y=\"-643\" font-family=\"Linux libertine\" font-size=\"10.00\">(1, 32, 32, 32) </text>\n",
              "<polygon fill=\"none\" stroke=\"black\" points=\"59.5,-614 59.5,-635 118.5,-635 118.5,-614 59.5,-614\"/>\n",
              "<text text-anchor=\"start\" x=\"64.5\" y=\"-622\" font-family=\"Linux libertine\" font-size=\"10.00\">output: </text>\n",
              "<polygon fill=\"none\" stroke=\"black\" points=\"118.5,-614 118.5,-635 225.5,-635 225.5,-614 118.5,-614\"/>\n",
              "<text text-anchor=\"start\" x=\"123.5\" y=\"-622\" font-family=\"Linux libertine\" font-size=\"10.00\">(1, 64, 32, 32) </text>\n",
              "</g>\n",
              "<!-- 3&#45;&gt;4 -->\n",
              "<g id=\"edge4\" class=\"edge\">\n",
              "<title>3&#45;&gt;4</title>\n",
              "<path fill=\"none\" stroke=\"black\" d=\"M115.5,-691.63C115.5,-683.82 115.5,-674.73 115.5,-666.18\"/>\n",
              "<polygon fill=\"black\" stroke=\"black\" points=\"119,-666.16 115.5,-656.16 112,-666.16 119,-666.16\"/>\n",
              "</g>\n",
              "<!-- 5 -->\n",
              "<g id=\"node6\" class=\"node\">\n",
              "<title>5</title>\n",
              "<polygon fill=\"aliceblue\" stroke=\"transparent\" points=\"225,-578 6,-578 6,-536 225,-536 225,-578\"/>\n",
              "<polygon fill=\"none\" stroke=\"black\" points=\"6.5,-536 6.5,-578 59.5,-578 59.5,-536 6.5,-536\"/>\n",
              "<text text-anchor=\"start\" x=\"20.5\" y=\"-560\" font-family=\"Linux libertine\" font-size=\"10.00\">relu</text>\n",
              "<text text-anchor=\"start\" x=\"11.5\" y=\"-549\" font-family=\"Linux libertine\" font-size=\"10.00\">depth:1</text>\n",
              "<polygon fill=\"none\" stroke=\"black\" points=\"59.5,-557 59.5,-578 118.5,-578 118.5,-557 59.5,-557\"/>\n",
              "<text text-anchor=\"start\" x=\"70.5\" y=\"-565\" font-family=\"Linux libertine\" font-size=\"10.00\">input:</text>\n",
              "<polygon fill=\"none\" stroke=\"black\" points=\"118.5,-557 118.5,-578 225.5,-578 225.5,-557 118.5,-557\"/>\n",
              "<text text-anchor=\"start\" x=\"123.5\" y=\"-565\" font-family=\"Linux libertine\" font-size=\"10.00\">(1, 64, 32, 32) </text>\n",
              "<polygon fill=\"none\" stroke=\"black\" points=\"59.5,-536 59.5,-557 118.5,-557 118.5,-536 59.5,-536\"/>\n",
              "<text text-anchor=\"start\" x=\"64.5\" y=\"-544\" font-family=\"Linux libertine\" font-size=\"10.00\">output: </text>\n",
              "<polygon fill=\"none\" stroke=\"black\" points=\"118.5,-536 118.5,-557 225.5,-557 225.5,-536 118.5,-536\"/>\n",
              "<text text-anchor=\"start\" x=\"123.5\" y=\"-544\" font-family=\"Linux libertine\" font-size=\"10.00\">(1, 64, 32, 32) </text>\n",
              "</g>\n",
              "<!-- 4&#45;&gt;5 -->\n",
              "<g id=\"edge5\" class=\"edge\">\n",
              "<title>4&#45;&gt;5</title>\n",
              "<path fill=\"none\" stroke=\"black\" d=\"M115.5,-613.63C115.5,-605.82 115.5,-596.73 115.5,-588.18\"/>\n",
              "<polygon fill=\"black\" stroke=\"black\" points=\"119,-588.16 115.5,-578.16 112,-588.16 119,-588.16\"/>\n",
              "</g>\n",
              "<!-- 6 -->\n",
              "<g id=\"node7\" class=\"node\">\n",
              "<title>6</title>\n",
              "<polygon fill=\"#c1ffc1\" stroke=\"transparent\" points=\"231,-500 0,-500 0,-458 231,-458 231,-500\"/>\n",
              "<polygon fill=\"none\" stroke=\"black\" points=\"0.5,-458 0.5,-500 65.5,-500 65.5,-458 0.5,-458\"/>\n",
              "<text text-anchor=\"start\" x=\"5.5\" y=\"-482\" font-family=\"Linux libertine\" font-size=\"10.00\">MaxPool2d</text>\n",
              "<text text-anchor=\"start\" x=\"11.5\" y=\"-471\" font-family=\"Linux libertine\" font-size=\"10.00\">depth:1</text>\n",
              "<polygon fill=\"none\" stroke=\"black\" points=\"65.5,-479 65.5,-500 124.5,-500 124.5,-479 65.5,-479\"/>\n",
              "<text text-anchor=\"start\" x=\"76.5\" y=\"-487\" font-family=\"Linux libertine\" font-size=\"10.00\">input:</text>\n",
              "<polygon fill=\"none\" stroke=\"black\" points=\"124.5,-479 124.5,-500 231.5,-500 231.5,-479 124.5,-479\"/>\n",
              "<text text-anchor=\"start\" x=\"129.5\" y=\"-487\" font-family=\"Linux libertine\" font-size=\"10.00\">(1, 64, 32, 32) </text>\n",
              "<polygon fill=\"none\" stroke=\"black\" points=\"65.5,-458 65.5,-479 124.5,-479 124.5,-458 65.5,-458\"/>\n",
              "<text text-anchor=\"start\" x=\"70.5\" y=\"-466\" font-family=\"Linux libertine\" font-size=\"10.00\">output: </text>\n",
              "<polygon fill=\"none\" stroke=\"black\" points=\"124.5,-458 124.5,-479 231.5,-479 231.5,-458 124.5,-458\"/>\n",
              "<text text-anchor=\"start\" x=\"129.5\" y=\"-466\" font-family=\"Linux libertine\" font-size=\"10.00\">(1, 64, 16, 16) </text>\n",
              "</g>\n",
              "<!-- 5&#45;&gt;6 -->\n",
              "<g id=\"edge6\" class=\"edge\">\n",
              "<title>5&#45;&gt;6</title>\n",
              "<path fill=\"none\" stroke=\"black\" d=\"M115.5,-535.63C115.5,-527.82 115.5,-518.73 115.5,-510.18\"/>\n",
              "<polygon fill=\"black\" stroke=\"black\" points=\"119,-510.16 115.5,-500.16 112,-510.16 119,-510.16\"/>\n",
              "</g>\n",
              "<!-- 7 -->\n",
              "<g id=\"node8\" class=\"node\">\n",
              "<title>7</title>\n",
              "<polygon fill=\"#c1ffc1\" stroke=\"transparent\" points=\"225,-422 6,-422 6,-380 225,-380 225,-422\"/>\n",
              "<polygon fill=\"none\" stroke=\"black\" points=\"6.5,-380 6.5,-422 59.5,-422 59.5,-380 6.5,-380\"/>\n",
              "<text text-anchor=\"start\" x=\"11.5\" y=\"-404\" font-family=\"Linux libertine\" font-size=\"10.00\">Flatten</text>\n",
              "<text text-anchor=\"start\" x=\"11.5\" y=\"-393\" font-family=\"Linux libertine\" font-size=\"10.00\">depth:1</text>\n",
              "<polygon fill=\"none\" stroke=\"black\" points=\"59.5,-401 59.5,-422 118.5,-422 118.5,-401 59.5,-401\"/>\n",
              "<text text-anchor=\"start\" x=\"70.5\" y=\"-409\" font-family=\"Linux libertine\" font-size=\"10.00\">input:</text>\n",
              "<polygon fill=\"none\" stroke=\"black\" points=\"118.5,-401 118.5,-422 225.5,-422 225.5,-401 118.5,-401\"/>\n",
              "<text text-anchor=\"start\" x=\"123.5\" y=\"-409\" font-family=\"Linux libertine\" font-size=\"10.00\">(1, 64, 16, 16) </text>\n",
              "<polygon fill=\"none\" stroke=\"black\" points=\"59.5,-380 59.5,-401 118.5,-401 118.5,-380 59.5,-380\"/>\n",
              "<text text-anchor=\"start\" x=\"64.5\" y=\"-388\" font-family=\"Linux libertine\" font-size=\"10.00\">output: </text>\n",
              "<polygon fill=\"none\" stroke=\"black\" points=\"118.5,-380 118.5,-401 225.5,-401 225.5,-380 118.5,-380\"/>\n",
              "<text text-anchor=\"start\" x=\"138.5\" y=\"-388\" font-family=\"Linux libertine\" font-size=\"10.00\">(1, 16384) </text>\n",
              "</g>\n",
              "<!-- 6&#45;&gt;7 -->\n",
              "<g id=\"edge7\" class=\"edge\">\n",
              "<title>6&#45;&gt;7</title>\n",
              "<path fill=\"none\" stroke=\"black\" d=\"M115.5,-457.63C115.5,-449.82 115.5,-440.73 115.5,-432.18\"/>\n",
              "<polygon fill=\"black\" stroke=\"black\" points=\"119,-432.16 115.5,-422.16 112,-432.16 119,-432.16\"/>\n",
              "</g>\n",
              "<!-- 8 -->\n",
              "<g id=\"node9\" class=\"node\">\n",
              "<title>8</title>\n",
              "<polygon fill=\"#c1ffc1\" stroke=\"transparent\" points=\"210,-344 21,-344 21,-302 210,-302 210,-344\"/>\n",
              "<polygon fill=\"none\" stroke=\"black\" points=\"21.5,-302 21.5,-344 74.5,-344 74.5,-302 21.5,-302\"/>\n",
              "<text text-anchor=\"start\" x=\"29.5\" y=\"-326\" font-family=\"Linux libertine\" font-size=\"10.00\">Linear</text>\n",
              "<text text-anchor=\"start\" x=\"26.5\" y=\"-315\" font-family=\"Linux libertine\" font-size=\"10.00\">depth:1</text>\n",
              "<polygon fill=\"none\" stroke=\"black\" points=\"74.5,-323 74.5,-344 133.5,-344 133.5,-323 74.5,-323\"/>\n",
              "<text text-anchor=\"start\" x=\"85.5\" y=\"-331\" font-family=\"Linux libertine\" font-size=\"10.00\">input:</text>\n",
              "<polygon fill=\"none\" stroke=\"black\" points=\"133.5,-323 133.5,-344 210.5,-344 210.5,-323 133.5,-323\"/>\n",
              "<text text-anchor=\"start\" x=\"138.5\" y=\"-331\" font-family=\"Linux libertine\" font-size=\"10.00\">(1, 16384) </text>\n",
              "<polygon fill=\"none\" stroke=\"black\" points=\"74.5,-302 74.5,-323 133.5,-323 133.5,-302 74.5,-302\"/>\n",
              "<text text-anchor=\"start\" x=\"79.5\" y=\"-310\" font-family=\"Linux libertine\" font-size=\"10.00\">output: </text>\n",
              "<polygon fill=\"none\" stroke=\"black\" points=\"133.5,-302 133.5,-323 210.5,-323 210.5,-302 133.5,-302\"/>\n",
              "<text text-anchor=\"start\" x=\"144.5\" y=\"-310\" font-family=\"Linux libertine\" font-size=\"10.00\">(1, 128) </text>\n",
              "</g>\n",
              "<!-- 7&#45;&gt;8 -->\n",
              "<g id=\"edge8\" class=\"edge\">\n",
              "<title>7&#45;&gt;8</title>\n",
              "<path fill=\"none\" stroke=\"black\" d=\"M115.5,-379.63C115.5,-371.82 115.5,-362.73 115.5,-354.18\"/>\n",
              "<polygon fill=\"black\" stroke=\"black\" points=\"119,-354.16 115.5,-344.16 112,-354.16 119,-354.16\"/>\n",
              "</g>\n",
              "<!-- 9 -->\n",
              "<g id=\"node10\" class=\"node\">\n",
              "<title>9</title>\n",
              "<polygon fill=\"aliceblue\" stroke=\"transparent\" points=\"204,-266 27,-266 27,-224 204,-224 204,-266\"/>\n",
              "<polygon fill=\"none\" stroke=\"black\" points=\"27.5,-224 27.5,-266 80.5,-266 80.5,-224 27.5,-224\"/>\n",
              "<text text-anchor=\"start\" x=\"41.5\" y=\"-248\" font-family=\"Linux libertine\" font-size=\"10.00\">relu</text>\n",
              "<text text-anchor=\"start\" x=\"32.5\" y=\"-237\" font-family=\"Linux libertine\" font-size=\"10.00\">depth:1</text>\n",
              "<polygon fill=\"none\" stroke=\"black\" points=\"80.5,-245 80.5,-266 139.5,-266 139.5,-245 80.5,-245\"/>\n",
              "<text text-anchor=\"start\" x=\"91.5\" y=\"-253\" font-family=\"Linux libertine\" font-size=\"10.00\">input:</text>\n",
              "<polygon fill=\"none\" stroke=\"black\" points=\"139.5,-245 139.5,-266 204.5,-266 204.5,-245 139.5,-245\"/>\n",
              "<text text-anchor=\"start\" x=\"144.5\" y=\"-253\" font-family=\"Linux libertine\" font-size=\"10.00\">(1, 128) </text>\n",
              "<polygon fill=\"none\" stroke=\"black\" points=\"80.5,-224 80.5,-245 139.5,-245 139.5,-224 80.5,-224\"/>\n",
              "<text text-anchor=\"start\" x=\"85.5\" y=\"-232\" font-family=\"Linux libertine\" font-size=\"10.00\">output: </text>\n",
              "<polygon fill=\"none\" stroke=\"black\" points=\"139.5,-224 139.5,-245 204.5,-245 204.5,-224 139.5,-224\"/>\n",
              "<text text-anchor=\"start\" x=\"144.5\" y=\"-232\" font-family=\"Linux libertine\" font-size=\"10.00\">(1, 128) </text>\n",
              "</g>\n",
              "<!-- 8&#45;&gt;9 -->\n",
              "<g id=\"edge9\" class=\"edge\">\n",
              "<title>8&#45;&gt;9</title>\n",
              "<path fill=\"none\" stroke=\"black\" d=\"M115.5,-301.63C115.5,-293.82 115.5,-284.73 115.5,-276.18\"/>\n",
              "<polygon fill=\"black\" stroke=\"black\" points=\"119,-276.16 115.5,-266.16 112,-276.16 119,-276.16\"/>\n",
              "</g>\n",
              "<!-- 10 -->\n",
              "<g id=\"node11\" class=\"node\">\n",
              "<title>10</title>\n",
              "<polygon fill=\"#c1ffc1\" stroke=\"transparent\" points=\"204,-188 27,-188 27,-146 204,-146 204,-188\"/>\n",
              "<polygon fill=\"none\" stroke=\"black\" points=\"27.5,-146 27.5,-188 80.5,-188 80.5,-146 27.5,-146\"/>\n",
              "<text text-anchor=\"start\" x=\"35.5\" y=\"-170\" font-family=\"Linux libertine\" font-size=\"10.00\">Linear</text>\n",
              "<text text-anchor=\"start\" x=\"32.5\" y=\"-159\" font-family=\"Linux libertine\" font-size=\"10.00\">depth:1</text>\n",
              "<polygon fill=\"none\" stroke=\"black\" points=\"80.5,-167 80.5,-188 139.5,-188 139.5,-167 80.5,-167\"/>\n",
              "<text text-anchor=\"start\" x=\"91.5\" y=\"-175\" font-family=\"Linux libertine\" font-size=\"10.00\">input:</text>\n",
              "<polygon fill=\"none\" stroke=\"black\" points=\"139.5,-167 139.5,-188 204.5,-188 204.5,-167 139.5,-167\"/>\n",
              "<text text-anchor=\"start\" x=\"144.5\" y=\"-175\" font-family=\"Linux libertine\" font-size=\"10.00\">(1, 128) </text>\n",
              "<polygon fill=\"none\" stroke=\"black\" points=\"80.5,-146 80.5,-167 139.5,-167 139.5,-146 80.5,-146\"/>\n",
              "<text text-anchor=\"start\" x=\"85.5\" y=\"-154\" font-family=\"Linux libertine\" font-size=\"10.00\">output: </text>\n",
              "<polygon fill=\"none\" stroke=\"black\" points=\"139.5,-146 139.5,-167 204.5,-167 204.5,-146 139.5,-146\"/>\n",
              "<text text-anchor=\"start\" x=\"150.5\" y=\"-154\" font-family=\"Linux libertine\" font-size=\"10.00\">(1, 5) </text>\n",
              "</g>\n",
              "<!-- 9&#45;&gt;10 -->\n",
              "<g id=\"edge10\" class=\"edge\">\n",
              "<title>9&#45;&gt;10</title>\n",
              "<path fill=\"none\" stroke=\"black\" d=\"M115.5,-223.63C115.5,-215.82 115.5,-206.73 115.5,-198.18\"/>\n",
              "<polygon fill=\"black\" stroke=\"black\" points=\"119,-198.16 115.5,-188.16 112,-198.16 119,-198.16\"/>\n",
              "</g>\n",
              "<!-- 11 -->\n",
              "<g id=\"node12\" class=\"node\">\n",
              "<title>11</title>\n",
              "<polygon fill=\"aliceblue\" stroke=\"transparent\" points=\"198,-110 33,-110 33,-68 198,-68 198,-110\"/>\n",
              "<polygon fill=\"none\" stroke=\"black\" points=\"33.5,-68 33.5,-110 86.5,-110 86.5,-68 33.5,-68\"/>\n",
              "<text text-anchor=\"start\" x=\"38.5\" y=\"-92\" font-family=\"Linux libertine\" font-size=\"10.00\">sigmoid</text>\n",
              "<text text-anchor=\"start\" x=\"38.5\" y=\"-81\" font-family=\"Linux libertine\" font-size=\"10.00\">depth:1</text>\n",
              "<polygon fill=\"none\" stroke=\"black\" points=\"86.5,-89 86.5,-110 145.5,-110 145.5,-89 86.5,-89\"/>\n",
              "<text text-anchor=\"start\" x=\"97.5\" y=\"-97\" font-family=\"Linux libertine\" font-size=\"10.00\">input:</text>\n",
              "<polygon fill=\"none\" stroke=\"black\" points=\"145.5,-89 145.5,-110 198.5,-110 198.5,-89 145.5,-89\"/>\n",
              "<text text-anchor=\"start\" x=\"150.5\" y=\"-97\" font-family=\"Linux libertine\" font-size=\"10.00\">(1, 5) </text>\n",
              "<polygon fill=\"none\" stroke=\"black\" points=\"86.5,-68 86.5,-89 145.5,-89 145.5,-68 86.5,-68\"/>\n",
              "<text text-anchor=\"start\" x=\"91.5\" y=\"-76\" font-family=\"Linux libertine\" font-size=\"10.00\">output: </text>\n",
              "<polygon fill=\"none\" stroke=\"black\" points=\"145.5,-68 145.5,-89 198.5,-89 198.5,-68 145.5,-68\"/>\n",
              "<text text-anchor=\"start\" x=\"150.5\" y=\"-76\" font-family=\"Linux libertine\" font-size=\"10.00\">(1, 5) </text>\n",
              "</g>\n",
              "<!-- 10&#45;&gt;11 -->\n",
              "<g id=\"edge11\" class=\"edge\">\n",
              "<title>10&#45;&gt;11</title>\n",
              "<path fill=\"none\" stroke=\"black\" d=\"M115.5,-145.63C115.5,-137.82 115.5,-128.73 115.5,-120.18\"/>\n",
              "<polygon fill=\"black\" stroke=\"black\" points=\"119,-120.16 115.5,-110.16 112,-120.16 119,-120.16\"/>\n",
              "</g>\n",
              "<!-- 12 -->\n",
              "<g id=\"node13\" class=\"node\">\n",
              "<title>12</title>\n",
              "<polygon fill=\"lightyellow\" stroke=\"transparent\" points=\"183.5,-32 47.5,-32 47.5,0 183.5,0 183.5,-32\"/>\n",
              "<polygon fill=\"none\" stroke=\"black\" points=\"47.5,0 47.5,-32 136.5,-32 136.5,0 47.5,0\"/>\n",
              "<text text-anchor=\"start\" x=\"52.5\" y=\"-19\" font-family=\"Linux libertine\" font-size=\"10.00\">output&#45;tensor</text>\n",
              "<text text-anchor=\"start\" x=\"70.5\" y=\"-8\" font-family=\"Linux libertine\" font-size=\"10.00\">depth:0</text>\n",
              "<polygon fill=\"none\" stroke=\"black\" points=\"136.5,0 136.5,-32 183.5,-32 183.5,0 136.5,0\"/>\n",
              "<text text-anchor=\"start\" x=\"141.5\" y=\"-13.5\" font-family=\"Linux libertine\" font-size=\"10.00\">(1, 5)</text>\n",
              "</g>\n",
              "<!-- 11&#45;&gt;12 -->\n",
              "<g id=\"edge12\" class=\"edge\">\n",
              "<title>11&#45;&gt;12</title>\n",
              "<path fill=\"none\" stroke=\"black\" d=\"M115.5,-67.84C115.5,-59.89 115.5,-50.66 115.5,-42.26\"/>\n",
              "<polygon fill=\"black\" stroke=\"black\" points=\"119,-42.24 115.5,-32.24 112,-42.24 119,-42.24\"/>\n",
              "</g>\n",
              "</g>\n",
              "</svg>\n"
            ],
            "text/plain": [
              "<graphviz.graphs.Digraph at 0x781ae49d2da0>"
            ]
          },
          "execution_count": 26,
          "metadata": {},
          "output_type": "execute_result"
        }
      ],
      "source": [
        "draw_graph(model, input_size= (1, 1, 64, 64)).visual_graph"
      ]
    },
    {
      "cell_type": "markdown",
      "metadata": {
        "id": "GCKtjvMb8S26"
      },
      "source": [
        "## Model Training\n",
        "\n",
        "The training setup uses:\n",
        "- Loss function: Mean Squared Error (MSE)\n",
        "- Optimizer: Adam\n",
        "\n",
        "The loss function combines:\n",
        "- Classification error for shape type\n",
        "- Regression error for position and size"
      ]
    },
    {
      "cell_type": "code",
      "execution_count": 16,
      "metadata": {
        "id": "QSN99fI83EGS"
      },
      "outputs": [],
      "source": [
        "dataloaders = {'train': train_loader, 'val': val_loader}"
      ]
    },
    {
      "cell_type": "code",
      "execution_count": 17,
      "metadata": {
        "id": "K5sH63ZpX4ap"
      },
      "outputs": [],
      "source": [
        "# Create train function with collect loss history\n",
        "\n",
        "def train_model(model, dataloaders, criterion, optimizer, num_epochs, weights_name='weight_save.pth'):\n",
        "\n",
        "    model = model.to(device)\n",
        "    history = {'train_loss': [], 'val_loss': []}\n",
        "    best_val_loss = float('inf')\n",
        "\n",
        "    for epoch in range(num_epochs):\n",
        "        print(f\"Epoch {epoch + 1}/{num_epochs}\")\n",
        "        print('-' * 30)\n",
        "\n",
        "        for phase in ['train', 'val']:\n",
        "            if phase == 'train':\n",
        "                model.train()\n",
        "            else:\n",
        "                model.eval()\n",
        "\n",
        "            running_loss = 0.0\n",
        "            data_loader = dataloaders[phase]\n",
        "\n",
        "            with tqdm(total=len(data_loader), desc=f\"{phase.capitalize()} Epoch {epoch + 1}\") as pbar:\n",
        "                for images, targets in data_loader:\n",
        "                    images = images.to(device)\n",
        "                    targets = {k: v.to(device) for k, v in targets.items()}\n",
        "\n",
        "                    # Combine target bounding boxes and classes\n",
        "                    target_bboxes = targets['bboxes'].view(-1, 4)  # (N, 4)\n",
        "                    target_classes = targets['labels'].view(-1, 1)  # (N, 1)\n",
        "                    target_combined = torch.cat([target_classes, target_bboxes], dim=1)  # (N, 5)\n",
        "\n",
        "                    # Zero gradients for training phase\n",
        "                    if phase == 'train':\n",
        "                        optimizer.zero_grad()\n",
        "\n",
        "                    # Forward pass\n",
        "                    with torch.set_grad_enabled(phase == 'train'):\n",
        "                        outputs = model(images)\n",
        "                        loss = criterion(outputs, target_combined)\n",
        "\n",
        "                        # Backward pass and optimization in training phase\n",
        "                        if phase == 'train':\n",
        "                            loss.backward()\n",
        "                            optimizer.step()\n",
        "\n",
        "                    # Update running loss\n",
        "                    running_loss += loss.item() * images.size(0)\n",
        "                    pbar.update(1)\n",
        "\n",
        "            # Calculate average loss for the epoch\n",
        "            epoch_loss = running_loss / len(data_loader.dataset)\n",
        "            history[f\"{phase}_loss\"].append(epoch_loss)\n",
        "\n",
        "            print(f\"{phase.capitalize()} Loss: {epoch_loss:.4f}\")\n",
        "\n",
        "            # Save the model if it's the best validation loss\n",
        "            if phase == 'val' and epoch_loss < best_val_loss:\n",
        "                best_val_loss = epoch_loss\n",
        "                torch.save(model.state_dict(), weights_name)\n",
        "                best_model = model\n",
        "                print(f\"Saved Best Model Weights: {weights_name}\")\n",
        "\n",
        "    return best_model, history"
      ]
    },
    {
      "cell_type": "code",
      "execution_count": 22,
      "metadata": {
        "id": "4iwh7nxRj_Zk"
      },
      "outputs": [],
      "source": [
        "# Create test function for predict test_loader\n",
        "\n",
        "def test_model(model, test_loader):\n",
        "\n",
        "    model.eval()\n",
        "    model.to(device)\n",
        "\n",
        "    predictions = []\n",
        "    ground_truths = []\n",
        "\n",
        "    with torch.no_grad():\n",
        "        with tqdm(total=len(test_loader), desc=\"Testing\") as pbar:\n",
        "            for images, targets in test_loader:\n",
        "                images = images.to(device)\n",
        "                outputs = model(images)\n",
        "\n",
        "                for i in range(outputs.size(0)):\n",
        "                    pred_class = outputs[i, 0].item()\n",
        "                    pred_bbox = outputs[i, 1:].tolist()\n",
        "                    predictions.append({'class': pred_class, 'bbox': pred_bbox})\n",
        "\n",
        "                    gt_class = targets['labels'][i].item()\n",
        "                    gt_bbox = targets['bboxes'][i].tolist()\n",
        "\n",
        "                    if isinstance(gt_bbox[0], list):\n",
        "                        gt_bbox = gt_bbox[0]\n",
        "\n",
        "                    ground_truths.append({'class': gt_class, 'bbox': gt_bbox})\n",
        "\n",
        "                pbar.update(1)\n",
        "\n",
        "    return predictions, ground_truths"
      ]
    },
    {
      "cell_type": "code",
      "execution_count": 23,
      "metadata": {
        "id": "rVFtX_1tYMOE"
      },
      "outputs": [],
      "source": [
        "# Set dataloader\n",
        "dataloaders = {'train': train_loader, 'val': val_loader}\n",
        "\n",
        "# Training setting\n",
        "model = SimpleObjectDetector()\n",
        "model = model.to(device)\n",
        "\n",
        "criterion = nn.MSELoss()\n",
        "optimizer = optim.Adam(model.parameters(), lr=1e-4, weight_decay=1e-8)\n",
        "epochs = 10"
      ]
    },
    {
      "cell_type": "code",
      "execution_count": 24,
      "metadata": {
        "colab": {
          "base_uri": "https://localhost:8080/"
        },
        "id": "Ugv4rJF_YwmU",
        "outputId": "1b69f327-26f5-47eb-fb8b-0296c1d413e3"
      },
      "outputs": [
        {
          "name": "stdout",
          "output_type": "stream",
          "text": [
            "Epoch 1/10\n",
            "------------------------------\n"
          ]
        },
        {
          "name": "stderr",
          "output_type": "stream",
          "text": [
            "Train Epoch 1: 100%|██████████| 18/18 [00:00<00:00, 38.58it/s]\n"
          ]
        },
        {
          "name": "stdout",
          "output_type": "stream",
          "text": [
            "Train Loss: 0.0712\n"
          ]
        },
        {
          "name": "stderr",
          "output_type": "stream",
          "text": [
            "Val Epoch 1: 100%|██████████| 4/4 [00:00<00:00, 160.90it/s]\n"
          ]
        },
        {
          "name": "stdout",
          "output_type": "stream",
          "text": [
            "Val Loss: 0.0675\n",
            "Saved Best Model Weights: SimpleObjectDetector.pth\n",
            "Epoch 2/10\n",
            "------------------------------\n"
          ]
        },
        {
          "name": "stderr",
          "output_type": "stream",
          "text": [
            "Train Epoch 2: 100%|██████████| 18/18 [00:00<00:00, 41.93it/s]\n"
          ]
        },
        {
          "name": "stdout",
          "output_type": "stream",
          "text": [
            "Train Loss: 0.0590\n"
          ]
        },
        {
          "name": "stderr",
          "output_type": "stream",
          "text": [
            "Val Epoch 2: 100%|██████████| 4/4 [00:00<00:00, 177.47it/s]\n"
          ]
        },
        {
          "name": "stdout",
          "output_type": "stream",
          "text": [
            "Val Loss: 0.0590\n",
            "Saved Best Model Weights: SimpleObjectDetector.pth\n",
            "Epoch 3/10\n",
            "------------------------------\n"
          ]
        },
        {
          "name": "stderr",
          "output_type": "stream",
          "text": [
            "Train Epoch 3: 100%|██████████| 18/18 [00:00<00:00, 44.23it/s]\n"
          ]
        },
        {
          "name": "stdout",
          "output_type": "stream",
          "text": [
            "Train Loss: 0.0522\n"
          ]
        },
        {
          "name": "stderr",
          "output_type": "stream",
          "text": [
            "Val Epoch 3: 100%|██████████| 4/4 [00:00<00:00, 214.65it/s]\n"
          ]
        },
        {
          "name": "stdout",
          "output_type": "stream",
          "text": [
            "Val Loss: 0.0516\n",
            "Saved Best Model Weights: SimpleObjectDetector.pth\n",
            "Epoch 4/10\n",
            "------------------------------\n"
          ]
        },
        {
          "name": "stderr",
          "output_type": "stream",
          "text": [
            "Train Epoch 4: 100%|██████████| 18/18 [00:00<00:00, 44.28it/s]\n"
          ]
        },
        {
          "name": "stdout",
          "output_type": "stream",
          "text": [
            "Train Loss: 0.0459\n"
          ]
        },
        {
          "name": "stderr",
          "output_type": "stream",
          "text": [
            "Val Epoch 4: 100%|██████████| 4/4 [00:00<00:00, 146.57it/s]\n"
          ]
        },
        {
          "name": "stdout",
          "output_type": "stream",
          "text": [
            "Val Loss: 0.0449\n",
            "Saved Best Model Weights: SimpleObjectDetector.pth\n",
            "Epoch 5/10\n",
            "------------------------------\n"
          ]
        },
        {
          "name": "stderr",
          "output_type": "stream",
          "text": [
            "Train Epoch 5: 100%|██████████| 18/18 [00:00<00:00, 41.32it/s]\n"
          ]
        },
        {
          "name": "stdout",
          "output_type": "stream",
          "text": [
            "Train Loss: 0.0429\n"
          ]
        },
        {
          "name": "stderr",
          "output_type": "stream",
          "text": [
            "Val Epoch 5: 100%|██████████| 4/4 [00:00<00:00, 168.45it/s]\n"
          ]
        },
        {
          "name": "stdout",
          "output_type": "stream",
          "text": [
            "Val Loss: 0.0378\n",
            "Saved Best Model Weights: SimpleObjectDetector.pth\n",
            "Epoch 6/10\n",
            "------------------------------\n"
          ]
        },
        {
          "name": "stderr",
          "output_type": "stream",
          "text": [
            "Train Epoch 6: 100%|██████████| 18/18 [00:00<00:00, 42.45it/s]\n"
          ]
        },
        {
          "name": "stdout",
          "output_type": "stream",
          "text": [
            "Train Loss: 0.0363\n"
          ]
        },
        {
          "name": "stderr",
          "output_type": "stream",
          "text": [
            "Val Epoch 6: 100%|██████████| 4/4 [00:00<00:00, 208.05it/s]\n"
          ]
        },
        {
          "name": "stdout",
          "output_type": "stream",
          "text": [
            "Val Loss: 0.0360\n",
            "Saved Best Model Weights: SimpleObjectDetector.pth\n",
            "Epoch 7/10\n",
            "------------------------------\n"
          ]
        },
        {
          "name": "stderr",
          "output_type": "stream",
          "text": [
            "Train Epoch 7: 100%|██████████| 18/18 [00:00<00:00, 35.77it/s]\n"
          ]
        },
        {
          "name": "stdout",
          "output_type": "stream",
          "text": [
            "Train Loss: 0.0341\n"
          ]
        },
        {
          "name": "stderr",
          "output_type": "stream",
          "text": [
            "Val Epoch 7: 100%|██████████| 4/4 [00:00<00:00, 167.79it/s]\n"
          ]
        },
        {
          "name": "stdout",
          "output_type": "stream",
          "text": [
            "Val Loss: 0.0301\n",
            "Saved Best Model Weights: SimpleObjectDetector.pth\n",
            "Epoch 8/10\n",
            "------------------------------\n"
          ]
        },
        {
          "name": "stderr",
          "output_type": "stream",
          "text": [
            "Train Epoch 8: 100%|██████████| 18/18 [00:00<00:00, 43.92it/s]\n"
          ]
        },
        {
          "name": "stdout",
          "output_type": "stream",
          "text": [
            "Train Loss: 0.0314\n"
          ]
        },
        {
          "name": "stderr",
          "output_type": "stream",
          "text": [
            "Val Epoch 8: 100%|██████████| 4/4 [00:00<00:00, 201.87it/s]\n"
          ]
        },
        {
          "name": "stdout",
          "output_type": "stream",
          "text": [
            "Val Loss: 0.0282\n",
            "Saved Best Model Weights: SimpleObjectDetector.pth\n",
            "Epoch 9/10\n",
            "------------------------------\n"
          ]
        },
        {
          "name": "stderr",
          "output_type": "stream",
          "text": [
            "Train Epoch 9: 100%|██████████| 18/18 [00:00<00:00, 38.03it/s]\n"
          ]
        },
        {
          "name": "stdout",
          "output_type": "stream",
          "text": [
            "Train Loss: 0.0276\n"
          ]
        },
        {
          "name": "stderr",
          "output_type": "stream",
          "text": [
            "Val Epoch 9: 100%|██████████| 4/4 [00:00<00:00, 173.35it/s]\n"
          ]
        },
        {
          "name": "stdout",
          "output_type": "stream",
          "text": [
            "Val Loss: 0.0255\n",
            "Saved Best Model Weights: SimpleObjectDetector.pth\n",
            "Epoch 10/10\n",
            "------------------------------\n"
          ]
        },
        {
          "name": "stderr",
          "output_type": "stream",
          "text": [
            "Train Epoch 10: 100%|██████████| 18/18 [00:00<00:00, 41.18it/s]\n"
          ]
        },
        {
          "name": "stdout",
          "output_type": "stream",
          "text": [
            "Train Loss: 0.0269\n"
          ]
        },
        {
          "name": "stderr",
          "output_type": "stream",
          "text": [
            "Val Epoch 10: 100%|██████████| 4/4 [00:00<00:00, 154.23it/s]"
          ]
        },
        {
          "name": "stdout",
          "output_type": "stream",
          "text": [
            "Val Loss: 0.0260\n"
          ]
        },
        {
          "name": "stderr",
          "output_type": "stream",
          "text": [
            "\n"
          ]
        }
      ],
      "source": [
        "# Training Model\n",
        "best_model, train_history = train_model(model, dataloaders, criterion, optimizer, epochs, 'SimpleObjectDetector.pth')"
      ]
    },
    {
      "cell_type": "code",
      "execution_count": 25,
      "metadata": {
        "colab": {
          "base_uri": "https://localhost:8080/",
          "height": 564
        },
        "id": "N51XimixZhFM",
        "outputId": "b5694769-bdb9-495d-ed9b-20876426619d"
      },
      "outputs": [
        {
          "data": {
            "image/png": "[encoded data removed]",
            "text/plain": [
              "<Figure size 1000x600 with 1 Axes>"
            ]
          },
          "metadata": {},
          "output_type": "display_data"
        }
      ],
      "source": [
        "plt.figure(figsize=(10, 6))\n",
        "plt.plot(train_history['train_loss'], label='Training Loss')\n",
        "plt.plot(train_history['val_loss'], label='Validation Loss')\n",
        "plt.xlabel('Epoch')\n",
        "plt.ylabel('Loss')\n",
        "plt.title('Training vs Validation Loss')\n",
        "\n",
        "plt.legend()\n",
        "plt.show()"
      ]
    },
    {
      "cell_type": "markdown",
      "metadata": {
        "id": "nniFCm9A6M85"
      },
      "source": [
        "## Model Evaluation\n",
        "- Calculate the model performance using IoU, Precision, Recall and F1-Score"
      ]
    },
    {
      "cell_type": "code",
      "execution_count": 26,
      "metadata": {
        "id": "zQjvFLzwDMh9"
      },
      "outputs": [],
      "source": [
        "# IoU function to compute intersection over union\n",
        "def compute_iou(pred_bbox, gt_bbox):\n",
        "  # Convert from [x, y, w, h] to [x_min, y_min, x_max, y_max]\n",
        "  def convert_bbox(bbox):\n",
        "    x, y, w, h = bbox\n",
        "    x_min = x - w / 2\n",
        "    y_min = y - h / 2\n",
        "    x_max = x + w / 2\n",
        "    y_max = y + h / 2\n",
        "    return [x_min, y_min, x_max, y_max]\n",
        "\n",
        "  pred_bbox = convert_bbox(pred_bbox)\n",
        "  gt_bbox = convert_bbox(gt_bbox)\n",
        "\n",
        "  # Determine the coordinates of the intersection rectangle\n",
        "  x_min = max(pred_bbox[0], gt_bbox[0])\n",
        "  y_min = max(pred_bbox[1], gt_bbox[1])\n",
        "  x_max = min(pred_bbox[2], gt_bbox[2])\n",
        "  y_max = min(pred_bbox[3], gt_bbox[3])\n",
        "\n",
        "  # Compute intersection area\n",
        "  inter_width = max(0, x_max - x_min)\n",
        "  inter_height = max(0, y_max - y_min)\n",
        "  intersection = inter_width * inter_height\n",
        "\n",
        "  # Compute union area\n",
        "  pred_area = (pred_bbox[2] - pred_bbox[0]) * (pred_bbox[3] - pred_bbox[1])\n",
        "  gt_area = (gt_bbox[2] - gt_bbox[0]) * (gt_bbox[3] - gt_bbox[1])\n",
        "  union = pred_area + gt_area - intersection\n",
        "\n",
        "  # Avoid division by zero\n",
        "  if union == 0:\n",
        "    return 0.0\n",
        "\n",
        "  return intersection / union\n",
        "\n",
        "\n",
        "\n",
        "def calculate_performance(predictions, ground_truths, iou_threshold=0.5):\n",
        "  tp, fp, fn = 0, 0, 0\n",
        "  iou_list = []\n",
        "\n",
        "  for pred, gt in zip(predictions, ground_truths):\n",
        "    pred_class = round(pred['class'])\n",
        "    pred_bbox = pred['bbox']\n",
        "    gt_class = gt['class']\n",
        "    gt_bbox = gt['bbox']\n",
        "\n",
        "    if pred_class == gt_class:\n",
        "      iou = compute_iou(pred_bbox, gt_bbox)\n",
        "      if iou >= iou_threshold:\n",
        "        tp += 1\n",
        "        iou_list.append(iou)\n",
        "      else:\n",
        "        fp += 1  # False positive if IoU is below the threshold\n",
        "    else:\n",
        "      fp += 1  # False positive if classes don't match\n",
        "\n",
        "  # False negatives are ground truths with no matching predictions\n",
        "  fn = len(ground_truths) - tp\n",
        "\n",
        "  # Calculate metrics\n",
        "  precision = tp / (tp + fp) if (tp + fp) > 0 else 0.0\n",
        "  recall = tp / (tp + fn) if (tp + fn) > 0 else 0.0\n",
        "  f1_score = 2 * (precision * recall) / (precision + recall) if (precision + recall) > 0 else 0.0\n",
        "  mean_iou = sum(iou_list) / len(iou_list) if iou_list else 0.0\n",
        "\n",
        "  return precision, recall, f1_score, mean_iou\n"
      ]
    },
    {
      "cell_type": "code",
      "execution_count": 27,
      "metadata": {
        "id": "EXEM55BkK99Q"
      },
      "outputs": [
        {
          "name": "stderr",
          "output_type": "stream",
          "text": [
            "Testing: 100%|██████████| 4/4 [00:00<00:00, 149.93it/s]"
          ]
        },
        {
          "name": "stdout",
          "output_type": "stream",
          "text": [
            "Precision: 0.4000\n",
            "Recall: 0.4000\n",
            "F1-Score: 0.4000\n",
            "Mean IoU: 0.6707\n"
          ]
        },
        {
          "name": "stderr",
          "output_type": "stream",
          "text": [
            "\n"
          ]
        }
      ],
      "source": [
        "predictions, ground_truths = test_model(model, test_loader)\n",
        "\n",
        "precision, recall, f1_score, mean_iou = calculate_performance(predictions, ground_truths)\n",
        "\n",
        "print(f\"Precision: {precision:.4f}\")\n",
        "print(f\"Recall: {recall:.4f}\")\n",
        "print(f\"F1-Score: {f1_score:.4f}\")\n",
        "print(f\"Mean IoU: {mean_iou:.4f}\")"
      ]
    },
    {
      "cell_type": "markdown",
      "metadata": {
        "id": "GA0pGMhULy2r"
      },
      "source": [
        "## Visualization Outcome\n",
        "- Visualize the model's predictions by comparing the bounding boxes of the ground truth labels and the model's predictions. Display the images with both sets of bounding boxes overlaid and analyze the performance."
      ]
    },
    {
      "cell_type": "code",
      "execution_count": 28,
      "metadata": {
        "id": "O7wb3hu9DPkD"
      },
      "outputs": [],
      "source": [
        "def plot_predictions_with_ground_truth(dataloader, predictions, ground_truths, num_samples=3):\n",
        "  # Get a batch of images and targets\n",
        "  images, targets = next(iter(dataloader))\n",
        "  num_samples = min(num_samples, len(images))\n",
        "\n",
        "  # Create a grid for plotting\n",
        "  fig, axes = plt.subplots(1, num_samples, figsize=(5 * num_samples, 5))\n",
        "  if num_samples == 1:\n",
        "      axes = [axes]\n",
        "\n",
        "  for i in range(num_samples):\n",
        "      image = images[i].numpy().squeeze()\n",
        "      gt_bboxes = targets['bboxes'][i].numpy()\n",
        "      gt_labels = targets['labels'][i].numpy()\n",
        "\n",
        "      # Prediction\n",
        "      pred_bbox = predictions[i]['bbox']\n",
        "      pred_class = round(predictions[i]['class'])\n",
        "\n",
        "      # Plot the image\n",
        "      axes[i].imshow(image, cmap='gray')\n",
        "      axes[i].set_title(f\"Sample {i + 1}\")\n",
        "\n",
        "      # Plot ground truth bounding boxes\n",
        "      for bbox, label in zip(gt_bboxes, gt_labels):\n",
        "          x, y, w, h = bbox * 64\n",
        "          rect = plt.Rectangle((x, y), w, h, linewidth=2, edgecolor='g', facecolor='none')\n",
        "          axes[i].add_patch(rect)\n",
        "\n",
        "          # Add ground truth label\n",
        "          label_text = \"Circle\" if label == 0 else \"Rectangle\"\n",
        "          axes[i].text(\n",
        "              x, y - 1, f\"GT: {label_text}\", color='g', fontsize=10, weight='bold',\n",
        "              bbox=dict(facecolor='white', alpha=0.9, edgecolor='none')\n",
        "          )\n",
        "\n",
        "      # Plot predicted bounding box\n",
        "      px, py, pw, ph = [p * 64 for p in pred_bbox]\n",
        "      pred_rect = plt.Rectangle((px, py), pw, ph, linewidth=2, edgecolor='r', facecolor='none')\n",
        "      axes[i].add_patch(pred_rect)\n",
        "\n",
        "      # Add predicted label\n",
        "      pred_label_text = \"Circle\" if pred_class == 0 else \"Rectangle\"\n",
        "      axes[i].text(\n",
        "          px, py - 1, f\"Pred: {pred_label_text}\", color='r', fontsize=10, weight='bold',\n",
        "          bbox=dict(facecolor='white', alpha=0.9, edgecolor='none')\n",
        "      )\n",
        "\n",
        "      axes[i].axis('off')\n",
        "\n",
        "  plt.tight_layout()\n",
        "  plt.show()\n"
      ]
    },
    {
      "cell_type": "code",
      "execution_count": 29,
      "metadata": {},
      "outputs": [
        {
          "name": "stderr",
          "output_type": "stream",
          "text": [
            "Testing: 100%|██████████| 4/4 [00:00<00:00, 181.44it/s]\n"
          ]
        },
        {
          "data": {
            "image/png": "[encoded data removed]",
            "text/plain": [
              "<Figure size 1500x500 with 3 Axes>"
            ]
          },
          "metadata": {},
          "output_type": "display_data"
        }
      ],
      "source": [
        "\n",
        "predictions, ground_truths = test_model(model, test_loader)\n",
        "plot_predictions_with_ground_truth(test_loader, predictions, ground_truths, num_samples=3)\n"
      ]
    }
  ],
  "metadata": {
    "colab": {
      "provenance": []
    },
    "kernelspec": {
      "display_name": "ai-workshop",
      "language": "python",
      "name": "python3"
    },
    "language_info": {
      "codemirror_mode": {
        "name": "ipython",
        "version": 3
      },
      "file_extension": ".py",
      "mimetype": "text/x-python",
      "name": "python",
      "nbconvert_exporter": "python",
      "pygments_lexer": "ipython3",
      "version": "3.10.16"
    }
  },
  "nbformat": 4,
  "nbformat_minor": 0
}
