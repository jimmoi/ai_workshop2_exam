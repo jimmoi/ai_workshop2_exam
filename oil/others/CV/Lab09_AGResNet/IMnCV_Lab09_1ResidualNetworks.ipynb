{
  "nbformat": 4,
  "nbformat_minor": 0,
  "metadata": {
    "colab": {
      "provenance": [],
      "gpuType": "T4",
      "machine_shape": "hm"
    },
    "kernelspec": {
      "name": "python3",
      "display_name": "Python 3"
    },
    "language_info": {
      "name": "python"
    },
    "accelerator": "GPU"
  },
  "cells": [
    {
      "cell_type": "markdown",
      "source": [
        "# Residual Networks\n",
        "[Residual Block](https://paperswithcode.com/method/residual-block)"
      ],
      "metadata": {
        "id": "6xRIdBZDXhAJ"
      }
    },
    {
      "cell_type": "markdown",
      "source": [
        "![image.png](data:image/png;base64,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)"
      ],
      "metadata": {
        "id": "Ixn6CpVNXfNP"
      }
    },
    {
      "cell_type": "markdown",
      "source": [
        "**Import libraries**"
      ],
      "metadata": {
        "id": "G5tbW1AHGIYZ"
      }
    },
    {
      "cell_type": "code",
      "source": [
        "import torch\n",
        "import torch.nn as nn\n",
        "import torch.optim as optim\n",
        "import torchvision\n",
        "import torchvision.transforms as transforms\n",
        "import matplotlib.pyplot as plt\n",
        "\n",
        "# Set random seed for reproducibility\n",
        "torch.manual_seed(0)"
      ],
      "metadata": {
        "id": "0pTOjyH3Njev",
        "colab": {
          "base_uri": "https://localhost:8080/"
        },
        "outputId": "bc2ea739-3368-4529-abfc-693362871644"
      },
      "execution_count": null,
      "outputs": [
        {
          "output_type": "execute_result",
          "data": {
            "text/plain": [
              "<torch._C.Generator at 0x7c364f4c91f0>"
            ]
          },
          "metadata": {},
          "execution_count": 2
        }
      ]
    },
    {
      "cell_type": "markdown",
      "source": [
        "# Basic Building Blocks\n",
        "**Components:**\n",
        "- Two convolutional layers\n",
        "- Batch normalization after each conv layer\n",
        "- ReLU activation\n",
        "- No skip connection"
      ],
      "metadata": {
        "id": "eBw_-x56Ns8t"
      }
    },
    {
      "cell_type": "code",
      "source": [
        "# Define a basic block without skip connection\n",
        "class BasicBlock(nn.Module):\n",
        "    def __init__(self, in_channels, out_channels):\n",
        "        super(BasicBlock, self).__init__()\n",
        "        self.conv1 = nn.Conv2d(in_channels, out_channels, kernel_size=3, padding=1)\n",
        "        self.bn1 = nn.BatchNorm2d(out_channels)\n",
        "        self.conv2 = nn.Conv2d(out_channels, out_channels, kernel_size=3, padding=1)\n",
        "        self.bn2 = nn.BatchNorm2d(out_channels)\n",
        "        self.relu = nn.ReLU(inplace=True)\n",
        "\n",
        "    def forward(self, x):\n",
        "        out = self.conv1(x)\n",
        "        out = self.bn1(out)\n",
        "        out = self.relu(out)\n",
        "        out = self.conv2(out)\n",
        "        out = self.bn2(out)\n",
        "        out = self.relu(out)\n",
        "        return out"
      ],
      "metadata": {
        "id": "Ve7rIEJWNmTG"
      },
      "execution_count": null,
      "outputs": []
    },
    {
      "cell_type": "markdown",
      "source": [
        "# Residual block\n",
        "**Advantages** of Residual Connections\n",
        "   - Direct path for gradient backpropagation\n",
        "   - Reduces vanishing gradient problem\n",
        "   - Enables training of deeper networks\n",
        "\n",
        "**Components:**\n",
        "- Identity shortcut connection\n",
        "- Downsample layer for channel matching\n",
        "- Element-wise addition of identity and transformed features"
      ],
      "metadata": {
        "id": "fhTmwKZUNqOg"
      }
    },
    {
      "cell_type": "code",
      "source": [
        "# Define a residual block with skip connection\n",
        "class ResidualBlock(nn.Module):\n",
        "    def __init__(self, in_channels, out_channels):\n",
        "        super(ResidualBlock, self).__init__()\n",
        "        self.conv1 = nn.Conv2d(in_channels, out_channels, kernel_size=3, padding=1)\n",
        "        self.bn1 = nn.BatchNorm2d(out_channels)\n",
        "        self.conv2 = nn.Conv2d(out_channels, out_channels, kernel_size=3, padding=1)\n",
        "        self.bn2 = nn.BatchNorm2d(out_channels)\n",
        "        self.relu = nn.ReLU(inplace=True)\n",
        "        self.downsample = nn.Sequential(\n",
        "            nn.Conv2d(in_channels, out_channels, kernel_size=1, stride=1, bias=False),\n",
        "            nn.BatchNorm2d(out_channels)\n",
        "        ) if in_channels != out_channels else None\n",
        "\n",
        "    def forward(self, x):\n",
        "        identity = x\n",
        "        out = self.conv1(x)\n",
        "        out = self.bn1(out)\n",
        "        out = self.relu(out)\n",
        "        out = self.conv2(out)\n",
        "        out = self.bn2(out)\n",
        "        if self.downsample is not None:\n",
        "            identity = self.downsample(x)\n",
        "        out += identity  # Skip connection\n",
        "        out = self.relu(out)\n",
        "        return out"
      ],
      "metadata": {
        "id": "wmtpSDz1Noei"
      },
      "execution_count": null,
      "outputs": []
    },
    {
      "cell_type": "markdown",
      "source": [
        "# Define networks\n",
        "**Architectural Details:**\n",
        "1. **Initial Layer:**\n",
        "   - 3→64 channels\n",
        "   - 3x3 convolution\n",
        "   - Batch normalization\n",
        "   - ReLU activation\n",
        "\n",
        "2. **Feature Extraction Layers:**\n",
        "   - Layer 1: 64 channels (5 blocks)\n",
        "   - Layer 2: 128 channels (5 blocks)\n",
        "   - Layer 3: 256 channels (5 blocks)\n",
        "   - Layer 4: 512 channels (5 blocks)\n",
        "\n",
        "3. **Classification Head:**\n",
        "   - Global average pooling\n",
        "   - Fully connected layer to classes"
      ],
      "metadata": {
        "id": "HKWmV9ZVNyWa"
      }
    },
    {
      "cell_type": "code",
      "source": [
        "# Define networks\n",
        "class Network(nn.Module):\n",
        "    def __init__(self, block, num_blocks, num_classes=10):\n",
        "        super(Network, self).__init__()\n",
        "        self.in_channels = 64\n",
        "        self.conv1 = nn.Conv2d(3, 64, kernel_size=3, padding=1)\n",
        "        self.bn1 = nn.BatchNorm2d(64)\n",
        "        self.relu = nn.ReLU(inplace=True)\n",
        "        self.layer1 = self._make_layer(block, 64, num_blocks[0])\n",
        "\n",
        "        self.layer2 = self._make_layer(block, 128, num_blocks[1])\n",
        "        self.layer3 = self._make_layer(block, 256, num_blocks[2])\n",
        "        self.layer4 = self._make_layer(block, 512, num_blocks[3])\n",
        "        self.avg_pool = nn.AdaptiveAvgPool2d((1, 1))\n",
        "        self.fc = nn.Linear(512, num_classes)\n",
        "\n",
        "    def _make_layer(self, block, out_channels, num_blocks):\n",
        "        layers = []\n",
        "        for _ in range(num_blocks):\n",
        "            layers.append(block(self.in_channels, out_channels))\n",
        "            self.in_channels = out_channels\n",
        "        return nn.Sequential(*layers)\n",
        "\n",
        "    def forward(self, x):\n",
        "\n",
        "        out = self.conv1(x)\n",
        "        out = self.bn1(out)\n",
        "        out = self.relu(out)\n",
        "\n",
        "        out = self.layer1(out)\n",
        "        out = self.layer2(out)\n",
        "        out = self.layer3(out)\n",
        "        out = self.layer4(out)\n",
        "\n",
        "        out = self.avg_pool(out)\n",
        "        out = torch.flatten(out, 1)\n",
        "        out = self.fc(out)\n",
        "        return out"
      ],
      "metadata": {
        "id": "pFkycLi7Nww-"
      },
      "execution_count": null,
      "outputs": []
    },
    {
      "cell_type": "markdown",
      "source": [
        "# Training function"
      ],
      "metadata": {
        "id": "tYDAE4F_OUj_"
      }
    },
    {
      "cell_type": "code",
      "source": [
        "# Training function\n",
        "def train(model, epochs=10):\n",
        "    criterion = nn.CrossEntropyLoss()\n",
        "    optimizer = optim.Adam(model.parameters(), lr=0.001)\n",
        "    device = torch.device(\"cuda\" if torch.cuda.is_available() else \"cpu\")\n",
        "    model.to(device)\n",
        "\n",
        "    train_losses = []\n",
        "\n",
        "    for epoch in range(epochs):\n",
        "        running_loss = 0.0\n",
        "        for i, data in enumerate(trainloader, 0):\n",
        "            inputs, labels = data[0].to(device), data[1].to(device)\n",
        "            optimizer.zero_grad()\n",
        "            outputs = model(inputs)\n",
        "            loss = criterion(outputs, labels)\n",
        "            loss.backward()\n",
        "            optimizer.step()\n",
        "            running_loss += loss.item()\n",
        "\n",
        "        epoch_loss = running_loss / len(trainloader)\n",
        "        train_losses.append(epoch_loss)\n",
        "        print(f'Epoch {epoch + 1}, Loss: {epoch_loss:.3f}')\n",
        "\n",
        "    return train_losses"
      ],
      "metadata": {
        "id": "TImnFYaYOR4b"
      },
      "execution_count": null,
      "outputs": []
    },
    {
      "cell_type": "markdown",
      "source": [
        "# load data"
      ],
      "metadata": {
        "id": "tk8-9aryN5do"
      }
    },
    {
      "cell_type": "code",
      "source": [
        "# Prepare CIFAR-10 dataset\n",
        "transform = transforms.Compose([\n",
        "    transforms.ToTensor(),\n",
        "    transforms.Normalize((0.5, 0.5, 0.5), (0.5, 0.5, 0.5))\n",
        "])\n",
        "\n",
        "trainset = torchvision.datasets.CIFAR10(root='./data', train=True, download=True, transform=transform)\n",
        "# Use only 1/10 of the data\n",
        "# 0,1,2,...,59999\n",
        "# 500,1,689,..\n",
        "train_indices = torch.randperm(len(trainset))[:len(trainset) // 10]\n",
        "trainset = torch.utils.data.Subset(trainset, train_indices)\n",
        "trainloader = torch.utils.data.DataLoader(trainset, batch_size=128, shuffle=True, num_workers=2)\n"
      ],
      "metadata": {
        "id": "Cn_g3T3QN4jx",
        "colab": {
          "base_uri": "https://localhost:8080/"
        },
        "outputId": "f619a686-4227-4e17-bd2a-70b661c69e03"
      },
      "execution_count": null,
      "outputs": [
        {
          "output_type": "stream",
          "name": "stdout",
          "text": [
            "Downloading https://www.cs.toronto.edu/~kriz/cifar-10-python.tar.gz to ./data/cifar-10-python.tar.gz\n"
          ]
        },
        {
          "output_type": "stream",
          "name": "stderr",
          "text": [
            "100%|██████████| 170M/170M [00:05<00:00, 30.8MB/s]\n"
          ]
        },
        {
          "output_type": "stream",
          "name": "stdout",
          "text": [
            "Extracting ./data/cifar-10-python.tar.gz to ./data\n"
          ]
        }
      ]
    },
    {
      "cell_type": "markdown",
      "source": [
        "**Create model, training process and plotting graph.**"
      ],
      "metadata": {
        "id": "KFXQ_GoyRYye"
      }
    },
    {
      "cell_type": "code",
      "source": [
        "# Create models\n",
        "plain_network = Network(BasicBlock, [5, 5, 5, 5])\n",
        "residual_network = Network(ResidualBlock, [5, 5, 5, 5])\n",
        "\n",
        "\n",
        "# Train both networks\n",
        "print(\"Training Plain Network:\")\n",
        "plain_losses = train(plain_network)\n",
        "\n",
        "print(\"\\nTraining Residual Network:\")\n",
        "residual_losses = train(residual_network)\n",
        "\n",
        "# Plot training losses\n",
        "plt.figure(figsize=(10, 6))\n",
        "plt.plot(plain_losses, label='Plain Network')\n",
        "plt.plot(residual_losses, label='Residual Network')\n",
        "plt.xlabel('Epoch')\n",
        "plt.ylabel('Loss')\n",
        "plt.title('Training Loss Comparison')\n",
        "plt.legend()\n",
        "plt.show()\n"
      ],
      "metadata": {
        "colab": {
          "base_uri": "https://localhost:8080/",
          "height": 963
        },
        "id": "N0oV2U1TMzjz",
        "outputId": "0b995be4-dbfc-4529-f98b-ada4d0fc4df6"
      },
      "execution_count": null,
      "outputs": [
        {
          "output_type": "stream",
          "name": "stdout",
          "text": [
            "Training Plain Network:\n",
            "Epoch 1, Loss: 2.295\n",
            "Epoch 2, Loss: 2.148\n",
            "Epoch 3, Loss: 2.033\n",
            "Epoch 4, Loss: 2.005\n",
            "Epoch 5, Loss: 1.948\n",
            "Epoch 6, Loss: 1.933\n",
            "Epoch 7, Loss: 1.904\n",
            "Epoch 8, Loss: 1.860\n",
            "Epoch 9, Loss: 1.827\n",
            "Epoch 10, Loss: 1.823\n",
            "\n",
            "Training Residual Network:\n",
            "Epoch 1, Loss: 2.207\n",
            "Epoch 2, Loss: 1.849\n",
            "Epoch 3, Loss: 1.762\n",
            "Epoch 4, Loss: 1.719\n",
            "Epoch 5, Loss: 1.674\n",
            "Epoch 6, Loss: 1.591\n",
            "Epoch 7, Loss: 1.524\n",
            "Epoch 8, Loss: 1.515\n",
            "Epoch 9, Loss: 1.516\n",
            "Epoch 10, Loss: 1.426\n"
          ]
        },
        {
          "output_type": "display_data",
          "data": {
            "text/plain": [
              "<Figure size 1000x600 with 1 Axes>"
            ],
            "image/png": "[encoded data removed]"
          },
          "metadata": {}
        }
      ]
    },
    {
      "cell_type": "code",
      "source": [
        "!pip install torchviz"
      ],
      "metadata": {
        "colab": {
          "base_uri": "https://localhost:8080/"
        },
        "id": "Dn4u5-0qO8oQ",
        "outputId": "6be68f26-9f82-4fd6-9af7-387d847acef0"
      },
      "execution_count": null,
      "outputs": [
        {
          "output_type": "stream",
          "name": "stdout",
          "text": [
            "Collecting torchviz\n",
            "  Downloading torchviz-0.0.3-py3-none-any.whl.metadata (2.1 kB)\n",
            "Requirement already satisfied: torch in /usr/local/lib/python3.11/dist-packages (from torchviz) (2.5.1+cu124)\n",
            "Requirement already satisfied: graphviz in /usr/local/lib/python3.11/dist-packages (from torchviz) (0.20.3)\n",
            "Requirement already satisfied: filelock in /usr/local/lib/python3.11/dist-packages (from torch->torchviz) (3.17.0)\n",
            "Requirement already satisfied: typing-extensions>=4.8.0 in /usr/local/lib/python3.11/dist-packages (from torch->torchviz) (4.12.2)\n",
            "Requirement already satisfied: networkx in /usr/local/lib/python3.11/dist-packages (from torch->torchviz) (3.4.2)\n",
            "Requirement already satisfied: jinja2 in /usr/local/lib/python3.11/dist-packages (from torch->torchviz) (3.1.5)\n",
            "Requirement already satisfied: fsspec in /usr/local/lib/python3.11/dist-packages (from torch->torchviz) (2024.10.0)\n",
            "Collecting nvidia-cuda-nvrtc-cu12==12.4.127 (from torch->torchviz)\n",
            "  Downloading nvidia_cuda_nvrtc_cu12-12.4.127-py3-none-manylinux2014_x86_64.whl.metadata (1.5 kB)\n",
            "Collecting nvidia-cuda-runtime-cu12==12.4.127 (from torch->torchviz)\n",
            "  Downloading nvidia_cuda_runtime_cu12-12.4.127-py3-none-manylinux2014_x86_64.whl.metadata (1.5 kB)\n",
            "Collecting nvidia-cuda-cupti-cu12==12.4.127 (from torch->torchviz)\n",
            "  Downloading nvidia_cuda_cupti_cu12-12.4.127-py3-none-manylinux2014_x86_64.whl.metadata (1.6 kB)\n",
            "Collecting nvidia-cudnn-cu12==9.1.0.70 (from torch->torchviz)\n",
            "  Downloading nvidia_cudnn_cu12-9.1.0.70-py3-none-manylinux2014_x86_64.whl.metadata (1.6 kB)\n",
            "Collecting nvidia-cublas-cu12==12.4.5.8 (from torch->torchviz)\n",
            "  Downloading nvidia_cublas_cu12-12.4.5.8-py3-none-manylinux2014_x86_64.whl.metadata (1.5 kB)\n",
            "Collecting nvidia-cufft-cu12==11.2.1.3 (from torch->torchviz)\n",
            "  Downloading nvidia_cufft_cu12-11.2.1.3-py3-none-manylinux2014_x86_64.whl.metadata (1.5 kB)\n",
            "Collecting nvidia-curand-cu12==10.3.5.147 (from torch->torchviz)\n",
            "  Downloading nvidia_curand_cu12-10.3.5.147-py3-none-manylinux2014_x86_64.whl.metadata (1.5 kB)\n",
            "Collecting nvidia-cusolver-cu12==11.6.1.9 (from torch->torchviz)\n",
            "  Downloading nvidia_cusolver_cu12-11.6.1.9-py3-none-manylinux2014_x86_64.whl.metadata (1.6 kB)\n",
            "Collecting nvidia-cusparse-cu12==12.3.1.170 (from torch->torchviz)\n",
            "  Downloading nvidia_cusparse_cu12-12.3.1.170-py3-none-manylinux2014_x86_64.whl.metadata (1.6 kB)\n",
            "Requirement already satisfied: nvidia-nccl-cu12==2.21.5 in /usr/local/lib/python3.11/dist-packages (from torch->torchviz) (2.21.5)\n",
            "Requirement already satisfied: nvidia-nvtx-cu12==12.4.127 in /usr/local/lib/python3.11/dist-packages (from torch->torchviz) (12.4.127)\n",
            "Collecting nvidia-nvjitlink-cu12==12.4.127 (from torch->torchviz)\n",
            "  Downloading nvidia_nvjitlink_cu12-12.4.127-py3-none-manylinux2014_x86_64.whl.metadata (1.5 kB)\n",
            "Requirement already satisfied: triton==3.1.0 in /usr/local/lib/python3.11/dist-packages (from torch->torchviz) (3.1.0)\n",
            "Requirement already satisfied: sympy==1.13.1 in /usr/local/lib/python3.11/dist-packages (from torch->torchviz) (1.13.1)\n",
            "Requirement already satisfied: mpmath<1.4,>=1.1.0 in /usr/local/lib/python3.11/dist-packages (from sympy==1.13.1->torch->torchviz) (1.3.0)\n",
            "Requirement already satisfied: MarkupSafe>=2.0 in /usr/local/lib/python3.11/dist-packages (from jinja2->torch->torchviz) (3.0.2)\n",
            "Downloading torchviz-0.0.3-py3-none-any.whl (5.7 kB)\n",
            "Downloading nvidia_cublas_cu12-12.4.5.8-py3-none-manylinux2014_x86_64.whl (363.4 MB)\n",
            "\u001b[2K   \u001b[90m━━━━━━━━━━━━━━━━━━━━━━━━━━━━━━━━━━━━━━━━\u001b[0m \u001b[32m363.4/363.4 MB\u001b[0m \u001b[31m1.4 MB/s\u001b[0m eta \u001b[36m0:00:00\u001b[0m\n",
            "\u001b[?25hDownloading nvidia_cuda_cupti_cu12-12.4.127-py3-none-manylinux2014_x86_64.whl (13.8 MB)\n",
            "\u001b[2K   \u001b[90m━━━━━━━━━━━━━━━━━━━━━━━━━━━━━━━━━━━━━━━━\u001b[0m \u001b[32m13.8/13.8 MB\u001b[0m \u001b[31m113.0 MB/s\u001b[0m eta \u001b[36m0:00:00\u001b[0m\n",
            "\u001b[?25hDownloading nvidia_cuda_nvrtc_cu12-12.4.127-py3-none-manylinux2014_x86_64.whl (24.6 MB)\n",
            "\u001b[2K   \u001b[90m━━━━━━━━━━━━━━━━━━━━━━━━━━━━━━━━━━━━━━━━\u001b[0m \u001b[32m24.6/24.6 MB\u001b[0m \u001b[31m80.7 MB/s\u001b[0m eta \u001b[36m0:00:00\u001b[0m\n",
            "\u001b[?25hDownloading nvidia_cuda_runtime_cu12-12.4.127-py3-none-manylinux2014_x86_64.whl (883 kB)\n",
            "\u001b[2K   \u001b[90m━━━━━━━━━━━━━━━━━━━━━━━━━━━━━━━━━━━━━━━━\u001b[0m \u001b[32m883.7/883.7 kB\u001b[0m \u001b[31m49.3 MB/s\u001b[0m eta \u001b[36m0:00:00\u001b[0m\n",
            "\u001b[?25hDownloading nvidia_cudnn_cu12-9.1.0.70-py3-none-manylinux2014_x86_64.whl (664.8 MB)\n",
            "\u001b[2K   \u001b[90m━━━━━━━━━━━━━━━━━━━━━━━━━━━━━━━━━━━━━━━━\u001b[0m \u001b[32m664.8/664.8 MB\u001b[0m \u001b[31m1.3 MB/s\u001b[0m eta \u001b[36m0:00:00\u001b[0m\n",
            "\u001b[?25hDownloading nvidia_cufft_cu12-11.2.1.3-py3-none-manylinux2014_x86_64.whl (211.5 MB)\n",
            "\u001b[2K   \u001b[90m━━━━━━━━━━━━━━━━━━━━━━━━━━━━━━━━━━━━━━━━\u001b[0m \u001b[32m211.5/211.5 MB\u001b[0m \u001b[31m8.2 MB/s\u001b[0m eta \u001b[36m0:00:00\u001b[0m\n",
            "\u001b[?25hDownloading nvidia_curand_cu12-10.3.5.147-py3-none-manylinux2014_x86_64.whl (56.3 MB)\n",
            "\u001b[2K   \u001b[90m━━━━━━━━━━━━━━━━━━━━━━━━━━━━━━━━━━━━━━━━\u001b[0m \u001b[32m56.3/56.3 MB\u001b[0m \u001b[31m14.2 MB/s\u001b[0m eta \u001b[36m0:00:00\u001b[0m\n",
            "\u001b[?25hDownloading nvidia_cusolver_cu12-11.6.1.9-py3-none-manylinux2014_x86_64.whl (127.9 MB)\n",
            "\u001b[2K   \u001b[90m━━━━━━━━━━━━━━━━━━━━━━━━━━━━━━━━━━━━━━━━\u001b[0m \u001b[32m127.9/127.9 MB\u001b[0m \u001b[31m7.4 MB/s\u001b[0m eta \u001b[36m0:00:00\u001b[0m\n",
            "\u001b[?25hDownloading nvidia_cusparse_cu12-12.3.1.170-py3-none-manylinux2014_x86_64.whl (207.5 MB)\n",
            "\u001b[2K   \u001b[90m━━━━━━━━━━━━━━━━━━━━━━━━━━━━━━━━━━━━━━━━\u001b[0m \u001b[32m207.5/207.5 MB\u001b[0m \u001b[31m5.9 MB/s\u001b[0m eta \u001b[36m0:00:00\u001b[0m\n",
            "\u001b[?25hDownloading nvidia_nvjitlink_cu12-12.4.127-py3-none-manylinux2014_x86_64.whl (21.1 MB)\n",
            "\u001b[2K   \u001b[90m━━━━━━━━━━━━━━━━━━━━━━━━━━━━━━━━━━━━━━━━\u001b[0m \u001b[32m21.1/21.1 MB\u001b[0m \u001b[31m88.9 MB/s\u001b[0m eta \u001b[36m0:00:00\u001b[0m\n",
            "\u001b[?25hInstalling collected packages: nvidia-nvjitlink-cu12, nvidia-curand-cu12, nvidia-cufft-cu12, nvidia-cuda-runtime-cu12, nvidia-cuda-nvrtc-cu12, nvidia-cuda-cupti-cu12, nvidia-cublas-cu12, nvidia-cusparse-cu12, nvidia-cudnn-cu12, nvidia-cusolver-cu12, torchviz\n",
            "  Attempting uninstall: nvidia-nvjitlink-cu12\n",
            "    Found existing installation: nvidia-nvjitlink-cu12 12.5.82\n",
            "    Uninstalling nvidia-nvjitlink-cu12-12.5.82:\n",
            "      Successfully uninstalled nvidia-nvjitlink-cu12-12.5.82\n",
            "  Attempting uninstall: nvidia-curand-cu12\n",
            "    Found existing installation: nvidia-curand-cu12 10.3.6.82\n",
            "    Uninstalling nvidia-curand-cu12-10.3.6.82:\n",
            "      Successfully uninstalled nvidia-curand-cu12-10.3.6.82\n",
            "  Attempting uninstall: nvidia-cufft-cu12\n",
            "    Found existing installation: nvidia-cufft-cu12 11.2.3.61\n",
            "    Uninstalling nvidia-cufft-cu12-11.2.3.61:\n",
            "      Successfully uninstalled nvidia-cufft-cu12-11.2.3.61\n",
            "  Attempting uninstall: nvidia-cuda-runtime-cu12\n",
            "    Found existing installation: nvidia-cuda-runtime-cu12 12.5.82\n",
            "    Uninstalling nvidia-cuda-runtime-cu12-12.5.82:\n",
            "      Successfully uninstalled nvidia-cuda-runtime-cu12-12.5.82\n",
            "  Attempting uninstall: nvidia-cuda-nvrtc-cu12\n",
            "    Found existing installation: nvidia-cuda-nvrtc-cu12 12.5.82\n",
            "    Uninstalling nvidia-cuda-nvrtc-cu12-12.5.82:\n",
            "      Successfully uninstalled nvidia-cuda-nvrtc-cu12-12.5.82\n",
            "  Attempting uninstall: nvidia-cuda-cupti-cu12\n",
            "    Found existing installation: nvidia-cuda-cupti-cu12 12.5.82\n",
            "    Uninstalling nvidia-cuda-cupti-cu12-12.5.82:\n",
            "      Successfully uninstalled nvidia-cuda-cupti-cu12-12.5.82\n",
            "  Attempting uninstall: nvidia-cublas-cu12\n",
            "    Found existing installation: nvidia-cublas-cu12 12.5.3.2\n",
            "    Uninstalling nvidia-cublas-cu12-12.5.3.2:\n",
            "      Successfully uninstalled nvidia-cublas-cu12-12.5.3.2\n",
            "  Attempting uninstall: nvidia-cusparse-cu12\n",
            "    Found existing installation: nvidia-cusparse-cu12 12.5.1.3\n",
            "    Uninstalling nvidia-cusparse-cu12-12.5.1.3:\n",
            "      Successfully uninstalled nvidia-cusparse-cu12-12.5.1.3\n",
            "  Attempting uninstall: nvidia-cudnn-cu12\n",
            "    Found existing installation: nvidia-cudnn-cu12 9.3.0.75\n",
            "    Uninstalling nvidia-cudnn-cu12-9.3.0.75:\n",
            "      Successfully uninstalled nvidia-cudnn-cu12-9.3.0.75\n",
            "  Attempting uninstall: nvidia-cusolver-cu12\n",
            "    Found existing installation: nvidia-cusolver-cu12 11.6.3.83\n",
            "    Uninstalling nvidia-cusolver-cu12-11.6.3.83:\n",
            "      Successfully uninstalled nvidia-cusolver-cu12-11.6.3.83\n",
            "Successfully installed nvidia-cublas-cu12-12.4.5.8 nvidia-cuda-cupti-cu12-12.4.127 nvidia-cuda-nvrtc-cu12-12.4.127 nvidia-cuda-runtime-cu12-12.4.127 nvidia-cudnn-cu12-9.1.0.70 nvidia-cufft-cu12-11.2.1.3 nvidia-curand-cu12-10.3.5.147 nvidia-cusolver-cu12-11.6.1.9 nvidia-cusparse-cu12-12.3.1.170 nvidia-nvjitlink-cu12-12.4.127 torchviz-0.0.3\n"
          ]
        }
      ]
    },
    {
      "cell_type": "markdown",
      "source": [
        "**Create pdf file for saving our model architecture**"
      ],
      "metadata": {
        "id": "dw9oZYz7Wkyl"
      }
    },
    {
      "cell_type": "code",
      "source": [
        "# prompt: visualize the residual_network model architecture\n",
        "\n",
        "from torchviz import make_dot\n",
        "device = torch.device(\"cuda\" if torch.cuda.is_available() else \"cpu\")\n",
        "# Visualize the model architecture\n",
        "x = torch.randn(1, 3, 32, 32)  # Example input\n",
        "y = residual_network(x.to(device))\n",
        "g = make_dot(y, params=dict(residual_network.named_parameters()))\n",
        "g.render('residual_network_architecture', view=True)\n"
      ],
      "metadata": {
        "colab": {
          "base_uri": "https://localhost:8080/",
          "height": 35
        },
        "id": "3OsgmD7YOteQ",
        "outputId": "925e985a-c6c0-4c38-a4f3-b3f604fbbc0d"
      },
      "execution_count": null,
      "outputs": [
        {
          "output_type": "execute_result",
          "data": {
            "text/plain": [
              "'residual_network_architecture.pdf'"
            ],
            "application/vnd.google.colaboratory.intrinsic+json": {
              "type": "string"
            }
          },
          "metadata": {},
          "execution_count": 10
        }
      ]
    },
    {
      "cell_type": "code",
      "source": [
        "x = torch.randn(1, 3, 32, 32)  # Example input\n",
        "y = plain_network(x.to(device))\n",
        "g = make_dot(y, params=dict(plain_network.named_parameters()))\n",
        "g.render('plain_network_architecture', view=True)"
      ],
      "metadata": {
        "colab": {
          "base_uri": "https://localhost:8080/",
          "height": 35
        },
        "id": "t_TUQAVHQc4p",
        "outputId": "f17c701b-2754-413d-e912-db543e3c213d"
      },
      "execution_count": null,
      "outputs": [
        {
          "output_type": "execute_result",
          "data": {
            "text/plain": [
              "'plain_network_architecture.pdf'"
            ],
            "application/vnd.google.colaboratory.intrinsic+json": {
              "type": "string"
            }
          },
          "metadata": {},
          "execution_count": 11
        }
      ]
    },
    {
      "cell_type": "code",
      "source": [
        "print(residual_network)"
      ],
      "metadata": {
        "id": "UlKL0XNKPvW-"
      },
      "execution_count": null,
      "outputs": []
    }
  ]
}