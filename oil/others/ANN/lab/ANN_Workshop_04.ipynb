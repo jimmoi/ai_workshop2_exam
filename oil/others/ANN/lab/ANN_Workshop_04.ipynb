{
  "nbformat": 4,
  "nbformat_minor": 0,
  "metadata": {
    "colab": {
      "provenance": []
    },
    "kernelspec": {
      "name": "python3",
      "display_name": "Python 3"
    },
    "language_info": {
      "name": "python"
    }
  },
  "cells": [
    {
      "cell_type": "markdown",
      "source": [
        "# iris data"
      ],
      "metadata": {
        "id": "vAaU27Z5gdhH"
      }
    },
    {
      "cell_type": "code",
      "execution_count": null,
      "metadata": {
        "id": "JNM9f7gIgM_t"
      },
      "outputs": [],
      "source": [
        "import numpy as np\n",
        "import matplotlib.pyplot as plt\n",
        "from sklearn.datasets import load_iris\n",
        "from sklearn.model_selection import train_test_split\n",
        "from sklearn.preprocessing import MinMaxScaler\n",
        "from sklearn.preprocessing import LabelBinarizer\n",
        "\n",
        "iris_data = load_iris()\n",
        "X = iris_data.data\n",
        "Y = iris_data.target\n",
        "\n",
        "X_train, X_test, y_train, y_test = train_test_split(X, Y, test_size=0.33, random_state=42)\n",
        "\n",
        "scaler = MinMaxScaler().fit(X_train)\n",
        "encoder = LabelBinarizer().fit(y_train)\n",
        "\n",
        "#data for training phase\n",
        "X_train = scaler.transform(X_train)\n",
        "y_train = encoder.transform(y_train)\n",
        "\n",
        "#data for testing phase\n",
        "X_test = scaler.transform(X_test)\n",
        "y_test = encoder.transform(y_test)\n"
      ]
    },
    {
      "cell_type": "markdown",
      "source": [
        "#Task1: MLP from scratch for iris"
      ],
      "metadata": {
        "id": "HPEcd6_WgPCA"
      }
    },
    {
      "cell_type": "code",
      "source": [
        "# MLP 4-2-3\n",
        "# train\n",
        "# plot err convergen\n",
        "# predict\n",
        "# mse testing\n",
        "\n",
        "class MLP:\n",
        "  def __init__(self, eta=0.001, epoch=10000):\n",
        "    self.eta = eta\n",
        "    self.epoch = epoch\n",
        "    self.w = np.random.randn(5, 2)\n",
        "    self.beta = np.random.randn(3, 3)\n",
        "    self.error = []\n",
        "\n",
        "  def fit(self, X, y):\n",
        "    X = np.hstack((np.ones((X.shape[0], 1)), X))\n",
        "    for _ in range(self.epoch):\n",
        "      total_error = 0\n",
        "      for x_i, y_i in zip(X, y):\n",
        "        # Feedforward\n",
        "        H = self.sigmoid(np.dot(x_i, self.w))\n",
        "        H = np.hstack(([1], H))\n",
        "        y_hat = self.sigmoid(np.dot(H, self.beta.T))\n",
        "\n",
        "        # Backpropagation\n",
        "        error = y_i - y_hat\n",
        "        total_error += np.sum(error ** 2)\n",
        "\n",
        "        # update\n",
        "        delta_beta = self.eta * error * y_hat * (1 - y_hat)\n",
        "        self.beta += np.outer(delta_beta, H)\n",
        "        delta_w = self.eta * np.dot(delta_beta, self.beta[:, 1:]) * H[1:] * (1 - H[1:]) * x_i[:, np.newaxis]\n",
        "        self.w += delta_w\n",
        "\n",
        "      self.error.append(total_error / len(X))\n",
        "\n",
        "  def predict(self, X):\n",
        "    X = np.hstack((np.ones((X.shape[0], 1)), X))\n",
        "    H = self.sigmoid(np.dot(X, self.w))\n",
        "    H = np.hstack((np.ones((H.shape[0], 1)), H))\n",
        "    y_hat = self.sigmoid(np.dot(H, self.beta.T))\n",
        "    return y_hat\n",
        "\n",
        "  def sigmoid(self, x):\n",
        "    return 1 / (1 + np.exp(-x))"
      ],
      "metadata": {
        "id": "8U9rTAgxrdP1"
      },
      "execution_count": null,
      "outputs": []
    },
    {
      "cell_type": "code",
      "source": [
        "model = MLP(eta=0.03, epoch=10000)\n",
        "model.fit(X_train, y_train)\n",
        "\n",
        "plt.plot(model.error)\n",
        "plt.xlabel('Epochs')\n",
        "plt.ylabel('Error (MSE)')\n",
        "plt.title('Training Error')\n",
        "plt.show()\n",
        "\n",
        "y_pred = model.predict(X_test)\n",
        "mse = np.mean((y_test - y_pred) ** 2)\n",
        "print(f\"MSE is : {mse}\")"
      ],
      "metadata": {
        "colab": {
          "base_uri": "https://localhost:8080/",
          "height": 490
        },
        "id": "Ib-a-452rwVd",
        "outputId": "297c4377-11a1-4de7-ccd2-ea3582dcc678"
      },
      "execution_count": null,
      "outputs": [
        {
          "output_type": "display_data",
          "data": {
            "text/plain": [
              "<Figure size 640x480 with 1 Axes>"
            ],
            "image/png": "[encoded data removed]"
          },
          "metadata": {}
        },
        {
          "output_type": "stream",
          "name": "stdout",
          "text": [
            "MSE is : 0.012872441006930984\n"
          ]
        }
      ]
    }
  ]
}