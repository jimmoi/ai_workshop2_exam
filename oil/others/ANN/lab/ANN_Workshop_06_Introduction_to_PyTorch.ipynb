{
  "nbformat": 4,
  "nbformat_minor": 0,
  "metadata": {
    "colab": {
      "provenance": [],
      "toc_visible": true
    },
    "kernelspec": {
      "name": "python3",
      "display_name": "Python 3"
    },
    "language_info": {
      "name": "python"
    }
  },
  "cells": [
    {
      "cell_type": "markdown",
      "metadata": {
        "id": "brsHNql9_uYE"
      },
      "source": [
        "# Tensor Basics\n",
        "This section covers:\n",
        "* Converting NumPy arrays to PyTorch tensors\n",
        "* Creating tensors from scratch\n",
        "\n",
        "## Perform standard imports"
      ]
    },
    {
      "cell_type": "code",
      "execution_count": null,
      "metadata": {
        "id": "-H9ZIPc2_uYG"
      },
      "outputs": [],
      "source": [
        "import torch"
      ]
    },
    {
      "cell_type": "markdown",
      "metadata": {
        "id": "YEydeLdU_uYH"
      },
      "source": [
        "Confirm you're using PyTorch version 1.1.0"
      ]
    },
    {
      "cell_type": "code",
      "execution_count": null,
      "metadata": {
        "id": "XPjSUtyq_uYH",
        "colab": {
          "base_uri": "https://localhost:8080/",
          "height": 36
        },
        "outputId": "22bf82d6-51d4-4a27-9494-6ea66c0b22cb"
      },
      "outputs": [
        {
          "output_type": "execute_result",
          "data": {
            "text/plain": [
              "'2.3.1+cu121'"
            ],
            "application/vnd.google.colaboratory.intrinsic+json": {
              "type": "string"
            }
          },
          "metadata": {},
          "execution_count": 2
        }
      ],
      "source": [
        "torch.__version__"
      ]
    },
    {
      "cell_type": "markdown",
      "metadata": {
        "id": "wnmgxH3T_uYI"
      },
      "source": [
        "## Converting NumPy arrays to PyTorch tensors\n",
        "A <a href='https://pytorch.org/docs/stable/tensors.html'><strong><tt>torch.Tensor</tt></strong></a> is a multi-dimensional matrix containing elements of a single data type.<br>\n",
        "Calculations between tensors can only happen if the tensors share the same dtype.<br>\n",
        "In some cases tensors are used as a replacement for NumPy to use the power of GPUs (more on this later)."
      ]
    },
    {
      "cell_type": "code",
      "execution_count": null,
      "metadata": {
        "id": "BuuoggOR_uYI",
        "colab": {
          "base_uri": "https://localhost:8080/"
        },
        "outputId": "7fce5cff-3efc-4eb5-9eaf-3339cb604961"
      },
      "outputs": [
        {
          "output_type": "stream",
          "name": "stdout",
          "text": [
            "[1. 2. 3. 4. 5.]\n",
            "float64\n",
            "<class 'numpy.ndarray'>\n"
          ]
        }
      ],
      "source": [
        "import numpy as np\n",
        "\n",
        "arr = np.array([1,2,3,4,5.0])\n",
        "print(arr)\n",
        "print(arr.dtype)\n",
        "print(type(arr))"
      ]
    },
    {
      "cell_type": "code",
      "execution_count": null,
      "metadata": {
        "id": "lfdIUJ-k_uYI",
        "colab": {
          "base_uri": "https://localhost:8080/"
        },
        "outputId": "40e1a5c7-c654-45a1-e864-47ad9d459de3"
      },
      "outputs": [
        {
          "output_type": "stream",
          "name": "stdout",
          "text": [
            "tensor([1., 2., 3., 4., 5.], dtype=torch.float64)\n",
            "torch.float64\n",
            "<class 'torch.Tensor'>\n",
            "torch.DoubleTensor\n"
          ]
        }
      ],
      "source": [
        "x = torch.from_numpy(arr)\n",
        "\n",
        "print(x)\n",
        "print(x.dtype)\n",
        "\n",
        "# Print the tensor object type\n",
        "print(type(x))\n",
        "print(x.type()) # this is more specific!"
      ]
    },
    {
      "cell_type": "code",
      "execution_count": null,
      "metadata": {
        "id": "g3eh4WCc_uYI",
        "colab": {
          "base_uri": "https://localhost:8080/"
        },
        "outputId": "6f48b575-619c-449e-b865-b5af406aa15a"
      },
      "outputs": [
        {
          "output_type": "stream",
          "name": "stdout",
          "text": [
            "tensor([1., 2., 3., 4., 5.], dtype=torch.float64)\n",
            "torch.float64\n",
            "<class 'torch.Tensor'>\n",
            "torch.DoubleTensor\n"
          ]
        }
      ],
      "source": [
        "x = torch.as_tensor(arr)\n",
        "\n",
        "print(x)\n",
        "print(x.dtype)\n",
        "\n",
        "# Print the tensor object type\n",
        "print(type(x))\n",
        "print(x.type()) # this is more specific!"
      ]
    },
    {
      "cell_type": "code",
      "source": [
        "#2D array\n",
        "arr = np.array([[1,2,3,4,5.0], [6,7,8,9,10]])\n",
        "x = torch.from_numpy(arr)\n",
        "\n",
        "print(x)\n",
        "print(x.dtype)\n",
        "\n",
        "# Print the tensor object type\n",
        "print(type(x))\n",
        "print(x.type()) # this is more specific!"
      ],
      "metadata": {
        "id": "SBBfIB77xsNh",
        "colab": {
          "base_uri": "https://localhost:8080/"
        },
        "outputId": "55bd042e-3186-44da-9d6a-e8403c8e5a97"
      },
      "execution_count": null,
      "outputs": [
        {
          "output_type": "stream",
          "name": "stdout",
          "text": [
            "tensor([[ 1.,  2.,  3.,  4.,  5.],\n",
            "        [ 6.,  7.,  8.,  9., 10.]], dtype=torch.float64)\n",
            "torch.float64\n",
            "<class 'torch.Tensor'>\n",
            "torch.DoubleTensor\n"
          ]
        }
      ]
    },
    {
      "cell_type": "markdown",
      "metadata": {
        "id": "ox-tk7Zy_uYJ"
      },
      "source": [
        "<h2><a href='https://pytorch.org/docs/stable/tensors.html'>Tensor Datatypes</a></h2>\n",
        "<table style=\"display: inline-block\">\n",
        "<tr><th>TYPE</th><th>NAME</th><th>EQUIVALENT</th><th>TENSOR TYPE</th></tr>\n",
        "<tr><td>32-bit integer (signed)</td><td>torch.int32</td><td>torch.int</td><td>IntTensor</td></tr>\n",
        "<tr><td>64-bit integer (signed)</td><td>torch.int64</td><td>torch.long</td><td>LongTensor</td></tr>\n",
        "<tr><td>16-bit integer (signed)</td><td>torch.int16</td><td>torch.short</td><td>ShortTensor</td></tr>\n",
        "<tr><td>32-bit floating point</td><td>torch.float32</td><td>torch.float</td><td>FloatTensor</td></tr>\n",
        "<tr><td>64-bit floating point</td><td>torch.float64</td><td>torch.double</td><td>DoubleTensor</td></tr>\n",
        "<tr><td>16-bit floating point</td><td>torch.float16</td><td>torch.half</td><td>HalfTensor</td></tr>\n",
        "<tr><td>8-bit integer (signed)</td><td>torch.int8</td><td></td><td>CharTensor</td></tr>\n",
        "<tr><td>8-bit integer (unsigned)</td><td>torch.uint8</td><td></td><td>ByteTensor</td></tr></table>"
      ]
    },
    {
      "cell_type": "markdown",
      "metadata": {
        "collapsed": true,
        "id": "rNeBQdPAD6lb"
      },
      "source": [
        "___\n",
        "# Tensor Operations\n",
        "This section covers:\n",
        "* Indexing and slicing\n",
        "* Reshaping tensors (tensor views)\n",
        "* Tensor arithmetic and basic operations\n",
        "* Dot products\n",
        "* Matrix multiplication\n",
        "* Additional, more advanced operations\n",
        "\n",
        "## Perform standard imports"
      ]
    },
    {
      "cell_type": "code",
      "execution_count": null,
      "metadata": {
        "id": "jAPLq38yD6ld"
      },
      "outputs": [],
      "source": [
        "import torch\n",
        "import numpy as np"
      ]
    },
    {
      "cell_type": "markdown",
      "metadata": {
        "id": "zs19gjP8D6le"
      },
      "source": [
        "## Indexing and slicing\n",
        "Extracting specific values from a tensor works just the same as with NumPy arrays<br>"
      ]
    },
    {
      "cell_type": "code",
      "source": [
        "torch.arange(6)"
      ],
      "metadata": {
        "id": "5mN6eZToRbKo",
        "colab": {
          "base_uri": "https://localhost:8080/"
        },
        "outputId": "206a5380-5384-4e1c-d371-b644bbfe18a2"
      },
      "execution_count": null,
      "outputs": [
        {
          "output_type": "execute_result",
          "data": {
            "text/plain": [
              "tensor([0, 1, 2, 3, 4, 5])"
            ]
          },
          "metadata": {},
          "execution_count": 8
        }
      ]
    },
    {
      "cell_type": "code",
      "execution_count": null,
      "metadata": {
        "scrolled": true,
        "id": "-N9N38faD6le",
        "colab": {
          "base_uri": "https://localhost:8080/"
        },
        "outputId": "4f2cc3aa-3c82-4e85-e1c2-5ac5df602506"
      },
      "outputs": [
        {
          "output_type": "stream",
          "name": "stdout",
          "text": [
            "tensor([[0, 1],\n",
            "        [2, 3],\n",
            "        [4, 5]])\n"
          ]
        }
      ],
      "source": [
        "x = torch.arange(6).reshape(3,2)\n",
        "print(x)"
      ]
    },
    {
      "cell_type": "markdown",
      "metadata": {
        "id": "E5bpG64UD6lf"
      },
      "source": [
        "## Reshape tensors with <tt>.view()</tt>\n",
        "<a href='https://pytorch.org/docs/master/tensors.html#torch.Tensor.view'><strong><tt>view()</tt></strong></a> and <a href='https://pytorch.org/docs/master/torch.html#torch.reshape'><strong><tt>reshape()</tt></strong></a> do essentially the same thing by returning a reshaped tensor without changing the original tensor in place.<br>\n",
        "There's a good discussion of the differences <a href='https://stackoverflow.com/questions/49643225/whats-the-difference-between-reshape-and-view-in-pytorch'>here</a>."
      ]
    },
    {
      "cell_type": "code",
      "execution_count": null,
      "metadata": {
        "id": "PB7u8NrtD6lf"
      },
      "outputs": [],
      "source": [
        "x = torch.arange(10)\n",
        "print(x)"
      ]
    },
    {
      "cell_type": "code",
      "execution_count": null,
      "metadata": {
        "id": "W7W3iH5ID6lf"
      },
      "outputs": [],
      "source": [
        "x.view(2,5)"
      ]
    },
    {
      "cell_type": "code",
      "source": [
        "x.reshape(2,5)"
      ],
      "metadata": {
        "id": "qb-85pP3GSXA"
      },
      "execution_count": null,
      "outputs": []
    },
    {
      "cell_type": "code",
      "execution_count": null,
      "metadata": {
        "id": "5qGvcxHPD6lg"
      },
      "outputs": [],
      "source": [
        "# x is unchanged\n",
        "x"
      ]
    },
    {
      "cell_type": "markdown",
      "metadata": {
        "id": "_NfILm7tD6lh"
      },
      "source": [
        "## Tensor Arithmetic\n",
        "Adding tensors can be performed a few different ways depending on the desired result.<br>\n",
        "\n",
        "As a simple expression:"
      ]
    },
    {
      "cell_type": "code",
      "execution_count": null,
      "metadata": {
        "id": "CwFpBWiMD6lh"
      },
      "outputs": [],
      "source": [
        "a = torch.tensor([1,2,3], dtype=torch.float)\n",
        "b = torch.tensor([4,5,6], dtype=torch.float)\n",
        "print(a + b)"
      ]
    },
    {
      "cell_type": "markdown",
      "metadata": {
        "id": "jdUMrpABD6lh"
      },
      "source": [
        "As arguments passed into a torch operation:"
      ]
    },
    {
      "cell_type": "code",
      "execution_count": null,
      "metadata": {
        "id": "Sv7CvgZzD6li"
      },
      "outputs": [],
      "source": [
        "print(torch.add(a, b))"
      ]
    },
    {
      "cell_type": "markdown",
      "metadata": {
        "id": "K3SYHfRpD6li"
      },
      "source": [
        "With an output tensor passed in as an argument:"
      ]
    },
    {
      "cell_type": "code",
      "execution_count": null,
      "metadata": {
        "id": "fddu2VZOD6li"
      },
      "outputs": [],
      "source": [
        "result = torch.empty(3)\n",
        "torch.add(a, b, out=result)  # equivalent to result=torch.add(a,b)\n",
        "print(result)"
      ]
    },
    {
      "cell_type": "markdown",
      "metadata": {
        "id": "nHYhE7RsD6li"
      },
      "source": [
        "Changing a tensor in-place"
      ]
    },
    {
      "cell_type": "code",
      "execution_count": null,
      "metadata": {
        "id": "xH6upzCyD6li"
      },
      "outputs": [],
      "source": [
        "a.add_(b)  # equivalent to a=torch.add(a,b)\n",
        "print(a)"
      ]
    },
    {
      "cell_type": "markdown",
      "metadata": {
        "id": "SlJ-F4b_D6lq"
      },
      "source": [
        "<div class=\"alert alert-info\"><strong>NOTE:</strong> Any operation that changes a tensor in-place is post-fixed with an underscore _.\n",
        "    <br>In the above example: <tt>a.add_(b)</tt> changed <tt>a</tt>.</div>"
      ]
    },
    {
      "cell_type": "markdown",
      "metadata": {
        "id": "ursDpOUpD6lq"
      },
      "source": [
        "### Basic Tensor Operations\n",
        "<table style=\"display: inline-block\">\n",
        "<caption style=\"text-align: center\"><strong>Arithmetic</strong></caption>\n",
        "<tr><th>OPERATION</th><th>FUNCTION</th><th>DESCRIPTION</th></tr>\n",
        "<tr><td>a + b</td><td>a.add(b)</td><td>element wise addition</td></tr>\n",
        "<tr><td>a - b</td><td>a.sub(b)</td><td>subtraction</td></tr>\n",
        "<tr><td>a * b</td><td>a.mul(b)</td><td>multiplication</td></tr>\n",
        "<tr><td>a / b</td><td>a.div(b)</td><td>division</td></tr>\n",
        "<tr><td>a % b</td><td>a.fmod(b)</td><td>modulo (remainder after division)</td></tr>\n",
        "<tr><td>a<sup>b</sup></td><td>a.pow(b)</td><td>power</td></tr>\n",
        "<tr><td>&nbsp;</td><td></td><td></td></tr>\n",
        "</table>"
      ]
    },
    {
      "cell_type": "markdown",
      "metadata": {
        "id": "fIfDLf5BD6lq"
      },
      "source": [
        "<table style=\"display: inline-block\">\n",
        "<caption style=\"text-align: center\"><strong>Monomial Operations</strong></caption>\n",
        "<tr><th>OPERATION</th><th>FUNCTION</th><th>DESCRIPTION</th></tr>\n",
        "<tr><td>|a|</td><td>torch.abs(a)</td><td>absolute value</td></tr>\n",
        "<tr><td>1/a</td><td>torch.reciprocal(a)</td><td>reciprocal</td></tr>\n",
        "<tr><td>$\\sqrt{a}$</td><td>torch.sqrt(a)</td><td>square root</td></tr>\n",
        "<tr><td>log(a)</td><td>torch.log(a)</td><td>natural log</td></tr>\n",
        "<tr><td>e<sup>a</sup></td><td>torch.exp(a)</td><td>exponential</td></tr>\n",
        "<tr><td>12.34  ==>  12.</td><td>torch.trunc(a)</td><td>truncated integer</td></tr>\n",
        "<tr><td>12.34  ==>  0.34</td><td>torch.frac(a)</td><td>fractional component</td></tr>\n",
        "</table>"
      ]
    },
    {
      "cell_type": "markdown",
      "metadata": {
        "id": "R4RgxwvpD6lq"
      },
      "source": [
        "<table style=\"display: inline-block\">\n",
        "<caption style=\"text-align: center\"><strong>Trigonometry</strong></caption>\n",
        "<tr><th>OPERATION</th><th>FUNCTION</th><th>DESCRIPTION</th></tr>\n",
        "<tr><td>sin(a)</td><td>torch.sin(a)</td><td>sine</td></tr>\n",
        "<tr><td>cos(a)</td><td>torch.sin(a)</td><td>cosine</td></tr>\n",
        "<tr><td>tan(a)</td><td>torch.sin(a)</td><td>tangent</td></tr>\n",
        "<tr><td>arcsin(a)</td><td>torch.asin(a)</td><td>arc sine</td></tr>\n",
        "<tr><td>arccos(a)</td><td>torch.acos(a)</td><td>arc cosine</td></tr>\n",
        "<tr><td>arctan(a)</td><td>torch.atan(a)</td><td>arc tangent</td></tr>\n",
        "<tr><td>sinh(a)</td><td>torch.sinh(a)</td><td>hyperbolic sine</td></tr>\n",
        "<tr><td>cosh(a)</td><td>torch.cosh(a)</td><td>hyperbolic cosine</td></tr>\n",
        "<tr><td>tanh(a)</td><td>torch.tanh(a)</td><td>hyperbolic tangent</td></tr>\n",
        "</table>"
      ]
    },
    {
      "cell_type": "markdown",
      "metadata": {
        "id": "ovrwTbTED6lq"
      },
      "source": [
        "<table style=\"display: inline-block\">\n",
        "<caption style=\"text-align: center\"><strong>Summary Statistics</strong></caption>\n",
        "<tr><th>OPERATION</th><th>FUNCTION</th><th>DESCRIPTION</th></tr>\n",
        "<tr><td>$\\sum a$</td><td>torch.sum(a)</td><td>sum</td></tr>\n",
        "<tr><td>$\\bar a$</td><td>torch.mean(a)</td><td>mean</td></tr>\n",
        "<tr><td>a<sub>max</sub></td><td>torch.max(a)</td><td>maximum</td></tr>\n",
        "<tr><td>a<sub>min</sub></td><td>torch.min(a)</td><td>minimum</td></tr>\n",
        "<tr><td colspan=\"3\">torch.max(a,b) returns a tensor of size a<br>containing the element wise max between a and b</td></tr>\n",
        "</table>"
      ]
    },
    {
      "cell_type": "markdown",
      "metadata": {
        "id": "V59j0kzoD6lr"
      },
      "source": [
        "<div class=\"alert alert-info\"><strong>NOTE:</strong> Most arithmetic operations require float values. Those that do work with integers return integer tensors.<br>\n",
        "For example, <tt>torch.div(a,b)</tt> performs floor division (truncates the decimal) for integer types, and classic division for floats.</div>"
      ]
    },
    {
      "cell_type": "markdown",
      "metadata": {
        "id": "ekbm1XGsD6lr"
      },
      "source": [
        "#### Use the space below to experiment with different operations"
      ]
    },
    {
      "cell_type": "code",
      "execution_count": null,
      "metadata": {
        "id": "f8WUSxOqD6lr"
      },
      "outputs": [],
      "source": [
        "a = torch.tensor([1,2,3], dtype=torch.float)\n",
        "b = torch.tensor([4,5,6], dtype=torch.float)"
      ]
    },
    {
      "cell_type": "code",
      "execution_count": null,
      "metadata": {
        "id": "ywX1TmolD6lr"
      },
      "outputs": [],
      "source": [
        "#min, max, mean, sum\n",
        "\n"
      ]
    },
    {
      "cell_type": "markdown",
      "metadata": {
        "id": "h5xcLMsMD6lr"
      },
      "source": [
        "## Dot products\n",
        "A <a href='https://en.wikipedia.org/wiki/Dot_product'>dot product</a> is the sum of the products of the corresponding entries of two 1D tensors. If the tensors are both vectors, the dot product is given as:<br>\n",
        "\n",
        "$\\begin{bmatrix} a & b & c \\end{bmatrix} \\;\\cdot\\; \\begin{bmatrix} d & e & f \\end{bmatrix} = ad + be + cf$\n",
        "\n",
        "If the tensors include a column vector, then the dot product is the sum of the result of the multiplied matrices. For example:<br>\n",
        "$\\begin{bmatrix} a & b & c \\end{bmatrix} \\;\\cdot\\; \\begin{bmatrix} d \\\\ e \\\\ f \\end{bmatrix} = ad + be + cf$<br><br>\n",
        "Dot products can be expressed as <a href='https://pytorch.org/docs/stable/torch.html#torch.dot'><strong><tt>torch.dot(a,b)</tt></strong></a> or `a.dot(b)` or `b.dot(a)`"
      ]
    },
    {
      "cell_type": "code",
      "execution_count": null,
      "metadata": {
        "scrolled": true,
        "id": "-vKbQD-ID6lr"
      },
      "outputs": [],
      "source": [
        "a = torch.tensor([1,2,3], dtype=torch.float)\n",
        "b = torch.tensor([4,5,6], dtype=torch.float)\n",
        "print(a.mul(b)) # element-wise multiplication\n",
        "print(a.dot(b))"
      ]
    },
    {
      "cell_type": "markdown",
      "metadata": {
        "id": "4l_ofMj9D6ls"
      },
      "source": [
        "<div class=\"alert alert-info\"><strong>NOTE:</strong> There's a slight difference between <tt>torch.dot()</tt> and <tt>numpy.dot()</tt>. While <tt>torch.dot()</tt> only accepts 1D arguments and returns a dot product, <tt>numpy.dot()</tt> also accepts 2D arguments and performs matrix multiplication. We show matrix multiplication below.</div>"
      ]
    },
    {
      "cell_type": "markdown",
      "metadata": {
        "id": "mgLEZmEeD6ls"
      },
      "source": [
        "## Matrix multiplication\n",
        "2D <a href='https://en.wikipedia.org/wiki/Matrix_multiplication'>Matrix multiplication</a> is possible when the number of columns in tensor <strong><tt>A</tt></strong> matches the number of rows in tensor <strong><tt>B</tt></strong>. In this case, the product of tensor <strong><tt>A</tt></strong> with size $(x,y)$ and tensor <strong><tt>B</tt></strong> with size $(y,z)$ results in a tensor of size $(x,z)$\n",
        "<div>\n",
        "\n",
        "$\\begin{bmatrix} a & b & c \\\\\n",
        "d & e & f \\end{bmatrix} \\;\\times\\; \\begin{bmatrix} m & n \\\\ p & q \\\\ r & s \\end{bmatrix} = \\begin{bmatrix} (am+bp+cr) & (an+bq+cs) \\\\\n",
        "(dm+ep+fr) & (dn+eq+fs) \\end{bmatrix}$</div></div>\n",
        "\n",
        "Matrix multiplication can be computed using <a href='https://pytorch.org/docs/stable/torch.html#torch.mm'><strong><tt>torch.mm(a,b)</tt></strong></a> or `a.mm(b)` or `a @ b`"
      ]
    },
    {
      "cell_type": "code",
      "execution_count": null,
      "metadata": {
        "id": "Ca4qNKBwD6ls"
      },
      "outputs": [],
      "source": [
        "a = torch.tensor([[0,2,4],[1,3,5]], dtype=torch.float)\n",
        "b = torch.tensor([[6,7],[8,9],[10,11]], dtype=torch.float)\n",
        "\n",
        "print('a: ',a.size())\n",
        "print('b: ',b.size())"
      ]
    },
    {
      "cell_type": "code",
      "execution_count": null,
      "metadata": {
        "id": "BxnIDGCtD6ls"
      },
      "outputs": [],
      "source": [
        "print('a x b: \\n',torch.mm(a,b))"
      ]
    },
    {
      "cell_type": "code",
      "execution_count": null,
      "metadata": {
        "id": "b1jYZ5JkD6ls"
      },
      "outputs": [],
      "source": [
        "print('a x b: \\n',a.mm(b))"
      ]
    },
    {
      "cell_type": "code",
      "execution_count": null,
      "metadata": {
        "id": "ING2pasYD6ls"
      },
      "outputs": [],
      "source": [
        "print('a x b: \\n',a @ b)"
      ]
    },
    {
      "cell_type": "code",
      "source": [
        "# Create tensor A with size of 5x4.\n",
        "# Create tensor B with column size 5.\n",
        "# Compute the product of tensor A and tensor B.\n",
        "\n",
        "\n"
      ],
      "metadata": {
        "id": "3dmDsHZGyEgt"
      },
      "execution_count": null,
      "outputs": []
    },
    {
      "cell_type": "markdown",
      "metadata": {
        "id": "-OGxaB5W9qoi"
      },
      "source": [
        "___\n",
        "# PyTorch Gradients\n",
        "This section covers the PyTorch <a href='https://pytorch.org/docs/stable/autograd.html'><strong><tt>autograd</tt></strong></a> implementation of gradient descent. Tools include:\n",
        "* <a href='https://pytorch.org/docs/stable/autograd.html#torch.autograd.backward'><tt><strong>torch.autograd.backward()</strong></tt></a>\n",
        "* <a href='https://pytorch.org/docs/stable/autograd.html#torch.autograd.grad'><tt><strong>torch.autograd.grad()</strong></tt></a>\n",
        "\n",
        "\n",
        "<div class=\"alert alert-info\"><h3>Additional Resources:</h3>\n",
        "<strong>\n",
        "<a href='https://pytorch.org/docs/stable/notes/autograd.html'>PyTorch Notes:</a></strong>&nbsp;&nbsp;<font color=black>Autograd mechanics</font></div>"
      ]
    },
    {
      "cell_type": "markdown",
      "metadata": {
        "id": "IZAyP71W9qoj"
      },
      "source": [
        "## Autograd - Automatic Differentiation\n",
        "In previous sections we created tensors and performed a variety of operations on them, but we did nothing to store the sequence of operations, or to apply the derivative of a completed function.\n",
        "\n",
        "In this section we'll introduce the concept of the <em>dynamic computational graph</em> which is comprised of all the <em>Tensor</em> objects in the network, as well as the <em>Functions</em> used to create them. Note that only the input Tensors we create ourselves will not have associated Function objects.\n",
        "\n",
        "The PyTorch <a href='https://pytorch.org/docs/stable/autograd.html'><strong><tt>autograd</tt></strong></a> package provides automatic differentiation for all operations on Tensors. This is because operations become attributes of the tensors themselves. When a Tensor's <tt>.requires_grad</tt> attribute is set to True, it starts to track all operations on it. When an operation finishes you can call <tt>.backward()</tt> and have all the gradients computed automatically. The gradient for a tensor will be accumulated into its <tt>.grad</tt> attribute.\n",
        "    \n",
        "Let's see this in practice."
      ]
    },
    {
      "cell_type": "markdown",
      "metadata": {
        "id": "Q9S7_fbO9qok"
      },
      "source": [
        "## Back-propagation on one step\n",
        "We'll start by applying a single polynomial function $y = f(x)$ to tensor $x$. Then we'll backprop and print the gradient $\\frac {dy} {dx}$.\n",
        "\n",
        "$\\begin{split}Function:\\quad y &= 2x^4 + x^3 + 3x^2 + 5x + 1 \\\\\n",
        "Derivative:\\quad y' &= 8x^3 + 3x^2 + 6x + 5\\end{split}$\n",
        "\n",
        "#### Step 1. Perform standard imports"
      ]
    },
    {
      "cell_type": "code",
      "execution_count": null,
      "metadata": {
        "id": "HjWbDMwg9qok"
      },
      "outputs": [],
      "source": [
        "import torch"
      ]
    },
    {
      "cell_type": "markdown",
      "metadata": {
        "id": "jd6H96Nj9qok"
      },
      "source": [
        "#### Step 2. Create a tensor with <tt>requires_grad</tt> set to True\n",
        "This sets up computational tracking on the tensor."
      ]
    },
    {
      "cell_type": "code",
      "execution_count": null,
      "metadata": {
        "id": "VFO9g0sg9qol",
        "colab": {
          "base_uri": "https://localhost:8080/"
        },
        "outputId": "75c2fad1-2907-4c18-a1c8-98370be6c279"
      },
      "outputs": [
        {
          "output_type": "stream",
          "name": "stdout",
          "text": [
            "tensor(2., requires_grad=True)\n",
            "None\n"
          ]
        }
      ],
      "source": [
        "x = torch.tensor(2.0, requires_grad=True)\n",
        "print(x)\n",
        "print(x.grad) # gradient has not yet been computed"
      ]
    },
    {
      "cell_type": "markdown",
      "metadata": {
        "id": "pw_xD5009qol"
      },
      "source": [
        "#### Step 3. Define a function"
      ]
    },
    {
      "cell_type": "code",
      "execution_count": null,
      "metadata": {
        "id": "u2l-yAuI9qol",
        "colab": {
          "base_uri": "https://localhost:8080/"
        },
        "outputId": "3615f39f-124e-4c36-a339-6165ace7d093"
      },
      "outputs": [
        {
          "output_type": "stream",
          "name": "stdout",
          "text": [
            "tensor(63., grad_fn=<AddBackward0>)\n"
          ]
        }
      ],
      "source": [
        "y = 2*x**4 + x**3 + 3*x**2 + 5*x + 1\n",
        "\n",
        "print(y)"
      ]
    },
    {
      "cell_type": "markdown",
      "metadata": {
        "id": "QMYckjx_9qol"
      },
      "source": [
        "Since $y$ was created as a result of an operation, it has an associated gradient function accessible as <tt>y.grad_fn</tt><br>\n",
        "The calculation of $y$ is done as:<br>\n",
        "\n",
        "$\\quad y=2(2)^4+(2)^3+3(2)^2+5(2)+1 = 32+8+12+10+1 = 63$\n",
        "\n",
        "This is the value of $y$ when $x=2$.\n",
        "\n",
        "#### Step 4. Backprop"
      ]
    },
    {
      "cell_type": "code",
      "execution_count": null,
      "metadata": {
        "id": "Nbq7gUeO9qom"
      },
      "outputs": [],
      "source": [
        "#perform backpropagation and compute all gradients\n",
        "y.backward()"
      ]
    },
    {
      "cell_type": "markdown",
      "metadata": {
        "id": "I92Fy8uU9qom"
      },
      "source": [
        "#### Step 5. Display the resulting gradient"
      ]
    },
    {
      "cell_type": "code",
      "execution_count": null,
      "metadata": {
        "id": "PrSlZWWl9qom",
        "colab": {
          "base_uri": "https://localhost:8080/"
        },
        "outputId": "3783e450-90ab-4442-9fc8-d2953575df1a"
      },
      "outputs": [
        {
          "output_type": "stream",
          "name": "stdout",
          "text": [
            "tensor(93.)\n"
          ]
        }
      ],
      "source": [
        "print(x.grad)"
      ]
    },
    {
      "cell_type": "markdown",
      "metadata": {
        "id": "ZtJ6_s4M9qom"
      },
      "source": [
        "Note that <tt>x.grad</tt> is an attribute of tensor $x$, so we don't use parentheses. The computation is the result of<br>\n",
        "\n",
        "$\\quad y'=8(2)^3+3(2)^2+6(2)+5 = 64+12+12+5 = 93$\n",
        "\n",
        "This is the slope of the polynomial at the point $(2,63)$.\n",
        "\n",
        "## Back-propagation on multiple steps\n",
        "Now let's do something more complex, involving layers $y$ and $z$ between $x$ and our output layer $out$.\n",
        "#### 1. Create a tensor"
      ]
    },
    {
      "cell_type": "code",
      "source": [
        "# tensor\n",
        "  # (layer, row, column) -> img r g b (3, 256, 256)\n",
        "  # (3, 2) -> 0 layer, 3 row, 2 column"
      ],
      "metadata": {
        "id": "1ue1JnsgfT_L"
      },
      "execution_count": null,
      "outputs": []
    },
    {
      "cell_type": "code",
      "execution_count": null,
      "metadata": {
        "id": "DSY-Ltk99qom",
        "colab": {
          "base_uri": "https://localhost:8080/"
        },
        "outputId": "fb1c46f7-898f-4cd8-a7ee-eb4343f3a168"
      },
      "outputs": [
        {
          "output_type": "stream",
          "name": "stdout",
          "text": [
            "tensor([[1., 2., 3.],\n",
            "        [3., 2., 1.]], requires_grad=True)\n"
          ]
        }
      ],
      "source": [
        "x = torch.tensor([[1.,2,3],[3,2,1]], requires_grad=True)\n",
        "print(x)"
      ]
    },
    {
      "cell_type": "markdown",
      "metadata": {
        "id": "-mDYQ-_o9qom"
      },
      "source": [
        "#### 2. Create the first layer with $y = 3x+2$"
      ]
    },
    {
      "cell_type": "code",
      "execution_count": null,
      "metadata": {
        "id": "4wvazyQC9qom",
        "colab": {
          "base_uri": "https://localhost:8080/"
        },
        "outputId": "601f9982-a427-4f5f-e3fc-746a8b14ba35"
      },
      "outputs": [
        {
          "output_type": "stream",
          "name": "stdout",
          "text": [
            "tensor([[ 5.,  8., 11.],\n",
            "        [11.,  8.,  5.]], grad_fn=<AddBackward0>)\n"
          ]
        }
      ],
      "source": [
        "y = 3*x + 2\n",
        "print(y)"
      ]
    },
    {
      "cell_type": "markdown",
      "metadata": {
        "id": "I6Wx0ywA9qom"
      },
      "source": [
        "#### 3. Create the second layer with $z = 2y^2$"
      ]
    },
    {
      "cell_type": "code",
      "execution_count": null,
      "metadata": {
        "id": "UrTc5tKH9qom",
        "colab": {
          "base_uri": "https://localhost:8080/"
        },
        "outputId": "032c50bd-9fcc-49c1-b731-8e8ee292ef90"
      },
      "outputs": [
        {
          "output_type": "stream",
          "name": "stdout",
          "text": [
            "tensor([[ 50., 128., 242.],\n",
            "        [242., 128.,  50.]], grad_fn=<MulBackward0>)\n"
          ]
        }
      ],
      "source": [
        "z = 2*y**2\n",
        "print(z)"
      ]
    },
    {
      "cell_type": "markdown",
      "metadata": {
        "id": "VKTXR2li9qom"
      },
      "source": [
        "#### 4. Set the output to be the matrix mean"
      ]
    },
    {
      "cell_type": "code",
      "execution_count": null,
      "metadata": {
        "id": "7Inda8-i9qom",
        "colab": {
          "base_uri": "https://localhost:8080/"
        },
        "outputId": "a41d085f-b126-44e0-a922-d11ec87f68f8"
      },
      "outputs": [
        {
          "output_type": "stream",
          "name": "stdout",
          "text": [
            "tensor(140., grad_fn=<MeanBackward0>)\n"
          ]
        }
      ],
      "source": [
        "out = z.mean()\n",
        "print(out)"
      ]
    },
    {
      "cell_type": "markdown",
      "metadata": {
        "id": "wd25TQ4x9qon"
      },
      "source": [
        "#### 5. Now perform back-propagation to find the gradient of x w.r.t out\n",
        "(If you haven't seen it before, w.r.t. is an abbreviation of <em>with respect to</em>)"
      ]
    },
    {
      "cell_type": "code",
      "execution_count": null,
      "metadata": {
        "id": "YHGf-rWb9qon",
        "colab": {
          "base_uri": "https://localhost:8080/"
        },
        "outputId": "378e4652-8c6f-4fc5-a27f-5f64640ae371"
      },
      "outputs": [
        {
          "output_type": "stream",
          "name": "stdout",
          "text": [
            "tensor([[10., 16., 22.],\n",
            "        [22., 16., 10.]])\n"
          ]
        }
      ],
      "source": [
        "out.backward()\n",
        "print(x.grad)"
      ]
    },
    {
      "cell_type": "markdown",
      "metadata": {
        "id": "j-kaxyZs9qon"
      },
      "source": [
        "You should see a 2x3 matrix. If we call the final <tt>out</tt> tensor \"$o$\", we can calculate the partial derivative of $o$ with respect to $x_i$ as follows:<br>\n",
        "\n",
        "$o = \\frac {1} {6}\\sum_{i=1}^{6} z_i$<br>\n",
        "\n",
        "$z_i = 2(y_i)^2 = 2(3x_i+2)^2$<br>\n",
        "\n",
        "To solve the derivative of $z_i$ we use the <a href='https://en.wikipedia.org/wiki/Chain_rule'>chain rule</a>, where the derivative of $f(g(x)) = f'(g(x))g'(x)$<br>\n",
        "\n",
        "In this case<br>\n",
        "\n",
        "$\\begin{split} f(g(x)) &= 2(g(x))^2, \\quad &f'(g(x)) = 4g(x) \\\\\n",
        "g(x) &= 3x+2, &g'(x) = 3 \\\\\n",
        "\\frac {dz} {dx} &= 4g(x)\\times 3 &= 12(3x+2) \\end{split}$\n",
        "\n",
        "Therefore,<br>\n",
        "\n",
        "$\\frac{\\partial o}{\\partial x_i} = \\frac{1}{6}\\times 12(3x+2)$<br>\n",
        "\n",
        "$\\frac{\\partial o}{\\partial x_i}\\bigr\\rvert_{x_i=1} = 2(3(1)+2) = 10$\n",
        "\n",
        "$\\frac{\\partial o}{\\partial x_i}\\bigr\\rvert_{x_i=2} = 2(3(2)+2) = 16$\n",
        "\n",
        "$\\frac{\\partial o}{\\partial x_i}\\bigr\\rvert_{x_i=3} = 2(3(3)+2) = 22$"
      ]
    },
    {
      "cell_type": "markdown",
      "metadata": {
        "id": "SGYl5M9e9rVL"
      },
      "source": [
        "___\n",
        "# Linear Regression with PyTorch\n",
        "In this section we'll use PyTorch's machine learning model to progressively develop a best-fit line for a given set of data points. Like most linear regression algorithms, we're seeking to minimize the error between our model and the actual data, using a <em>loss function</em> like mean-squared-error.\n"
      ]
    },
    {
      "cell_type": "markdown",
      "metadata": {
        "id": "GNLpLAr09rVN"
      },
      "source": [
        "## Perform standard imports"
      ]
    },
    {
      "cell_type": "code",
      "execution_count": null,
      "metadata": {
        "id": "wc1vplW09rVO"
      },
      "outputs": [],
      "source": [
        "import torch\n",
        "import torch.nn as nn  # we'll use this a lot going forward!\n",
        "\n",
        "import numpy as np\n",
        "import matplotlib.pyplot as plt\n",
        "%matplotlib inline"
      ]
    },
    {
      "cell_type": "markdown",
      "metadata": {
        "id": "wpPQQjMj9rVO"
      },
      "source": [
        "## Create a column matrix of X values\n",
        "We can create tensors right away rather than convert from NumPy arrays."
      ]
    },
    {
      "cell_type": "code",
      "execution_count": null,
      "metadata": {
        "id": "b0UCvoUs9rVO"
      },
      "outputs": [],
      "source": [
        "X = torch.linspace(1,50,50).reshape(-1,1)\n",
        "# X\n",
        "# Equivalent to\n",
        "# X = torch.unsqueeze(torch.linspace(1,50,50), dim=1)"
      ]
    },
    {
      "cell_type": "markdown",
      "metadata": {
        "id": "mqYLN_9a9rVP"
      },
      "source": [
        "## Create a column matrix of y values\n",
        "Here we'll set our own parameters of $\\mathrm {weight} = 2,\\; \\mathrm {bias} = 1$, plus the error amount.<br><strong><tt>y</tt></strong> will have the same shape as <strong><tt>X</tt></strong> and <strong><tt>e</tt></strong>"
      ]
    },
    {
      "cell_type": "code",
      "execution_count": null,
      "metadata": {
        "id": "p05wfrPx9rVQ",
        "colab": {
          "base_uri": "https://localhost:8080/"
        },
        "outputId": "6049bd58-5a3d-4d77-f21d-0e98d479d140"
      },
      "outputs": [
        {
          "output_type": "stream",
          "name": "stdout",
          "text": [
            "torch.Size([50, 1])\n"
          ]
        }
      ],
      "source": [
        "torch.manual_seed(71) # to obtain reproducible results\n",
        "e = torch.randint(-8,9,(50,1),dtype=torch.float)\n",
        "y = 2*X + 1 + e\n",
        "print(y.shape)"
      ]
    },
    {
      "cell_type": "markdown",
      "metadata": {
        "id": "X04u5yd99rVQ"
      },
      "source": [
        "## Plot the results\n",
        "We have to convert tensors to NumPy arrays just for plotting."
      ]
    },
    {
      "cell_type": "code",
      "execution_count": null,
      "metadata": {
        "id": "d9tEXXg09rVQ",
        "colab": {
          "base_uri": "https://localhost:8080/",
          "height": 449
        },
        "outputId": "b2167a52-ec89-4873-b996-de8c11a850c9"
      },
      "outputs": [
        {
          "output_type": "display_data",
          "data": {
            "text/plain": [
              "<Figure size 640x480 with 1 Axes>"
            ],
            "image/png": "[encoded data removed]"
          },
          "metadata": {}
        }
      ],
      "source": [
        "plt.scatter(X.numpy(), y.numpy())\n",
        "plt.ylabel('y')\n",
        "plt.xlabel('x');"
      ]
    },
    {
      "cell_type": "markdown",
      "metadata": {
        "id": "SNihp3Eq9rVQ"
      },
      "source": [
        "Note that when we created tensor $X$, we did <em>not</em> pass <tt>requires_grad=True</tt>. This means that $y$ doesn't have a gradient function, and <tt>y.backward()</tt> won't work. Since PyTorch is not tracking operations, it doesn't know the relationship between $X$ and $y$."
      ]
    },
    {
      "cell_type": "markdown",
      "metadata": {
        "id": "CfcDBMVr9rVQ"
      },
      "source": [
        "## Simple linear model\n",
        "As a quick demonstration we'll show how the built-in <tt>nn.Linear()</tt> model preselects weight and bias values at random."
      ]
    },
    {
      "cell_type": "code",
      "execution_count": null,
      "metadata": {
        "id": "h_bg5sRW9rVR",
        "colab": {
          "base_uri": "https://localhost:8080/"
        },
        "outputId": "18332660-9ff2-4125-b3ac-ee9799ba8643"
      },
      "outputs": [
        {
          "output_type": "stream",
          "name": "stdout",
          "text": [
            "Parameter containing:\n",
            "tensor([[0.1060]], requires_grad=True)\n",
            "Parameter containing:\n",
            "tensor([0.9638], requires_grad=True)\n"
          ]
        }
      ],
      "source": [
        "torch.manual_seed(59)\n",
        "\n",
        "model = nn.Linear(in_features=1, out_features=1)\n",
        "print(model.weight)\n",
        "print(model.bias)"
      ]
    },
    {
      "cell_type": "markdown",
      "metadata": {
        "id": "178e4_Qp9rVR"
      },
      "source": [
        "Without seeing any data, the model sets a random weight of 0.1060 and a bias of 0.9638."
      ]
    },
    {
      "cell_type": "markdown",
      "metadata": {
        "id": "HnTkIstG9rVR"
      },
      "source": [
        "## Model classes\n",
        "PyTorch lets us define models as object classes that can store multiple model layers. In upcoming sections we'll set up several neural network layers, and determine how each layer should perform its forward pass to the next layer. For now, though, we only need a single <tt>linear</tt> layer."
      ]
    },
    {
      "cell_type": "code",
      "execution_count": null,
      "metadata": {
        "id": "a6tyFzN69rVR"
      },
      "outputs": [],
      "source": [
        "class Model(nn.Module):\n",
        "    def __init__(self, in_features, out_features):\n",
        "        super().__init__()\n",
        "        self.linear = nn.Linear(in_features, out_features)\n",
        "\n",
        "    def forward(self, x):\n",
        "        y_pred = self.linear(x)\n",
        "        return y_pred"
      ]
    },
    {
      "cell_type": "markdown",
      "metadata": {
        "id": "FmN2sTkk9rVR"
      },
      "source": [
        "<div class=\"alert alert-info\"><strong>NOTE:</strong> The \"Linear\" model layer used here doesn't really refer to linear regression. Instead, it describes the type of neural network layer employed. Linear layers are also called \"fully connected\" or \"dense\" layers. Going forward our models may contain linear layers, convolutional layers, and more.</div>"
      ]
    },
    {
      "cell_type": "markdown",
      "metadata": {
        "id": "rLoEpH1W9rVR"
      },
      "source": [
        "When <tt>Model</tt> is instantiated, we need to pass in the size (dimensions) of the incoming and outgoing features. For our purposes we'll use (1,1).<br>As above, we can see the initial hyperparameters."
      ]
    },
    {
      "cell_type": "code",
      "execution_count": null,
      "metadata": {
        "id": "SP2bQH2Z9rVS",
        "colab": {
          "base_uri": "https://localhost:8080/"
        },
        "outputId": "281425a3-a517-4a8a-f57c-af42d65dd750"
      },
      "outputs": [
        {
          "output_type": "stream",
          "name": "stdout",
          "text": [
            "Model(\n",
            "  (linear): Linear(in_features=1, out_features=1, bias=True)\n",
            ")\n",
            "Weight: 0.10597813129425049\n",
            "Bias:   0.9637961387634277\n"
          ]
        }
      ],
      "source": [
        "torch.manual_seed(59)\n",
        "model = Model(1, 1)\n",
        "print(model)\n",
        "print('Weight:', model.linear.weight.item())\n",
        "print('Bias:  ', model.linear.bias.item())"
      ]
    },
    {
      "cell_type": "markdown",
      "metadata": {
        "id": "7WUCqp5V9rVS"
      },
      "source": [
        "As models become more complex, it may be better to iterate over all the model parameters:"
      ]
    },
    {
      "cell_type": "code",
      "execution_count": null,
      "metadata": {
        "id": "Rg4qeWY99rVS",
        "colab": {
          "base_uri": "https://localhost:8080/"
        },
        "outputId": "38edf478-772a-4bfb-f157-149103208011"
      },
      "outputs": [
        {
          "output_type": "stream",
          "name": "stdout",
          "text": [
            "linear.weight \t 0.10597813129425049\n",
            "linear.bias \t 0.9637961387634277\n"
          ]
        }
      ],
      "source": [
        "for name, param in model.named_parameters():\n",
        "    print(name, '\\t', param.item())"
      ]
    },
    {
      "cell_type": "markdown",
      "metadata": {
        "id": "BBaJmW4C9rVS"
      },
      "source": [
        "Now let's see the result when we pass a tensor into the model."
      ]
    },
    {
      "cell_type": "code",
      "execution_count": null,
      "metadata": {
        "id": "hPfL_eMb9rVT",
        "colab": {
          "base_uri": "https://localhost:8080/"
        },
        "outputId": "b0f76fd6-a4f2-4bf3-94c2-57c6d2ad4c29"
      },
      "outputs": [
        {
          "output_type": "stream",
          "name": "stdout",
          "text": [
            "tensor([1.1758], grad_fn=<ViewBackward0>)\n"
          ]
        }
      ],
      "source": [
        "x = torch.tensor([2.0])\n",
        "print(model(x))   # equivalent to print(model.forward(x))"
      ]
    },
    {
      "cell_type": "markdown",
      "metadata": {
        "id": "fSWZYS0f9rVT"
      },
      "source": [
        "which is confirmed with $f(x) = (0.1060)(2.0)+(0.9638) = 1.1758$"
      ]
    },
    {
      "cell_type": "markdown",
      "metadata": {
        "id": "iKDbIdsG9rVT"
      },
      "source": [
        "## Plot the initial model\n",
        "We can plot the untrained model against our dataset to get an idea of our starting point."
      ]
    },
    {
      "cell_type": "code",
      "execution_count": null,
      "metadata": {
        "id": "8y1wONGV9rVT",
        "colab": {
          "base_uri": "https://localhost:8080/"
        },
        "outputId": "43ecc495-0caf-4b33-887e-8ee1a7d5d64f"
      },
      "outputs": [
        {
          "output_type": "stream",
          "name": "stdout",
          "text": [
            "[ 1. 50.]\n"
          ]
        }
      ],
      "source": [
        "x1 = np.array([X.min(),X.max()])\n",
        "print(x1)"
      ]
    },
    {
      "cell_type": "code",
      "execution_count": null,
      "metadata": {
        "id": "b9foWytd9rVT",
        "colab": {
          "base_uri": "https://localhost:8080/"
        },
        "outputId": "e1ef938f-8309-46a5-edc0-7a2473d6c6d5"
      },
      "outputs": [
        {
          "output_type": "stream",
          "name": "stdout",
          "text": [
            "Initial weight: 0.10597813, Initial bias: 0.96379614\n",
            "\n",
            "[1.0697743 6.2627025]\n"
          ]
        }
      ],
      "source": [
        "w1,b1 = model.linear.weight.item(), model.linear.bias.item()\n",
        "print(f'Initial weight: {w1:.8f}, Initial bias: {b1:.8f}')\n",
        "print()\n",
        "\n",
        "y1 = x1*w1 + b1\n",
        "print(y1)"
      ]
    },
    {
      "cell_type": "code",
      "execution_count": null,
      "metadata": {
        "id": "QMgtDa5D9rVT",
        "colab": {
          "base_uri": "https://localhost:8080/",
          "height": 472
        },
        "outputId": "5d25d2a0-ecf1-4ca6-b29a-73c3f4efa782"
      },
      "outputs": [
        {
          "output_type": "display_data",
          "data": {
            "text/plain": [
              "<Figure size 640x480 with 1 Axes>"
            ],
            "image/png": "[encoded data removed]"
          },
          "metadata": {}
        }
      ],
      "source": [
        "plt.scatter(X.numpy(), y.numpy())\n",
        "plt.plot(x1,y1,'r')\n",
        "plt.title('Initial Model')\n",
        "plt.ylabel('y')\n",
        "plt.xlabel('x');"
      ]
    },
    {
      "cell_type": "markdown",
      "metadata": {
        "id": "s8istUWM9rVT"
      },
      "source": [
        "## Set the loss function\n",
        "We could write our own function to apply a Mean Squared Error (MSE) that follows<br>\n",
        "\n",
        "$\\begin{split}MSE &= \\frac {1} {n} \\sum_{i=1}^n {(y_i - \\hat y_i)}^2 \\\\\n",
        "&= \\frac {1} {n} \\sum_{i=1}^n {(y_i - (wx_i + b))}^2\\end{split}$<br>\n",
        "\n",
        "Fortunately PyTorch has it built in.<br>\n",
        "<em>By convention, you'll see the variable name \"criterion\" used, but feel free to use something like \"linear_loss_func\" if that's clearer.</em>"
      ]
    },
    {
      "cell_type": "code",
      "execution_count": null,
      "metadata": {
        "id": "AUonfg199rVT"
      },
      "outputs": [],
      "source": [
        "criterion = nn.MSELoss()"
      ]
    },
    {
      "cell_type": "markdown",
      "metadata": {
        "id": "xcvgXPBN9rVU"
      },
      "source": [
        "## Set the optimization\n",
        "Here we'll use <a href='https://en.wikipedia.org/wiki/Stochastic_gradient_descent'>Stochastic Gradient Descent</a> (SGD) with an applied <a href='https://en.wikipedia.org/wiki/Learning_rate'>learning rate</a> (lr) of 0.001. Recall that the learning rate tells the optimizer how much to adjust each parameter on the next round of calculations. Too large a step and we run the risk of overshooting the minimum, causing the algorithm to diverge. Too small and it will take a long time to converge.\n",
        "\n",
        "For more complicated (multivariate) data, you might also consider passing optional <a href='https://en.wikipedia.org/wiki/Stochastic_gradient_descent#Momentum'><tt>momentum</tt></a> and <a href='https://en.wikipedia.org/wiki/Tikhonov_regularization'><tt>weight_decay</tt></a> arguments. Momentum allows the algorithm to \"roll over\" small bumps to avoid local minima that can cause convergence too soon. Weight decay (also called an L2 penalty) applies to biases.\n",
        "\n",
        "For more information, see <a href='https://pytorch.org/docs/stable/optim.html'><strong><tt>torch.optim</tt></strong></a>"
      ]
    },
    {
      "cell_type": "code",
      "execution_count": null,
      "metadata": {
        "id": "UJtRR7Rt9rVU"
      },
      "outputs": [],
      "source": [
        "optimizer = torch.optim.SGD(model.parameters(), lr = 0.001)\n",
        "\n",
        "# You'll sometimes see this as\n",
        "# optimizer = torch.optim.SGD(model.parameters(), lr = 1e-3)"
      ]
    },
    {
      "cell_type": "markdown",
      "metadata": {
        "id": "4HW-l8uW9rVU"
      },
      "source": [
        "## Train the model\n",
        "An <em>epoch</em> is a single pass through the entire dataset. We want to pick a sufficiently large number of epochs to reach a plateau close to our known parameters of $\\mathrm {weight} = 2,\\; \\mathrm {bias} = 1$"
      ]
    },
    {
      "cell_type": "markdown",
      "metadata": {
        "id": "ZnujrzQ19rVU"
      },
      "source": [
        "<div class=\"alert alert-info\"><strong>Let's walk through the steps we're about to take:</strong><br>\n",
        "\n",
        "1. Set a reasonably large number of passes<br>\n",
        "<tt><font color=black>epochs = 50</font></tt><br>\n",
        "2. Create a list to store loss values. This will let us view our progress afterward.<br>\n",
        "<tt><font color=black>losses = []</font></tt><br>\n",
        "<tt><font color=black>for i in range(epochs):</font></tt><br>\n",
        "3. Bump \"i\" so that the printed report starts at 1<br>\n",
        "<tt><font color=black>&nbsp;&nbsp;&nbsp;&nbsp;i+=1</font></tt><br>\n",
        "4. Create a prediction set by running \"X\" through the current model parameters<br>\n",
        "<tt><font color=black>&nbsp;&nbsp;&nbsp;&nbsp;y_pred = model.forward(X)</font></tt><br>\n",
        "5. Calculate the loss<br>\n",
        "<tt><font color=black>&nbsp;&nbsp;&nbsp;&nbsp;loss = criterion(y_pred, y)</font></tt><br>\n",
        "6. Add the loss value to our tracking list<br>\n",
        "<tt><font color=black>&nbsp;&nbsp;&nbsp;&nbsp;losses.append(loss)</font></tt><br>\n",
        "7. Print the current line of results<br>\n",
        "<tt><font color=black>&nbsp;&nbsp;&nbsp;&nbsp;print(f'epoch: {i:2} loss: {loss.item():10.8f}')</font></tt><br>\n",
        "8. Gradients accumulate with every backprop. To prevent compounding we need to reset the stored gradient for each new epoch.<br>\n",
        "<tt><font color=black>&nbsp;&nbsp;&nbsp;&nbsp;optimizer.zero_grad()</font></tt><br>\n",
        "9. Now we can backprop<br>\n",
        "<tt><font color=black>&nbsp;&nbsp;&nbsp;&nbsp;loss.backward()</font></tt><br>\n",
        "10. Finally, we can update the hyperparameters of our model<br>\n",
        "<tt><font color=black>&nbsp;&nbsp;&nbsp;&nbsp;optimizer.step()</font></tt>\n",
        "</div>"
      ]
    },
    {
      "cell_type": "code",
      "execution_count": null,
      "metadata": {
        "scrolled": true,
        "id": "lV-TQVbH9rVU",
        "colab": {
          "base_uri": "https://localhost:8080/"
        },
        "outputId": "204225bc-acae-4fb4-ff44-2d13886fd7ed"
      },
      "outputs": [
        {
          "output_type": "stream",
          "name": "stdout",
          "text": [
            "epoch:  0  loss: 3057.21679688 weight: 0.10597813 bias: 0.96379614\n",
            "epoch:  1  loss: 1588.53063965 weight: 3.33490014 bias: 1.06046367\n",
            "epoch:  2  loss: 830.29992676 weight: 1.01483285 bias: 0.99226284\n",
            "epoch:  3  loss: 438.85217285 weight: 2.68179941 bias: 1.04252183\n",
            "epoch:  4  loss: 236.76144409 weight: 1.48402131 bias: 1.00766504\n",
            "epoch:  5  loss: 132.42912292 weight: 2.34460592 bias: 1.03396463\n",
            "epoch:  6  loss: 78.56572723 weight: 1.72622538 bias: 1.01632178\n",
            "epoch:  7  loss: 50.75775909 weight: 2.17050409 bias: 1.03025162\n",
            "epoch:  8  loss: 36.40123367 weight: 1.85124576 bias: 1.02149546\n",
            "epoch:  9  loss: 28.98922920 weight: 2.08060074 bias: 1.02903891\n",
            "epoch: 10  loss: 25.16238213 weight: 1.91576838 bias: 1.02487016\n",
            "epoch: 11  loss: 23.18647385 weight: 2.03416562 bias: 1.02911627\n",
            "epoch: 12  loss: 22.16612625 weight: 1.94905841 bias: 1.02731562\n",
            "epoch: 13  loss: 21.63911057 weight: 2.01017213 bias: 1.02985907\n",
            "epoch: 14  loss: 21.36677170 weight: 1.96622372 bias: 1.02928054\n",
            "epoch: 15  loss: 21.22591782 weight: 1.99776423 bias: 1.03094459\n",
            "epoch: 16  loss: 21.15294647 weight: 1.97506487 bias: 1.03099668\n",
            "epoch: 17  loss: 21.11500931 weight: 1.99133754 bias: 1.03220642\n",
            "epoch: 18  loss: 21.09517670 weight: 1.97960854 bias: 1.03258383\n",
            "epoch: 19  loss: 21.08468437 weight: 1.98799884 bias: 1.03355861\n",
            "epoch: 20  loss: 21.07901382 weight: 1.98193336 bias: 1.03410351\n",
            "epoch: 21  loss: 21.07583046 weight: 1.98625445 bias: 1.03495669\n",
            "epoch: 22  loss: 21.07393837 weight: 1.98311269 bias: 1.03558779\n",
            "epoch: 23  loss: 21.07270050 weight: 1.98533309 bias: 1.03637791\n",
            "epoch: 24  loss: 21.07181931 weight: 1.98370099 bias: 1.03705311\n",
            "epoch: 25  loss: 21.07110596 weight: 1.98483658 bias: 1.03781021\n",
            "epoch: 26  loss: 21.07048607 weight: 1.98398376 bias: 1.03850794\n",
            "epoch: 27  loss: 21.06991386 weight: 1.98455977 bias: 1.03924775\n",
            "epoch: 28  loss: 21.06936836 weight: 1.98410904 bias: 1.03995669\n",
            "epoch: 29  loss: 21.06883812 weight: 1.98439610 bias: 1.04068720\n",
            "epoch: 30  loss: 21.06830788 weight: 1.98415291 bias: 1.04140162\n",
            "epoch: 31  loss: 21.06778145 weight: 1.98429084 bias: 1.04212701\n",
            "epoch: 32  loss: 21.06726074 weight: 1.98415494 bias: 1.04284394\n",
            "epoch: 33  loss: 21.06674004 weight: 1.98421574 bias: 1.04356635\n",
            "epoch: 34  loss: 21.06622505 weight: 1.98413551 bias: 1.04428422\n",
            "epoch: 35  loss: 21.06570816 weight: 1.98415649 bias: 1.04500473\n",
            "epoch: 36  loss: 21.06518745 weight: 1.98410451 bias: 1.04572272\n",
            "epoch: 37  loss: 21.06466866 weight: 1.98410523 bias: 1.04644191\n",
            "epoch: 38  loss: 21.06415749 weight: 1.98406804 bias: 1.04715967\n",
            "epoch: 39  loss: 21.06363678 weight: 1.98405814 bias: 1.04787791\n",
            "epoch: 40  loss: 21.06312561 weight: 1.98402870 bias: 1.04859519\n",
            "epoch: 41  loss: 21.06260681 weight: 1.98401320 bias: 1.04931259\n",
            "epoch: 42  loss: 21.06209564 weight: 1.98398757 bias: 1.05002928\n",
            "epoch: 43  loss: 21.06157684 weight: 1.98396957 bias: 1.05074584\n",
            "epoch: 44  loss: 21.06106949 weight: 1.98394585 bias: 1.05146194\n",
            "epoch: 45  loss: 21.06055450 weight: 1.98392630 bias: 1.05217779\n",
            "epoch: 46  loss: 21.06004333 weight: 1.98390377 bias: 1.05289316\n",
            "epoch: 47  loss: 21.05953217 weight: 1.98388338 bias: 1.05360830\n",
            "epoch: 48  loss: 21.05901337 weight: 1.98386145 bias: 1.05432308\n",
            "epoch: 49  loss: 21.05850983 weight: 1.98384094 bias: 1.05503750\n"
          ]
        }
      ],
      "source": [
        "epochs = 50\n",
        "losses = []\n",
        "\n",
        "for i in range(epochs):\n",
        "    # forward step\n",
        "    y_pred = model.forward(X)\n",
        "    # compute loss (error)\n",
        "    loss = criterion(y_pred, y)\n",
        "    # append loss to a list for plotting and analysis\n",
        "    losses.append(loss.detach().numpy())\n",
        "    print(f'epoch: {i:2}  loss: {loss.item():10.8f}', end='')\n",
        "    print(f' weight: {model.linear.weight.item():10.8f}', end='')\n",
        "    print(f' bias: {model.linear.bias.item():10.8f}')\n",
        "    # reset gadient at each epoch, because gradients are accumulating\n",
        "    optimizer.zero_grad()\n",
        "    # backprop the loss through the model and compute gradients\n",
        "    loss.backward()\n",
        "    # optimization step to upade weights and biases\n",
        "    optimizer.step()"
      ]
    },
    {
      "cell_type": "markdown",
      "metadata": {
        "id": "G8OmNUNj9rVU"
      },
      "source": [
        "## Plot the loss values\n",
        "Let's see how loss changed over time"
      ]
    },
    {
      "cell_type": "code",
      "execution_count": null,
      "metadata": {
        "id": "8KIwPNrT9rVU",
        "colab": {
          "base_uri": "https://localhost:8080/",
          "height": 449
        },
        "outputId": "19863f41-5eb5-4456-fa9c-6dc81095d544"
      },
      "outputs": [
        {
          "output_type": "display_data",
          "data": {
            "text/plain": [
              "<Figure size 640x480 with 1 Axes>"
            ],
            "image/png": "[encoded data removed]"
          },
          "metadata": {}
        }
      ],
      "source": [
        "plt.plot(range(epochs), losses)\n",
        "plt.ylabel('Loss')\n",
        "plt.xlabel('epoch');"
      ]
    },
    {
      "cell_type": "markdown",
      "metadata": {
        "id": "zKlA7tqG9rVf"
      },
      "source": [
        "## Plot the result\n",
        "Now we'll derive <tt>y1</tt> from the new model to plot the most recent best-fit line."
      ]
    },
    {
      "cell_type": "code",
      "execution_count": null,
      "metadata": {
        "id": "T6snU56-9rVf",
        "colab": {
          "base_uri": "https://localhost:8080/"
        },
        "outputId": "ed44231f-3230-4255-af5d-65e9f7384539"
      },
      "outputs": [
        {
          "output_type": "stream",
          "name": "stdout",
          "text": [
            "Current weight: 1.98381913, Current bias: 1.05575156\n",
            "\n",
            "[ 1. 50.]\n",
            "[  3.0395708 100.246704 ]\n"
          ]
        }
      ],
      "source": [
        "w1,b1 = model.linear.weight.item(), model.linear.bias.item()\n",
        "print(f'Current weight: {w1:.8f}, Current bias: {b1:.8f}')\n",
        "print()\n",
        "\n",
        "y1 = x1*w1 + b1\n",
        "print(x1)\n",
        "print(y1)"
      ]
    },
    {
      "cell_type": "code",
      "execution_count": null,
      "metadata": {
        "id": "alyka8vf9rVf",
        "colab": {
          "base_uri": "https://localhost:8080/",
          "height": 472
        },
        "outputId": "62031f44-8b1c-45ab-fef5-1489adfa792b"
      },
      "outputs": [
        {
          "output_type": "display_data",
          "data": {
            "text/plain": [
              "<Figure size 640x480 with 1 Axes>"
            ],
            "image/png": "[encoded data removed]"
          },
          "metadata": {}
        }
      ],
      "source": [
        "plt.scatter(X.numpy(), y.numpy())\n",
        "plt.plot(x1,y1,'r')\n",
        "plt.title('Current Model')\n",
        "plt.ylabel('y')\n",
        "plt.xlabel('x');"
      ]
    },
    {
      "cell_type": "markdown",
      "metadata": {
        "collapsed": true,
        "id": "CVsBuLNGeyZN"
      },
      "source": [
        "___\n",
        "# Basic PyTorch Neural Network\n",
        "\n",
        "Our goal is to develop a model capable of classifying an iris plant based on four features. This is a multi-class classification where each sample can belong to ONE of 3 classes (<em>Iris setosa</em>, <em>Iris virginica</em> or <em>Iris versicolor</em>). The network will have 4 input neurons (flower dimensions) and 3 output neurons (scores). Our loss function will compare the target label (ground truth) to the corresponding output score."
      ]
    },
    {
      "cell_type": "markdown",
      "metadata": {
        "id": "zE5U14iJeyZP"
      },
      "source": [
        "## Perform standard imports"
      ]
    },
    {
      "cell_type": "code",
      "execution_count": null,
      "metadata": {
        "id": "x3cq9Sq1eyZQ"
      },
      "outputs": [],
      "source": [
        "import torch\n",
        "import torch.nn as nn\n",
        "import torch.nn.functional as F\n",
        "from torch.utils.data import TensorDataset, Dataset, DataLoader\n",
        "from sklearn.model_selection import train_test_split\n",
        "\n",
        "import pandas as pd\n",
        "import matplotlib.pyplot as plt\n",
        "%matplotlib inline"
      ]
    },
    {
      "cell_type": "markdown",
      "metadata": {
        "id": "Y9Vrmc3WeyZR"
      },
      "source": [
        "## Create a model class\n",
        "For this exercise we're using the Iris dataset. Since a single straight line can't classify three flowers we should include at least one hidden layer in our model.\n",
        "\n",
        "In the forward section we'll use the <a href='https://en.wikipedia.org/wiki/Rectifier_(neural_networks)'>rectified linear unit</a> (ReLU)  function<br>\n",
        "$\\quad f(x)=max(0,x)$<br>\n",
        "as our activation function. This is available as a full module <a href='https://pytorch.org/docs/stable/nn.html#relu'><strong><tt>torch.nn.ReLU</tt></strong></a> or as just a functional call <a href='https://pytorch.org/docs/stable/nn.html#id27'><strong><tt>torch.nn.functional.relu</tt></strong></a>"
      ]
    },
    {
      "cell_type": "code",
      "execution_count": null,
      "metadata": {
        "id": "01nHpukReyZR"
      },
      "outputs": [],
      "source": [
        "class Model(nn.Module):\n",
        "    def __init__(self, in_features=4, h1=8, h2=9, out_features=3):\n",
        "        super().__init__()\n",
        "        self.fc1 = nn.Linear(in_features,h1)    # 1st hidden layer\n",
        "        self.fc2 = nn.Linear(h1, h2)            # 2nd hidden layer\n",
        "        self.out = nn.Linear(h2, out_features)  # output layer\n",
        "\n",
        "    def forward(self, x): # fit\n",
        "        x = F.relu(self.fc1(x))\n",
        "        x = F.relu(self.fc2(x))\n",
        "        x = self.out(x)\n",
        "        return x"
      ]
    },
    {
      "cell_type": "code",
      "execution_count": null,
      "metadata": {
        "id": "nFwbTOGJeyZR"
      },
      "outputs": [],
      "source": [
        "# Instantiate the Model class using parameter defaults:\n",
        "torch.manual_seed(32)\n",
        "model = Model()"
      ]
    },
    {
      "cell_type": "markdown",
      "metadata": {
        "id": "fdK-yAb-eyZR"
      },
      "source": [
        "## Load the iris dataset"
      ]
    },
    {
      "cell_type": "code",
      "execution_count": null,
      "metadata": {
        "id": "SG1YZzf4eyZR",
        "colab": {
          "base_uri": "https://localhost:8080/",
          "height": 206
        },
        "outputId": "a97a6da7-899a-474c-b6a7-5bdd6bfe2921"
      },
      "outputs": [
        {
          "output_type": "execute_result",
          "data": {
            "text/plain": [
              "   sepal length  sepal width  petal length  petal width        class\n",
              "0           5.1          3.5           1.4          0.2  Iris-setosa\n",
              "1           4.9          3.0           1.4          0.2  Iris-setosa\n",
              "2           4.7          3.2           1.3          0.2  Iris-setosa\n",
              "3           4.6          3.1           1.5          0.2  Iris-setosa\n",
              "4           5.0          3.6           1.4          0.2  Iris-setosa"
            ],
            "text/html": [
              "\n",
              "  <div id=\"df-ea82b96a-26a6-4c47-9723-cf3456ef8bd6\" class=\"colab-df-container\">\n",
              "    <div>\n",
              "<style scoped>\n",
              "    .dataframe tbody tr th:only-of-type {\n",
              "        vertical-align: middle;\n",
              "    }\n",
              "\n",
              "    .dataframe tbody tr th {\n",
              "        vertical-align: top;\n",
              "    }\n",
              "\n",
              "    .dataframe thead th {\n",
              "        text-align: right;\n",
              "    }\n",
              "</style>\n",
              "<table border=\"1\" class=\"dataframe\">\n",
              "  <thead>\n",
              "    <tr style=\"text-align: right;\">\n",
              "      <th></th>\n",
              "      <th>sepal length</th>\n",
              "      <th>sepal width</th>\n",
              "      <th>petal length</th>\n",
              "      <th>petal width</th>\n",
              "      <th>class</th>\n",
              "    </tr>\n",
              "  </thead>\n",
              "  <tbody>\n",
              "    <tr>\n",
              "      <th>0</th>\n",
              "      <td>5.1</td>\n",
              "      <td>3.5</td>\n",
              "      <td>1.4</td>\n",
              "      <td>0.2</td>\n",
              "      <td>Iris-setosa</td>\n",
              "    </tr>\n",
              "    <tr>\n",
              "      <th>1</th>\n",
              "      <td>4.9</td>\n",
              "      <td>3.0</td>\n",
              "      <td>1.4</td>\n",
              "      <td>0.2</td>\n",
              "      <td>Iris-setosa</td>\n",
              "    </tr>\n",
              "    <tr>\n",
              "      <th>2</th>\n",
              "      <td>4.7</td>\n",
              "      <td>3.2</td>\n",
              "      <td>1.3</td>\n",
              "      <td>0.2</td>\n",
              "      <td>Iris-setosa</td>\n",
              "    </tr>\n",
              "    <tr>\n",
              "      <th>3</th>\n",
              "      <td>4.6</td>\n",
              "      <td>3.1</td>\n",
              "      <td>1.5</td>\n",
              "      <td>0.2</td>\n",
              "      <td>Iris-setosa</td>\n",
              "    </tr>\n",
              "    <tr>\n",
              "      <th>4</th>\n",
              "      <td>5.0</td>\n",
              "      <td>3.6</td>\n",
              "      <td>1.4</td>\n",
              "      <td>0.2</td>\n",
              "      <td>Iris-setosa</td>\n",
              "    </tr>\n",
              "  </tbody>\n",
              "</table>\n",
              "</div>\n",
              "    <div class=\"colab-df-buttons\">\n",
              "\n",
              "  <div class=\"colab-df-container\">\n",
              "    <button class=\"colab-df-convert\" onclick=\"convertToInteractive('df-ea82b96a-26a6-4c47-9723-cf3456ef8bd6')\"\n",
              "            title=\"Convert this dataframe to an interactive table.\"\n",
              "            style=\"display:none;\">\n",
              "\n",
              "  <svg xmlns=\"http://www.w3.org/2000/svg\" height=\"24px\" viewBox=\"0 -960 960 960\">\n",
              "    <path d=\"M120-120v-720h720v720H120Zm60-500h600v-160H180v160Zm220 220h160v-160H400v160Zm0 220h160v-160H400v160ZM180-400h160v-160H180v160Zm440 0h160v-160H620v160ZM180-180h160v-160H180v160Zm440 0h160v-160H620v160Z\"/>\n",
              "  </svg>\n",
              "    </button>\n",
              "\n",
              "  <style>\n",
              "    .colab-df-container {\n",
              "      display:flex;\n",
              "      gap: 12px;\n",
              "    }\n",
              "\n",
              "    .colab-df-convert {\n",
              "      background-color: #E8F0FE;\n",
              "      border: none;\n",
              "      border-radius: 50%;\n",
              "      cursor: pointer;\n",
              "      display: none;\n",
              "      fill: #1967D2;\n",
              "      height: 32px;\n",
              "      padding: 0 0 0 0;\n",
              "      width: 32px;\n",
              "    }\n",
              "\n",
              "    .colab-df-convert:hover {\n",
              "      background-color: #E2EBFA;\n",
              "      box-shadow: 0px 1px 2px rgba(60, 64, 67, 0.3), 0px 1px 3px 1px rgba(60, 64, 67, 0.15);\n",
              "      fill: #174EA6;\n",
              "    }\n",
              "\n",
              "    .colab-df-buttons div {\n",
              "      margin-bottom: 4px;\n",
              "    }\n",
              "\n",
              "    [theme=dark] .colab-df-convert {\n",
              "      background-color: #3B4455;\n",
              "      fill: #D2E3FC;\n",
              "    }\n",
              "\n",
              "    [theme=dark] .colab-df-convert:hover {\n",
              "      background-color: #434B5C;\n",
              "      box-shadow: 0px 1px 3px 1px rgba(0, 0, 0, 0.15);\n",
              "      filter: drop-shadow(0px 1px 2px rgba(0, 0, 0, 0.3));\n",
              "      fill: #FFFFFF;\n",
              "    }\n",
              "  </style>\n",
              "\n",
              "    <script>\n",
              "      const buttonEl =\n",
              "        document.querySelector('#df-ea82b96a-26a6-4c47-9723-cf3456ef8bd6 button.colab-df-convert');\n",
              "      buttonEl.style.display =\n",
              "        google.colab.kernel.accessAllowed ? 'block' : 'none';\n",
              "\n",
              "      async function convertToInteractive(key) {\n",
              "        const element = document.querySelector('#df-ea82b96a-26a6-4c47-9723-cf3456ef8bd6');\n",
              "        const dataTable =\n",
              "          await google.colab.kernel.invokeFunction('convertToInteractive',\n",
              "                                                    [key], {});\n",
              "        if (!dataTable) return;\n",
              "\n",
              "        const docLinkHtml = 'Like what you see? Visit the ' +\n",
              "          '<a target=\"_blank\" href=https://colab.research.google.com/notebooks/data_table.ipynb>data table notebook</a>'\n",
              "          + ' to learn more about interactive tables.';\n",
              "        element.innerHTML = '';\n",
              "        dataTable['output_type'] = 'display_data';\n",
              "        await google.colab.output.renderOutput(dataTable, element);\n",
              "        const docLink = document.createElement('div');\n",
              "        docLink.innerHTML = docLinkHtml;\n",
              "        element.appendChild(docLink);\n",
              "      }\n",
              "    </script>\n",
              "  </div>\n",
              "\n",
              "\n",
              "<div id=\"df-7f5d95e9-8ddb-432f-bc08-705d30a37381\">\n",
              "  <button class=\"colab-df-quickchart\" onclick=\"quickchart('df-7f5d95e9-8ddb-432f-bc08-705d30a37381')\"\n",
              "            title=\"Suggest charts\"\n",
              "            style=\"display:none;\">\n",
              "\n",
              "<svg xmlns=\"http://www.w3.org/2000/svg\" height=\"24px\"viewBox=\"0 0 24 24\"\n",
              "     width=\"24px\">\n",
              "    <g>\n",
              "        <path d=\"M19 3H5c-1.1 0-2 .9-2 2v14c0 1.1.9 2 2 2h14c1.1 0 2-.9 2-2V5c0-1.1-.9-2-2-2zM9 17H7v-7h2v7zm4 0h-2V7h2v10zm4 0h-2v-4h2v4z\"/>\n",
              "    </g>\n",
              "</svg>\n",
              "  </button>\n",
              "\n",
              "<style>\n",
              "  .colab-df-quickchart {\n",
              "      --bg-color: #E8F0FE;\n",
              "      --fill-color: #1967D2;\n",
              "      --hover-bg-color: #E2EBFA;\n",
              "      --hover-fill-color: #174EA6;\n",
              "      --disabled-fill-color: #AAA;\n",
              "      --disabled-bg-color: #DDD;\n",
              "  }\n",
              "\n",
              "  [theme=dark] .colab-df-quickchart {\n",
              "      --bg-color: #3B4455;\n",
              "      --fill-color: #D2E3FC;\n",
              "      --hover-bg-color: #434B5C;\n",
              "      --hover-fill-color: #FFFFFF;\n",
              "      --disabled-bg-color: #3B4455;\n",
              "      --disabled-fill-color: #666;\n",
              "  }\n",
              "\n",
              "  .colab-df-quickchart {\n",
              "    background-color: var(--bg-color);\n",
              "    border: none;\n",
              "    border-radius: 50%;\n",
              "    cursor: pointer;\n",
              "    display: none;\n",
              "    fill: var(--fill-color);\n",
              "    height: 32px;\n",
              "    padding: 0;\n",
              "    width: 32px;\n",
              "  }\n",
              "\n",
              "  .colab-df-quickchart:hover {\n",
              "    background-color: var(--hover-bg-color);\n",
              "    box-shadow: 0 1px 2px rgba(60, 64, 67, 0.3), 0 1px 3px 1px rgba(60, 64, 67, 0.15);\n",
              "    fill: var(--button-hover-fill-color);\n",
              "  }\n",
              "\n",
              "  .colab-df-quickchart-complete:disabled,\n",
              "  .colab-df-quickchart-complete:disabled:hover {\n",
              "    background-color: var(--disabled-bg-color);\n",
              "    fill: var(--disabled-fill-color);\n",
              "    box-shadow: none;\n",
              "  }\n",
              "\n",
              "  .colab-df-spinner {\n",
              "    border: 2px solid var(--fill-color);\n",
              "    border-color: transparent;\n",
              "    border-bottom-color: var(--fill-color);\n",
              "    animation:\n",
              "      spin 1s steps(1) infinite;\n",
              "  }\n",
              "\n",
              "  @keyframes spin {\n",
              "    0% {\n",
              "      border-color: transparent;\n",
              "      border-bottom-color: var(--fill-color);\n",
              "      border-left-color: var(--fill-color);\n",
              "    }\n",
              "    20% {\n",
              "      border-color: transparent;\n",
              "      border-left-color: var(--fill-color);\n",
              "      border-top-color: var(--fill-color);\n",
              "    }\n",
              "    30% {\n",
              "      border-color: transparent;\n",
              "      border-left-color: var(--fill-color);\n",
              "      border-top-color: var(--fill-color);\n",
              "      border-right-color: var(--fill-color);\n",
              "    }\n",
              "    40% {\n",
              "      border-color: transparent;\n",
              "      border-right-color: var(--fill-color);\n",
              "      border-top-color: var(--fill-color);\n",
              "    }\n",
              "    60% {\n",
              "      border-color: transparent;\n",
              "      border-right-color: var(--fill-color);\n",
              "    }\n",
              "    80% {\n",
              "      border-color: transparent;\n",
              "      border-right-color: var(--fill-color);\n",
              "      border-bottom-color: var(--fill-color);\n",
              "    }\n",
              "    90% {\n",
              "      border-color: transparent;\n",
              "      border-bottom-color: var(--fill-color);\n",
              "    }\n",
              "  }\n",
              "</style>\n",
              "\n",
              "  <script>\n",
              "    async function quickchart(key) {\n",
              "      const quickchartButtonEl =\n",
              "        document.querySelector('#' + key + ' button');\n",
              "      quickchartButtonEl.disabled = true;  // To prevent multiple clicks.\n",
              "      quickchartButtonEl.classList.add('colab-df-spinner');\n",
              "      try {\n",
              "        const charts = await google.colab.kernel.invokeFunction(\n",
              "            'suggestCharts', [key], {});\n",
              "      } catch (error) {\n",
              "        console.error('Error during call to suggestCharts:', error);\n",
              "      }\n",
              "      quickchartButtonEl.classList.remove('colab-df-spinner');\n",
              "      quickchartButtonEl.classList.add('colab-df-quickchart-complete');\n",
              "    }\n",
              "    (() => {\n",
              "      let quickchartButtonEl =\n",
              "        document.querySelector('#df-7f5d95e9-8ddb-432f-bc08-705d30a37381 button');\n",
              "      quickchartButtonEl.style.display =\n",
              "        google.colab.kernel.accessAllowed ? 'block' : 'none';\n",
              "    })();\n",
              "  </script>\n",
              "</div>\n",
              "\n",
              "    </div>\n",
              "  </div>\n"
            ],
            "application/vnd.google.colaboratory.intrinsic+json": {
              "type": "dataframe",
              "variable_name": "df",
              "summary": "{\n  \"name\": \"df\",\n  \"rows\": 150,\n  \"fields\": [\n    {\n      \"column\": \"sepal length\",\n      \"properties\": {\n        \"dtype\": \"number\",\n        \"std\": 0.828066127977863,\n        \"min\": 4.3,\n        \"max\": 7.9,\n        \"num_unique_values\": 35,\n        \"samples\": [\n          6.2,\n          4.5,\n          5.6\n        ],\n        \"semantic_type\": \"\",\n        \"description\": \"\"\n      }\n    },\n    {\n      \"column\": \"sepal width\",\n      \"properties\": {\n        \"dtype\": \"number\",\n        \"std\": 0.4335943113621737,\n        \"min\": 2.0,\n        \"max\": 4.4,\n        \"num_unique_values\": 23,\n        \"samples\": [\n          2.3,\n          4.0,\n          3.5\n        ],\n        \"semantic_type\": \"\",\n        \"description\": \"\"\n      }\n    },\n    {\n      \"column\": \"petal length\",\n      \"properties\": {\n        \"dtype\": \"number\",\n        \"std\": 1.7644204199522626,\n        \"min\": 1.0,\n        \"max\": 6.9,\n        \"num_unique_values\": 43,\n        \"samples\": [\n          6.7,\n          3.8,\n          3.7\n        ],\n        \"semantic_type\": \"\",\n        \"description\": \"\"\n      }\n    },\n    {\n      \"column\": \"petal width\",\n      \"properties\": {\n        \"dtype\": \"number\",\n        \"std\": 0.7631607417008411,\n        \"min\": 0.1,\n        \"max\": 2.5,\n        \"num_unique_values\": 22,\n        \"samples\": [\n          0.2,\n          1.2,\n          1.3\n        ],\n        \"semantic_type\": \"\",\n        \"description\": \"\"\n      }\n    },\n    {\n      \"column\": \"class\",\n      \"properties\": {\n        \"dtype\": \"category\",\n        \"num_unique_values\": 3,\n        \"samples\": [\n          \"Iris-setosa\",\n          \"Iris-versicolor\",\n          \"Iris-virginica\"\n        ],\n        \"semantic_type\": \"\",\n        \"description\": \"\"\n      }\n    }\n  ]\n}"
            }
          },
          "metadata": {},
          "execution_count": 64
        }
      ],
      "source": [
        "df = pd.read_csv('https://raw.githubusercontent.com/plotly/datasets/master/iris-data.csv')\n",
        "df.head()"
      ]
    },
    {
      "cell_type": "markdown",
      "metadata": {
        "id": "_Pbh8wp1eyZS"
      },
      "source": [
        "## Perform Train/Test/Split"
      ]
    },
    {
      "cell_type": "code",
      "source": [
        "from sklearn.model_selection import train_test_split\n",
        "\n",
        "X = df.drop('class',axis=1).values\n",
        "y = df['class'].map({'Iris-setosa':0,'Iris-versicolor':1,'Iris-virginica':2}).values\n",
        "train_X, test_X, train_y, test_y = train_test_split(X, y, test_size=0.2, random_state=33)\n",
        "\n",
        "X_train = torch.FloatTensor(train_X)\n",
        "X_test = torch.FloatTensor(test_X)\n",
        "y_train = torch.LongTensor(train_y)\n",
        "y_test = torch.LongTensor(test_y)"
      ],
      "metadata": {
        "id": "IIccgqiAgnU-"
      },
      "execution_count": null,
      "outputs": []
    },
    {
      "cell_type": "markdown",
      "metadata": {
        "id": "l0lhWiVpeyZT"
      },
      "source": [
        "## Prepare DataLoader\n",
        "For this analysis we don't need to create a Dataset object, but we should take advantage of PyTorch's DataLoader tool. Even though our dataset is small (120 training samples), we'll load it into our model in two batches. This technique becomes very helpful with large datasets.\n",
        "\n",
        "Note that scikit-learn already shuffled the source dataset before preparing train and test sets. We'll still benefit from the DataLoader shuffle utility for model training if we make multiple passes throught the dataset."
      ]
    },
    {
      "cell_type": "code",
      "source": [
        "Tr_set = TensorDataset(X_train,y_train) # create your datset\n",
        "Tr_dataloader = DataLoader(Tr_set,batch_size=64, shuffle=True) # create your dataloader\n",
        "Ts_set = TensorDataset(X_test,y_test)\n",
        "Ts_dataloader = DataLoader(Ts_set,batch_size=64, shuffle=True)"
      ],
      "metadata": {
        "id": "UoHXQA_5i5pk"
      },
      "execution_count": null,
      "outputs": []
    },
    {
      "cell_type": "markdown",
      "metadata": {
        "id": "UsoQN1-oeyZT"
      },
      "source": [
        "## Define loss equations and optimizations\n",
        "As before, we'll utilize <a href='https://en.wikipedia.org/wiki/Cross_entropy'>Cross Entropy</a> with <a href='https://pytorch.org/docs/stable/nn.html#crossentropyloss'><strong><tt>torch.nn.CrossEntropyLoss()</tt></strong></a><br>\n",
        "For the optimizer, we'll use a variation of Stochastic Gradient Descent called <a href='https://en.wikipedia.org/wiki/Stochastic_gradient_descent#Adam'>Adam</a> (short for Adaptive Moment Estimation), with <a href='https://pytorch.org/docs/stable/optim.html#torch.optim.Adam'><strong><tt>torch.optim.Adam()</tt></strong></a>"
      ]
    },
    {
      "cell_type": "code",
      "execution_count": null,
      "metadata": {
        "id": "W0uEzwmFeyZT"
      },
      "outputs": [],
      "source": [
        "# FOR REDO\n",
        "torch.manual_seed(4)\n",
        "model = Model()"
      ]
    },
    {
      "cell_type": "code",
      "execution_count": null,
      "metadata": {
        "id": "offHZf4LeyZT"
      },
      "outputs": [],
      "source": [
        "criterion = nn.CrossEntropyLoss()\n",
        "optimizer = torch.optim.Adam(model.parameters(), lr=0.01)"
      ]
    },
    {
      "cell_type": "code",
      "execution_count": null,
      "metadata": {
        "id": "uftnTEU2eyZT",
        "colab": {
          "base_uri": "https://localhost:8080/",
          "height": 186
        },
        "outputId": "e26cabbd-931d-4eeb-f87b-696ee3883ffe"
      },
      "outputs": [
        {
          "output_type": "execute_result",
          "data": {
            "text/plain": [
              "<bound method Module.parameters of Model(\n",
              "  (fc1): Linear(in_features=4, out_features=8, bias=True)\n",
              "  (fc2): Linear(in_features=8, out_features=9, bias=True)\n",
              "  (out): Linear(in_features=9, out_features=3, bias=True)\n",
              ")>"
            ],
            "text/html": [
              "<div style=\"max-width:800px; border: 1px solid var(--colab-border-color);\"><style>\n",
              "      pre.function-repr-contents {\n",
              "        overflow-x: auto;\n",
              "        padding: 8px 12px;\n",
              "        max-height: 500px;\n",
              "      }\n",
              "\n",
              "      pre.function-repr-contents.function-repr-contents-collapsed {\n",
              "        cursor: pointer;\n",
              "        max-height: 100px;\n",
              "      }\n",
              "    </style>\n",
              "    <pre style=\"white-space: initial; background:\n",
              "         var(--colab-secondary-surface-color); padding: 8px 12px;\n",
              "         border-bottom: 1px solid var(--colab-border-color);\"><b>torch.nn.modules.module.Module.parameters</b><br/>def parameters(recurse: bool=True) -&gt; Iterator[Parameter]</pre><pre class=\"function-repr-contents function-repr-contents-collapsed\" style=\"\"><a class=\"filepath\" style=\"display:none\" href=\"#\">/usr/local/lib/python3.10/dist-packages/torch/nn/modules/module.py</a>Return an iterator over module parameters.\n",
              "\n",
              "This is typically passed to an optimizer.\n",
              "\n",
              "Args:\n",
              "    recurse (bool): if True, then yields parameters of this module\n",
              "        and all submodules. Otherwise, yields only parameters that\n",
              "        are direct members of this module.\n",
              "\n",
              "Yields:\n",
              "    Parameter: module parameter\n",
              "\n",
              "Example::\n",
              "\n",
              "    &gt;&gt;&gt; # xdoctest: +SKIP(&quot;undefined vars&quot;)\n",
              "    &gt;&gt;&gt; for param in model.parameters():\n",
              "    &gt;&gt;&gt;     print(type(param), param.size())\n",
              "    &lt;class &#x27;torch.Tensor&#x27;&gt; (20L,)\n",
              "    &lt;class &#x27;torch.Tensor&#x27;&gt; (20L, 1L, 5L, 5L)</pre>\n",
              "      <script>\n",
              "      if (google.colab.kernel.accessAllowed && google.colab.files && google.colab.files.view) {\n",
              "        for (const element of document.querySelectorAll('.filepath')) {\n",
              "          element.style.display = 'block'\n",
              "          element.onclick = (event) => {\n",
              "            event.preventDefault();\n",
              "            event.stopPropagation();\n",
              "            google.colab.files.view(element.textContent, 2207);\n",
              "          };\n",
              "        }\n",
              "      }\n",
              "      for (const element of document.querySelectorAll('.function-repr-contents')) {\n",
              "        element.onclick = (event) => {\n",
              "          event.preventDefault();\n",
              "          event.stopPropagation();\n",
              "          element.classList.toggle('function-repr-contents-collapsed');\n",
              "        };\n",
              "      }\n",
              "      </script>\n",
              "      </div>"
            ]
          },
          "metadata": {},
          "execution_count": 70
        }
      ],
      "source": [
        "model.parameters"
      ]
    },
    {
      "cell_type": "markdown",
      "metadata": {
        "id": "s_dAxQfoeyZU"
      },
      "source": [
        "## Train the model"
      ]
    },
    {
      "cell_type": "code",
      "source": [
        "epochs = 150\n",
        "losses = []\n",
        "\n",
        "for i in range(epochs):\n",
        "    for X, y in Tr_dataloader:\n",
        "        y_pred = model.forward(X)\n",
        "        loss = criterion(y_pred, y)\n",
        "        optimizer.zero_grad()\n",
        "        loss.backward()\n",
        "        optimizer.step()\n",
        "\n",
        "    with torch.no_grad():\n",
        "        y_pred = model.forward(X_train)\n",
        "        loss = criterion(y_pred, y_train)\n",
        "        losses.append(loss.detach().numpy())\n",
        "        if i%10 == 1:\n",
        "            print(f'epoch: {i:2}  loss: {loss.item():10.8f}')"
      ],
      "metadata": {
        "id": "CQj7uPIYjDU3",
        "colab": {
          "base_uri": "https://localhost:8080/"
        },
        "outputId": "2d3e00a0-8c6e-40a6-bfa2-762a9b6ab076"
      },
      "execution_count": null,
      "outputs": [
        {
          "output_type": "stream",
          "name": "stdout",
          "text": [
            "epoch:  1  loss: 1.05592179\n",
            "epoch: 11  loss: 0.70733762\n",
            "epoch: 21  loss: 0.34743848\n",
            "epoch: 31  loss: 0.15905827\n",
            "epoch: 41  loss: 0.09642033\n",
            "epoch: 51  loss: 0.07830624\n",
            "epoch: 61  loss: 0.07481284\n",
            "epoch: 71  loss: 0.06339094\n",
            "epoch: 81  loss: 0.06052414\n",
            "epoch: 91  loss: 0.05775695\n",
            "epoch: 101  loss: 0.06109950\n",
            "epoch: 111  loss: 0.07459410\n",
            "epoch: 121  loss: 0.05458640\n",
            "epoch: 131  loss: 0.05381035\n",
            "epoch: 141  loss: 0.05177442\n"
          ]
        }
      ]
    },
    {
      "cell_type": "markdown",
      "metadata": {
        "id": "2w3PBzPBeyZU"
      },
      "source": [
        "## Plot the loss function"
      ]
    },
    {
      "cell_type": "code",
      "execution_count": null,
      "metadata": {
        "id": "wbEChNC1eyZU",
        "colab": {
          "base_uri": "https://localhost:8080/",
          "height": 449
        },
        "outputId": "09d8c972-b0a9-4894-8e07-1b20810ef091"
      },
      "outputs": [
        {
          "output_type": "display_data",
          "data": {
            "text/plain": [
              "<Figure size 640x480 with 1 Axes>"
            ],
            "image/png": "[encoded data removed]"
          },
          "metadata": {}
        }
      ],
      "source": [
        "plt.plot(range(epochs), losses)\n",
        "plt.ylabel('Loss')\n",
        "plt.xlabel('epoch');"
      ]
    },
    {
      "cell_type": "markdown",
      "metadata": {
        "id": "QQi3L0aweyZU"
      },
      "source": [
        "## Validate the model\n",
        "Now we run the test set through the model to see if the loss calculation resembles the training data."
      ]
    },
    {
      "cell_type": "code",
      "execution_count": null,
      "metadata": {
        "id": "Lo-yEOP4eyZU",
        "colab": {
          "base_uri": "https://localhost:8080/"
        },
        "outputId": "a3796abc-8bd8-49f8-af87-400f23952e2f"
      },
      "outputs": [
        {
          "output_type": "stream",
          "name": "stdout",
          "text": [
            "0.10912511\n"
          ]
        }
      ],
      "source": [
        "# TO EVALUATE THE ENTIRE TEST SET\n",
        "with torch.no_grad():\n",
        "    y_val = model.forward(X_test)\n",
        "    loss = criterion(y_val, y_test)\n",
        "print(f'{loss:.8f}')"
      ]
    },
    {
      "cell_type": "code",
      "execution_count": null,
      "metadata": {
        "id": "e0EUSMZ2eyZV",
        "colab": {
          "base_uri": "https://localhost:8080/"
        },
        "outputId": "c7fd7bd8-955d-4269-d516-b9fe51c13957"
      },
      "outputs": [
        {
          "output_type": "stream",
          "name": "stdout",
          "text": [
            " 1. tensor([-2.2648,  7.0772, -1.0277])     1\n",
            " 2. tensor([-1.9182,  7.8730, -1.8069])     1\n",
            " 3. tensor([ 15.7279,   8.4448, -21.4249])  0\n",
            " 4. tensor([-5.0844,  7.2727,  1.9702])     1\n",
            " 5. tensor([-10.4809,   6.5712,   8.2458])  2\n",
            " 6. tensor([-17.6209,   5.8022,  16.4826])  2\n",
            " 7. tensor([ 15.8535,   8.6604, -21.6634])  0\n",
            " 8. tensor([ 16.9068,   8.9132, -22.9550])  0\n",
            " 9. tensor([-10.6230,   6.7605,   8.3121])  2\n",
            "10. tensor([-14.3066,   6.5646,  12.4585])  2\n",
            "11. tensor([-15.4019,   6.4154,  13.7360])  2\n",
            "12. tensor([ 15.3076,   8.0545, -20.7774])  0\n",
            "13. tensor([-14.5363,   6.1415,  12.9253])  2\n",
            "14. tensor([-4.9282,  7.1156,  1.8776])     1\n",
            "15. tensor([-11.7994,   6.6833,   9.6458])  2\n",
            "16. tensor([-1.8613,  7.6209, -1.7441])     1\n",
            "17. tensor([-8.1389,  6.5829,  5.6738])     2\n",
            "18. tensor([ 17.1790,   9.0608, -23.3267])  0\n",
            "19. tensor([-4.5806,  7.3569,  1.3782])     1\n",
            "20. tensor([-11.6314,   7.3346,   9.1308])  2\n",
            "21. tensor([ 16.2263,   8.6145, -22.0595])  0\n",
            "22. tensor([ 17.9621,   9.6262, -24.4590])  0\n",
            "23. tensor([-15.3450,   6.1633,  13.7987])  2\n",
            "24. tensor([ 16.0219,   8.4642, -21.7627])  0\n",
            "25. tensor([-10.0447,   6.2388,   7.9327])  2\n",
            "26. tensor([-8.6817,  6.5850,  6.2675])     2\n",
            "27. tensor([-4.0457,  7.2303,  0.8517])     1\n",
            "28. tensor([-1.1873,  7.3923, -2.3696])     1\n",
            "29. tensor([-10.9407,   6.6125,   8.7361])  2\n",
            "30. tensor([-9.7184,  6.4004,  7.4996])     2\n",
            "\n",
            "28 out of 30 = 93.33% correct\n"
          ]
        }
      ],
      "source": [
        "correct = 0\n",
        "with torch.no_grad():\n",
        "    for i,data in enumerate(X_test):\n",
        "        y_val = model.forward(data)\n",
        "        print(f'{i+1:2}. {str(y_val):38}  {y_test[i]}')\n",
        "        if y_val.argmax().item() == y_test[i]:\n",
        "            correct += 1\n",
        "print(f'\\n{correct} out of {len(y_test)} = {100*correct/len(y_test):.2f}% correct')"
      ]
    },
    {
      "cell_type": "markdown",
      "metadata": {
        "id": "FFWS5vgieyZV"
      },
      "source": [
        "Here we can see that #17 was misclassified."
      ]
    },
    {
      "cell_type": "markdown",
      "metadata": {
        "id": "NM83NcZXeyZV"
      },
      "source": [
        "## Save the trained model to a file\n",
        "Right now <strong><tt>model</tt></strong> has been trained and validated, and seems to correctly classify an iris 97% of the time. Let's save this to disk.<br>\n",
        "The tools we'll use are <a href='https://pytorch.org/docs/stable/torch.html#torch.save'><strong><tt>torch.save()</tt></strong></a> and <a href='https://pytorch.org/docs/stable/torch.html#torch.load'><strong><tt>torch.load()</tt></strong></a><br>\n",
        "\n",
        "There are two basic ways to save a model.<br>\n",
        "\n",
        "The first saves/loads the `state_dict` (learned parameters) of the model, but not the model class. The syntax follows:<br>\n",
        "<tt><strong>Save:</strong>&nbsp;torch.save(model.state_dict(), PATH)<br><br>\n",
        "<strong>Load:</strong>&nbsp;model = TheModelClass(\\*args, \\*\\*kwargs)<br>\n",
        "&nbsp;&nbsp;&nbsp;&nbsp;&nbsp;&nbsp;model.load_state_dict(torch.load(PATH))<br>\n",
        "&nbsp;&nbsp;&nbsp;&nbsp;&nbsp;&nbsp;model.eval()</tt>\n",
        "\n",
        "The second saves the entire model including its class and parameters as a pickle file. Care must be taken if you want to load this into another notebook to make sure all the target data is brought in properly.<br>\n",
        "<tt><strong>Save:</strong>&nbsp;torch.save(model, PATH)<br><br>\n",
        "<strong>Load:</strong>&nbsp;model = torch.load(PATH))<br>\n",
        "&nbsp;&nbsp;&nbsp;&nbsp;&nbsp;&nbsp;model.eval()</tt>\n",
        "\n",
        "In either method, you must call <tt>model.eval()</tt> to set dropout and batch normalization layers to evaluation mode before running inference. Failing to do this will yield inconsistent inference results.\n",
        "\n",
        "For more information visit https://pytorch.org/tutorials/beginner/saving_loading_models.html"
      ]
    },
    {
      "cell_type": "markdown",
      "metadata": {
        "id": "9t6HC6KweyZV"
      },
      "source": [
        "### Save the model"
      ]
    },
    {
      "cell_type": "code",
      "execution_count": null,
      "metadata": {
        "id": "k57guwUbeyZV"
      },
      "outputs": [],
      "source": [
        "torch.save(model.state_dict(), 'IrisDatasetModel.pt')"
      ]
    },
    {
      "cell_type": "markdown",
      "metadata": {
        "id": "1CCBCB1HeyZV"
      },
      "source": [
        "### Load a new model\n",
        "We'll load a new model object and test it as we had before to make sure it worked."
      ]
    },
    {
      "cell_type": "code",
      "execution_count": null,
      "metadata": {
        "id": "M4lyG2vpeyZV",
        "colab": {
          "base_uri": "https://localhost:8080/"
        },
        "outputId": "47e963f2-84fc-485f-faef-956eca2dae8e"
      },
      "outputs": [
        {
          "output_type": "execute_result",
          "data": {
            "text/plain": [
              "Model(\n",
              "  (fc1): Linear(in_features=4, out_features=8, bias=True)\n",
              "  (fc2): Linear(in_features=8, out_features=9, bias=True)\n",
              "  (out): Linear(in_features=9, out_features=3, bias=True)\n",
              ")"
            ]
          },
          "metadata": {},
          "execution_count": 76
        }
      ],
      "source": [
        "new_model = Model()\n",
        "new_model.load_state_dict(torch.load('IrisDatasetModel.pt'))\n",
        "new_model.eval()"
      ]
    },
    {
      "cell_type": "code",
      "execution_count": null,
      "metadata": {
        "id": "8jp8LyQXeyZV",
        "colab": {
          "base_uri": "https://localhost:8080/"
        },
        "outputId": "253b7a77-0977-4d8d-c79b-75e71c80f9fe"
      },
      "outputs": [
        {
          "output_type": "stream",
          "name": "stdout",
          "text": [
            "0.10912511\n"
          ]
        }
      ],
      "source": [
        "with torch.no_grad():\n",
        "    y_val = new_model.forward(X_test)\n",
        "    loss = criterion(y_val, y_test)\n",
        "print(f'{loss:.8f}')"
      ]
    },
    {
      "cell_type": "markdown",
      "metadata": {
        "id": "E0RbAOpeeyZW"
      },
      "source": [
        "## Apply the model to classify new, unseen data"
      ]
    },
    {
      "cell_type": "code",
      "execution_count": null,
      "metadata": {
        "id": "NEkfVK0ReyZW"
      },
      "outputs": [],
      "source": [
        "mystery_iris = torch.tensor([5.6,3.7,2.2,0.5])"
      ]
    },
    {
      "cell_type": "markdown",
      "metadata": {
        "id": "hCdznPVreyZh"
      },
      "source": [
        "Now run it through the model:"
      ]
    },
    {
      "cell_type": "code",
      "source": [
        "labels = ['Iris setosa','Iris versicolor','Iris virginica']\n",
        "\n",
        "with torch.no_grad():\n",
        "    print(new_model(mystery_iris))\n",
        "    print()\n",
        "    print(labels[new_model(mystery_iris).argmax()])"
      ],
      "metadata": {
        "id": "C5dptrLhpH8G",
        "colab": {
          "base_uri": "https://localhost:8080/"
        },
        "outputId": "1035c88d-e3a2-4840-b321-d037f3052ad2"
      },
      "execution_count": null,
      "outputs": [
        {
          "output_type": "stream",
          "name": "stdout",
          "text": [
            "tensor([ 15.4598,   9.1462, -21.4864])\n",
            "\n",
            "Iris setosa\n"
          ]
        }
      ]
    }
  ]
}