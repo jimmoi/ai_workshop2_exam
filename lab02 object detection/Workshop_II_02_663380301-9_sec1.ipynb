{
  "nbformat": 4,
  "nbformat_minor": 0,
  "metadata": {
    "colab": {
      "provenance": [],
      "gpuType": "T4"
    },
    "kernelspec": {
      "name": "python3",
      "display_name": "Python 3"
    },
    "language_info": {
      "name": "python"
    },
    "accelerator": "GPU"
  },
  "cells": [
    {
      "cell_type": "markdown",
      "source": [
        "# Object Detection with PyTorch\n",
        "\n",
        "This workshop demonstrates how to build a simple object detection system using PyTorch that can:\n",
        "- Detect a single object in an image\n",
        "- Classify the object type (circle or rectangle)\n",
        "- Locate the object's position (x, y coordinates)\n",
        "\n",
        "```\n",
        "Praisan Padungweang\n",
        "\n",
        "2024, College of Computing, KKU\n",
        "```"
      ],
      "metadata": {
        "id": "M-qkuRvQ5vGY"
      }
    },
    {
      "cell_type": "markdown",
      "source": [
        "## Common Issues and Tips\n",
        "\n",
        "1. **Data Normalization**:\n",
        "   - All position and size values are normalized to [0,1]\n",
        "   - Must denormalize for visualization\n",
        "   - Helps with training stability\n",
        "\n",
        "2. **Model Capacity**:\n",
        "   - Current architecture is intentionally simple\n",
        "   - Can be extended with more layers for complex scenes\n",
        "\n",
        "3. **Performance Metrics**:\n",
        "   - MSE loss combines classification and regression\n",
        "   - Consider separate metrics for position vs. classification accuracy"
      ],
      "metadata": {
        "id": "ZRhWZDxRNTeb"
      }
    },
    {
      "cell_type": "markdown",
      "source": [
        "## Prepare Dataset\n",
        "- Create custom dataset class for handle coco format annotation from label studio."
      ],
      "metadata": {
        "id": "MROaQhlYS1YU"
      }
    },
    {
      "cell_type": "code",
      "execution_count": 1,
      "metadata": {
        "colab": {
          "base_uri": "https://localhost:8080/"
        },
        "id": "dJM5ElGjPH9v",
        "outputId": "e4807889-2abd-4a73-ea5e-a167e2775232"
      },
      "outputs": [
        {
          "output_type": "stream",
          "name": "stdout",
          "text": [
            "Downloading...\n",
            "From: https://drive.google.com/uc?id=1sVTk0Wnrkoq-FN1USoMdfEJFI6LxYfHi\n",
            "To: /content/dataset_simpleDetection.zip\n",
            "\r  0% 0.00/36.6k [00:00<?, ?B/s]\r100% 36.6k/36.6k [00:00<00:00, 61.2MB/s]\n"
          ]
        }
      ],
      "source": [
        "# Dowload the dataset and unzip it\n",
        "!gdown 1sVTk0Wnrkoq-FN1USoMdfEJFI6LxYfHi"
      ]
    },
    {
      "cell_type": "code",
      "source": [
        "!unzip /content/dataset_simpleDetection"
      ],
      "metadata": {
        "colab": {
          "base_uri": "https://localhost:8080/"
        },
        "id": "kGAIVQkTR2OS",
        "outputId": "8c36f7d6-c983-4709-8b44-69f855383b8f"
      },
      "execution_count": 2,
      "outputs": [
        {
          "output_type": "stream",
          "name": "stdout",
          "text": [
            "Archive:  /content/dataset_simpleDetection.zip\n",
            "replace train/images/055cf90b-image_87.png? [y]es, [n]o, [A]ll, [N]one, [r]ename: y\n",
            "  inflating: train/images/055cf90b-image_87.png  \n",
            "replace train/images/06fd5261-image_68.png? [y]es, [n]o, [A]ll, [N]one, [r]ename: A\n",
            "  inflating: train/images/06fd5261-image_68.png  \n",
            "  inflating: train/images/08c92a46-image_36.png  \n",
            "  inflating: train/images/0c392bac-image_76.png  \n",
            "  inflating: train/images/0d193863-image_71.png  \n",
            "  inflating: train/images/10758b91-image_92.png  \n",
            "  inflating: train/images/12883919-image_79.png  \n",
            "  inflating: train/images/15e6e73d-image_88.png  \n",
            "  inflating: train/images/20a82ac5-image_69.png  \n",
            "  inflating: train/images/21eba3dd-image_46.png  \n",
            "  inflating: train/images/23127e28-image_31.png  \n",
            "  inflating: train/images/313b0477-image_97.png  \n",
            "  inflating: train/images/348d4481-image_83.png  \n",
            "  inflating: train/images/3eb430e4-image_66.png  \n",
            "  inflating: train/images/43e7968b-image_70.png  \n",
            "  inflating: train/images/45e751cb-image_78.png  \n",
            "  inflating: train/images/4744b670-image_82.png  \n",
            "  inflating: train/images/488527ed-image_56.png  \n",
            "  inflating: train/images/4916531e-image_73.png  \n",
            "  inflating: train/images/49a0926d-image_39.png  \n",
            "  inflating: train/images/4bdbd7be-image_43.png  \n",
            "  inflating: train/images/4c91e3ed-image_91.png  \n",
            "  inflating: train/images/54215b06-image_63.png  \n",
            "  inflating: train/images/5b59ffde-image_98.png  \n",
            "  inflating: train/images/63bf282f-image_53.png  \n",
            "  inflating: train/images/66c96d74-image_93.png  \n",
            "  inflating: train/images/673e232d-image_34.png  \n",
            "  inflating: train/images/6f2a29de-image_84.png  \n",
            "  inflating: train/images/756e70c9-image_54.png  \n",
            "  inflating: train/images/76f017be-image_59.png  \n",
            "  inflating: train/images/7760aca5-image_61.png  \n",
            "  inflating: train/images/77d810f4-image_89.png  \n",
            "  inflating: train/images/79c3f4c5-image_51.png  \n",
            "  inflating: train/images/829ed944-image_72.png  \n",
            "  inflating: train/images/8462d3d0-image_52.png  \n",
            "  inflating: train/images/8959f522-image_40.png  \n",
            "  inflating: train/images/89e4d849-image_38.png  \n",
            "  inflating: train/images/8fd5a580-image_94.png  \n",
            "  inflating: train/images/912df0d8-image_57.png  \n",
            "  inflating: train/images/9661b1df-image_49.png  \n",
            "  inflating: train/images/a03d3cd6-image_77.png  \n",
            "  inflating: train/images/a184094b-image_95.png  \n",
            "  inflating: train/images/a4d7ea0e-image_62.png  \n",
            "  inflating: train/images/aa5e8349-image_35.png  \n",
            "  inflating: train/images/abeb4e33-image_47.png  \n",
            "  inflating: train/images/ae733e28-image_33.png  \n",
            "  inflating: train/images/b19746ff-image_58.png  \n",
            "  inflating: train/images/b37262d9-image_42.png  \n",
            "  inflating: train/images/b7058f7e-image_75.png  \n",
            "  inflating: train/images/c0058935-image_45.png  \n",
            "  inflating: train/images/c0d5e5d2-image_60.png  \n",
            "  inflating: train/images/c26f05d5-image_32.png  \n",
            "  inflating: train/images/c51b73f7-image_85.png  \n",
            "  inflating: train/images/cdcc96f4-image_67.png  \n",
            "  inflating: train/images/ce389351-image_80.png  \n",
            "  inflating: train/images/d944e6b1-image_74.png  \n",
            "  inflating: train/images/daf6cf14-image_90.png  \n",
            "  inflating: train/images/db9c93d7-image_37.png  \n",
            "  inflating: train/images/dc2f4eb0-image_55.png  \n",
            "  inflating: train/images/dd2d3c9b-image_96.png  \n",
            "  inflating: train/images/def72041-image_50.png  \n",
            "  inflating: train/images/e79001ae-image_44.png  \n",
            "  inflating: train/images/e9694443-image_99.png  \n",
            "  inflating: train/images/ea432450-image_41.png  \n",
            "  inflating: train/images/ec1afc94-image_48.png  \n",
            "  inflating: train/images/ee1710c3-image_81.png  \n",
            "  inflating: train/images/eef161c3-image_86.png  \n",
            "  inflating: train/images/f1e05245-image_65.png  \n",
            "  inflating: train/images/f6fb7d3e-image_30.png  \n",
            "  inflating: train/images/f9f7ed87-image_64.png  \n",
            "  inflating: val/images/09a5f448-image_10.png  \n",
            "  inflating: val/images/24bf2adf-image_9.png  \n",
            "  inflating: val/images/53b51ad6-image_1.png  \n",
            "  inflating: val/images/5a067713-image_3.png  \n",
            "  inflating: val/images/5bc56f52-image_0.png  \n",
            "  inflating: val/images/67b5132c-image_2.png  \n",
            "  inflating: val/images/78ccbe94-image_14.png  \n",
            "  inflating: val/images/8aaa3c26-image_7.png  \n",
            "  inflating: val/images/a1522e3f-image_5.png  \n",
            "  inflating: val/images/bf9580ba-image_11.png  \n",
            "  inflating: val/images/c32e414d-image_12.png  \n",
            "  inflating: val/images/dfb35841-image_4.png  \n",
            "  inflating: val/images/ed9622b7-image_13.png  \n",
            "  inflating: val/images/ef367ccb-image_8.png  \n",
            "  inflating: val/images/fff30759-image_6.png  \n",
            "  inflating: test.json               \n",
            "  inflating: train.json              \n",
            "  inflating: val.json                \n",
            "  inflating: test/images/180a4454-image_16.png  \n",
            "  inflating: test/images/259fe9bb-image_18.png  \n",
            "  inflating: test/images/36ce339e-image_17.png  \n",
            "  inflating: test/images/43045b4c-image_20.png  \n",
            "  inflating: test/images/4d149e67-image_24.png  \n",
            "  inflating: test/images/4d4c3c91-image_15.png  \n",
            "  inflating: test/images/5451082e-image_27.png  \n",
            "  inflating: test/images/5e825a28-image_21.png  \n",
            "  inflating: test/images/66215cd2-image_25.png  \n",
            "  inflating: test/images/748058ef-image_29.png  \n",
            "  inflating: test/images/7d5a41f2-image_26.png  \n",
            "  inflating: test/images/8a1f55a3-image_28.png  \n",
            "  inflating: test/images/c689aa25-image_19.png  \n",
            "  inflating: test/images/cdfd5023-image_22.png  \n",
            "  inflating: test/images/e31858f9-image_23.png  \n"
          ]
        }
      ]
    },
    {
      "cell_type": "code",
      "source": [
        "import os\n",
        "import json\n",
        "import random\n",
        "from pycocotools.coco import COCO\n",
        "from torch.utils.data import Dataset, DataLoader\n",
        "import torchvision.transforms as transforms\n",
        "import torch.nn as nn\n",
        "import torch.optim as optim\n",
        "from PIL import Image\n",
        "import torch\n",
        "import numpy as np\n",
        "\n",
        "import matplotlib.pyplot as plt\n",
        "import matplotlib.patches as patches\n",
        "from tqdm import tqdm\n",
        "from sklearn.metrics import precision_recall_fscore_support"
      ],
      "metadata": {
        "id": "Zj34gqVb70JK"
      },
      "execution_count": 3,
      "outputs": []
    },
    {
      "cell_type": "code",
      "source": [
        "# Create dataset class for handle coco annoation format\n",
        "\n",
        "class SyntheticDectectionDataset(Dataset):\n",
        "    def __init__(self, images_path, annotations_file, transform=None):\n",
        "        self.images_path = images_path\n",
        "        self.coco = COCO(annotations_file)\n",
        "        self.transform = transform\n",
        "        self.image_ids = list(self.coco.imgs.keys())\n",
        "\n",
        "    def __len__(self):\n",
        "        return len(self.image_ids)\n",
        "\n",
        "    def __getitem__(self, idx):\n",
        "        image_id = self.image_ids[idx]\n",
        "        image_info = self.coco.imgs[image_id]\n",
        "        image_path = os.path.join(self.images_path, image_info['file_name']).replace(\"\\\\\", '/')\n",
        "        image = Image.open(image_path).convert('L')\n",
        "        image = np.array(image, dtype=np.float32) / 255.\n",
        "\n",
        "        #load annotations\n",
        "        anns_ids = self.coco.getAnnIds(imgIds=image_id)\n",
        "        anns = self.coco.loadAnns(anns_ids)\n",
        "\n",
        "        #prepare bbox and label\n",
        "        bboxes = [ann['bbox'] for ann in anns]\n",
        "        labels = [ann['category_id'] for ann in anns]\n",
        "\n",
        "        #notmalize bbox [x,y,w,h]\n",
        "        bboxes = np.array(bboxes, dtype=np.float32)\n",
        "        bboxes[:, 0] /= image_info['width']\n",
        "        bboxes[:, 1] /= image_info['height']\n",
        "        bboxes[:, 2] /= image_info['width']\n",
        "        bboxes[:, 3] /= image_info['height']\n",
        "\n",
        "        bboxes = torch.tensor(bboxes, dtype=torch.float32)\n",
        "        labels = torch.tensor(labels, dtype=torch.int64)\n",
        "\n",
        "        #create target dictionary\n",
        "        target = {'bboxes': bboxes,\n",
        "                  'labels': labels}\n",
        "\n",
        "        if self.transform:\n",
        "            image = self.transform(image)\n",
        "\n",
        "        return image, target"
      ],
      "metadata": {
        "id": "vyFOfqZ978HK"
      },
      "execution_count": 4,
      "outputs": []
    },
    {
      "cell_type": "code",
      "source": [],
      "metadata": {
        "id": "VjSkQMSEpq2M"
      },
      "execution_count": 4,
      "outputs": []
    },
    {
      "cell_type": "code",
      "source": [
        "# Set paths\n",
        "train_dir = \"/content/train\"\n",
        "test_dir = \"/content/test\"\n",
        "val_dir = \"/content/val\"\n",
        "\n",
        "train_anns = \"/content/train.json\"\n",
        "test_anns = \"/content/test.json\"\n",
        "val_anns = \"/content/val.json\"\n",
        "\n",
        "train_transform = transforms.Compose([\n",
        "    transforms.ToTensor()\n",
        "])\n",
        "\n",
        "test_transform = transforms.Compose([\n",
        "    transforms.ToTensor()])\n",
        "\n",
        "val_transform = transforms.Compose([\n",
        "    transforms.ToTensor()])"
      ],
      "metadata": {
        "id": "2IDySWYrTg1q"
      },
      "execution_count": 5,
      "outputs": []
    },
    {
      "cell_type": "code",
      "source": [
        "# Create datasets\n",
        "train_dataset = SyntheticDectectionDataset(train_dir, train_anns, transform=train_transform)\n",
        "\n",
        "\n",
        "# Create dataloaders\n",
        "train_loader = DataLoader(train_dataset, batch_size=16, shuffle=True)\n"
      ],
      "metadata": {
        "id": "FxBtE1TI98oc",
        "colab": {
          "base_uri": "https://localhost:8080/"
        },
        "outputId": "05fbc343-4ec1-4a5b-f18d-0068d418a7b6"
      },
      "execution_count": 6,
      "outputs": [
        {
          "output_type": "stream",
          "name": "stdout",
          "text": [
            "loading annotations into memory...\n",
            "Done (t=0.00s)\n",
            "creating index...\n",
            "index created!\n"
          ]
        }
      ]
    },
    {
      "cell_type": "code",
      "source": [
        "def plot_samples_from_dataloader(dataloader, num_samples=1):\n",
        "    images, targets = next(iter(dataloader))\n",
        "    num_samples = min(num_samples, len(images))\n",
        "\n",
        "    # Create a grid for plotting\n",
        "    fig, axes = plt.subplots(1, num_samples, figsize=(5 * num_samples, 5))\n",
        "    # Ensure `axes` is iterable when there's only one sample\n",
        "    if num_samples == 1:\n",
        "        axes = [axes]\n",
        "\n",
        "    for i in range(num_samples):\n",
        "        image = images[i].numpy().squeeze()  # Convert to numpy and remove the channel dimension\n",
        "        gt_bboxes = targets['bboxes'][i].numpy()  # Ground truth bounding boxes for this image\n",
        "        labels = targets['labels'][i].numpy()  # Ground truth labels for this image\n",
        "\n",
        "        # Plot the image\n",
        "        axes[i].imshow(image, cmap='gray')\n",
        "        axes[i].set_title(f\"Sample {i + 1} Ground Truth\")\n",
        "\n",
        "        # Plot the bounding boxes\n",
        "        for bbox, label in zip(gt_bboxes, labels):\n",
        "            # Denormalize the bounding box to pixel coordinates\n",
        "            x, y, w, h = bbox *64\n",
        "            rect = plt.Rectangle((x, y), w, h, linewidth=2, edgecolor='g', facecolor='none')\n",
        "            axes[i].add_patch(rect)\n",
        "\n",
        "            # Add label above the bounding box\n",
        "            label_text = \"Circle\" if label == 0 else \"Rectangle\"\n",
        "            axes[i].text(x, y - 1, label_text, color='g', fontsize=10, weight='bold',\n",
        "                 bbox=dict(facecolor='white', alpha=0.9, edgecolor='none'))\n",
        "\n",
        "        axes[i].axis('off')\n",
        "\n",
        "    plt.tight_layout()\n",
        "    plt.show()\n",
        "\n",
        "plot_samples_from_dataloader(train_loader, num_samples=3)"
      ],
      "metadata": {
        "colab": {
          "base_uri": "https://localhost:8080/",
          "height": 399
        },
        "id": "TZEqd7yVwLU7",
        "outputId": "03559cba-c1d5-404a-9002-67713f20b0ed"
      },
      "execution_count": 7,
      "outputs": [
        {
          "output_type": "display_data",
          "data": {
            "text/plain": [
              "<Figure size 1500x500 with 3 Axes>"
            ],
            "image/png": "[encoded data removed]"
          },
          "metadata": {}
        }
      ]
    },
    {
      "cell_type": "markdown",
      "source": [
        "## Model Architecture\n",
        "The CNN architecture consists of:\n",
        "\n",
        "1. **Convolutional Layers**:\n",
        "   - First conv layer: 1→32 channels, 3x3 kernel\n",
        "   - Second conv layer: 32→64 channels, 3x3 kernel\n",
        "   - Each followed by ReLU activation and 2x2 max pooling\n",
        "\n",
        "2. **Fully Connected Layers**:\n",
        "   - First FC layer: 64×16×16 → 128 neurons\n",
        "   - Output layer: 128 → 5 outputs (class, x, y, w, h)\n",
        "\n",
        "Input image processing:\n",
        "- Input: 64×64×1 (grayscale)\n",
        "- After conv1+pool: 32×32×32\n",
        "- After conv2+pool: 16×16×64\n",
        "- Flattened: 16,384 features\n",
        "- Final output: 5 values"
      ],
      "metadata": {
        "id": "5Fm7IIOwTmS1"
      }
    },
    {
      "cell_type": "code",
      "source": [
        "device = torch.device('cuda' if torch.cuda.is_available() else 'cpu')"
      ],
      "metadata": {
        "id": "PtHlaLeEUcQc"
      },
      "execution_count": 8,
      "outputs": []
    },
    {
      "cell_type": "code",
      "source": [
        "# Create a CNN model for object detection\n",
        "\n",
        "class SimpleObjectDetector(nn.Module):\n",
        "    def __init__(self):\n",
        "        super().__init__()\n",
        "        self.conv1 = nn.Conv2d(1, 32, kernel_size=3, padding=1)\n",
        "        self.conv2 = nn.Conv2d(32, 64, kernel_size=3, padding=1)\n",
        "        self.conv3 = nn.Conv2d(64, 128, kernel_size=3, padding=1)\n",
        "        self.pool = nn.MaxPool2d(2, 2)\n",
        "        self.fc1 = nn.Linear(128 * 8 * 8, 128)\n",
        "        self.fc2 = nn.Linear(128, 70)\n",
        "        self.fc3 = nn.Linear(70, 128)\n",
        "        self.fc4 = nn.Linear(128, 5) #output (class, x, y, w, h)\n",
        "\n",
        "    def forward(self, x):\n",
        "        # conv\n",
        "        x = self.pool(torch.relu(self.conv1(x)))\n",
        "        x = self.pool(torch.relu(self.conv2(x)))\n",
        "        x = self.pool(torch.relu(self.conv3(x)))\n",
        "        #dense\n",
        "        x = nn.Flatten()(x)\n",
        "        x = torch.relu(self.fc1(x))\n",
        "        x = torch.relu(self.fc2(x))\n",
        "        x = torch.relu(self.fc3(x))\n",
        "        x = torch.sigmoid(self.fc4(x))\n",
        "        return x"
      ],
      "metadata": {
        "id": "Sl-6Ww1KOt5C"
      },
      "execution_count": 9,
      "outputs": []
    },
    {
      "cell_type": "code",
      "source": [
        "!pip install torchview"
      ],
      "metadata": {
        "colab": {
          "base_uri": "https://localhost:8080/"
        },
        "id": "Uz-RgTIC1DVM",
        "outputId": "565a4968-242f-4f8c-e375-990176f4d454"
      },
      "execution_count": null,
      "outputs": [
        {
          "output_type": "stream",
          "name": "stdout",
          "text": [
            "Requirement already satisfied: torchview in /usr/local/lib/python3.10/dist-packages (0.2.6)\n"
          ]
        }
      ]
    },
    {
      "cell_type": "code",
      "source": [
        "from torchview import draw_graph\n",
        "from torchsummary import summary"
      ],
      "metadata": {
        "id": "6ms9FDlI1Jab"
      },
      "execution_count": 10,
      "outputs": []
    },
    {
      "cell_type": "code",
      "source": [
        "# prompt: use summary\n",
        "\n",
        "model = SimpleObjectDetector().to(device)\n",
        "summary(model, (1, 64, 64))"
      ],
      "metadata": {
        "colab": {
          "base_uri": "https://localhost:8080/"
        },
        "id": "SBzP0npaBghG",
        "outputId": "e2927876-f61b-4ad0-e2f3-374c11ce8508"
      },
      "execution_count": 11,
      "outputs": [
        {
          "output_type": "stream",
          "name": "stdout",
          "text": [
            "----------------------------------------------------------------\n",
            "        Layer (type)               Output Shape         Param #\n",
            "================================================================\n",
            "            Conv2d-1           [-1, 32, 64, 64]             320\n",
            "         MaxPool2d-2           [-1, 32, 32, 32]               0\n",
            "            Conv2d-3           [-1, 64, 32, 32]          18,496\n",
            "         MaxPool2d-4           [-1, 64, 16, 16]               0\n",
            "            Conv2d-5          [-1, 128, 16, 16]          73,856\n",
            "         MaxPool2d-6            [-1, 128, 8, 8]               0\n",
            "            Linear-7                  [-1, 128]       1,048,704\n",
            "            Linear-8                   [-1, 70]           9,030\n",
            "            Linear-9                  [-1, 128]           9,088\n",
            "           Linear-10                    [-1, 5]             645\n",
            "================================================================\n",
            "Total params: 1,160,139\n",
            "Trainable params: 1,160,139\n",
            "Non-trainable params: 0\n",
            "----------------------------------------------------------------\n",
            "Input size (MB): 0.02\n",
            "Forward/backward pass size (MB): 2.19\n",
            "Params size (MB): 4.43\n",
            "Estimated Total Size (MB): 6.63\n",
            "----------------------------------------------------------------\n"
          ]
        }
      ]
    },
    {
      "cell_type": "code",
      "source": [
        "draw_graph(model, input_size=(1, 1, 64, 64)).visual_graph"
      ],
      "metadata": {
        "colab": {
          "base_uri": "https://localhost:8080/",
          "height": 1000
        },
        "id": "VOzBerrQ1fbz",
        "outputId": "99ff34b2-1c01-46b5-a82b-20254a36a3fd"
      },
      "execution_count": 12,
      "outputs": [
        {
          "output_type": "execute_result",
          "data": {
            "image/svg+xml": "<?xml version=\"1.0\" encoding=\"UTF-8\" standalone=\"no\"?>\n<!DOCTYPE svg PUBLIC \"-//W3C//DTD SVG 1.1//EN\"\n \"http://www.w3.org/Graphics/SVG/1.1/DTD/svg11.dtd\">\n<!-- Generated by graphviz version 2.43.0 (0)\n -->\n<!-- Title: model Pages: 1 -->\n<svg width=\"140pt\" height=\"864pt\"\n viewBox=\"0.00 0.00 140.00 864.00\" xmlns=\"http://www.w3.org/2000/svg\" xmlns:xlink=\"http://www.w3.org/1999/xlink\">\n<g id=\"graph0\" class=\"graph\" transform=\"scale(0.57 0.57) rotate(0) translate(4 1508)\">\n<title>model</title>\n<polygon fill=\"white\" stroke=\"transparent\" points=\"-4,4 -4,-1508 241,-1508 241,4 -4,4\"/>\n<!-- 0 -->\n<g id=\"node1\" class=\"node\">\n<title>0</title>\n<polygon fill=\"lightyellow\" stroke=\"transparent\" points=\"207.5,-1504 29.5,-1504 29.5,-1472 207.5,-1472 207.5,-1504\"/>\n<polygon fill=\"none\" stroke=\"black\" points=\"29.5,-1472 29.5,-1504 112.5,-1504 112.5,-1472 29.5,-1472\"/>\n<text text-anchor=\"start\" x=\"34.5\" y=\"-1491\" font-family=\"Linux libertine\" font-size=\"10.00\">input&#45;tensor</text>\n<text text-anchor=\"start\" x=\"49.5\" y=\"-1480\" font-family=\"Linux libertine\" font-size=\"10.00\">depth:0</text>\n<polygon fill=\"none\" stroke=\"black\" points=\"112.5,-1472 112.5,-1504 207.5,-1504 207.5,-1472 112.5,-1472\"/>\n<text text-anchor=\"start\" x=\"117.5\" y=\"-1485.5\" font-family=\"Linux libertine\" font-size=\"10.00\">(1, 1, 64, 64)</text>\n</g>\n<!-- 1 -->\n<g id=\"node2\" class=\"node\">\n<title>1</title>\n<polygon fill=\"#c1ffc1\" stroke=\"transparent\" points=\"228,-1436 9,-1436 9,-1394 228,-1394 228,-1436\"/>\n<polygon fill=\"none\" stroke=\"black\" points=\"9.5,-1394 9.5,-1436 62.5,-1436 62.5,-1394 9.5,-1394\"/>\n<text text-anchor=\"start\" x=\"17.5\" y=\"-1418\" font-family=\"Linux libertine\" font-size=\"10.00\">Conv2d</text>\n<text text-anchor=\"start\" x=\"14.5\" y=\"-1407\" font-family=\"Linux libertine\" font-size=\"10.00\">depth:1</text>\n<polygon fill=\"none\" stroke=\"black\" points=\"62.5,-1415 62.5,-1436 121.5,-1436 121.5,-1415 62.5,-1415\"/>\n<text text-anchor=\"start\" x=\"73.5\" y=\"-1423\" font-family=\"Linux libertine\" font-size=\"10.00\">input:</text>\n<polygon fill=\"none\" stroke=\"black\" points=\"121.5,-1415 121.5,-1436 228.5,-1436 228.5,-1415 121.5,-1415\"/>\n<text text-anchor=\"start\" x=\"129.5\" y=\"-1423\" font-family=\"Linux libertine\" font-size=\"10.00\">(1, 1, 64, 64) </text>\n<polygon fill=\"none\" stroke=\"black\" points=\"62.5,-1394 62.5,-1415 121.5,-1415 121.5,-1394 62.5,-1394\"/>\n<text text-anchor=\"start\" x=\"67.5\" y=\"-1402\" font-family=\"Linux libertine\" font-size=\"10.00\">output: </text>\n<polygon fill=\"none\" stroke=\"black\" points=\"121.5,-1394 121.5,-1415 228.5,-1415 228.5,-1394 121.5,-1394\"/>\n<text text-anchor=\"start\" x=\"126.5\" y=\"-1402\" font-family=\"Linux libertine\" font-size=\"10.00\">(1, 32, 64, 64) </text>\n</g>\n<!-- 0&#45;&gt;1 -->\n<g id=\"edge1\" class=\"edge\">\n<title>0&#45;&gt;1</title>\n<path fill=\"none\" stroke=\"black\" d=\"M118.5,-1471.94C118.5,-1464.45 118.5,-1455.12 118.5,-1446.24\"/>\n<polygon fill=\"black\" stroke=\"black\" points=\"122,-1446.16 118.5,-1436.16 115,-1446.16 122,-1446.16\"/>\n</g>\n<!-- 2 -->\n<g id=\"node3\" class=\"node\">\n<title>2</title>\n<polygon fill=\"aliceblue\" stroke=\"transparent\" points=\"228,-1358 9,-1358 9,-1316 228,-1316 228,-1358\"/>\n<polygon fill=\"none\" stroke=\"black\" points=\"9.5,-1316 9.5,-1358 62.5,-1358 62.5,-1316 9.5,-1316\"/>\n<text text-anchor=\"start\" x=\"23.5\" y=\"-1340\" font-family=\"Linux libertine\" font-size=\"10.00\">relu</text>\n<text text-anchor=\"start\" x=\"14.5\" y=\"-1329\" font-family=\"Linux libertine\" font-size=\"10.00\">depth:1</text>\n<polygon fill=\"none\" stroke=\"black\" points=\"62.5,-1337 62.5,-1358 121.5,-1358 121.5,-1337 62.5,-1337\"/>\n<text text-anchor=\"start\" x=\"73.5\" y=\"-1345\" font-family=\"Linux libertine\" font-size=\"10.00\">input:</text>\n<polygon fill=\"none\" stroke=\"black\" points=\"121.5,-1337 121.5,-1358 228.5,-1358 228.5,-1337 121.5,-1337\"/>\n<text text-anchor=\"start\" x=\"126.5\" y=\"-1345\" font-family=\"Linux libertine\" font-size=\"10.00\">(1, 32, 64, 64) </text>\n<polygon fill=\"none\" stroke=\"black\" points=\"62.5,-1316 62.5,-1337 121.5,-1337 121.5,-1316 62.5,-1316\"/>\n<text text-anchor=\"start\" x=\"67.5\" y=\"-1324\" font-family=\"Linux libertine\" font-size=\"10.00\">output: </text>\n<polygon fill=\"none\" stroke=\"black\" points=\"121.5,-1316 121.5,-1337 228.5,-1337 228.5,-1316 121.5,-1316\"/>\n<text text-anchor=\"start\" x=\"126.5\" y=\"-1324\" font-family=\"Linux libertine\" font-size=\"10.00\">(1, 32, 64, 64) </text>\n</g>\n<!-- 1&#45;&gt;2 -->\n<g id=\"edge2\" class=\"edge\">\n<title>1&#45;&gt;2</title>\n<path fill=\"none\" stroke=\"black\" d=\"M118.5,-1393.63C118.5,-1385.82 118.5,-1376.73 118.5,-1368.18\"/>\n<polygon fill=\"black\" stroke=\"black\" points=\"122,-1368.16 118.5,-1358.16 115,-1368.16 122,-1368.16\"/>\n</g>\n<!-- 3 -->\n<g id=\"node4\" class=\"node\">\n<title>3</title>\n<polygon fill=\"#c1ffc1\" stroke=\"transparent\" points=\"234,-1280 3,-1280 3,-1238 234,-1238 234,-1280\"/>\n<polygon fill=\"none\" stroke=\"black\" points=\"3.5,-1238 3.5,-1280 68.5,-1280 68.5,-1238 3.5,-1238\"/>\n<text text-anchor=\"start\" x=\"8.5\" y=\"-1262\" font-family=\"Linux libertine\" font-size=\"10.00\">MaxPool2d</text>\n<text text-anchor=\"start\" x=\"14.5\" y=\"-1251\" font-family=\"Linux libertine\" font-size=\"10.00\">depth:1</text>\n<polygon fill=\"none\" stroke=\"black\" points=\"68.5,-1259 68.5,-1280 127.5,-1280 127.5,-1259 68.5,-1259\"/>\n<text text-anchor=\"start\" x=\"79.5\" y=\"-1267\" font-family=\"Linux libertine\" font-size=\"10.00\">input:</text>\n<polygon fill=\"none\" stroke=\"black\" points=\"127.5,-1259 127.5,-1280 234.5,-1280 234.5,-1259 127.5,-1259\"/>\n<text text-anchor=\"start\" x=\"132.5\" y=\"-1267\" font-family=\"Linux libertine\" font-size=\"10.00\">(1, 32, 64, 64) </text>\n<polygon fill=\"none\" stroke=\"black\" points=\"68.5,-1238 68.5,-1259 127.5,-1259 127.5,-1238 68.5,-1238\"/>\n<text text-anchor=\"start\" x=\"73.5\" y=\"-1246\" font-family=\"Linux libertine\" font-size=\"10.00\">output: </text>\n<polygon fill=\"none\" stroke=\"black\" points=\"127.5,-1238 127.5,-1259 234.5,-1259 234.5,-1238 127.5,-1238\"/>\n<text text-anchor=\"start\" x=\"132.5\" y=\"-1246\" font-family=\"Linux libertine\" font-size=\"10.00\">(1, 32, 32, 32) </text>\n</g>\n<!-- 2&#45;&gt;3 -->\n<g id=\"edge3\" class=\"edge\">\n<title>2&#45;&gt;3</title>\n<path fill=\"none\" stroke=\"black\" d=\"M118.5,-1315.63C118.5,-1307.82 118.5,-1298.73 118.5,-1290.18\"/>\n<polygon fill=\"black\" stroke=\"black\" points=\"122,-1290.16 118.5,-1280.16 115,-1290.16 122,-1290.16\"/>\n</g>\n<!-- 4 -->\n<g id=\"node5\" class=\"node\">\n<title>4</title>\n<polygon fill=\"#c1ffc1\" stroke=\"transparent\" points=\"228,-1202 9,-1202 9,-1160 228,-1160 228,-1202\"/>\n<polygon fill=\"none\" stroke=\"black\" points=\"9.5,-1160 9.5,-1202 62.5,-1202 62.5,-1160 9.5,-1160\"/>\n<text text-anchor=\"start\" x=\"17.5\" y=\"-1184\" font-family=\"Linux libertine\" font-size=\"10.00\">Conv2d</text>\n<text text-anchor=\"start\" x=\"14.5\" y=\"-1173\" font-family=\"Linux libertine\" font-size=\"10.00\">depth:1</text>\n<polygon fill=\"none\" stroke=\"black\" points=\"62.5,-1181 62.5,-1202 121.5,-1202 121.5,-1181 62.5,-1181\"/>\n<text text-anchor=\"start\" x=\"73.5\" y=\"-1189\" font-family=\"Linux libertine\" font-size=\"10.00\">input:</text>\n<polygon fill=\"none\" stroke=\"black\" points=\"121.5,-1181 121.5,-1202 228.5,-1202 228.5,-1181 121.5,-1181\"/>\n<text text-anchor=\"start\" x=\"126.5\" y=\"-1189\" font-family=\"Linux libertine\" font-size=\"10.00\">(1, 32, 32, 32) </text>\n<polygon fill=\"none\" stroke=\"black\" points=\"62.5,-1160 62.5,-1181 121.5,-1181 121.5,-1160 62.5,-1160\"/>\n<text text-anchor=\"start\" x=\"67.5\" y=\"-1168\" font-family=\"Linux libertine\" font-size=\"10.00\">output: </text>\n<polygon fill=\"none\" stroke=\"black\" points=\"121.5,-1160 121.5,-1181 228.5,-1181 228.5,-1160 121.5,-1160\"/>\n<text text-anchor=\"start\" x=\"126.5\" y=\"-1168\" font-family=\"Linux libertine\" font-size=\"10.00\">(1, 64, 32, 32) </text>\n</g>\n<!-- 3&#45;&gt;4 -->\n<g id=\"edge4\" class=\"edge\">\n<title>3&#45;&gt;4</title>\n<path fill=\"none\" stroke=\"black\" d=\"M118.5,-1237.63C118.5,-1229.82 118.5,-1220.73 118.5,-1212.18\"/>\n<polygon fill=\"black\" stroke=\"black\" points=\"122,-1212.16 118.5,-1202.16 115,-1212.16 122,-1212.16\"/>\n</g>\n<!-- 5 -->\n<g id=\"node6\" class=\"node\">\n<title>5</title>\n<polygon fill=\"aliceblue\" stroke=\"transparent\" points=\"228,-1124 9,-1124 9,-1082 228,-1082 228,-1124\"/>\n<polygon fill=\"none\" stroke=\"black\" points=\"9.5,-1082 9.5,-1124 62.5,-1124 62.5,-1082 9.5,-1082\"/>\n<text text-anchor=\"start\" x=\"23.5\" y=\"-1106\" font-family=\"Linux libertine\" font-size=\"10.00\">relu</text>\n<text text-anchor=\"start\" x=\"14.5\" y=\"-1095\" font-family=\"Linux libertine\" font-size=\"10.00\">depth:1</text>\n<polygon fill=\"none\" stroke=\"black\" points=\"62.5,-1103 62.5,-1124 121.5,-1124 121.5,-1103 62.5,-1103\"/>\n<text text-anchor=\"start\" x=\"73.5\" y=\"-1111\" font-family=\"Linux libertine\" font-size=\"10.00\">input:</text>\n<polygon fill=\"none\" stroke=\"black\" points=\"121.5,-1103 121.5,-1124 228.5,-1124 228.5,-1103 121.5,-1103\"/>\n<text text-anchor=\"start\" x=\"126.5\" y=\"-1111\" font-family=\"Linux libertine\" font-size=\"10.00\">(1, 64, 32, 32) </text>\n<polygon fill=\"none\" stroke=\"black\" points=\"62.5,-1082 62.5,-1103 121.5,-1103 121.5,-1082 62.5,-1082\"/>\n<text text-anchor=\"start\" x=\"67.5\" y=\"-1090\" font-family=\"Linux libertine\" font-size=\"10.00\">output: </text>\n<polygon fill=\"none\" stroke=\"black\" points=\"121.5,-1082 121.5,-1103 228.5,-1103 228.5,-1082 121.5,-1082\"/>\n<text text-anchor=\"start\" x=\"126.5\" y=\"-1090\" font-family=\"Linux libertine\" font-size=\"10.00\">(1, 64, 32, 32) </text>\n</g>\n<!-- 4&#45;&gt;5 -->\n<g id=\"edge5\" class=\"edge\">\n<title>4&#45;&gt;5</title>\n<path fill=\"none\" stroke=\"black\" d=\"M118.5,-1159.63C118.5,-1151.82 118.5,-1142.73 118.5,-1134.18\"/>\n<polygon fill=\"black\" stroke=\"black\" points=\"122,-1134.16 118.5,-1124.16 115,-1134.16 122,-1134.16\"/>\n</g>\n<!-- 6 -->\n<g id=\"node7\" class=\"node\">\n<title>6</title>\n<polygon fill=\"#c1ffc1\" stroke=\"transparent\" points=\"234,-1046 3,-1046 3,-1004 234,-1004 234,-1046\"/>\n<polygon fill=\"none\" stroke=\"black\" points=\"3.5,-1004 3.5,-1046 68.5,-1046 68.5,-1004 3.5,-1004\"/>\n<text text-anchor=\"start\" x=\"8.5\" y=\"-1028\" font-family=\"Linux libertine\" font-size=\"10.00\">MaxPool2d</text>\n<text text-anchor=\"start\" x=\"14.5\" y=\"-1017\" font-family=\"Linux libertine\" font-size=\"10.00\">depth:1</text>\n<polygon fill=\"none\" stroke=\"black\" points=\"68.5,-1025 68.5,-1046 127.5,-1046 127.5,-1025 68.5,-1025\"/>\n<text text-anchor=\"start\" x=\"79.5\" y=\"-1033\" font-family=\"Linux libertine\" font-size=\"10.00\">input:</text>\n<polygon fill=\"none\" stroke=\"black\" points=\"127.5,-1025 127.5,-1046 234.5,-1046 234.5,-1025 127.5,-1025\"/>\n<text text-anchor=\"start\" x=\"132.5\" y=\"-1033\" font-family=\"Linux libertine\" font-size=\"10.00\">(1, 64, 32, 32) </text>\n<polygon fill=\"none\" stroke=\"black\" points=\"68.5,-1004 68.5,-1025 127.5,-1025 127.5,-1004 68.5,-1004\"/>\n<text text-anchor=\"start\" x=\"73.5\" y=\"-1012\" font-family=\"Linux libertine\" font-size=\"10.00\">output: </text>\n<polygon fill=\"none\" stroke=\"black\" points=\"127.5,-1004 127.5,-1025 234.5,-1025 234.5,-1004 127.5,-1004\"/>\n<text text-anchor=\"start\" x=\"132.5\" y=\"-1012\" font-family=\"Linux libertine\" font-size=\"10.00\">(1, 64, 16, 16) </text>\n</g>\n<!-- 5&#45;&gt;6 -->\n<g id=\"edge6\" class=\"edge\">\n<title>5&#45;&gt;6</title>\n<path fill=\"none\" stroke=\"black\" d=\"M118.5,-1081.63C118.5,-1073.82 118.5,-1064.73 118.5,-1056.18\"/>\n<polygon fill=\"black\" stroke=\"black\" points=\"122,-1056.16 118.5,-1046.16 115,-1056.16 122,-1056.16\"/>\n</g>\n<!-- 7 -->\n<g id=\"node8\" class=\"node\">\n<title>7</title>\n<polygon fill=\"#c1ffc1\" stroke=\"transparent\" points=\"231,-968 6,-968 6,-926 231,-926 231,-968\"/>\n<polygon fill=\"none\" stroke=\"black\" points=\"6.5,-926 6.5,-968 59.5,-968 59.5,-926 6.5,-926\"/>\n<text text-anchor=\"start\" x=\"14.5\" y=\"-950\" font-family=\"Linux libertine\" font-size=\"10.00\">Conv2d</text>\n<text text-anchor=\"start\" x=\"11.5\" y=\"-939\" font-family=\"Linux libertine\" font-size=\"10.00\">depth:1</text>\n<polygon fill=\"none\" stroke=\"black\" points=\"59.5,-947 59.5,-968 118.5,-968 118.5,-947 59.5,-947\"/>\n<text text-anchor=\"start\" x=\"70.5\" y=\"-955\" font-family=\"Linux libertine\" font-size=\"10.00\">input:</text>\n<polygon fill=\"none\" stroke=\"black\" points=\"118.5,-947 118.5,-968 231.5,-968 231.5,-947 118.5,-947\"/>\n<text text-anchor=\"start\" x=\"126.5\" y=\"-955\" font-family=\"Linux libertine\" font-size=\"10.00\">(1, 64, 16, 16) </text>\n<polygon fill=\"none\" stroke=\"black\" points=\"59.5,-926 59.5,-947 118.5,-947 118.5,-926 59.5,-926\"/>\n<text text-anchor=\"start\" x=\"64.5\" y=\"-934\" font-family=\"Linux libertine\" font-size=\"10.00\">output: </text>\n<polygon fill=\"none\" stroke=\"black\" points=\"118.5,-926 118.5,-947 231.5,-947 231.5,-926 118.5,-926\"/>\n<text text-anchor=\"start\" x=\"123.5\" y=\"-934\" font-family=\"Linux libertine\" font-size=\"10.00\">(1, 128, 16, 16) </text>\n</g>\n<!-- 6&#45;&gt;7 -->\n<g id=\"edge7\" class=\"edge\">\n<title>6&#45;&gt;7</title>\n<path fill=\"none\" stroke=\"black\" d=\"M118.5,-1003.63C118.5,-995.82 118.5,-986.73 118.5,-978.18\"/>\n<polygon fill=\"black\" stroke=\"black\" points=\"122,-978.16 118.5,-968.16 115,-978.16 122,-978.16\"/>\n</g>\n<!-- 8 -->\n<g id=\"node9\" class=\"node\">\n<title>8</title>\n<polygon fill=\"aliceblue\" stroke=\"transparent\" points=\"231,-890 6,-890 6,-848 231,-848 231,-890\"/>\n<polygon fill=\"none\" stroke=\"black\" points=\"6.5,-848 6.5,-890 59.5,-890 59.5,-848 6.5,-848\"/>\n<text text-anchor=\"start\" x=\"20.5\" y=\"-872\" font-family=\"Linux libertine\" font-size=\"10.00\">relu</text>\n<text text-anchor=\"start\" x=\"11.5\" y=\"-861\" font-family=\"Linux libertine\" font-size=\"10.00\">depth:1</text>\n<polygon fill=\"none\" stroke=\"black\" points=\"59.5,-869 59.5,-890 118.5,-890 118.5,-869 59.5,-869\"/>\n<text text-anchor=\"start\" x=\"70.5\" y=\"-877\" font-family=\"Linux libertine\" font-size=\"10.00\">input:</text>\n<polygon fill=\"none\" stroke=\"black\" points=\"118.5,-869 118.5,-890 231.5,-890 231.5,-869 118.5,-869\"/>\n<text text-anchor=\"start\" x=\"123.5\" y=\"-877\" font-family=\"Linux libertine\" font-size=\"10.00\">(1, 128, 16, 16) </text>\n<polygon fill=\"none\" stroke=\"black\" points=\"59.5,-848 59.5,-869 118.5,-869 118.5,-848 59.5,-848\"/>\n<text text-anchor=\"start\" x=\"64.5\" y=\"-856\" font-family=\"Linux libertine\" font-size=\"10.00\">output: </text>\n<polygon fill=\"none\" stroke=\"black\" points=\"118.5,-848 118.5,-869 231.5,-869 231.5,-848 118.5,-848\"/>\n<text text-anchor=\"start\" x=\"123.5\" y=\"-856\" font-family=\"Linux libertine\" font-size=\"10.00\">(1, 128, 16, 16) </text>\n</g>\n<!-- 7&#45;&gt;8 -->\n<g id=\"edge8\" class=\"edge\">\n<title>7&#45;&gt;8</title>\n<path fill=\"none\" stroke=\"black\" d=\"M118.5,-925.63C118.5,-917.82 118.5,-908.73 118.5,-900.18\"/>\n<polygon fill=\"black\" stroke=\"black\" points=\"122,-900.16 118.5,-890.16 115,-900.16 122,-900.16\"/>\n</g>\n<!-- 9 -->\n<g id=\"node10\" class=\"node\">\n<title>9</title>\n<polygon fill=\"#c1ffc1\" stroke=\"transparent\" points=\"237,-812 0,-812 0,-770 237,-770 237,-812\"/>\n<polygon fill=\"none\" stroke=\"black\" points=\"0.5,-770 0.5,-812 65.5,-812 65.5,-770 0.5,-770\"/>\n<text text-anchor=\"start\" x=\"5.5\" y=\"-794\" font-family=\"Linux libertine\" font-size=\"10.00\">MaxPool2d</text>\n<text text-anchor=\"start\" x=\"11.5\" y=\"-783\" font-family=\"Linux libertine\" font-size=\"10.00\">depth:1</text>\n<polygon fill=\"none\" stroke=\"black\" points=\"65.5,-791 65.5,-812 124.5,-812 124.5,-791 65.5,-791\"/>\n<text text-anchor=\"start\" x=\"76.5\" y=\"-799\" font-family=\"Linux libertine\" font-size=\"10.00\">input:</text>\n<polygon fill=\"none\" stroke=\"black\" points=\"124.5,-791 124.5,-812 237.5,-812 237.5,-791 124.5,-791\"/>\n<text text-anchor=\"start\" x=\"129.5\" y=\"-799\" font-family=\"Linux libertine\" font-size=\"10.00\">(1, 128, 16, 16) </text>\n<polygon fill=\"none\" stroke=\"black\" points=\"65.5,-770 65.5,-791 124.5,-791 124.5,-770 65.5,-770\"/>\n<text text-anchor=\"start\" x=\"70.5\" y=\"-778\" font-family=\"Linux libertine\" font-size=\"10.00\">output: </text>\n<polygon fill=\"none\" stroke=\"black\" points=\"124.5,-770 124.5,-791 237.5,-791 237.5,-770 124.5,-770\"/>\n<text text-anchor=\"start\" x=\"135.5\" y=\"-778\" font-family=\"Linux libertine\" font-size=\"10.00\">(1, 128, 8, 8) </text>\n</g>\n<!-- 8&#45;&gt;9 -->\n<g id=\"edge9\" class=\"edge\">\n<title>8&#45;&gt;9</title>\n<path fill=\"none\" stroke=\"black\" d=\"M118.5,-847.63C118.5,-839.82 118.5,-830.73 118.5,-822.18\"/>\n<polygon fill=\"black\" stroke=\"black\" points=\"122,-822.16 118.5,-812.16 115,-822.16 122,-822.16\"/>\n</g>\n<!-- 10 -->\n<g id=\"node11\" class=\"node\">\n<title>10</title>\n<polygon fill=\"#c1ffc1\" stroke=\"transparent\" points=\"225,-734 12,-734 12,-692 225,-692 225,-734\"/>\n<polygon fill=\"none\" stroke=\"black\" points=\"12.5,-692 12.5,-734 65.5,-734 65.5,-692 12.5,-692\"/>\n<text text-anchor=\"start\" x=\"17.5\" y=\"-716\" font-family=\"Linux libertine\" font-size=\"10.00\">Flatten</text>\n<text text-anchor=\"start\" x=\"17.5\" y=\"-705\" font-family=\"Linux libertine\" font-size=\"10.00\">depth:1</text>\n<polygon fill=\"none\" stroke=\"black\" points=\"65.5,-713 65.5,-734 124.5,-734 124.5,-713 65.5,-713\"/>\n<text text-anchor=\"start\" x=\"76.5\" y=\"-721\" font-family=\"Linux libertine\" font-size=\"10.00\">input:</text>\n<polygon fill=\"none\" stroke=\"black\" points=\"124.5,-713 124.5,-734 225.5,-734 225.5,-713 124.5,-713\"/>\n<text text-anchor=\"start\" x=\"129.5\" y=\"-721\" font-family=\"Linux libertine\" font-size=\"10.00\">(1, 128, 8, 8) </text>\n<polygon fill=\"none\" stroke=\"black\" points=\"65.5,-692 65.5,-713 124.5,-713 124.5,-692 65.5,-692\"/>\n<text text-anchor=\"start\" x=\"70.5\" y=\"-700\" font-family=\"Linux libertine\" font-size=\"10.00\">output: </text>\n<polygon fill=\"none\" stroke=\"black\" points=\"124.5,-692 124.5,-713 225.5,-713 225.5,-692 124.5,-692\"/>\n<text text-anchor=\"start\" x=\"144.5\" y=\"-700\" font-family=\"Linux libertine\" font-size=\"10.00\">(1, 8192) </text>\n</g>\n<!-- 9&#45;&gt;10 -->\n<g id=\"edge10\" class=\"edge\">\n<title>9&#45;&gt;10</title>\n<path fill=\"none\" stroke=\"black\" d=\"M118.5,-769.63C118.5,-761.82 118.5,-752.73 118.5,-744.18\"/>\n<polygon fill=\"black\" stroke=\"black\" points=\"122,-744.16 118.5,-734.16 115,-744.16 122,-744.16\"/>\n</g>\n<!-- 11 -->\n<g id=\"node12\" class=\"node\">\n<title>11</title>\n<polygon fill=\"#c1ffc1\" stroke=\"transparent\" points=\"210,-656 27,-656 27,-614 210,-614 210,-656\"/>\n<polygon fill=\"none\" stroke=\"black\" points=\"27.5,-614 27.5,-656 80.5,-656 80.5,-614 27.5,-614\"/>\n<text text-anchor=\"start\" x=\"35.5\" y=\"-638\" font-family=\"Linux libertine\" font-size=\"10.00\">Linear</text>\n<text text-anchor=\"start\" x=\"32.5\" y=\"-627\" font-family=\"Linux libertine\" font-size=\"10.00\">depth:1</text>\n<polygon fill=\"none\" stroke=\"black\" points=\"80.5,-635 80.5,-656 139.5,-656 139.5,-635 80.5,-635\"/>\n<text text-anchor=\"start\" x=\"91.5\" y=\"-643\" font-family=\"Linux libertine\" font-size=\"10.00\">input:</text>\n<polygon fill=\"none\" stroke=\"black\" points=\"139.5,-635 139.5,-656 210.5,-656 210.5,-635 139.5,-635\"/>\n<text text-anchor=\"start\" x=\"144.5\" y=\"-643\" font-family=\"Linux libertine\" font-size=\"10.00\">(1, 8192) </text>\n<polygon fill=\"none\" stroke=\"black\" points=\"80.5,-614 80.5,-635 139.5,-635 139.5,-614 80.5,-614\"/>\n<text text-anchor=\"start\" x=\"85.5\" y=\"-622\" font-family=\"Linux libertine\" font-size=\"10.00\">output: </text>\n<polygon fill=\"none\" stroke=\"black\" points=\"139.5,-614 139.5,-635 210.5,-635 210.5,-614 139.5,-614\"/>\n<text text-anchor=\"start\" x=\"147.5\" y=\"-622\" font-family=\"Linux libertine\" font-size=\"10.00\">(1, 128) </text>\n</g>\n<!-- 10&#45;&gt;11 -->\n<g id=\"edge11\" class=\"edge\">\n<title>10&#45;&gt;11</title>\n<path fill=\"none\" stroke=\"black\" d=\"M118.5,-691.63C118.5,-683.82 118.5,-674.73 118.5,-666.18\"/>\n<polygon fill=\"black\" stroke=\"black\" points=\"122,-666.16 118.5,-656.16 115,-666.16 122,-666.16\"/>\n</g>\n<!-- 12 -->\n<g id=\"node13\" class=\"node\">\n<title>12</title>\n<polygon fill=\"aliceblue\" stroke=\"transparent\" points=\"207,-578 30,-578 30,-536 207,-536 207,-578\"/>\n<polygon fill=\"none\" stroke=\"black\" points=\"30.5,-536 30.5,-578 83.5,-578 83.5,-536 30.5,-536\"/>\n<text text-anchor=\"start\" x=\"44.5\" y=\"-560\" font-family=\"Linux libertine\" font-size=\"10.00\">relu</text>\n<text text-anchor=\"start\" x=\"35.5\" y=\"-549\" font-family=\"Linux libertine\" font-size=\"10.00\">depth:1</text>\n<polygon fill=\"none\" stroke=\"black\" points=\"83.5,-557 83.5,-578 142.5,-578 142.5,-557 83.5,-557\"/>\n<text text-anchor=\"start\" x=\"94.5\" y=\"-565\" font-family=\"Linux libertine\" font-size=\"10.00\">input:</text>\n<polygon fill=\"none\" stroke=\"black\" points=\"142.5,-557 142.5,-578 207.5,-578 207.5,-557 142.5,-557\"/>\n<text text-anchor=\"start\" x=\"147.5\" y=\"-565\" font-family=\"Linux libertine\" font-size=\"10.00\">(1, 128) </text>\n<polygon fill=\"none\" stroke=\"black\" points=\"83.5,-536 83.5,-557 142.5,-557 142.5,-536 83.5,-536\"/>\n<text text-anchor=\"start\" x=\"88.5\" y=\"-544\" font-family=\"Linux libertine\" font-size=\"10.00\">output: </text>\n<polygon fill=\"none\" stroke=\"black\" points=\"142.5,-536 142.5,-557 207.5,-557 207.5,-536 142.5,-536\"/>\n<text text-anchor=\"start\" x=\"147.5\" y=\"-544\" font-family=\"Linux libertine\" font-size=\"10.00\">(1, 128) </text>\n</g>\n<!-- 11&#45;&gt;12 -->\n<g id=\"edge12\" class=\"edge\">\n<title>11&#45;&gt;12</title>\n<path fill=\"none\" stroke=\"black\" d=\"M118.5,-613.63C118.5,-605.82 118.5,-596.73 118.5,-588.18\"/>\n<polygon fill=\"black\" stroke=\"black\" points=\"122,-588.16 118.5,-578.16 115,-588.16 122,-588.16\"/>\n</g>\n<!-- 13 -->\n<g id=\"node14\" class=\"node\">\n<title>13</title>\n<polygon fill=\"#c1ffc1\" stroke=\"transparent\" points=\"207,-500 30,-500 30,-458 207,-458 207,-500\"/>\n<polygon fill=\"none\" stroke=\"black\" points=\"30.5,-458 30.5,-500 83.5,-500 83.5,-458 30.5,-458\"/>\n<text text-anchor=\"start\" x=\"38.5\" y=\"-482\" font-family=\"Linux libertine\" font-size=\"10.00\">Linear</text>\n<text text-anchor=\"start\" x=\"35.5\" y=\"-471\" font-family=\"Linux libertine\" font-size=\"10.00\">depth:1</text>\n<polygon fill=\"none\" stroke=\"black\" points=\"83.5,-479 83.5,-500 142.5,-500 142.5,-479 83.5,-479\"/>\n<text text-anchor=\"start\" x=\"94.5\" y=\"-487\" font-family=\"Linux libertine\" font-size=\"10.00\">input:</text>\n<polygon fill=\"none\" stroke=\"black\" points=\"142.5,-479 142.5,-500 207.5,-500 207.5,-479 142.5,-479\"/>\n<text text-anchor=\"start\" x=\"147.5\" y=\"-487\" font-family=\"Linux libertine\" font-size=\"10.00\">(1, 128) </text>\n<polygon fill=\"none\" stroke=\"black\" points=\"83.5,-458 83.5,-479 142.5,-479 142.5,-458 83.5,-458\"/>\n<text text-anchor=\"start\" x=\"88.5\" y=\"-466\" font-family=\"Linux libertine\" font-size=\"10.00\">output: </text>\n<polygon fill=\"none\" stroke=\"black\" points=\"142.5,-458 142.5,-479 207.5,-479 207.5,-458 142.5,-458\"/>\n<text text-anchor=\"start\" x=\"150.5\" y=\"-466\" font-family=\"Linux libertine\" font-size=\"10.00\">(1, 70) </text>\n</g>\n<!-- 12&#45;&gt;13 -->\n<g id=\"edge13\" class=\"edge\">\n<title>12&#45;&gt;13</title>\n<path fill=\"none\" stroke=\"black\" d=\"M118.5,-535.63C118.5,-527.82 118.5,-518.73 118.5,-510.18\"/>\n<polygon fill=\"black\" stroke=\"black\" points=\"122,-510.16 118.5,-500.16 115,-510.16 122,-510.16\"/>\n</g>\n<!-- 14 -->\n<g id=\"node15\" class=\"node\">\n<title>14</title>\n<polygon fill=\"aliceblue\" stroke=\"transparent\" points=\"204,-422 33,-422 33,-380 204,-380 204,-422\"/>\n<polygon fill=\"none\" stroke=\"black\" points=\"33.5,-380 33.5,-422 86.5,-422 86.5,-380 33.5,-380\"/>\n<text text-anchor=\"start\" x=\"47.5\" y=\"-404\" font-family=\"Linux libertine\" font-size=\"10.00\">relu</text>\n<text text-anchor=\"start\" x=\"38.5\" y=\"-393\" font-family=\"Linux libertine\" font-size=\"10.00\">depth:1</text>\n<polygon fill=\"none\" stroke=\"black\" points=\"86.5,-401 86.5,-422 145.5,-422 145.5,-401 86.5,-401\"/>\n<text text-anchor=\"start\" x=\"97.5\" y=\"-409\" font-family=\"Linux libertine\" font-size=\"10.00\">input:</text>\n<polygon fill=\"none\" stroke=\"black\" points=\"145.5,-401 145.5,-422 204.5,-422 204.5,-401 145.5,-401\"/>\n<text text-anchor=\"start\" x=\"150.5\" y=\"-409\" font-family=\"Linux libertine\" font-size=\"10.00\">(1, 70) </text>\n<polygon fill=\"none\" stroke=\"black\" points=\"86.5,-380 86.5,-401 145.5,-401 145.5,-380 86.5,-380\"/>\n<text text-anchor=\"start\" x=\"91.5\" y=\"-388\" font-family=\"Linux libertine\" font-size=\"10.00\">output: </text>\n<polygon fill=\"none\" stroke=\"black\" points=\"145.5,-380 145.5,-401 204.5,-401 204.5,-380 145.5,-380\"/>\n<text text-anchor=\"start\" x=\"150.5\" y=\"-388\" font-family=\"Linux libertine\" font-size=\"10.00\">(1, 70) </text>\n</g>\n<!-- 13&#45;&gt;14 -->\n<g id=\"edge14\" class=\"edge\">\n<title>13&#45;&gt;14</title>\n<path fill=\"none\" stroke=\"black\" d=\"M118.5,-457.63C118.5,-449.82 118.5,-440.73 118.5,-432.18\"/>\n<polygon fill=\"black\" stroke=\"black\" points=\"122,-432.16 118.5,-422.16 115,-432.16 122,-432.16\"/>\n</g>\n<!-- 15 -->\n<g id=\"node16\" class=\"node\">\n<title>15</title>\n<polygon fill=\"#c1ffc1\" stroke=\"transparent\" points=\"207,-344 30,-344 30,-302 207,-302 207,-344\"/>\n<polygon fill=\"none\" stroke=\"black\" points=\"30.5,-302 30.5,-344 83.5,-344 83.5,-302 30.5,-302\"/>\n<text text-anchor=\"start\" x=\"38.5\" y=\"-326\" font-family=\"Linux libertine\" font-size=\"10.00\">Linear</text>\n<text text-anchor=\"start\" x=\"35.5\" y=\"-315\" font-family=\"Linux libertine\" font-size=\"10.00\">depth:1</text>\n<polygon fill=\"none\" stroke=\"black\" points=\"83.5,-323 83.5,-344 142.5,-344 142.5,-323 83.5,-323\"/>\n<text text-anchor=\"start\" x=\"94.5\" y=\"-331\" font-family=\"Linux libertine\" font-size=\"10.00\">input:</text>\n<polygon fill=\"none\" stroke=\"black\" points=\"142.5,-323 142.5,-344 207.5,-344 207.5,-323 142.5,-323\"/>\n<text text-anchor=\"start\" x=\"150.5\" y=\"-331\" font-family=\"Linux libertine\" font-size=\"10.00\">(1, 70) </text>\n<polygon fill=\"none\" stroke=\"black\" points=\"83.5,-302 83.5,-323 142.5,-323 142.5,-302 83.5,-302\"/>\n<text text-anchor=\"start\" x=\"88.5\" y=\"-310\" font-family=\"Linux libertine\" font-size=\"10.00\">output: </text>\n<polygon fill=\"none\" stroke=\"black\" points=\"142.5,-302 142.5,-323 207.5,-323 207.5,-302 142.5,-302\"/>\n<text text-anchor=\"start\" x=\"147.5\" y=\"-310\" font-family=\"Linux libertine\" font-size=\"10.00\">(1, 128) </text>\n</g>\n<!-- 14&#45;&gt;15 -->\n<g id=\"edge15\" class=\"edge\">\n<title>14&#45;&gt;15</title>\n<path fill=\"none\" stroke=\"black\" d=\"M118.5,-379.63C118.5,-371.82 118.5,-362.73 118.5,-354.18\"/>\n<polygon fill=\"black\" stroke=\"black\" points=\"122,-354.16 118.5,-344.16 115,-354.16 122,-354.16\"/>\n</g>\n<!-- 16 -->\n<g id=\"node17\" class=\"node\">\n<title>16</title>\n<polygon fill=\"aliceblue\" stroke=\"transparent\" points=\"207,-266 30,-266 30,-224 207,-224 207,-266\"/>\n<polygon fill=\"none\" stroke=\"black\" points=\"30.5,-224 30.5,-266 83.5,-266 83.5,-224 30.5,-224\"/>\n<text text-anchor=\"start\" x=\"44.5\" y=\"-248\" font-family=\"Linux libertine\" font-size=\"10.00\">relu</text>\n<text text-anchor=\"start\" x=\"35.5\" y=\"-237\" font-family=\"Linux libertine\" font-size=\"10.00\">depth:1</text>\n<polygon fill=\"none\" stroke=\"black\" points=\"83.5,-245 83.5,-266 142.5,-266 142.5,-245 83.5,-245\"/>\n<text text-anchor=\"start\" x=\"94.5\" y=\"-253\" font-family=\"Linux libertine\" font-size=\"10.00\">input:</text>\n<polygon fill=\"none\" stroke=\"black\" points=\"142.5,-245 142.5,-266 207.5,-266 207.5,-245 142.5,-245\"/>\n<text text-anchor=\"start\" x=\"147.5\" y=\"-253\" font-family=\"Linux libertine\" font-size=\"10.00\">(1, 128) </text>\n<polygon fill=\"none\" stroke=\"black\" points=\"83.5,-224 83.5,-245 142.5,-245 142.5,-224 83.5,-224\"/>\n<text text-anchor=\"start\" x=\"88.5\" y=\"-232\" font-family=\"Linux libertine\" font-size=\"10.00\">output: </text>\n<polygon fill=\"none\" stroke=\"black\" points=\"142.5,-224 142.5,-245 207.5,-245 207.5,-224 142.5,-224\"/>\n<text text-anchor=\"start\" x=\"147.5\" y=\"-232\" font-family=\"Linux libertine\" font-size=\"10.00\">(1, 128) </text>\n</g>\n<!-- 15&#45;&gt;16 -->\n<g id=\"edge16\" class=\"edge\">\n<title>15&#45;&gt;16</title>\n<path fill=\"none\" stroke=\"black\" d=\"M118.5,-301.63C118.5,-293.82 118.5,-284.73 118.5,-276.18\"/>\n<polygon fill=\"black\" stroke=\"black\" points=\"122,-276.16 118.5,-266.16 115,-276.16 122,-276.16\"/>\n</g>\n<!-- 17 -->\n<g id=\"node18\" class=\"node\">\n<title>17</title>\n<polygon fill=\"#c1ffc1\" stroke=\"transparent\" points=\"207,-188 30,-188 30,-146 207,-146 207,-188\"/>\n<polygon fill=\"none\" stroke=\"black\" points=\"30.5,-146 30.5,-188 83.5,-188 83.5,-146 30.5,-146\"/>\n<text text-anchor=\"start\" x=\"38.5\" y=\"-170\" font-family=\"Linux libertine\" font-size=\"10.00\">Linear</text>\n<text text-anchor=\"start\" x=\"35.5\" y=\"-159\" font-family=\"Linux libertine\" font-size=\"10.00\">depth:1</text>\n<polygon fill=\"none\" stroke=\"black\" points=\"83.5,-167 83.5,-188 142.5,-188 142.5,-167 83.5,-167\"/>\n<text text-anchor=\"start\" x=\"94.5\" y=\"-175\" font-family=\"Linux libertine\" font-size=\"10.00\">input:</text>\n<polygon fill=\"none\" stroke=\"black\" points=\"142.5,-167 142.5,-188 207.5,-188 207.5,-167 142.5,-167\"/>\n<text text-anchor=\"start\" x=\"147.5\" y=\"-175\" font-family=\"Linux libertine\" font-size=\"10.00\">(1, 128) </text>\n<polygon fill=\"none\" stroke=\"black\" points=\"83.5,-146 83.5,-167 142.5,-167 142.5,-146 83.5,-146\"/>\n<text text-anchor=\"start\" x=\"88.5\" y=\"-154\" font-family=\"Linux libertine\" font-size=\"10.00\">output: </text>\n<polygon fill=\"none\" stroke=\"black\" points=\"142.5,-146 142.5,-167 207.5,-167 207.5,-146 142.5,-146\"/>\n<text text-anchor=\"start\" x=\"153.5\" y=\"-154\" font-family=\"Linux libertine\" font-size=\"10.00\">(1, 5) </text>\n</g>\n<!-- 16&#45;&gt;17 -->\n<g id=\"edge17\" class=\"edge\">\n<title>16&#45;&gt;17</title>\n<path fill=\"none\" stroke=\"black\" d=\"M118.5,-223.63C118.5,-215.82 118.5,-206.73 118.5,-198.18\"/>\n<polygon fill=\"black\" stroke=\"black\" points=\"122,-198.16 118.5,-188.16 115,-198.16 122,-198.16\"/>\n</g>\n<!-- 18 -->\n<g id=\"node19\" class=\"node\">\n<title>18</title>\n<polygon fill=\"aliceblue\" stroke=\"transparent\" points=\"201,-110 36,-110 36,-68 201,-68 201,-110\"/>\n<polygon fill=\"none\" stroke=\"black\" points=\"36.5,-68 36.5,-110 89.5,-110 89.5,-68 36.5,-68\"/>\n<text text-anchor=\"start\" x=\"41.5\" y=\"-92\" font-family=\"Linux libertine\" font-size=\"10.00\">sigmoid</text>\n<text text-anchor=\"start\" x=\"41.5\" y=\"-81\" font-family=\"Linux libertine\" font-size=\"10.00\">depth:1</text>\n<polygon fill=\"none\" stroke=\"black\" points=\"89.5,-89 89.5,-110 148.5,-110 148.5,-89 89.5,-89\"/>\n<text text-anchor=\"start\" x=\"100.5\" y=\"-97\" font-family=\"Linux libertine\" font-size=\"10.00\">input:</text>\n<polygon fill=\"none\" stroke=\"black\" points=\"148.5,-89 148.5,-110 201.5,-110 201.5,-89 148.5,-89\"/>\n<text text-anchor=\"start\" x=\"153.5\" y=\"-97\" font-family=\"Linux libertine\" font-size=\"10.00\">(1, 5) </text>\n<polygon fill=\"none\" stroke=\"black\" points=\"89.5,-68 89.5,-89 148.5,-89 148.5,-68 89.5,-68\"/>\n<text text-anchor=\"start\" x=\"94.5\" y=\"-76\" font-family=\"Linux libertine\" font-size=\"10.00\">output: </text>\n<polygon fill=\"none\" stroke=\"black\" points=\"148.5,-68 148.5,-89 201.5,-89 201.5,-68 148.5,-68\"/>\n<text text-anchor=\"start\" x=\"153.5\" y=\"-76\" font-family=\"Linux libertine\" font-size=\"10.00\">(1, 5) </text>\n</g>\n<!-- 17&#45;&gt;18 -->\n<g id=\"edge18\" class=\"edge\">\n<title>17&#45;&gt;18</title>\n<path fill=\"none\" stroke=\"black\" d=\"M118.5,-145.63C118.5,-137.82 118.5,-128.73 118.5,-120.18\"/>\n<polygon fill=\"black\" stroke=\"black\" points=\"122,-120.16 118.5,-110.16 115,-120.16 122,-120.16\"/>\n</g>\n<!-- 19 -->\n<g id=\"node20\" class=\"node\">\n<title>19</title>\n<polygon fill=\"lightyellow\" stroke=\"transparent\" points=\"186.5,-32 50.5,-32 50.5,0 186.5,0 186.5,-32\"/>\n<polygon fill=\"none\" stroke=\"black\" points=\"50.5,0 50.5,-32 139.5,-32 139.5,0 50.5,0\"/>\n<text text-anchor=\"start\" x=\"55.5\" y=\"-19\" font-family=\"Linux libertine\" font-size=\"10.00\">output&#45;tensor</text>\n<text text-anchor=\"start\" x=\"73.5\" y=\"-8\" font-family=\"Linux libertine\" font-size=\"10.00\">depth:0</text>\n<polygon fill=\"none\" stroke=\"black\" points=\"139.5,0 139.5,-32 186.5,-32 186.5,0 139.5,0\"/>\n<text text-anchor=\"start\" x=\"144.5\" y=\"-13.5\" font-family=\"Linux libertine\" font-size=\"10.00\">(1, 5)</text>\n</g>\n<!-- 18&#45;&gt;19 -->\n<g id=\"edge19\" class=\"edge\">\n<title>18&#45;&gt;19</title>\n<path fill=\"none\" stroke=\"black\" d=\"M118.5,-67.84C118.5,-59.89 118.5,-50.66 118.5,-42.26\"/>\n<polygon fill=\"black\" stroke=\"black\" points=\"122,-42.24 118.5,-32.24 115,-42.24 122,-42.24\"/>\n</g>\n</g>\n</svg>\n",
            "text/plain": [
              "<graphviz.graphs.Digraph at 0x7b737e00f0a0>"
            ]
          },
          "metadata": {},
          "execution_count": 12
        }
      ]
    },
    {
      "cell_type": "markdown",
      "source": [
        "## Model Training\n",
        "\n",
        "The training setup uses:\n",
        "- Loss function: Mean Squared Error (MSE)\n",
        "- Optimizer: Adam\n",
        "\n",
        "The loss function combines:\n",
        "- Classification error for shape type\n",
        "- Regression error for position and size"
      ],
      "metadata": {
        "id": "GCKtjvMb8S26"
      }
    },
    {
      "cell_type": "code",
      "source": [
        "train_dataset = SyntheticDectectionDataset(train_dir, train_anns, transform=train_transform)\n",
        "test_dataset = SyntheticDectectionDataset(test_dir, test_anns, transform=test_transform)\n",
        "val_dataset = SyntheticDectectionDataset(val_dir, val_anns, transform=val_transform)\n",
        "\n",
        "\n",
        "\n",
        "train_loader = DataLoader(train_dataset, batch_size=16, shuffle=True)\n",
        "test_loader = DataLoader(test_dataset, batch_size=16, shuffle=False)\n",
        "val_loader = DataLoader(val_dataset, batch_size=16, shuffle=False)"
      ],
      "metadata": {
        "colab": {
          "base_uri": "https://localhost:8080/"
        },
        "id": "F4Tl-7mj3yXm",
        "outputId": "a7bdf416-4c96-44b9-b0f7-2d79a2118a76"
      },
      "execution_count": 13,
      "outputs": [
        {
          "output_type": "stream",
          "name": "stdout",
          "text": [
            "loading annotations into memory...\n",
            "Done (t=0.00s)\n",
            "creating index...\n",
            "index created!\n",
            "loading annotations into memory...\n",
            "Done (t=0.00s)\n",
            "creating index...\n",
            "index created!\n",
            "loading annotations into memory...\n",
            "Done (t=0.00s)\n",
            "creating index...\n",
            "index created!\n"
          ]
        }
      ]
    },
    {
      "cell_type": "code",
      "source": [
        "# Create train function with collect loss history\n",
        "\n",
        "def train_model(model, dataloaders, criterion, optimizer, num_epochs, weights_name='weight_save.pth'):\n",
        "    model.to(device)\n",
        "    history = {\"train_loss\" :[],\n",
        "               \"val_loss\" : []}\n",
        "    best_val_loss = float('inf')\n",
        "\n",
        "    for epoch in range(num_epochs):\n",
        "        print(f\"Epoch {epoch+1}/{num_epochs}\")\n",
        "        print('--' * 10)\n",
        "        for phase in ['train', 'val']:\n",
        "            if phase == 'train':\n",
        "                model.train()\n",
        "            else:\n",
        "                model.eval()\n",
        "\n",
        "            running_loss = 0.0\n",
        "            data_loader = dataloaders[phase]\n",
        "\n",
        "            with tqdm(total =len(data_loader), desc=f\"{phase.capitalize()} Epoch {epoch+1}\") as pbar:\n",
        "                 for images, targets in data_loader:\n",
        "                    images = images.to(device)\n",
        "                    targets = {k:v.to(device) for k,v in targets.items()}\n",
        "\n",
        "                    #combine bbox and label\n",
        "                    target_bboxes = targets['bboxes'].view(-1,4) #(n,4)\n",
        "                    target_classes = targets['labels'].view(-1,1) #(n,1)\n",
        "                    target_labels = torch.cat((target_classes, target_bboxes), dim=1) # (n,5)\n",
        "\n",
        "                    if phase == 'train':\n",
        "                        optimizer.zero_grad()\n",
        "\n",
        "                    #forward pass\n",
        "                    with torch.set_grad_enabled(phase == 'train'):\n",
        "                        outputs = model(images)\n",
        "                        loss = criterion(outputs, target_labels)\n",
        "                        if phase == 'train':\n",
        "                            loss.backward()\n",
        "                            optimizer.step()\n",
        "\n",
        "                    #update loss\n",
        "                    running_loss += loss.item() * images.size(0)\n",
        "                    pbar.update(1)\n",
        "\n",
        "            #calculate avg for epoch loss\n",
        "            epoch_loss = running_loss / len(data_loader.dataset)\n",
        "            history[f\"{phase}_loss\"].append(epoch_loss)\n",
        "\n",
        "            print(f\"{phase} Loss: {epoch_loss:.4f}\")\n",
        "\n",
        "            #save best weight\n",
        "            if phase == 'val' and epoch_loss < best_val_loss:\n",
        "                best_val_loss = epoch_loss\n",
        "                torch.save(model.state_dict(), weights_name)\n",
        "                print('Save best weight')\n",
        "\n",
        "    #load best weight\n",
        "    model.load_state_dict(torch.load(weights_name))\n",
        "\n",
        "    return model, history"
      ],
      "metadata": {
        "id": "K5sH63ZpX4ap"
      },
      "execution_count": 14,
      "outputs": []
    },
    {
      "cell_type": "code",
      "source": [
        "# Create test function for predict test_loader\n",
        "\n",
        "def test_model(model, test_loader):\n",
        "    model.eval()\n",
        "    predictions = []\n",
        "    ground_truths = []\n",
        "\n",
        "    with torch.no_grad():\n",
        "        for images, targets in test_loader:\n",
        "            images = images.to(device)\n",
        "            targets = {k:v.to(device) for k,v in targets.items()}\n",
        "            target_bboxes = targets['bboxes'].view(-1,4) #(n,4)\n",
        "            target_classes = targets['labels'].view(-1,1) #(n,1)\n",
        "            target_labels = torch.cat((target_classes, target_bboxes), dim=1) # (n,5)\n",
        "            ground_truths.extend(target_labels.cpu().numpy().tolist())\n",
        "            outputs = model(images.unsqueeze(0))\n",
        "            predictions.extend(outputs.cpu().numpy().tolist())\n",
        "\n",
        "    return predictions, ground_truths"
      ],
      "metadata": {
        "id": "4iwh7nxRj_Zk"
      },
      "execution_count": 15,
      "outputs": []
    },
    {
      "cell_type": "code",
      "source": [
        "# Set dataloader\n",
        "dataloaders = {'train': train_loader, 'val': val_loader}\n",
        "\n",
        "device = torch.device('cuda' if torch.cuda.is_available() else 'cpu')\n",
        "\n",
        "# Training setting\n",
        "model = SimpleObjectDetector()\n",
        "model = model.to(device)\n",
        "\n",
        "criterion = nn.MSELoss()\n",
        "optimizer = optim.Adam(model.parameters(), lr=0.001)\n",
        "epochs = 25"
      ],
      "metadata": {
        "id": "rVFtX_1tYMOE"
      },
      "execution_count": 16,
      "outputs": []
    },
    {
      "cell_type": "code",
      "source": [
        "# Training Model\n",
        "best_model, train_history = train_model(model, dataloaders, criterion, optimizer, epochs, 'SimpleObjectDetector.pth')"
      ],
      "metadata": {
        "id": "Ugv4rJF_YwmU",
        "colab": {
          "base_uri": "https://localhost:8080/"
        },
        "outputId": "2a41c054-965f-4d5c-d7d1-f316359b2e7a"
      },
      "execution_count": 17,
      "outputs": [
        {
          "output_type": "stream",
          "name": "stdout",
          "text": [
            "Epoch 1/25\n",
            "--------------------\n"
          ]
        },
        {
          "output_type": "stream",
          "name": "stderr",
          "text": [
            "Train Epoch 1: 100%|██████████| 5/5 [00:00<00:00, 11.75it/s]\n"
          ]
        },
        {
          "output_type": "stream",
          "name": "stdout",
          "text": [
            "train Loss: 0.0910\n"
          ]
        },
        {
          "output_type": "stream",
          "name": "stderr",
          "text": [
            "Val Epoch 1: 100%|██████████| 1/1 [00:00<00:00, 23.31it/s]\n"
          ]
        },
        {
          "output_type": "stream",
          "name": "stdout",
          "text": [
            "val Loss: 0.0735\n",
            "Save best weight\n",
            "Epoch 2/25\n",
            "--------------------\n"
          ]
        },
        {
          "output_type": "stream",
          "name": "stderr",
          "text": [
            "Train Epoch 2: 100%|██████████| 5/5 [00:00<00:00, 66.08it/s]\n"
          ]
        },
        {
          "output_type": "stream",
          "name": "stdout",
          "text": [
            "train Loss: 0.0718\n"
          ]
        },
        {
          "output_type": "stream",
          "name": "stderr",
          "text": [
            "Val Epoch 2: 100%|██████████| 1/1 [00:00<00:00, 45.52it/s]\n"
          ]
        },
        {
          "output_type": "stream",
          "name": "stdout",
          "text": [
            "val Loss: 0.0702\n",
            "Save best weight\n",
            "Epoch 3/25\n",
            "--------------------\n"
          ]
        },
        {
          "output_type": "stream",
          "name": "stderr",
          "text": [
            "Train Epoch 3: 100%|██████████| 5/5 [00:00<00:00, 28.02it/s]\n"
          ]
        },
        {
          "output_type": "stream",
          "name": "stdout",
          "text": [
            "train Loss: 0.0649\n"
          ]
        },
        {
          "output_type": "stream",
          "name": "stderr",
          "text": [
            "Val Epoch 3: 100%|██████████| 1/1 [00:00<00:00, 40.43it/s]\n"
          ]
        },
        {
          "output_type": "stream",
          "name": "stdout",
          "text": [
            "val Loss: 0.0697\n",
            "Save best weight\n",
            "Epoch 4/25\n",
            "--------------------\n"
          ]
        },
        {
          "output_type": "stream",
          "name": "stderr",
          "text": [
            "Train Epoch 4: 100%|██████████| 5/5 [00:00<00:00, 60.93it/s]\n"
          ]
        },
        {
          "output_type": "stream",
          "name": "stdout",
          "text": [
            "train Loss: 0.0640\n"
          ]
        },
        {
          "output_type": "stream",
          "name": "stderr",
          "text": [
            "Val Epoch 4: 100%|██████████| 1/1 [00:00<00:00, 44.32it/s]\n"
          ]
        },
        {
          "output_type": "stream",
          "name": "stdout",
          "text": [
            "val Loss: 0.0659\n",
            "Save best weight\n",
            "Epoch 5/25\n",
            "--------------------\n"
          ]
        },
        {
          "output_type": "stream",
          "name": "stderr",
          "text": [
            "Train Epoch 5: 100%|██████████| 5/5 [00:00<00:00, 68.52it/s]\n"
          ]
        },
        {
          "output_type": "stream",
          "name": "stdout",
          "text": [
            "train Loss: 0.0608\n"
          ]
        },
        {
          "output_type": "stream",
          "name": "stderr",
          "text": [
            "Val Epoch 5: 100%|██████████| 1/1 [00:00<00:00, 98.68it/s]\n"
          ]
        },
        {
          "output_type": "stream",
          "name": "stdout",
          "text": [
            "val Loss: 0.0599\n",
            "Save best weight\n",
            "Epoch 6/25\n",
            "--------------------\n"
          ]
        },
        {
          "output_type": "stream",
          "name": "stderr",
          "text": [
            "Train Epoch 6: 100%|██████████| 5/5 [00:00<00:00, 56.36it/s]\n"
          ]
        },
        {
          "output_type": "stream",
          "name": "stdout",
          "text": [
            "train Loss: 0.0545\n"
          ]
        },
        {
          "output_type": "stream",
          "name": "stderr",
          "text": [
            "Val Epoch 6: 100%|██████████| 1/1 [00:00<00:00, 65.09it/s]\n"
          ]
        },
        {
          "output_type": "stream",
          "name": "stdout",
          "text": [
            "val Loss: 0.0555\n",
            "Save best weight\n",
            "Epoch 7/25\n",
            "--------------------\n"
          ]
        },
        {
          "output_type": "stream",
          "name": "stderr",
          "text": [
            "Train Epoch 7: 100%|██████████| 5/5 [00:00<00:00, 61.65it/s]\n"
          ]
        },
        {
          "output_type": "stream",
          "name": "stdout",
          "text": [
            "train Loss: 0.0502\n"
          ]
        },
        {
          "output_type": "stream",
          "name": "stderr",
          "text": [
            "Val Epoch 7: 100%|██████████| 1/1 [00:00<00:00, 85.26it/s]\n"
          ]
        },
        {
          "output_type": "stream",
          "name": "stdout",
          "text": [
            "val Loss: 0.0486\n",
            "Save best weight\n",
            "Epoch 8/25\n",
            "--------------------\n"
          ]
        },
        {
          "output_type": "stream",
          "name": "stderr",
          "text": [
            "Train Epoch 8: 100%|██████████| 5/5 [00:00<00:00, 81.36it/s]\n"
          ]
        },
        {
          "output_type": "stream",
          "name": "stdout",
          "text": [
            "train Loss: 0.0486\n"
          ]
        },
        {
          "output_type": "stream",
          "name": "stderr",
          "text": [
            "Val Epoch 8: 100%|██████████| 1/1 [00:00<00:00, 104.66it/s]\n"
          ]
        },
        {
          "output_type": "stream",
          "name": "stdout",
          "text": [
            "val Loss: 0.0473\n",
            "Save best weight\n",
            "Epoch 9/25\n",
            "--------------------\n"
          ]
        },
        {
          "output_type": "stream",
          "name": "stderr",
          "text": [
            "Train Epoch 9: 100%|██████████| 5/5 [00:00<00:00, 64.39it/s]\n"
          ]
        },
        {
          "output_type": "stream",
          "name": "stdout",
          "text": [
            "train Loss: 0.0468\n"
          ]
        },
        {
          "output_type": "stream",
          "name": "stderr",
          "text": [
            "Val Epoch 9: 100%|██████████| 1/1 [00:00<00:00, 85.78it/s]\n"
          ]
        },
        {
          "output_type": "stream",
          "name": "stdout",
          "text": [
            "val Loss: 0.0474\n",
            "Epoch 10/25\n",
            "--------------------\n"
          ]
        },
        {
          "output_type": "stream",
          "name": "stderr",
          "text": [
            "Train Epoch 10: 100%|██████████| 5/5 [00:00<00:00, 39.39it/s]\n"
          ]
        },
        {
          "output_type": "stream",
          "name": "stdout",
          "text": [
            "train Loss: 0.0443\n"
          ]
        },
        {
          "output_type": "stream",
          "name": "stderr",
          "text": [
            "Val Epoch 10: 100%|██████████| 1/1 [00:00<00:00, 76.11it/s]\n"
          ]
        },
        {
          "output_type": "stream",
          "name": "stdout",
          "text": [
            "val Loss: 0.0482\n",
            "Epoch 11/25\n",
            "--------------------\n"
          ]
        },
        {
          "output_type": "stream",
          "name": "stderr",
          "text": [
            "Train Epoch 11: 100%|██████████| 5/5 [00:00<00:00, 51.37it/s]\n"
          ]
        },
        {
          "output_type": "stream",
          "name": "stdout",
          "text": [
            "train Loss: 0.0423\n"
          ]
        },
        {
          "output_type": "stream",
          "name": "stderr",
          "text": [
            "Val Epoch 11: 100%|██████████| 1/1 [00:00<00:00, 98.41it/s]\n"
          ]
        },
        {
          "output_type": "stream",
          "name": "stdout",
          "text": [
            "val Loss: 0.0483\n",
            "Epoch 12/25\n",
            "--------------------\n"
          ]
        },
        {
          "output_type": "stream",
          "name": "stderr",
          "text": [
            "Train Epoch 12: 100%|██████████| 5/5 [00:00<00:00, 55.95it/s]\n"
          ]
        },
        {
          "output_type": "stream",
          "name": "stdout",
          "text": [
            "train Loss: 0.0403\n"
          ]
        },
        {
          "output_type": "stream",
          "name": "stderr",
          "text": [
            "Val Epoch 12: 100%|██████████| 1/1 [00:00<00:00, 51.71it/s]\n"
          ]
        },
        {
          "output_type": "stream",
          "name": "stdout",
          "text": [
            "val Loss: 0.0431\n",
            "Save best weight\n",
            "Epoch 13/25\n",
            "--------------------\n"
          ]
        },
        {
          "output_type": "stream",
          "name": "stderr",
          "text": [
            "Train Epoch 13: 100%|██████████| 5/5 [00:00<00:00, 25.13it/s]\n"
          ]
        },
        {
          "output_type": "stream",
          "name": "stdout",
          "text": [
            "train Loss: 0.0380\n"
          ]
        },
        {
          "output_type": "stream",
          "name": "stderr",
          "text": [
            "Val Epoch 13: 100%|██████████| 1/1 [00:00<00:00, 31.33it/s]\n"
          ]
        },
        {
          "output_type": "stream",
          "name": "stdout",
          "text": [
            "val Loss: 0.0408\n",
            "Save best weight\n",
            "Epoch 14/25\n",
            "--------------------\n"
          ]
        },
        {
          "output_type": "stream",
          "name": "stderr",
          "text": [
            "Train Epoch 14: 100%|██████████| 5/5 [00:00<00:00, 57.52it/s]\n"
          ]
        },
        {
          "output_type": "stream",
          "name": "stdout",
          "text": [
            "train Loss: 0.0368\n"
          ]
        },
        {
          "output_type": "stream",
          "name": "stderr",
          "text": [
            "Val Epoch 14: 100%|██████████| 1/1 [00:00<00:00, 75.65it/s]\n"
          ]
        },
        {
          "output_type": "stream",
          "name": "stdout",
          "text": [
            "val Loss: 0.0325\n",
            "Save best weight\n",
            "Epoch 15/25\n",
            "--------------------\n"
          ]
        },
        {
          "output_type": "stream",
          "name": "stderr",
          "text": [
            "Train Epoch 15: 100%|██████████| 5/5 [00:00<00:00, 49.63it/s]\n"
          ]
        },
        {
          "output_type": "stream",
          "name": "stdout",
          "text": [
            "train Loss: 0.0338\n"
          ]
        },
        {
          "output_type": "stream",
          "name": "stderr",
          "text": [
            "Val Epoch 15: 100%|██████████| 1/1 [00:00<00:00, 86.43it/s]\n"
          ]
        },
        {
          "output_type": "stream",
          "name": "stdout",
          "text": [
            "val Loss: 0.0275\n",
            "Save best weight\n",
            "Epoch 16/25\n",
            "--------------------\n"
          ]
        },
        {
          "output_type": "stream",
          "name": "stderr",
          "text": [
            "Train Epoch 16: 100%|██████████| 5/5 [00:00<00:00, 78.65it/s]\n"
          ]
        },
        {
          "output_type": "stream",
          "name": "stdout",
          "text": [
            "train Loss: 0.0328\n"
          ]
        },
        {
          "output_type": "stream",
          "name": "stderr",
          "text": [
            "Val Epoch 16: 100%|██████████| 1/1 [00:00<00:00, 105.21it/s]\n"
          ]
        },
        {
          "output_type": "stream",
          "name": "stdout",
          "text": [
            "val Loss: 0.0276\n",
            "Epoch 17/25\n",
            "--------------------\n"
          ]
        },
        {
          "output_type": "stream",
          "name": "stderr",
          "text": [
            "Train Epoch 17: 100%|██████████| 5/5 [00:00<00:00, 72.17it/s]\n"
          ]
        },
        {
          "output_type": "stream",
          "name": "stdout",
          "text": [
            "train Loss: 0.0322\n"
          ]
        },
        {
          "output_type": "stream",
          "name": "stderr",
          "text": [
            "Val Epoch 17: 100%|██████████| 1/1 [00:00<00:00, 46.14it/s]\n"
          ]
        },
        {
          "output_type": "stream",
          "name": "stdout",
          "text": [
            "val Loss: 0.0269\n",
            "Save best weight\n",
            "Epoch 18/25\n",
            "--------------------\n"
          ]
        },
        {
          "output_type": "stream",
          "name": "stderr",
          "text": [
            "Train Epoch 18: 100%|██████████| 5/5 [00:00<00:00, 54.73it/s]\n"
          ]
        },
        {
          "output_type": "stream",
          "name": "stdout",
          "text": [
            "train Loss: 0.0308\n"
          ]
        },
        {
          "output_type": "stream",
          "name": "stderr",
          "text": [
            "Val Epoch 18: 100%|██████████| 1/1 [00:00<00:00, 43.31it/s]\n"
          ]
        },
        {
          "output_type": "stream",
          "name": "stdout",
          "text": [
            "val Loss: 0.0241\n",
            "Save best weight\n",
            "Epoch 19/25\n",
            "--------------------\n"
          ]
        },
        {
          "output_type": "stream",
          "name": "stderr",
          "text": [
            "Train Epoch 19: 100%|██████████| 5/5 [00:00<00:00, 73.96it/s]\n"
          ]
        },
        {
          "output_type": "stream",
          "name": "stdout",
          "text": [
            "train Loss: 0.0284\n"
          ]
        },
        {
          "output_type": "stream",
          "name": "stderr",
          "text": [
            "Val Epoch 19: 100%|██████████| 1/1 [00:00<00:00, 75.24it/s]\n"
          ]
        },
        {
          "output_type": "stream",
          "name": "stdout",
          "text": [
            "val Loss: 0.0201\n",
            "Save best weight\n",
            "Epoch 20/25\n",
            "--------------------\n"
          ]
        },
        {
          "output_type": "stream",
          "name": "stderr",
          "text": [
            "Train Epoch 20: 100%|██████████| 5/5 [00:00<00:00, 38.93it/s]\n"
          ]
        },
        {
          "output_type": "stream",
          "name": "stdout",
          "text": [
            "train Loss: 0.0263\n"
          ]
        },
        {
          "output_type": "stream",
          "name": "stderr",
          "text": [
            "Val Epoch 20: 100%|██████████| 1/1 [00:00<00:00, 84.00it/s]\n"
          ]
        },
        {
          "output_type": "stream",
          "name": "stdout",
          "text": [
            "val Loss: 0.0199\n",
            "Save best weight\n",
            "Epoch 21/25\n",
            "--------------------\n"
          ]
        },
        {
          "output_type": "stream",
          "name": "stderr",
          "text": [
            "Train Epoch 21: 100%|██████████| 5/5 [00:00<00:00, 79.37it/s]\n"
          ]
        },
        {
          "output_type": "stream",
          "name": "stdout",
          "text": [
            "train Loss: 0.0247\n"
          ]
        },
        {
          "output_type": "stream",
          "name": "stderr",
          "text": [
            "Val Epoch 21: 100%|██████████| 1/1 [00:00<00:00, 88.83it/s]\n"
          ]
        },
        {
          "output_type": "stream",
          "name": "stdout",
          "text": [
            "val Loss: 0.0236\n",
            "Epoch 22/25\n",
            "--------------------\n"
          ]
        },
        {
          "output_type": "stream",
          "name": "stderr",
          "text": [
            "Train Epoch 22: 100%|██████████| 5/5 [00:00<00:00, 74.54it/s]\n"
          ]
        },
        {
          "output_type": "stream",
          "name": "stdout",
          "text": [
            "train Loss: 0.0209\n"
          ]
        },
        {
          "output_type": "stream",
          "name": "stderr",
          "text": [
            "Val Epoch 22: 100%|██████████| 1/1 [00:00<00:00, 91.93it/s]\n"
          ]
        },
        {
          "output_type": "stream",
          "name": "stdout",
          "text": [
            "val Loss: 0.0229\n",
            "Epoch 23/25\n",
            "--------------------\n"
          ]
        },
        {
          "output_type": "stream",
          "name": "stderr",
          "text": [
            "Train Epoch 23: 100%|██████████| 5/5 [00:00<00:00, 76.02it/s]\n"
          ]
        },
        {
          "output_type": "stream",
          "name": "stdout",
          "text": [
            "train Loss: 0.0205\n"
          ]
        },
        {
          "output_type": "stream",
          "name": "stderr",
          "text": [
            "Val Epoch 23: 100%|██████████| 1/1 [00:00<00:00, 95.65it/s]\n"
          ]
        },
        {
          "output_type": "stream",
          "name": "stdout",
          "text": [
            "val Loss: 0.0241\n",
            "Epoch 24/25\n",
            "--------------------\n"
          ]
        },
        {
          "output_type": "stream",
          "name": "stderr",
          "text": [
            "Train Epoch 24: 100%|██████████| 5/5 [00:00<00:00, 83.27it/s]\n"
          ]
        },
        {
          "output_type": "stream",
          "name": "stdout",
          "text": [
            "train Loss: 0.0207\n"
          ]
        },
        {
          "output_type": "stream",
          "name": "stderr",
          "text": [
            "Val Epoch 24: 100%|██████████| 1/1 [00:00<00:00, 56.72it/s]\n"
          ]
        },
        {
          "output_type": "stream",
          "name": "stdout",
          "text": [
            "val Loss: 0.0267\n",
            "Epoch 25/25\n",
            "--------------------\n"
          ]
        },
        {
          "output_type": "stream",
          "name": "stderr",
          "text": [
            "Train Epoch 25: 100%|██████████| 5/5 [00:00<00:00, 18.93it/s]\n"
          ]
        },
        {
          "output_type": "stream",
          "name": "stdout",
          "text": [
            "train Loss: 0.0184\n"
          ]
        },
        {
          "output_type": "stream",
          "name": "stderr",
          "text": [
            "Val Epoch 25: 100%|██████████| 1/1 [00:00<00:00, 29.19it/s]"
          ]
        },
        {
          "output_type": "stream",
          "name": "stdout",
          "text": [
            "val Loss: 0.0210\n"
          ]
        },
        {
          "output_type": "stream",
          "name": "stderr",
          "text": [
            "\n",
            "<ipython-input-14-623062f9eba1>:59: FutureWarning: You are using `torch.load` with `weights_only=False` (the current default value), which uses the default pickle module implicitly. It is possible to construct malicious pickle data which will execute arbitrary code during unpickling (See https://github.com/pytorch/pytorch/blob/main/SECURITY.md#untrusted-models for more details). In a future release, the default value for `weights_only` will be flipped to `True`. This limits the functions that could be executed during unpickling. Arbitrary objects will no longer be allowed to be loaded via this mode unless they are explicitly allowlisted by the user via `torch.serialization.add_safe_globals`. We recommend you start setting `weights_only=True` for any use case where you don't have full control of the loaded file. Please open an issue on GitHub for any issues related to this experimental feature.\n",
            "  model.load_state_dict(torch.load(weights_name))\n"
          ]
        }
      ]
    },
    {
      "cell_type": "code",
      "source": [
        "plt.figure(figsize=(10, 6))\n",
        "plt.plot(train_history['train_loss'], label='Training Loss')\n",
        "plt.plot(train_history['val_loss'], label='Validation Loss')\n",
        "plt.xlabel('Epoch')\n",
        "plt.ylabel('Loss')\n",
        "plt.title('Training vs Validation Loss')\n",
        "\n",
        "plt.legend()\n",
        "plt.show()"
      ],
      "metadata": {
        "id": "N51XimixZhFM",
        "colab": {
          "base_uri": "https://localhost:8080/",
          "height": 564
        },
        "outputId": "0ed3faf8-659f-4d85-a9c8-bf89967741a3"
      },
      "execution_count": 18,
      "outputs": [
        {
          "output_type": "display_data",
          "data": {
            "text/plain": [
              "<Figure size 1000x600 with 1 Axes>"
            ],
            "image/png": "[encoded data removed]"
          },
          "metadata": {}
        }
      ]
    },
    {
      "cell_type": "markdown",
      "source": [
        "## Model Evaluation\n",
        "- Calculate the model performance using IoU, Precision, Recall and F1-Score"
      ],
      "metadata": {
        "id": "nniFCm9A6M85"
      }
    },
    {
      "cell_type": "code",
      "source": [
        "# IoU function to compute intersection over union\n",
        "def compute_iou(pred_bbox, gt_bbox):\n",
        "    x1 = max(pred_bbox[0], gt_bbox[0])\n",
        "    y1 = max(pred_bbox[1], gt_bbox[1])\n",
        "    x2 = min(pred_bbox[2], gt_bbox[2])\n",
        "    y2 = min(pred_bbox[3], gt_bbox[3])\n",
        "    intersection = max(0, x2 - x1 + 1) * max(0, y2 - y1 + 1)\n",
        "    pred_area = (pred_bbox[2] - pred_bbox[0] + 1) * (pred_bbox[3] - pred_bbox[1] + 1)\n",
        "    gt_area = (gt_bbox[2] - gt_bbox[0] + 1) * (gt_bbox[3] - gt_bbox[1] + 1)\n",
        "    union = pred_area + gt_area - intersection\n",
        "    iou = intersection / union\n",
        "\n",
        "    return iou\n",
        "\n",
        "\n",
        "def calculate_performance(predictions, ground_truths, iou_threshold=0.5):\n",
        "    iou = 0\n",
        "    pred_classes = []\n",
        "    gt_classes = []\n",
        "    count = 0\n",
        "    for pred, gt in zip(predictions, ground_truths):\n",
        "        pred_bboxes, pred_class = pred[1:], [1 if pred[0] >= 0.5 else 0]\n",
        "        gt_bboxes, gt_class = gt[1:], [int(gt[0])]\n",
        "        iou += compute_iou(pred_bboxes, gt_bboxes)\n",
        "        pred_classes.extend(pred_class)\n",
        "        gt_classes.extend(gt_class)\n",
        "\n",
        "    mean_iou = iou / len(predictions)\n",
        "    print(gt_classes, pred_classes, sep ='\\n')\n",
        "    precision, recall, f1_score, _ = precision_recall_fscore_support(gt_classes, pred_classes, average='weighted')\n",
        "    return precision, recall, f1_score, mean_iou"
      ],
      "metadata": {
        "id": "zQjvFLzwDMh9"
      },
      "execution_count": 48,
      "outputs": []
    },
    {
      "cell_type": "code",
      "source": [
        "predictions, ground_truths = test_model(model, test_dataset)\n",
        "\n",
        "precision, recall, f1_score, mean_iou = calculate_performance(predictions, ground_truths)\n",
        "\n",
        "print(f\"Precision: {precision:.4f}\")\n",
        "print(f\"Recall: {recall:.4f}\")\n",
        "print(f\"F1-Score: {f1_score:.4f}\")\n",
        "print(f\"Mean IoU: {mean_iou:.4f}\")"
      ],
      "metadata": {
        "id": "EXEM55BkK99Q",
        "colab": {
          "base_uri": "https://localhost:8080/"
        },
        "outputId": "9ce77641-16ea-4ce1-e0ec-26dafac3e77b"
      },
      "execution_count": 49,
      "outputs": [
        {
          "output_type": "stream",
          "name": "stdout",
          "text": [
            "[0, 0, 1, 0, 1, 0, 1, 0, 0, 0, 1, 0, 1, 1, 0]\n",
            "[0, 0, 0, 0, 1, 0, 1, 1, 0, 0, 0, 1, 1, 1, 0]\n",
            "Precision: 0.7333\n",
            "Recall: 0.7333\n",
            "F1-Score: 0.7333\n",
            "Mean IoU: 0.7582\n"
          ]
        }
      ]
    },
    {
      "cell_type": "markdown",
      "source": [
        "## Visualization Outcome\n",
        "- Visualize the model's predictions by comparing the bounding boxes of the ground truth labels and the model's predictions. Display the images with both sets of bounding boxes overlaid and analyze the performance."
      ],
      "metadata": {
        "id": "GA0pGMhULy2r"
      }
    },
    {
      "cell_type": "code",
      "source": [
        "def plot_outcome_from_dataloader(dataloader, num_samples=1):\n",
        "    model.eval()\n",
        "    images, targets = next(iter(dataloader))\n",
        "    num_samples = min(num_samples, len(images))\n",
        "\n",
        "    # Create a grid for plotting\n",
        "    fig, axes = plt.subplots(1, num_samples, figsize=(5 * num_samples, 5))\n",
        "    # Ensure `axes` is iterable when there's only one sample\n",
        "    if num_samples == 1:\n",
        "        axes = [axes]\n",
        "\n",
        "    for i in range(num_samples):\n",
        "        image = images[i].numpy().squeeze()  # Convert to numpy and remove the channel dimension\n",
        "        gt_bboxes = targets['bboxes'][i].numpy()  # Ground truth bounding boxes for this image\n",
        "        labels = targets['labels'][i].numpy()  # Ground truth labels for this image\n",
        "\n",
        "        with torch.no_grad():\n",
        "            image_cuda = images[i].to(device)\n",
        "            image_cuda = image_cuda.unsqueeze(0)\n",
        "            outputs = model(image_cuda)[0].cpu().numpy()\n",
        "            pred_bboxes, pred_class =[ outputs[1:]], [1 if outputs[0] >= 0.5 else 0]\n",
        "\n",
        "        # Plot the image\n",
        "        axes[i].imshow(image, cmap='gray')\n",
        "        axes[i].set_title(f\"Sample {i + 1} Ground Truth\")\n",
        "\n",
        "        # Plot the bounding boxes\n",
        "        for bbox, label in zip(gt_bboxes, labels):\n",
        "            # Denormalize the bounding box to pixel coordinates\n",
        "            x, y, w, h = bbox *64\n",
        "            rect = plt.Rectangle((x, y), w, h, linewidth=2, edgecolor='g', facecolor='none')\n",
        "            axes[i].add_patch(rect)\n",
        "\n",
        "            # Add label above the bounding box\n",
        "            label_text = \"Circle\" if label == 0 else \"Rectangle\"\n",
        "            axes[i].text(x, y - 1, label_text, color='g', fontsize=10, weight='bold',\n",
        "                 bbox=dict(facecolor='white', alpha=0.9, edgecolor='none'))\n",
        "\n",
        "        for pred_bbox, pred_class in zip(pred_bboxes, pred_class):\n",
        "            x, y, w, h = pred_bbox *64\n",
        "            rect = plt.Rectangle((x, y), w, h, linewidth=2, edgecolor='r', facecolor='none')\n",
        "            axes[i].add_patch(rect)\n",
        "\n",
        "            label = \"Circle\" if pred_class == 0 else \"Rectangle\"\n",
        "            axes[i].text(x+w-1, y+h - 1, label, color='r', fontsize=10, weight='bold',\n",
        "                 bbox=dict(facecolor='white', alpha=0.9, edgecolor='none'))\n",
        "\n",
        "        axes[i].axis('off')\n",
        "\n",
        "    plt.tight_layout()\n",
        "    plt.show()\n",
        "\n",
        "plot_outcome_from_dataloader(test_loader, num_samples=30)"
      ],
      "metadata": {
        "id": "O7wb3hu9DPkD",
        "colab": {
          "base_uri": "https://localhost:8080/",
          "height": 520
        },
        "outputId": "ea81c17f-ab6f-4897-86ad-452ae075f08e"
      },
      "execution_count": 56,
      "outputs": [
        {
          "output_type": "display_data",
          "data": {
            "text/plain": [
              "<Figure size 7500x500 with 15 Axes>"
            ],
            "image/png": "[encoded data removed]"
          },
          "metadata": {}
        }
      ]
    },
    {
      "cell_type": "code",
      "source": [],
      "metadata": {
        "id": "8-ALJJc_JeZS"
      },
      "execution_count": 22,
      "outputs": []
    }
  ]
}